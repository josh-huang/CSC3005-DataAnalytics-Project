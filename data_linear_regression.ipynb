{
 "cells": [
  {
   "cell_type": "code",
   "execution_count": 1,
   "id": "95b4a94f",
   "metadata": {},
   "outputs": [],
   "source": [
    "import numpy as np\n",
    "import matplotlib.pyplot as plt\n",
    "import pandas as pd\n",
    "from sklearn.linear_model import LinearRegression"
   ]
  },
  {
   "cell_type": "code",
   "execution_count": 2,
   "id": "66d1002f",
   "metadata": {},
   "outputs": [],
   "source": [
    "dataframeA = pd.read_csv('6. Dataset PCA/MeterA_pca.csv')\n",
    "dataframeA = dataframeA.drop('Unnamed: 0', axis=1)\n",
    "dataframeA_feature = dataframeA.drop('Class Attruibute', axis=1)\n",
    "dataframeA_label = dataframeA['Class Attruibute']\n",
    "\n",
    "dataframeB = pd.read_csv('6. Dataset PCA/MeterB_pca.csv')\n",
    "dataframeB = dataframeB.drop('Unnamed: 0', axis=1)\n",
    "dataframeB_feature = dataframeB.drop('Class Attruibute', axis=1)\n",
    "dataframeB_label = dataframeB['Class Attruibute']\n",
    "\n",
    "dataframeC = pd.read_csv('6. Dataset PCA/MeterC_pca.csv')\n",
    "dataframeC = dataframeC.drop('Unnamed: 0', axis=1)\n",
    "dataframeC_feature = dataframeC.drop('Class Attruibute', axis=1)\n",
    "dataframeC_label = dataframeC['Class Attruibute']"
   ]
  },
  {
   "cell_type": "code",
   "execution_count": 3,
   "id": "da0e3fb6",
   "metadata": {},
   "outputs": [
    {
     "data": {
      "text/html": [
       "<div>\n",
       "<style scoped>\n",
       "    .dataframe tbody tr th:only-of-type {\n",
       "        vertical-align: middle;\n",
       "    }\n",
       "\n",
       "    .dataframe tbody tr th {\n",
       "        vertical-align: top;\n",
       "    }\n",
       "\n",
       "    .dataframe thead th {\n",
       "        text-align: right;\n",
       "    }\n",
       "</style>\n",
       "<table border=\"1\" class=\"dataframe\">\n",
       "  <thead>\n",
       "    <tr style=\"text-align: right;\">\n",
       "      <th></th>\n",
       "      <th>PC1</th>\n",
       "      <th>PC2</th>\n",
       "      <th>PC3</th>\n",
       "      <th>PC4</th>\n",
       "    </tr>\n",
       "  </thead>\n",
       "  <tbody>\n",
       "    <tr>\n",
       "      <th>0</th>\n",
       "      <td>3.260141</td>\n",
       "      <td>-2.019053</td>\n",
       "      <td>-0.500833</td>\n",
       "      <td>0.376386</td>\n",
       "    </tr>\n",
       "    <tr>\n",
       "      <th>1</th>\n",
       "      <td>2.522897</td>\n",
       "      <td>-1.183668</td>\n",
       "      <td>1.048861</td>\n",
       "      <td>0.230119</td>\n",
       "    </tr>\n",
       "    <tr>\n",
       "      <th>2</th>\n",
       "      <td>1.417243</td>\n",
       "      <td>-1.047656</td>\n",
       "      <td>1.419688</td>\n",
       "      <td>-0.303846</td>\n",
       "    </tr>\n",
       "    <tr>\n",
       "      <th>3</th>\n",
       "      <td>0.170745</td>\n",
       "      <td>-1.351670</td>\n",
       "      <td>-0.220119</td>\n",
       "      <td>-0.070667</td>\n",
       "    </tr>\n",
       "    <tr>\n",
       "      <th>4</th>\n",
       "      <td>-0.003489</td>\n",
       "      <td>-1.337765</td>\n",
       "      <td>-0.856443</td>\n",
       "      <td>0.497518</td>\n",
       "    </tr>\n",
       "  </tbody>\n",
       "</table>\n",
       "</div>"
      ],
      "text/plain": [
       "        PC1       PC2       PC3       PC4\n",
       "0  3.260141 -2.019053 -0.500833  0.376386\n",
       "1  2.522897 -1.183668  1.048861  0.230119\n",
       "2  1.417243 -1.047656  1.419688 -0.303846\n",
       "3  0.170745 -1.351670 -0.220119 -0.070667\n",
       "4 -0.003489 -1.337765 -0.856443  0.497518"
      ]
     },
     "execution_count": 3,
     "metadata": {},
     "output_type": "execute_result"
    }
   ],
   "source": [
    "dataframeA_feature.head()"
   ]
  },
  {
   "cell_type": "raw",
   "id": "6595654d",
   "metadata": {},
   "source": [
    "reg = LinearRegression()\n",
    "reg.fit(dataframeA_feature,dataframeA_label)"
   ]
  }
 ],
 "metadata": {
  "kernelspec": {
   "display_name": "Python 3",
   "language": "python",
   "name": "python3"
  },
  "language_info": {
   "codemirror_mode": {
    "name": "ipython",
    "version": 3
   },
   "file_extension": ".py",
   "mimetype": "text/x-python",
   "name": "python",
   "nbconvert_exporter": "python",
   "pygments_lexer": "ipython3",
   "version": "3.8.8"
  }
 },
 "nbformat": 4,
 "nbformat_minor": 5
}
