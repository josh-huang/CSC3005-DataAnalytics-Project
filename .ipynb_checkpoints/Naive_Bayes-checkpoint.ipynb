{
 "cells": [
  {
   "cell_type": "code",
   "execution_count": 1,
   "id": "4d150957",
   "metadata": {},
   "outputs": [],
   "source": [
    "import pandas as pd\n",
    "from sklearn.metrics import plot_confusion_matrix\n",
    "import matplotlib.pyplot as plt\n",
    "%matplotlib inline"
   ]
  },
  {
   "cell_type": "code",
   "execution_count": 2,
   "id": "5b8ca4d5",
   "metadata": {},
   "outputs": [],
   "source": [
    "# Load and check data\n",
    "\n",
    "dataframeA = pd.read_csv('5. Dataset Feature Dropping/MeterA_featureSelection.csv')\n",
    "#display(dataframeA.head())\n",
    "dataframeA.head()\n",
    "\n",
    "dataframeA = dataframeA.drop('Unnamed: 0', axis=1)\n",
    "\n",
    "PCA_A_DF = dataframeA[['Flatness ratio','Symmetry','Crossflow','Average speed of sound','Average Gain']]\n",
    "\n",
    "# yLbl is Class Attruibute labels\n",
    "\n",
    "yLbl = dataframeA[['Class Attruibute']]\n",
    "\n",
    "from sklearn.model_selection import train_test_split\n",
    "PCA_A_train, PCA_A_test, yLbl_train, yLbl_test = train_test_split(PCA_A_DF, yLbl, test_size=0.3, random_state=12)\n",
    "#X_train, X_test, Y_train, Y_test = train_test_split(X, Y, test_size=0.3, random_state=12)\n",
    "from sklearn import tree\n",
    "from sklearn.metrics import accuracy_score"
   ]
  },
  {
   "cell_type": "code",
   "execution_count": 3,
   "id": "44a43fdf",
   "metadata": {
    "scrolled": true
   },
   "outputs": [
    {
     "name": "stdout",
     "output_type": "stream",
     "text": [
      "\n",
      "Training Accuracy: 0.8103448275862069\n",
      "\n",
      "Testing Accuracy: 0.84\n"
     ]
    },
    {
     "data": {
      "image/png": "[encoded data removed]",
      "text/plain": [
       "<Figure size 432x288 with 2 Axes>"
      ]
     },
     "metadata": {
      "needs_background": "light"
     },
     "output_type": "display_data"
    },
    {
     "name": "stdout",
     "output_type": "stream",
     "text": [
      "Root Mean Square Error:\n",
      "\n",
      "0.4\n"
     ]
    }
   ],
   "source": [
    "from sklearn.naive_bayes import GaussianNB #Naive Bayes\n",
    "\n",
    "clf2=GaussianNB()\n",
    "clf2.fit(PCA_A_train,yLbl_train.values.ravel())\n",
    "PCA_A_predTrain = clf2.predict(PCA_A_train)\n",
    "PCA_A_predTest = clf2.predict(PCA_A_test)\n",
    "trainAcc=accuracy_score(yLbl_train, PCA_A_predTrain)\n",
    "testAcc=accuracy_score(yLbl_test, PCA_A_predTest)\n",
    "print(\"\\nTraining Accuracy:\",trainAcc)\n",
    "print(\"\\nTesting Accuracy:\",testAcc)\n",
    "\n",
    "plot_confusion_matrix(clf2, PCA_A_test, yLbl_test)\n",
    "plt.show()\n",
    "\n",
    "from sklearn.metrics import mean_squared_error\n",
    "import math\n",
    " \n",
    "MSE = mean_squared_error(yLbl_test, PCA_A_predTest)\n",
    " \n",
    "RMSE = math.sqrt(MSE)\n",
    "print(\"Root Mean Square Error:\\n\")\n",
    "print(RMSE)"
   ]
  },
  {
   "cell_type": "code",
   "execution_count": 4,
   "id": "8a5dae26",
   "metadata": {},
   "outputs": [],
   "source": [
    "# Load and check data\n",
    "\n",
    "dataframeB = pd.read_csv('5. Dataset Feature Dropping/MeterB_featureSelection.csv')\n",
    "#display(dataframeA.head())\n",
    "dataframeB.head()\n",
    "\n",
    "dataframeB = dataframeB.drop('Unnamed: 0', axis=1)\n",
    "\n",
    "PCA_B_DF = dataframeB[['Profile factor','Symmetry','Crossflow','Swirl Angle','Average flow velocity','Average speed of sound','Average Signal Strength','Meter performance','Average Gain','Average Transit Time']]\n",
    "\n",
    "# yLbl is Class Attruibute labels\n",
    "\n",
    "yLbl_B = dataframeB[['Class Attruibute']]\n",
    "\n",
    "PCA_B_train, PCA_B_test, yLbl_B_train, yLbl_B_test = train_test_split(PCA_B_DF, yLbl_B, test_size=0.3, random_state=12)\n",
    "#X_train, X_test, Y_train, Y_test = train_test_split(X, Y, test_size=0.3, random_state=12)"
   ]
  },
  {
   "cell_type": "code",
   "execution_count": 5,
   "id": "27326144",
   "metadata": {
    "scrolled": true
   },
   "outputs": [
    {
     "name": "stdout",
     "output_type": "stream",
     "text": [
      "\n",
      "Training Accuracy: 1.0\n",
      "\n",
      "Testing Accuracy: 1.0\n"
     ]
    },
    {
     "data": {
      "image/png": "[encoded data removed]",
      "text/plain": [
       "<Figure size 432x288 with 2 Axes>"
      ]
     },
     "metadata": {
      "needs_background": "light"
     },
     "output_type": "display_data"
    }
   ],
   "source": [
    "clf2=GaussianNB()\n",
    "clf2.fit(PCA_B_train,yLbl_B_train.values.ravel())\n",
    "PCA_B_predTrain = clf2.predict(PCA_B_train)\n",
    "PCA_B_predTest = clf2.predict(PCA_B_test)\n",
    "trainAcc=accuracy_score(yLbl_B_train, PCA_B_predTrain)\n",
    "testAcc=accuracy_score(yLbl_B_test, PCA_B_predTest)\n",
    "print(\"\\nTraining Accuracy:\",trainAcc)\n",
    "print(\"\\nTesting Accuracy:\",testAcc)\n",
    "\n",
    "plot_confusion_matrix(clf2, PCA_B_test, yLbl_B_test)\n",
    "plt.show()\n",
    "\n",
    "from sklearn.metrics import mean_squared_error\n",
    "import math\n",
    " \n",
    "MSE = mean_squared_error(yLbl_B_test, PCA_B_predTest)\n",
    " \n",
    "RMSE = math.sqrt(MSE)\n",
    "print(\"Root Mean Square Error:\\n\")\n",
    "print(RMSE)"
   ]
  },
  {
   "cell_type": "code",
   "execution_count": 6,
   "id": "744e2ff5",
   "metadata": {},
   "outputs": [],
   "source": [
    "# Load and check data\n",
    "\n",
    "dataframeC = pd.read_csv('5. Dataset Feature Dropping/MeterC_featureSelection.csv')\n",
    "#display(dataframeA.head())\n",
    "dataframeC.head()\n",
    "\n",
    "dataframeC = dataframeC.drop('Unnamed: 0', axis=1)\n",
    "\n",
    "PCA_C_DF = dataframeC[['Profile factor','Symmetry','Crossflow','Average Flow Velocity','Average Gain','Average Signal Quality','Average Signal Strength']]\n",
    "\n",
    "# yLbl is Class Attruibute labels\n",
    "\n",
    "yLbl_C = dataframeC[['Class Attruibute']]\n",
    "\n",
    "PCA_C_train, PCA_C_test, yLbl_C_train, yLbl_C_test = train_test_split(PCA_C_DF, yLbl_C, test_size=0.3, random_state=20)\n",
    "#X_train, X_test, Y_train, Y_test = train_test_split(X, Y, test_size=0.3, random_state=12)"
   ]
  },
  {
   "cell_type": "code",
   "execution_count": 7,
   "id": "db09e0a6",
   "metadata": {},
   "outputs": [
    {
     "name": "stdout",
     "output_type": "stream",
     "text": [
      "\n",
      "Training Accuracy: 0.6914893617021277\n",
      "\n",
      "Testing Accuracy: 0.7073170731707317\n"
     ]
    },
    {
     "data": {
      "image/png": "[encoded data removed]",
      "text/plain": [
       "<Figure size 432x288 with 2 Axes>"
      ]
     },
     "metadata": {
      "needs_background": "light"
     },
     "output_type": "display_data"
    }
   ],
   "source": [
    "clf2=GaussianNB()\n",
    "clf2.fit(PCA_C_train,yLbl_C_train.values.ravel())\n",
    "PCA_C_predTrain = clf2.predict(PCA_C_train)\n",
    "PCA_C_predTest = clf2.predict(PCA_C_test)\n",
    "trainAcc=accuracy_score(yLbl_C_train, PCA_C_predTrain)\n",
    "testAcc=accuracy_score(yLbl_C_test, PCA_C_predTest)\n",
    "print(\"\\nTraining Accuracy:\",trainAcc)\n",
    "print(\"\\nTesting Accuracy:\",testAcc)\n",
    "\n",
    "plot_confusion_matrix(clf2, PCA_C_test, yLbl_C_test)\n",
    "plt.show()\n",
    "\n",
    "from sklearn.metrics import mean_squared_error\n",
    "import math\n",
    " \n",
    "MSE = mean_squared_error(yLbl_C_test, PCA_C_predTest)\n",
    " \n",
    "RMSE = math.sqrt(MSE)\n",
    "print(\"Root Mean Square Error:\\n\")\n",
    "print(RMSE)"
   ]
  }
 ],
 "metadata": {
  "kernelspec": {
   "display_name": "Python 3",
   "language": "python",
   "name": "python3"
  },
  "language_info": {
   "codemirror_mode": {
    "name": "ipython",
    "version": 3
   },
   "file_extension": ".py",
   "mimetype": "text/x-python",
   "name": "python",
   "nbconvert_exporter": "python",
   "pygments_lexer": "ipython3",
   "version": "3.8.8"
  }
 },
 "nbformat": 4,
 "nbformat_minor": 5
}
