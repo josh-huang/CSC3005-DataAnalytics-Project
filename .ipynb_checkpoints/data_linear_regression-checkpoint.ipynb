{
 "cells": [
  {
   "cell_type": "code",
   "execution_count": 1,
   "id": "95b4a94f",
   "metadata": {},
   "outputs": [],
   "source": [
    "import numpy as np\n",
    "import matplotlib.pyplot as plt\n",
    "import pandas as pd\n",
    "from sklearn.linear_model import LinearRegression"
   ]
  },
  {
   "cell_type": "code",
   "execution_count": 2,
   "id": "1b649c4c",
   "metadata": {},
   "outputs": [],
   "source": [
    "dataframeA = pd.read_csv('6. Dataset PCA/MeterA_pca.csv')\n",
    "dataframeA = dataframeA.drop('Unnamed: 0', axis=1)\n",
    "dataframeA_feature = dataframeA.drop('Class Attruibute', axis=1)\n",
    "dataframeA_label = dataframeA['Class Attruibute']\n",
    "\n",
    "dataframeB = pd.read_csv('6. Dataset PCA/MeterB_pca.csv')\n",
    "dataframeB = dataframeB.drop('Unnamed: 0', axis=1)\n",
    "dataframeB_feature = dataframeB.drop('Class Attruibute', axis=1)\n",
    "dataframeB_label = dataframeB['Class Attruibute']\n",
    "\n",
    "dataframeC = pd.read_csv('6. Dataset PCA/MeterC_pca.csv')\n",
    "dataframeC = dataframeC.drop('Unnamed: 0', axis=1)\n",
    "dataframeC_feature = dataframeC.drop('Class Attruibute', axis=1)\n",
    "dataframeC_label = dataframeC['Class Attruibute']"
   ]
  },
  {
   "cell_type": "code",
   "execution_count": null,
   "id": "3ba22b0d",
   "metadata": {},
   "outputs": [],
   "source": [
    "dataframeA_feature.head()"
   ]
  },
  {
   "cell_type": "raw",
   "id": "7e5be884",
   "metadata": {},
   "source": [
    "reg = LinearRegression()\n",
    "reg.fit(dataframeA_feature,dataframeA_label)"
   ]
  }
 ],
 "metadata": {
  "kernelspec": {
   "display_name": "Python 3",
   "language": "python",
   "name": "python3"
  },
  "language_info": {
   "codemirror_mode": {
    "name": "ipython",
    "version": 3
   },
   "file_extension": ".py",
   "mimetype": "text/x-python",
   "name": "python",
   "nbconvert_exporter": "python",
   "pygments_lexer": "ipython3",
   "version": "3.8.8"
  }
 },
 "nbformat": 4,
 "nbformat_minor": 5
}
