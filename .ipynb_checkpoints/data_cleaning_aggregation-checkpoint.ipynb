{
 "cells": [
  {
   "cell_type": "code",
   "execution_count": 1,
   "id": "a6ee0c45",
   "metadata": {},
   "outputs": [
    {
     "ename": "FileNotFoundError",
     "evalue": "[Errno 2] No such file or directory: 'Dataset No Outlier File/MeterA_no_outlier.csv'",
     "output_type": "error",
     "traceback": [
      "\u001b[1;31m---------------------------------------------------------------------------\u001b[0m",
      "\u001b[1;31mFileNotFoundError\u001b[0m                         Traceback (most recent call last)",
      "\u001b[1;32m<ipython-input-1-0260b50cd3f6>\u001b[0m in \u001b[0;36m<module>\u001b[1;34m\u001b[0m\n\u001b[0;32m      1\u001b[0m \u001b[1;32mimport\u001b[0m \u001b[0mpandas\u001b[0m \u001b[1;32mas\u001b[0m \u001b[0mpd\u001b[0m \u001b[1;31m# load dataset\u001b[0m\u001b[1;33m\u001b[0m\u001b[1;33m\u001b[0m\u001b[0m\n\u001b[1;32m----> 2\u001b[1;33m \u001b[0mtableA\u001b[0m \u001b[1;33m=\u001b[0m \u001b[0mpd\u001b[0m\u001b[1;33m.\u001b[0m\u001b[0mread_csv\u001b[0m\u001b[1;33m(\u001b[0m\u001b[1;34m'Dataset No Outlier File/MeterA_no_outlier.csv'\u001b[0m\u001b[1;33m,\u001b[0m \u001b[0mheader\u001b[0m\u001b[1;33m=\u001b[0m\u001b[1;34m'infer'\u001b[0m\u001b[1;33m)\u001b[0m \u001b[1;31m# read MeterA csv file\u001b[0m\u001b[1;33m\u001b[0m\u001b[1;33m\u001b[0m\u001b[0m\n\u001b[0m\u001b[0;32m      3\u001b[0m \u001b[0mtableB\u001b[0m \u001b[1;33m=\u001b[0m \u001b[0mpd\u001b[0m\u001b[1;33m.\u001b[0m\u001b[0mread_csv\u001b[0m\u001b[1;33m(\u001b[0m\u001b[1;34m'Dataset No Outlier File/MeterB_no_outlier.csv'\u001b[0m\u001b[1;33m,\u001b[0m \u001b[0mheader\u001b[0m\u001b[1;33m=\u001b[0m\u001b[1;34m'infer'\u001b[0m\u001b[1;33m)\u001b[0m \u001b[1;31m# read MeterB csv file\u001b[0m\u001b[1;33m\u001b[0m\u001b[1;33m\u001b[0m\u001b[0m\n\u001b[0;32m      4\u001b[0m \u001b[0mtableC\u001b[0m \u001b[1;33m=\u001b[0m \u001b[0mpd\u001b[0m\u001b[1;33m.\u001b[0m\u001b[0mread_csv\u001b[0m\u001b[1;33m(\u001b[0m\u001b[1;34m'Dataset No Outlier File/MeterC_no_outlier.csv'\u001b[0m\u001b[1;33m,\u001b[0m \u001b[0mheader\u001b[0m\u001b[1;33m=\u001b[0m\u001b[1;34m'infer'\u001b[0m\u001b[1;33m)\u001b[0m \u001b[1;31m# read MeterC csv file\u001b[0m\u001b[1;33m\u001b[0m\u001b[1;33m\u001b[0m\u001b[0m\n",
      "\u001b[1;32m~\\anaconda3\\lib\\site-packages\\pandas\\io\\parsers.py\u001b[0m in \u001b[0;36mread_csv\u001b[1;34m(filepath_or_buffer, sep, delimiter, header, names, index_col, usecols, squeeze, prefix, mangle_dupe_cols, dtype, engine, converters, true_values, false_values, skipinitialspace, skiprows, skipfooter, nrows, na_values, keep_default_na, na_filter, verbose, skip_blank_lines, parse_dates, infer_datetime_format, keep_date_col, date_parser, dayfirst, cache_dates, iterator, chunksize, compression, thousands, decimal, lineterminator, quotechar, quoting, doublequote, escapechar, comment, encoding, dialect, error_bad_lines, warn_bad_lines, delim_whitespace, low_memory, memory_map, float_precision, storage_options)\u001b[0m\n\u001b[0;32m    608\u001b[0m     \u001b[0mkwds\u001b[0m\u001b[1;33m.\u001b[0m\u001b[0mupdate\u001b[0m\u001b[1;33m(\u001b[0m\u001b[0mkwds_defaults\u001b[0m\u001b[1;33m)\u001b[0m\u001b[1;33m\u001b[0m\u001b[1;33m\u001b[0m\u001b[0m\n\u001b[0;32m    609\u001b[0m \u001b[1;33m\u001b[0m\u001b[0m\n\u001b[1;32m--> 610\u001b[1;33m     \u001b[1;32mreturn\u001b[0m \u001b[0m_read\u001b[0m\u001b[1;33m(\u001b[0m\u001b[0mfilepath_or_buffer\u001b[0m\u001b[1;33m,\u001b[0m \u001b[0mkwds\u001b[0m\u001b[1;33m)\u001b[0m\u001b[1;33m\u001b[0m\u001b[1;33m\u001b[0m\u001b[0m\n\u001b[0m\u001b[0;32m    611\u001b[0m \u001b[1;33m\u001b[0m\u001b[0m\n\u001b[0;32m    612\u001b[0m \u001b[1;33m\u001b[0m\u001b[0m\n",
      "\u001b[1;32m~\\anaconda3\\lib\\site-packages\\pandas\\io\\parsers.py\u001b[0m in \u001b[0;36m_read\u001b[1;34m(filepath_or_buffer, kwds)\u001b[0m\n\u001b[0;32m    460\u001b[0m \u001b[1;33m\u001b[0m\u001b[0m\n\u001b[0;32m    461\u001b[0m     \u001b[1;31m# Create the parser.\u001b[0m\u001b[1;33m\u001b[0m\u001b[1;33m\u001b[0m\u001b[1;33m\u001b[0m\u001b[0m\n\u001b[1;32m--> 462\u001b[1;33m     \u001b[0mparser\u001b[0m \u001b[1;33m=\u001b[0m \u001b[0mTextFileReader\u001b[0m\u001b[1;33m(\u001b[0m\u001b[0mfilepath_or_buffer\u001b[0m\u001b[1;33m,\u001b[0m \u001b[1;33m**\u001b[0m\u001b[0mkwds\u001b[0m\u001b[1;33m)\u001b[0m\u001b[1;33m\u001b[0m\u001b[1;33m\u001b[0m\u001b[0m\n\u001b[0m\u001b[0;32m    463\u001b[0m \u001b[1;33m\u001b[0m\u001b[0m\n\u001b[0;32m    464\u001b[0m     \u001b[1;32mif\u001b[0m \u001b[0mchunksize\u001b[0m \u001b[1;32mor\u001b[0m \u001b[0miterator\u001b[0m\u001b[1;33m:\u001b[0m\u001b[1;33m\u001b[0m\u001b[1;33m\u001b[0m\u001b[0m\n",
      "\u001b[1;32m~\\anaconda3\\lib\\site-packages\\pandas\\io\\parsers.py\u001b[0m in \u001b[0;36m__init__\u001b[1;34m(self, f, engine, **kwds)\u001b[0m\n\u001b[0;32m    817\u001b[0m             \u001b[0mself\u001b[0m\u001b[1;33m.\u001b[0m\u001b[0moptions\u001b[0m\u001b[1;33m[\u001b[0m\u001b[1;34m\"has_index_names\"\u001b[0m\u001b[1;33m]\u001b[0m \u001b[1;33m=\u001b[0m \u001b[0mkwds\u001b[0m\u001b[1;33m[\u001b[0m\u001b[1;34m\"has_index_names\"\u001b[0m\u001b[1;33m]\u001b[0m\u001b[1;33m\u001b[0m\u001b[1;33m\u001b[0m\u001b[0m\n\u001b[0;32m    818\u001b[0m \u001b[1;33m\u001b[0m\u001b[0m\n\u001b[1;32m--> 819\u001b[1;33m         \u001b[0mself\u001b[0m\u001b[1;33m.\u001b[0m\u001b[0m_engine\u001b[0m \u001b[1;33m=\u001b[0m \u001b[0mself\u001b[0m\u001b[1;33m.\u001b[0m\u001b[0m_make_engine\u001b[0m\u001b[1;33m(\u001b[0m\u001b[0mself\u001b[0m\u001b[1;33m.\u001b[0m\u001b[0mengine\u001b[0m\u001b[1;33m)\u001b[0m\u001b[1;33m\u001b[0m\u001b[1;33m\u001b[0m\u001b[0m\n\u001b[0m\u001b[0;32m    820\u001b[0m \u001b[1;33m\u001b[0m\u001b[0m\n\u001b[0;32m    821\u001b[0m     \u001b[1;32mdef\u001b[0m \u001b[0mclose\u001b[0m\u001b[1;33m(\u001b[0m\u001b[0mself\u001b[0m\u001b[1;33m)\u001b[0m\u001b[1;33m:\u001b[0m\u001b[1;33m\u001b[0m\u001b[1;33m\u001b[0m\u001b[0m\n",
      "\u001b[1;32m~\\anaconda3\\lib\\site-packages\\pandas\\io\\parsers.py\u001b[0m in \u001b[0;36m_make_engine\u001b[1;34m(self, engine)\u001b[0m\n\u001b[0;32m   1048\u001b[0m             )\n\u001b[0;32m   1049\u001b[0m         \u001b[1;31m# error: Too many arguments for \"ParserBase\"\u001b[0m\u001b[1;33m\u001b[0m\u001b[1;33m\u001b[0m\u001b[1;33m\u001b[0m\u001b[0m\n\u001b[1;32m-> 1050\u001b[1;33m         \u001b[1;32mreturn\u001b[0m \u001b[0mmapping\u001b[0m\u001b[1;33m[\u001b[0m\u001b[0mengine\u001b[0m\u001b[1;33m]\u001b[0m\u001b[1;33m(\u001b[0m\u001b[0mself\u001b[0m\u001b[1;33m.\u001b[0m\u001b[0mf\u001b[0m\u001b[1;33m,\u001b[0m \u001b[1;33m**\u001b[0m\u001b[0mself\u001b[0m\u001b[1;33m.\u001b[0m\u001b[0moptions\u001b[0m\u001b[1;33m)\u001b[0m  \u001b[1;31m# type: ignore[call-arg]\u001b[0m\u001b[1;33m\u001b[0m\u001b[1;33m\u001b[0m\u001b[0m\n\u001b[0m\u001b[0;32m   1051\u001b[0m \u001b[1;33m\u001b[0m\u001b[0m\n\u001b[0;32m   1052\u001b[0m     \u001b[1;32mdef\u001b[0m \u001b[0m_failover_to_python\u001b[0m\u001b[1;33m(\u001b[0m\u001b[0mself\u001b[0m\u001b[1;33m)\u001b[0m\u001b[1;33m:\u001b[0m\u001b[1;33m\u001b[0m\u001b[1;33m\u001b[0m\u001b[0m\n",
      "\u001b[1;32m~\\anaconda3\\lib\\site-packages\\pandas\\io\\parsers.py\u001b[0m in \u001b[0;36m__init__\u001b[1;34m(self, src, **kwds)\u001b[0m\n\u001b[0;32m   1865\u001b[0m \u001b[1;33m\u001b[0m\u001b[0m\n\u001b[0;32m   1866\u001b[0m         \u001b[1;31m# open handles\u001b[0m\u001b[1;33m\u001b[0m\u001b[1;33m\u001b[0m\u001b[1;33m\u001b[0m\u001b[0m\n\u001b[1;32m-> 1867\u001b[1;33m         \u001b[0mself\u001b[0m\u001b[1;33m.\u001b[0m\u001b[0m_open_handles\u001b[0m\u001b[1;33m(\u001b[0m\u001b[0msrc\u001b[0m\u001b[1;33m,\u001b[0m \u001b[0mkwds\u001b[0m\u001b[1;33m)\u001b[0m\u001b[1;33m\u001b[0m\u001b[1;33m\u001b[0m\u001b[0m\n\u001b[0m\u001b[0;32m   1868\u001b[0m         \u001b[1;32massert\u001b[0m \u001b[0mself\u001b[0m\u001b[1;33m.\u001b[0m\u001b[0mhandles\u001b[0m \u001b[1;32mis\u001b[0m \u001b[1;32mnot\u001b[0m \u001b[1;32mNone\u001b[0m\u001b[1;33m\u001b[0m\u001b[1;33m\u001b[0m\u001b[0m\n\u001b[0;32m   1869\u001b[0m         \u001b[1;32mfor\u001b[0m \u001b[0mkey\u001b[0m \u001b[1;32min\u001b[0m \u001b[1;33m(\u001b[0m\u001b[1;34m\"storage_options\"\u001b[0m\u001b[1;33m,\u001b[0m \u001b[1;34m\"encoding\"\u001b[0m\u001b[1;33m,\u001b[0m \u001b[1;34m\"memory_map\"\u001b[0m\u001b[1;33m,\u001b[0m \u001b[1;34m\"compression\"\u001b[0m\u001b[1;33m)\u001b[0m\u001b[1;33m:\u001b[0m\u001b[1;33m\u001b[0m\u001b[1;33m\u001b[0m\u001b[0m\n",
      "\u001b[1;32m~\\anaconda3\\lib\\site-packages\\pandas\\io\\parsers.py\u001b[0m in \u001b[0;36m_open_handles\u001b[1;34m(self, src, kwds)\u001b[0m\n\u001b[0;32m   1360\u001b[0m         \u001b[0mLet\u001b[0m \u001b[0mthe\u001b[0m \u001b[0mreaders\u001b[0m \u001b[0mopen\u001b[0m \u001b[0mIOHanldes\u001b[0m \u001b[0mafter\u001b[0m \u001b[0mthey\u001b[0m \u001b[0mare\u001b[0m \u001b[0mdone\u001b[0m \u001b[1;32mwith\u001b[0m \u001b[0mtheir\u001b[0m \u001b[0mpotential\u001b[0m \u001b[0mraises\u001b[0m\u001b[1;33m.\u001b[0m\u001b[1;33m\u001b[0m\u001b[1;33m\u001b[0m\u001b[0m\n\u001b[0;32m   1361\u001b[0m         \"\"\"\n\u001b[1;32m-> 1362\u001b[1;33m         self.handles = get_handle(\n\u001b[0m\u001b[0;32m   1363\u001b[0m             \u001b[0msrc\u001b[0m\u001b[1;33m,\u001b[0m\u001b[1;33m\u001b[0m\u001b[1;33m\u001b[0m\u001b[0m\n\u001b[0;32m   1364\u001b[0m             \u001b[1;34m\"r\"\u001b[0m\u001b[1;33m,\u001b[0m\u001b[1;33m\u001b[0m\u001b[1;33m\u001b[0m\u001b[0m\n",
      "\u001b[1;32m~\\anaconda3\\lib\\site-packages\\pandas\\io\\common.py\u001b[0m in \u001b[0;36mget_handle\u001b[1;34m(path_or_buf, mode, encoding, compression, memory_map, is_text, errors, storage_options)\u001b[0m\n\u001b[0;32m    640\u001b[0m                 \u001b[0merrors\u001b[0m \u001b[1;33m=\u001b[0m \u001b[1;34m\"replace\"\u001b[0m\u001b[1;33m\u001b[0m\u001b[1;33m\u001b[0m\u001b[0m\n\u001b[0;32m    641\u001b[0m             \u001b[1;31m# Encoding\u001b[0m\u001b[1;33m\u001b[0m\u001b[1;33m\u001b[0m\u001b[1;33m\u001b[0m\u001b[0m\n\u001b[1;32m--> 642\u001b[1;33m             handle = open(\n\u001b[0m\u001b[0;32m    643\u001b[0m                 \u001b[0mhandle\u001b[0m\u001b[1;33m,\u001b[0m\u001b[1;33m\u001b[0m\u001b[1;33m\u001b[0m\u001b[0m\n\u001b[0;32m    644\u001b[0m                 \u001b[0mioargs\u001b[0m\u001b[1;33m.\u001b[0m\u001b[0mmode\u001b[0m\u001b[1;33m,\u001b[0m\u001b[1;33m\u001b[0m\u001b[1;33m\u001b[0m\u001b[0m\n",
      "\u001b[1;31mFileNotFoundError\u001b[0m: [Errno 2] No such file or directory: 'Dataset No Outlier File/MeterA_no_outlier.csv'"
     ]
    }
   ],
   "source": [
    "import pandas as pd # load dataset \n",
    "tableA = pd.read_csv('Dataset No Outlier File/MeterA_no_outlier.csv', header='infer') # read MeterA csv file\n",
    "tableB = pd.read_csv('Dataset No Outlier File/MeterB_no_outlier.csv', header='infer') # read MeterB csv file\n",
    "tableC = pd.read_csv('Dataset No Outlier File/MeterC_no_outlier.csv', header='infer') # read MeterC csv file"
   ]
  },
  {
   "cell_type": "code",
   "execution_count": null,
   "id": "845d3f67",
   "metadata": {},
   "outputs": [],
   "source": [
    "for i in range(8): # drop individual speed of sound column since average speed of sound column is already existed\n",
    "    tableA.drop(f'Speed of Sound{i+1}', axis=1, inplace=True)\n",
    "pd.set_option('display.max_columns', None)\n",
    "pd.set_option('display.max_rows', None)"
   ]
  },
  {
   "cell_type": "code",
   "execution_count": null,
   "id": "e80e93ec",
   "metadata": {},
   "outputs": [],
   "source": [
    "# get average flow velocity of eight paths for each row \n",
    "tableA[\"Average Flow Velocity\"] = tableA.loc[:, [\"Flow Velocity1\",\"Flow Velocity2\",\"Flow Velocity3\",\"Flow Velocity4\",\"Flow Velocity5\",\"Flow Velocity6\",\"Flow Velocity7\",\"Flow Velocity8\"]].mean(axis = 1)\n",
    "for i in range(8): # drop individual flow velocity column\n",
    "    tableA.drop(f'Flow Velocity{i+1}', axis=1, inplace=True)\n",
    "column_to_move = tableA.pop(\"Average Flow Velocity\")\n",
    "tableA.insert(4, \"Average Flow Velocity\", column_to_move)\n",
    "# drop 'Unnamed' column\n",
    "tableA.drop(tableA.filter(regex=\"Unname\"),axis=1, inplace=True)"
   ]
  },
  {
   "cell_type": "code",
   "execution_count": null,
   "id": "2122061a",
   "metadata": {},
   "outputs": [],
   "source": [
    "# get average flow velocity of eight paths for each row \n",
    "tableA[\"Average Gain\"] = tableA.loc[:, [\"Gain1\",\"Gain2\",\"Gain3\",\"Gain4\",\"Gain5\",\"Gain6\",\"Gain7\",\"Gain8\",\"GainA1\",\"GainA2\",\"GainA3\",\"GainA4\",\"GainA5\",\"GainA6\",\"GainA7\",\"GainA8\"]].mean(axis = 1)\n",
    "for i in range(8): # drop individual flow velocity column\n",
    "    tableA.drop(f'Gain{i+1}', axis=1, inplace=True)\n",
    "    tableA.drop(f'GainA{i+1}', axis=1, inplace=True)\n",
    "column_to_move = tableA.pop(\"Average Gain\")\n",
    "tableA.insert(5, \"Average Gain\", column_to_move)\n",
    "# write data to csv file \n",
    "tableA = tableA.reset_index(drop=True)\n",
    "tableA.to_csv('MeterA_aggregation.csv', index = True)"
   ]
  },
  {
   "cell_type": "code",
   "execution_count": null,
   "id": "7bf90e35",
   "metadata": {},
   "outputs": [],
   "source": [
    "for i in range(4): # drop individual flow velocity and speed of sound column since average flow velocity column and average speed of sound column is already included\n",
    "    tableB.drop(f'Flow Velocity{i+1}', axis=1, inplace=True)\n",
    "    tableB.drop(f'Speed of Sound{i+1}', axis=1, inplace=True)"
   ]
  },
  {
   "cell_type": "code",
   "execution_count": null,
   "id": "67d92fc9",
   "metadata": {},
   "outputs": [],
   "source": [
    "# get average signal strength of eight paths for each row \n",
    "tableB[\"Average Signal Strength\"] = tableB.loc[:, [\"Signal Strength1\",\"Signal Strength2\",\"Signal Strength3\",\"Signal Strength4\",\"Signal Strength5\",\"Signal Strength6\",\"Signal Strength7\",\"Signal Strength8\"]].mean(axis = 1)\n",
    "for i in range(8): # drop individual flow velocity column\n",
    "    tableB.drop(f'Signal Strength{i+1}', axis=1, inplace=True)\n",
    "column_to_move = tableB.pop(\"Average Signal Strength\")\n",
    "tableB.insert(7, \"Average Signal Strength\", column_to_move)\n",
    "# drop 'Unnamed' column\n",
    "tableB.drop(tableB.filter(regex=\"Unname\"),axis=1, inplace=True)\n",
    "tableB"
   ]
  },
  {
   "cell_type": "code",
   "execution_count": null,
   "id": "38ffc771",
   "metadata": {},
   "outputs": [],
   "source": [
    "# get average turbulence of eight paths for each row \n",
    "tableB[\"Average Turbulence\"] = tableB.loc[:, [\"Turbulence1\",\"Turbulence2\",\"Turbulence3\",\"Turbulence4\"]].mean(axis = 1)\n",
    "for i in range(4): # drop individual turbulence column\n",
    "    tableB.drop(f'Turbulence{i+1}', axis=1, inplace=True)\n",
    "column_to_move = tableB.pop(\"Average Turbulence\")\n",
    "tableB.insert(8, \"Average Turbulence\", column_to_move)\n",
    "tableB"
   ]
  },
  {
   "cell_type": "code",
   "execution_count": null,
   "id": "6c165d29",
   "metadata": {},
   "outputs": [],
   "source": [
    "# get average signal quality of eight paths for each row \n",
    "tableB[\"Average Signal Quality\"] = tableB.loc[:, [\"Signal Quality1\",\"Signal Quality2\",\"Signal Quality3\",\"Signal Quality4\",\"Signal Quality5\",\"Signal Quality6\",\"Signal Quality7\",\"Signal Quality8\"]].mean(axis = 1)\n",
    "for i in range(8): # drop individual signal quality column\n",
    "    tableB.drop(f'Signal Quality{i+1}', axis=1, inplace=True)\n",
    "column_to_move = tableB.pop(\"Average Signal Quality\")\n",
    "tableB.insert(10, \"Average Signal Quality\", column_to_move)\n",
    "# drop 'Unnamed' column\n",
    "tableB.drop(tableB.filter(regex=\"Unname\"),axis=1, inplace=True)\n",
    "tableB"
   ]
  },
  {
   "cell_type": "code",
   "execution_count": null,
   "id": "a5e38493",
   "metadata": {},
   "outputs": [],
   "source": [
    "# get average gain of eight paths for each row \n",
    "tableB[\"Average Gain\"] = tableB.loc[:, [\"Gain1\",\"Gain2\",\"Gain3\",\"Gain4\",\"Gain5\",\"Gain6\",\"Gain7\",\"Gain8\"]].mean(axis = 1)\n",
    "for i in range(8): # drop individual gain column\n",
    "    tableB.drop(f'Gain{i+1}', axis=1, inplace=True)\n",
    "column_to_move = tableB.pop(\"Average Gain\")\n",
    "tableB.insert(10, \"Average Gain\", column_to_move)\n",
    "# drop 'Unnamed' column\n",
    "tableB.drop(tableB.filter(regex=\"Unname\"),axis=1, inplace=True)\n",
    "tableB"
   ]
  },
  {
   "cell_type": "code",
   "execution_count": null,
   "id": "0e7522fa",
   "metadata": {},
   "outputs": [],
   "source": [
    "# get average transit time of eight paths for each row \n",
    "tableB[\"Average Transit Time\"] = tableB.loc[:, [\"Transit time1\",\"Transit time2\",\"Transit time3\",\"Transit time4\",\"Transit time5\",\"Transit time6\",\"Transit time7\",\"Transit time8\"]].mean(axis = 1)\n",
    "for i in range(8): # drop individual transit time column\n",
    "    tableB.drop(f'Transit time{i+1}', axis=1, inplace=True)\n",
    "column_to_move = tableB.pop(\"Average Transit Time\")\n",
    "tableB.insert(11, \"Average Transit Time\", column_to_move)\n",
    "# drop 'Unnamed' column\n",
    "tableB.drop(tableB.filter(regex=\"Unname\"),axis=1, inplace=True)\n",
    "tableB"
   ]
  },
  {
   "cell_type": "code",
   "execution_count": null,
   "id": "08c70cc9",
   "metadata": {},
   "outputs": [],
   "source": [
    "# write data to csv file \n",
    "tableB= tableB.reset_index(drop=True)\n",
    "tableB.to_csv('MeterB_aggregation.csv', index = True)"
   ]
  },
  {
   "cell_type": "code",
   "execution_count": null,
   "id": "dd25a1ec",
   "metadata": {},
   "outputs": [],
   "source": [
    "# get average flow velocity of eight paths for each row \n",
    "tableC[\"Average Flow Velocity\"] = tableC.loc[:, [\"Flow Velocity1\",\"Flow Velocity2\",\"Flow Velocity3\",\"Flow Velocity4\"]].mean(axis = 1)\n",
    "for i in range(4): # drop individual flow velocity column\n",
    "    tableC.drop(f'Flow Velocity{i+1}', axis=1, inplace=True)\n",
    "column_to_move = tableC.pop(\"Average Flow Velocity\")\n",
    "tableC.insert(4, \"Average Flow Velocity\", column_to_move)\n",
    "# drop 'Unnamed' column\n",
    "tableC.drop(tableC.filter(regex=\"Unname\"),axis=1, inplace=True)\n",
    "tableC"
   ]
  },
  {
   "cell_type": "code",
   "execution_count": null,
   "id": "22c6d74c",
   "metadata": {
    "scrolled": false
   },
   "outputs": [],
   "source": [
    "# get average speed of sound of eight paths for each row \n",
    "tableC[\"Average Speed of Sound\"] = tableC.loc[:, [\"Speed of Sound1\",\"Speed of Sound2\",\"Speed of Sound3\",\"Speed of Sound4\"]].mean(axis = 1)\n",
    "for i in range(4): # drop individual speed of sound column\n",
    "    tableC.drop(f'Speed of Sound{i+1}', axis=1, inplace=True)\n",
    "column_to_move = tableC.pop(\"Average Speed of Sound\")\n",
    "tableC.insert(4, \"Average Speed of Sound\", column_to_move)\n",
    "# drop 'Unnamed' column\n",
    "tableC.drop(tableC.filter(regex=\"Unname\"),axis=1, inplace=True)\n",
    "tableC"
   ]
  },
  {
   "cell_type": "code",
   "execution_count": null,
   "id": "215d6f79",
   "metadata": {},
   "outputs": [],
   "source": [
    "# get average signal strength of eight paths for each row \n",
    "tableC[\"Average Signal Strength\"] = tableC.loc[:, [\"Signal Strength1\",\"Signal Strength2\",\"Signal Strength3\",\"Signal Strength4\",\"Signal Strength5\",\"Signal Strength6\",\"Signal Strength7\",\"Signal Strength8\"]].mean(axis = 1)\n",
    "for i in range(8): # drop individual signal strength column\n",
    "    tableC.drop(f'Signal Strength{i+1}', axis=1, inplace=True)\n",
    "column_to_move = tableC.pop(\"Average Signal Strength\")\n",
    "tableC.insert(4, \"Average Signal Strength\", column_to_move)\n",
    "# drop 'Unnamed' column\n",
    "tableC.drop(tableC.filter(regex=\"Unname\"),axis=1, inplace=True)\n",
    "tableC"
   ]
  },
  {
   "cell_type": "code",
   "execution_count": null,
   "id": "4674efcd",
   "metadata": {},
   "outputs": [],
   "source": [
    "# get average signal quality of eight paths for each row \n",
    "tableC[\"Average Signal Quality\"] = tableC.loc[:, [\"Signal Quality1\",\"Signal Quality2\",\"Signal Quality3\",\"Signal Quality4\",\"Signal Quality5\",\"Signal Quality6\",\"Signal Quality7\",\"Signal Quality8\"]].mean(axis = 1)\n",
    "for i in range(8): # drop individual signal quality of sound column\n",
    "    tableC.drop(f'Signal Quality{i+1}', axis=1, inplace=True)\n",
    "column_to_move = tableC.pop(\"Average Signal Quality\")\n",
    "tableC.insert(4, \"Average Signal Quality\", column_to_move)\n",
    "# drop 'Unnamed' column\n",
    "tableC.drop(tableC.filter(regex=\"Unname\"),axis=1, inplace=True)\n",
    "tableC"
   ]
  },
  {
   "cell_type": "code",
   "execution_count": null,
   "id": "c50521b0",
   "metadata": {},
   "outputs": [],
   "source": [
    "# get average gain of eight paths for each row \n",
    "tableC[\"Average Gain\"] = tableC.loc[:, [\"Gain1\",\"Gain2\",\"Gain3\",\"Gain4\",\"Gain5\",\"Gain6\",\"Gain7\",\"Gain8\"]].mean(axis = 1)\n",
    "for i in range(8): # drop individual gain of sound column\n",
    "    tableC.drop(f'Gain{i+1}', axis=1, inplace=True)\n",
    "column_to_move = tableC.pop(\"Average Gain\")\n",
    "tableC.insert(4, \"Average Gain\", column_to_move)\n",
    "# drop 'Unnamed' column\n",
    "tableC.drop(tableC.filter(regex=\"Unname\"),axis=1, inplace=True)\n",
    "tableC"
   ]
  },
  {
   "cell_type": "code",
   "execution_count": null,
   "id": "23cedb6f",
   "metadata": {},
   "outputs": [],
   "source": [
    "# get average gain of eight paths for each row \n",
    "tableC[\"Average Transit Time\"] = tableC.loc[:, [\"Transit time1\",\"Transit time2\",\"Transit time3\",\"Transit time4\",\"Transit time5\",\"Transit time6\",\"Transit time7\",\"Transit time8\"]].mean(axis = 1)\n",
    "for i in range(8): # drop individual gain of sound column\n",
    "    tableC.drop(f'Transit time{i+1}', axis=1, inplace=True)\n",
    "column_to_move = tableC.pop(\"Average Transit Time\")\n",
    "tableC.insert(4, \"Average Transit Time\", column_to_move)\n",
    "# drop 'Unnamed' column\n",
    "tableC.drop(tableC.filter(regex=\"Unname\"),axis=1, inplace=True)\n",
    "tableC"
   ]
  },
  {
   "cell_type": "code",
   "execution_count": null,
   "id": "81da07f5",
   "metadata": {},
   "outputs": [],
   "source": [
    "# write data to csv file \n",
    "tableC= tableC.reset_index(drop=True)\n",
    "tableC.to_csv('MeterC_aggregation.csv', index = True)"
   ]
  }
 ],
 "metadata": {
  "kernelspec": {
   "display_name": "Python 3",
   "language": "python",
   "name": "python3"
  },
  "language_info": {
   "codemirror_mode": {
    "name": "ipython",
    "version": 3
   },
   "file_extension": ".py",
   "mimetype": "text/x-python",
   "name": "python",
   "nbconvert_exporter": "python",
   "pygments_lexer": "ipython3",
   "version": "3.8.8"
  }
 },
 "nbformat": 4,
 "nbformat_minor": 5
}
