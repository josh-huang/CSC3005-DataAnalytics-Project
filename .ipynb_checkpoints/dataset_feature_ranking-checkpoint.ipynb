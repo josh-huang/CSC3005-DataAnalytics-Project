{
 "cells": [
  {
   "cell_type": "code",
   "execution_count": 1,
   "id": "243f3192",
   "metadata": {},
   "outputs": [],
   "source": [
    "import numpy as np\n",
    "import pandas as pd\n",
    "import seaborn as sns\n",
    "\n",
    "# Visualization\n",
    "import matplotlib.pyplot as plt"
   ]
  },
  {
   "cell_type": "code",
   "execution_count": 2,
   "id": "ee19f5da",
   "metadata": {
    "scrolled": false
   },
   "outputs": [
    {
     "data": {
      "text/html": [
       "<div>\n",
       "<style scoped>\n",
       "    .dataframe tbody tr th:only-of-type {\n",
       "        vertical-align: middle;\n",
       "    }\n",
       "\n",
       "    .dataframe tbody tr th {\n",
       "        vertical-align: top;\n",
       "    }\n",
       "\n",
       "    .dataframe thead th {\n",
       "        text-align: right;\n",
       "    }\n",
       "</style>\n",
       "<table border=\"1\" class=\"dataframe\">\n",
       "  <thead>\n",
       "    <tr style=\"text-align: right;\">\n",
       "      <th></th>\n",
       "      <th>Flatness ratio</th>\n",
       "      <th>Symmetry</th>\n",
       "      <th>Crossflow</th>\n",
       "      <th>Average Flow Velocity</th>\n",
       "      <th>Average speed of sound</th>\n",
       "      <th>Average Gain</th>\n",
       "      <th>Class Attruibute</th>\n",
       "    </tr>\n",
       "  </thead>\n",
       "  <tbody>\n",
       "    <tr>\n",
       "      <th>0</th>\n",
       "      <td>0.841499</td>\n",
       "      <td>1.009367</td>\n",
       "      <td>0.993816</td>\n",
       "      <td>9.350917</td>\n",
       "      <td>1485.391229</td>\n",
       "      <td>35.064189</td>\n",
       "      <td>1</td>\n",
       "    </tr>\n",
       "    <tr>\n",
       "      <th>1</th>\n",
       "      <td>0.842250</td>\n",
       "      <td>1.006584</td>\n",
       "      <td>0.996605</td>\n",
       "      <td>8.323063</td>\n",
       "      <td>1485.919896</td>\n",
       "      <td>34.975281</td>\n",
       "      <td>1</td>\n",
       "    </tr>\n",
       "    <tr>\n",
       "      <th>2</th>\n",
       "      <td>0.840723</td>\n",
       "      <td>1.011647</td>\n",
       "      <td>0.998152</td>\n",
       "      <td>7.273721</td>\n",
       "      <td>1485.903146</td>\n",
       "      <td>34.920553</td>\n",
       "      <td>1</td>\n",
       "    </tr>\n",
       "    <tr>\n",
       "      <th>3</th>\n",
       "      <td>0.841119</td>\n",
       "      <td>1.017807</td>\n",
       "      <td>0.996812</td>\n",
       "      <td>6.214215</td>\n",
       "      <td>1484.790938</td>\n",
       "      <td>34.878133</td>\n",
       "      <td>1</td>\n",
       "    </tr>\n",
       "    <tr>\n",
       "      <th>4</th>\n",
       "      <td>0.840358</td>\n",
       "      <td>1.016534</td>\n",
       "      <td>0.996221</td>\n",
       "      <td>6.209143</td>\n",
       "      <td>1484.252875</td>\n",
       "      <td>34.882507</td>\n",
       "      <td>1</td>\n",
       "    </tr>\n",
       "  </tbody>\n",
       "</table>\n",
       "</div>"
      ],
      "text/plain": [
       "   Flatness ratio  Symmetry  Crossflow  Average Flow Velocity  \\\n",
       "0        0.841499  1.009367   0.993816               9.350917   \n",
       "1        0.842250  1.006584   0.996605               8.323063   \n",
       "2        0.840723  1.011647   0.998152               7.273721   \n",
       "3        0.841119  1.017807   0.996812               6.214215   \n",
       "4        0.840358  1.016534   0.996221               6.209143   \n",
       "\n",
       "   Average speed of sound  Average Gain  Class Attruibute  \n",
       "0             1485.391229     35.064189                 1  \n",
       "1             1485.919896     34.975281                 1  \n",
       "2             1485.903146     34.920553                 1  \n",
       "3             1484.790938     34.878133                 1  \n",
       "4             1484.252875     34.882507                 1  "
      ]
     },
     "execution_count": 2,
     "metadata": {},
     "output_type": "execute_result"
    }
   ],
   "source": [
    "dfA = pd.read_csv('4. Dataset Aggregation File/MeterA_aggregation.csv')\n",
    "dfA.drop(dfA.filter(regex=\"Unname\"),axis=1, inplace=True)\n",
    "dfB = pd.read_csv('4. Dataset Aggregation File/MeterB_aggregation.csv')\n",
    "dfB.drop(dfB.filter(regex=\"Unname\"),axis=1, inplace=True)\n",
    "dfC = pd.read_csv('4. Dataset Aggregation File/MeterC_aggregation.csv')\n",
    "dfC.drop(dfC.filter(regex=\"Unname\"),axis=1, inplace=True)\n",
    "dfA.head()"
   ]
  },
  {
   "cell_type": "code",
   "execution_count": 3,
   "id": "600cee02",
   "metadata": {},
   "outputs": [
    {
     "data": {
      "text/plain": [
       "Flatness ratio            0.000328\n",
       "Symmetry                  0.000051\n",
       "Crossflow                 0.000004\n",
       "Average Flow Velocity     3.598945\n",
       "Average speed of sound    0.439637\n",
       "Average Gain              0.005130\n",
       "Class Attruibute          0.242433\n",
       "dtype: float64"
      ]
     },
     "execution_count": 3,
     "metadata": {},
     "output_type": "execute_result"
    }
   ],
   "source": [
    "dfA.var()\n",
    "# dfB.var()\n",
    "# dfC.var()"
   ]
  },
  {
   "cell_type": "code",
   "execution_count": 4,
   "id": "3970d84d",
   "metadata": {},
   "outputs": [
    {
     "data": {
      "text/plain": [
       "(72, 11)"
      ]
     },
     "execution_count": 4,
     "metadata": {},
     "output_type": "execute_result"
    }
   ],
   "source": [
    "from sklearn.neighbors import KNeighborsClassifier\n",
    "\n",
    "dep_var = 'Class Attruibute'\n",
    "cond = np.random.rand(len(dfA))>.2\n",
    "train = np.where(cond)[0]\n",
    "valid = np.where(~cond)[0]\n",
    "len(train), len(valid)"
   ]
  },
  {
   "cell_type": "code",
   "execution_count": 5,
   "id": "0a1a92c0",
   "metadata": {},
   "outputs": [
    {
     "data": {
      "text/plain": [
       "(72, 11)"
      ]
     },
     "execution_count": 5,
     "metadata": {},
     "output_type": "execute_result"
    }
   ],
   "source": [
    "train_dfA = dfA.iloc[train]\n",
    "valid_dfA = dfA.iloc[valid]\n",
    "# train_dfB = dfB.iloc[train]\n",
    "# valid_dfB = dfB.iloc[valid]\n",
    "# train_dfC = dfC.iloc[train]\n",
    "# valid_dfC = dfC.iloc[valid]\n",
    "len(train_dfA), len(valid_dfA)"
   ]
  },
  {
   "cell_type": "code",
   "execution_count": 6,
   "id": "806398a8",
   "metadata": {},
   "outputs": [],
   "source": [
    "trainA_y = train_dfA['Class Attruibute']\n",
    "trainA_xs = train_dfA.drop(['Class Attruibute'],axis=1)\n",
    "validA_y = valid_dfA['Class Attruibute']\n",
    "validA_xs = valid_dfA.drop(['Class Attruibute'],axis=1)"
   ]
  },
  {
   "cell_type": "code",
   "execution_count": 7,
   "id": "246228c4",
   "metadata": {},
   "outputs": [],
   "source": [
    "m = KNeighborsClassifier()\n",
    "m = m.fit(trainA_xs,trainA_y)"
   ]
  },
  {
   "cell_type": "code",
   "execution_count": 8,
   "id": "2da22e9f",
   "metadata": {},
   "outputs": [
    {
     "name": "stdout",
     "output_type": "stream",
     "text": [
      "[0.42748616762497404, 0.08856115463571451, 0.12895950953364382, 0.07272124333527454, 0.19811831622060247, 0.08415360864979049]\n"
     ]
    },
    {
     "data": {
      "image/png": "[encoded data removed]",
      "text/plain": [
       "<Figure size 720x360 with 1 Axes>"
      ]
     },
     "metadata": {
      "needs_background": "light"
     },
     "output_type": "display_data"
    },
    {
     "name": "stdout",
     "output_type": "stream",
     "text": [
      "Flatness ratio\n",
      "Average speed of sound\n",
      "Crossflow\n",
      "Symmetry\n",
      "Average Gain\n",
      "Average Flow Velocity\n"
     ]
    }
   ],
   "source": [
    "# Feature Importance\n",
    "from sklearn import datasets\n",
    "from sklearn import metrics\n",
    "from sklearn.ensemble import ExtraTreesClassifier\n",
    "import matplotlib.pyplot as plt\n",
    "import operator\n",
    "\n",
    "dict_A = {}\n",
    "dfA = pd.read_csv('4. Dataset Aggregation File/MeterA_aggregation.csv')\n",
    "dfA.drop(dfA.filter(regex=\"Unname\"),axis=1, inplace=True)\n",
    "dfA_data = dfA.drop(['Class Attruibute'],axis=1)\n",
    "dfA_target = dfA['Class Attruibute']\n",
    "# fit an Extra Trees model to the data\n",
    "model = ExtraTreesClassifier()\n",
    "model.fit(dfA_data, dfA_target)\n",
    "# display the relative importance of each attribute\n",
    "print(list(model.feature_importances_))\n",
    "fig = plt.figure(figsize = (10, 5))\n",
    "# Plotting a Bar Graph to compare the models\n",
    "plt.bar(list(dfA_data.columns.values), list(model.feature_importances_))\n",
    "plt.xlabel('Feature Labels')\n",
    "plt.ylabel('Feature Importances')\n",
    "plt.title('Comparison of different Feature Importances')\n",
    "plt.show() \n",
    "\n",
    "for i in range(len(list(dfA_data.columns.values))):\n",
    "    dict_A[str(list(dfA_data.columns.values)[i])]=list(model.feature_importances_)[i]\n",
    "                                                                            \n",
    "for k in sorted(dict_A, key=dict_A.get, reverse=True):\n",
    "    print(k)"
   ]
  },
  {
   "cell_type": "code",
   "execution_count": 9,
   "id": "b6f09c31",
   "metadata": {
    "scrolled": true
   },
   "outputs": [
    {
     "name": "stdout",
     "output_type": "stream",
     "text": [
      "[0.022226116887136764, 0.0643560713716926, 0.07075136659368535, 0.09061430252756283, 0.03160719607195109, 0.17675214891250246, 0.07068499893330264, 0.0824252623201878, 0.07293438159566848, 0.06183095915961606, 0.1806448107864857, 0.0751723848402082]\n"
     ]
    },
    {
     "data": {
      "image/png": "[encoded data removed]",
      "text/plain": [
       "<Figure size 1440x360 with 1 Axes>"
      ]
     },
     "metadata": {
      "needs_background": "light"
     },
     "output_type": "display_data"
    },
    {
     "name": "stdout",
     "output_type": "stream",
     "text": [
      "Average Gain\n",
      "Average speed of sound\n",
      "Swirl Angle\n",
      "Meter performance\n",
      "Average Transit Time\n",
      "Average Turbulence\n",
      "Crossflow\n",
      "Average Signal Strength\n",
      "Symmetry\n",
      "Average Signal Quality\n",
      "Average flow velocity\n",
      "Profile factor\n"
     ]
    }
   ],
   "source": [
    "dict_B = {}\n",
    "dfB = pd.read_csv('4. Dataset Aggregation File/MeterB_aggregation.csv')\n",
    "dfB.drop(dfB.filter(regex=\"Unname\"),axis=1, inplace=True)\n",
    "dfB_data = dfB.drop(['Class Attruibute'],axis=1)\n",
    "dfB_target = dfB['Class Attruibute']\n",
    "model = ExtraTreesClassifier()\n",
    "model.fit(dfB_data, dfB_target)\n",
    "print(list(model.feature_importances_))\n",
    "fig = plt.figure(figsize = (20, 5))\n",
    "# Plotting a Bar Graph to compare the models\n",
    "plt.bar(list(dfB_data.columns.values), list(model.feature_importances_))\n",
    "plt.xlabel('Feature Labels')\n",
    "plt.ylabel('Feature Importances')\n",
    "plt.title('Comparison of different Feature Importances')\n",
    "plt.show()\n",
    "\n",
    "for i in range(len(list(dfB_data.columns.values))):\n",
    "    dict_B[str(list(dfB_data.columns.values)[i])]=list(model.feature_importances_)[i]\n",
    "                                                                            \n",
    "for k in sorted(dict_B, key=dict_B.get, reverse=True):\n",
    "    print(k)"
   ]
  },
  {
   "cell_type": "code",
   "execution_count": 10,
   "id": "e0d3d7e9",
   "metadata": {
    "scrolled": false
   },
   "outputs": [
    {
     "name": "stdout",
     "output_type": "stream",
     "text": [
      "[0.08546579427182795, 0.16570726580741407, 0.07597472794969651, 0.056731585530066415, 0.10639624455942003, 0.22982563342792633, 0.08040625942382727, 0.09343812067170752, 0.10605436835811398]\n"
     ]
    },
    {
     "data": {
      "image/png": "[encoded data removed]",
      "text/plain": [
       "<Figure size 1440x360 with 1 Axes>"
      ]
     },
     "metadata": {
      "needs_background": "light"
     },
     "output_type": "display_data"
    },
    {
     "name": "stdout",
     "output_type": "stream",
     "text": [
      "Average Gain\n",
      "Symmetry\n",
      "Average Transit Time\n",
      "Average Speed of Sound\n",
      "Average Signal Strength\n",
      "Profile factor\n",
      "Average Signal Quality\n",
      "Crossflow\n",
      "Average Flow Velocity\n"
     ]
    }
   ],
   "source": [
    "dict_C = {}\n",
    "dfC = pd.read_csv('4. Dataset Aggregation File/MeterC_aggregation.csv')\n",
    "dfC.drop(dfC.filter(regex=\"Unname\"),axis=1, inplace=True)\n",
    "dfC_data = dfC.drop(['Class Attruibute'],axis=1)\n",
    "dfC_target = dfC['Class Attruibute']\n",
    "model = ExtraTreesClassifier()\n",
    "model.fit(dfC_data, dfC_target)\n",
    "print(list(model.feature_importances_))\n",
    "fig = plt.figure(figsize = (20, 5))\n",
    "# Plotting a Bar Graph to compare the models\n",
    "plt.bar(list(dfC_data.columns.values), list(model.feature_importances_))\n",
    "plt.xlabel('Feature Labels')\n",
    "plt.ylabel('Feature Importances')\n",
    "plt.title('Comparison of different Feature Importances')\n",
    "plt.show()\n",
    "\n",
    "for i in range(len(list(dfC_data.columns.values))):\n",
    "    dict_C[str(list(dfC_data.columns.values)[i])]=list(model.feature_importances_)[i]\n",
    "                                                                            \n",
    "for k in sorted(dict_C, key=dict_C.get, reverse=True):\n",
    "    print(k)"
   ]
  }
 ],
 "metadata": {
  "kernelspec": {
   "display_name": "Python 3",
   "language": "python",
   "name": "python3"
  },
  "language_info": {
   "codemirror_mode": {
    "name": "ipython",
    "version": 3
   },
   "file_extension": ".py",
   "mimetype": "text/x-python",
   "name": "python",
   "nbconvert_exporter": "python",
   "pygments_lexer": "ipython3",
   "version": "3.8.8"
  }
 },
 "nbformat": 4,
 "nbformat_minor": 5
}
