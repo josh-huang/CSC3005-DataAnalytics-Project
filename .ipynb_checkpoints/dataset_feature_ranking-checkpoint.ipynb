{
 "cells": [
  {
   "cell_type": "code",
   "execution_count": 1,
   "id": "243f3192",
   "metadata": {},
   "outputs": [],
   "source": [
    "import numpy as np\n",
    "import pandas as pd\n",
    "import seaborn as sns\n",
    "\n",
    "# Visualization\n",
    "import matplotlib.pyplot as plt"
   ]
  },
  {
   "cell_type": "code",
   "execution_count": 2,
   "id": "ee19f5da",
   "metadata": {
    "scrolled": false
   },
   "outputs": [
    {
     "data": {
      "text/html": [
       "<div>\n",
       "<style scoped>\n",
       "    .dataframe tbody tr th:only-of-type {\n",
       "        vertical-align: middle;\n",
       "    }\n",
       "\n",
       "    .dataframe tbody tr th {\n",
       "        vertical-align: top;\n",
       "    }\n",
       "\n",
       "    .dataframe thead th {\n",
       "        text-align: right;\n",
       "    }\n",
       "</style>\n",
       "<table border=\"1\" class=\"dataframe\">\n",
       "  <thead>\n",
       "    <tr style=\"text-align: right;\">\n",
       "      <th></th>\n",
       "      <th>Flatness ratio</th>\n",
       "      <th>Symmetry</th>\n",
       "      <th>Crossflow</th>\n",
       "      <th>Average Flow Velocity</th>\n",
       "      <th>Average speed of sound</th>\n",
       "      <th>Average Gain</th>\n",
       "      <th>Class Attruibute</th>\n",
       "    </tr>\n",
       "  </thead>\n",
       "  <tbody>\n",
       "    <tr>\n",
       "      <th>0</th>\n",
       "      <td>0.841499</td>\n",
       "      <td>1.009367</td>\n",
       "      <td>0.993816</td>\n",
       "      <td>9.350917</td>\n",
       "      <td>1485.391229</td>\n",
       "      <td>35.064189</td>\n",
       "      <td>1</td>\n",
       "    </tr>\n",
       "    <tr>\n",
       "      <th>1</th>\n",
       "      <td>0.842250</td>\n",
       "      <td>1.006584</td>\n",
       "      <td>0.996605</td>\n",
       "      <td>8.323063</td>\n",
       "      <td>1485.919896</td>\n",
       "      <td>34.975281</td>\n",
       "      <td>1</td>\n",
       "    </tr>\n",
       "    <tr>\n",
       "      <th>2</th>\n",
       "      <td>0.840723</td>\n",
       "      <td>1.011647</td>\n",
       "      <td>0.998152</td>\n",
       "      <td>7.273721</td>\n",
       "      <td>1485.903146</td>\n",
       "      <td>34.920553</td>\n",
       "      <td>1</td>\n",
       "    </tr>\n",
       "    <tr>\n",
       "      <th>3</th>\n",
       "      <td>0.841119</td>\n",
       "      <td>1.017807</td>\n",
       "      <td>0.996812</td>\n",
       "      <td>6.214215</td>\n",
       "      <td>1484.790938</td>\n",
       "      <td>34.878133</td>\n",
       "      <td>1</td>\n",
       "    </tr>\n",
       "    <tr>\n",
       "      <th>4</th>\n",
       "      <td>0.840358</td>\n",
       "      <td>1.016534</td>\n",
       "      <td>0.996221</td>\n",
       "      <td>6.209143</td>\n",
       "      <td>1484.252875</td>\n",
       "      <td>34.882507</td>\n",
       "      <td>1</td>\n",
       "    </tr>\n",
       "  </tbody>\n",
       "</table>\n",
       "</div>"
      ],
      "text/plain": [
       "   Flatness ratio  Symmetry  Crossflow  Average Flow Velocity  \\\n",
       "0        0.841499  1.009367   0.993816               9.350917   \n",
       "1        0.842250  1.006584   0.996605               8.323063   \n",
       "2        0.840723  1.011647   0.998152               7.273721   \n",
       "3        0.841119  1.017807   0.996812               6.214215   \n",
       "4        0.840358  1.016534   0.996221               6.209143   \n",
       "\n",
       "   Average speed of sound  Average Gain  Class Attruibute  \n",
       "0             1485.391229     35.064189                 1  \n",
       "1             1485.919896     34.975281                 1  \n",
       "2             1485.903146     34.920553                 1  \n",
       "3             1484.790938     34.878133                 1  \n",
       "4             1484.252875     34.882507                 1  "
      ]
     },
     "execution_count": 2,
     "metadata": {},
     "output_type": "execute_result"
    }
   ],
   "source": [
    "dfA = pd.read_csv('4. Dataset Aggregation File/MeterA_aggregation.csv')\n",
    "dfA.drop(dfA.filter(regex=\"Unname\"),axis=1, inplace=True)\n",
    "dfB = pd.read_csv('4. Dataset Aggregation File/MeterB_aggregation.csv')\n",
    "dfB.drop(dfB.filter(regex=\"Unname\"),axis=1, inplace=True)\n",
    "dfC = pd.read_csv('4. Dataset Aggregation File/MeterC_aggregation.csv')\n",
    "dfC.drop(dfC.filter(regex=\"Unname\"),axis=1, inplace=True)\n",
    "dfA.head()"
   ]
  },
  {
   "cell_type": "markdown",
   "id": "431a975a",
   "metadata": {},
   "source": [
    "**Extra tree classifier to obtain feature importance ranking for Dataset A**"
   ]
  },
  {
   "cell_type": "code",
   "execution_count": 3,
   "id": "2da22e9f",
   "metadata": {
    "scrolled": true
   },
   "outputs": [
    {
     "name": "stdout",
     "output_type": "stream",
     "text": [
      "[0.4107774960413864, 0.08563764578060283, 0.1392263145774891, 0.07692811300232766, 0.20011604696591537, 0.08731438363227866]\n"
     ]
    },
    {
     "data": {
      "image/png": "[encoded data removed]",
      "text/plain": [
       "<Figure size 720x360 with 1 Axes>"
      ]
     },
     "metadata": {
      "needs_background": "light"
     },
     "output_type": "display_data"
    },
    {
     "name": "stdout",
     "output_type": "stream",
     "text": [
      "Flatness ratio\n",
      "Average speed of sound\n",
      "Crossflow\n",
      "Average Gain\n",
      "Symmetry\n",
      "Average Flow Velocity\n"
     ]
    }
   ],
   "source": [
    "# Feature Importance\n",
    "from sklearn import datasets\n",
    "from sklearn import metrics\n",
    "from sklearn.ensemble import ExtraTreesClassifier\n",
    "import matplotlib.pyplot as plt\n",
    "import operator\n",
    "\n",
    "dict_A = {}\n",
    "dfA = pd.read_csv('4. Dataset Aggregation File/MeterA_aggregation.csv')\n",
    "dfA.drop(dfA.filter(regex=\"Unname\"),axis=1, inplace=True)\n",
    "dfA_data = dfA.drop(['Class Attruibute'],axis=1)\n",
    "dfA_target = dfA['Class Attruibute']\n",
    "# fit an Extra Trees model to the data\n",
    "model = ExtraTreesClassifier()\n",
    "model.fit(dfA_data, dfA_target)\n",
    "# display the relative importance of each attribute\n",
    "print(list(model.feature_importances_))\n",
    "fig = plt.figure(figsize = (10, 5))\n",
    "# Plotting a Bar Graph to compare the models\n",
    "plt.bar(list(dfA_data.columns.values), list(model.feature_importances_))\n",
    "plt.xlabel('Feature Labels')\n",
    "plt.ylabel('Feature Importances')\n",
    "plt.title('Comparison of different Feature Importances')\n",
    "plt.show() \n",
    "\n",
    "for i in range(len(list(dfA_data.columns.values))):\n",
    "    dict_A[str(list(dfA_data.columns.values)[i])]=list(model.feature_importances_)[i]\n",
    "                                                                            \n",
    "for k in sorted(dict_A, key=dict_A.get, reverse=True):\n",
    "    print(k)"
   ]
  },
  {
   "cell_type": "markdown",
   "id": "6011a243",
   "metadata": {},
   "source": [
    "**Extra tree classifier to obtain feature importance ranking for Dataset B**"
   ]
  },
  {
   "cell_type": "code",
   "execution_count": 4,
   "id": "b6f09c31",
   "metadata": {
    "scrolled": true
   },
   "outputs": [
    {
     "name": "stdout",
     "output_type": "stream",
     "text": [
      "[0.035868786190229984, 0.07987248499317358, 0.05778064100121147, 0.08233881627925689, 0.034370311506621704, 0.1855125612798111, 0.09671568540620054, 0.08001029796654079, 0.05236452055719255, 0.06455170971327107, 0.17749914994678231, 0.053115035159708064]\n"
     ]
    },
    {
     "data": {
      "image/png": "[encoded data removed]",
      "text/plain": [
       "<Figure size 1440x360 with 1 Axes>"
      ]
     },
     "metadata": {
      "needs_background": "light"
     },
     "output_type": "display_data"
    },
    {
     "name": "stdout",
     "output_type": "stream",
     "text": [
      "Average speed of sound\n",
      "Average Gain\n",
      "Average Signal Strength\n",
      "Swirl Angle\n",
      "Meter performance\n",
      "Symmetry\n",
      "Average Signal Quality\n",
      "Crossflow\n",
      "Average Transit Time\n",
      "Average Turbulence\n",
      "Profile factor\n",
      "Average flow velocity\n"
     ]
    }
   ],
   "source": [
    "dict_B = {}\n",
    "dfB = pd.read_csv('4. Dataset Aggregation File/MeterB_aggregation.csv')\n",
    "dfB.drop(dfB.filter(regex=\"Unname\"),axis=1, inplace=True)\n",
    "dfB_data = dfB.drop(['Class Attruibute'],axis=1)\n",
    "dfB_target = dfB['Class Attruibute']\n",
    "model = ExtraTreesClassifier()\n",
    "model.fit(dfB_data, dfB_target)\n",
    "print(list(model.feature_importances_))\n",
    "fig = plt.figure(figsize = (20, 5))\n",
    "# Plotting a Bar Graph to compare the models\n",
    "plt.bar(list(dfB_data.columns.values), list(model.feature_importances_))\n",
    "plt.xlabel('Feature Labels')\n",
    "plt.ylabel('Feature Importances')\n",
    "plt.title('Comparison of different Feature Importances')\n",
    "plt.show()\n",
    "\n",
    "for i in range(len(list(dfB_data.columns.values))):\n",
    "    dict_B[str(list(dfB_data.columns.values)[i])]=list(model.feature_importances_)[i]\n",
    "                                                                            \n",
    "for k in sorted(dict_B, key=dict_B.get, reverse=True):\n",
    "    print(k)"
   ]
  },
  {
   "cell_type": "markdown",
   "id": "707cd4d3",
   "metadata": {},
   "source": [
    "**Extra tree classifier to obtain feature importance ranking for Dataset C**"
   ]
  },
  {
   "cell_type": "code",
   "execution_count": 5,
   "id": "e0d3d7e9",
   "metadata": {
    "scrolled": false
   },
   "outputs": [
    {
     "name": "stdout",
     "output_type": "stream",
     "text": [
      "[0.08095467530289888, 0.18578382165528787, 0.07463191554184191, 0.05912917292014329, 0.10973809347838932, 0.21752814793003697, 0.06731193747259587, 0.09907118467068224, 0.10585105102812375]\n"
     ]
    },
    {
     "data": {
      "image/png": "[encoded data removed]",
      "text/plain": [
       "<Figure size 1440x360 with 1 Axes>"
      ]
     },
     "metadata": {
      "needs_background": "light"
     },
     "output_type": "display_data"
    },
    {
     "name": "stdout",
     "output_type": "stream",
     "text": [
      "Average Gain\n",
      "Symmetry\n",
      "Average Transit Time\n",
      "Average Speed of Sound\n",
      "Average Signal Strength\n",
      "Profile factor\n",
      "Crossflow\n",
      "Average Signal Quality\n",
      "Average Flow Velocity\n"
     ]
    }
   ],
   "source": [
    "dict_C = {}\n",
    "dfC = pd.read_csv('4. Dataset Aggregation File/MeterC_aggregation.csv')\n",
    "dfC.drop(dfC.filter(regex=\"Unname\"),axis=1, inplace=True)\n",
    "dfC_data = dfC.drop(['Class Attruibute'],axis=1)\n",
    "dfC_target = dfC['Class Attruibute']\n",
    "model = ExtraTreesClassifier()\n",
    "model.fit(dfC_data, dfC_target)\n",
    "print(list(model.feature_importances_))\n",
    "fig = plt.figure(figsize = (20, 5))\n",
    "# Plotting a Bar Graph to compare the models\n",
    "plt.bar(list(dfC_data.columns.values), list(model.feature_importances_))\n",
    "plt.xlabel('Feature Labels')\n",
    "plt.ylabel('Feature Importances')\n",
    "plt.title('Comparison of different Feature Importances')\n",
    "plt.show()\n",
    "\n",
    "for i in range(len(list(dfC_data.columns.values))):\n",
    "    dict_C[str(list(dfC_data.columns.values)[i])]=list(model.feature_importances_)[i]\n",
    "                                                                            \n",
    "for k in sorted(dict_C, key=dict_C.get, reverse=True):\n",
    "    print(k)"
   ]
  }
 ],
 "metadata": {
  "kernelspec": {
   "display_name": "Python 3",
   "language": "python",
   "name": "python3"
  },
  "language_info": {
   "codemirror_mode": {
    "name": "ipython",
    "version": 3
   },
   "file_extension": ".py",
   "mimetype": "text/x-python",
   "name": "python",
   "nbconvert_exporter": "python",
   "pygments_lexer": "ipython3",
   "version": "3.8.8"
  }
 },
 "nbformat": 4,
 "nbformat_minor": 5
}
