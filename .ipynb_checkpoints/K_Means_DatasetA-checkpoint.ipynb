{
 "cells": [
  {
   "cell_type": "code",
   "execution_count": 1,
   "id": "fe54f437",
   "metadata": {
    "scrolled": true
   },
   "outputs": [
    {
     "name": "stdout",
     "output_type": "stream",
     "text": [
      "         PC1       PC2\n",
      "0   3.260141 -2.019053\n",
      "1   2.522897 -1.183668\n",
      "2   1.417243 -1.047656\n",
      "3   0.170745 -1.351670\n",
      "4  -0.003489 -1.337765\n",
      "..       ...       ...\n",
      "78 -0.939126  2.472891\n",
      "79 -0.924759  2.613474\n",
      "80 -1.578888  2.270228\n",
      "81 -1.168676  1.980522\n",
      "82 -0.029573  2.591732\n",
      "\n",
      "[83 rows x 2 columns]\n"
     ]
    },
    {
     "data": {
      "image/png": "[encoded data removed]",
      "text/plain": [
       "<Figure size 432x288 with 1 Axes>"
      ]
     },
     "metadata": {
      "needs_background": "light"
     },
     "output_type": "display_data"
    }
   ],
   "source": [
    "import pandas as pd\n",
    "from sklearn.cluster import KMeans\n",
    "from matplotlib import pyplot as plt\n",
    "from sklearn.preprocessing import MinMaxScaler\n",
    "\n",
    "dataA = pd.read_csv('6. Dataset PCA/MeterA_pca.csv')\n",
    "dataA_feature = dataA[['PC1','PC2']]\n",
    "print(dataA_feature)\n",
    "_ = dataA_feature.plot.scatter(x='PC1',y='PC2')"
   ]
  },
  {
   "cell_type": "code",
   "execution_count": 2,
   "id": "21b751e4",
   "metadata": {},
   "outputs": [],
   "source": [
    "# scaler = MinMaxScaler()\n",
    "# scaler.fit(dataA_feature.PC1)\n",
    "# dataA_feature.PC1 = scaler.transform(dataA_feature.PC1)\n",
    "\n",
    "# # scaler.fit(dataA_feature['PC2'])\n",
    "# # dataA_feature['PC2'] = scaler.transform(dataA_feature['PC2'])\n",
    "# dataA_feature"
   ]
  },
  {
   "cell_type": "code",
   "execution_count": 3,
   "id": "a8b731ff",
   "metadata": {},
   "outputs": [
    {
     "data": {
      "text/plain": [
       "KMeans(n_clusters=2)"
      ]
     },
     "execution_count": 3,
     "metadata": {},
     "output_type": "execute_result"
    }
   ],
   "source": [
    "km = KMeans(n_clusters=2)\n",
    "km"
   ]
  },
  {
   "cell_type": "code",
   "execution_count": 4,
   "id": "b38e9fd9",
   "metadata": {},
   "outputs": [
    {
     "name": "stderr",
     "output_type": "stream",
     "text": [
      "<ipython-input-4-9ea8584dc15b>:2: SettingWithCopyWarning: \n",
      "A value is trying to be set on a copy of a slice from a DataFrame.\n",
      "Try using .loc[row_indexer,col_indexer] = value instead\n",
      "\n",
      "See the caveats in the documentation: https://pandas.pydata.org/pandas-docs/stable/user_guide/indexing.html#returning-a-view-versus-a-copy\n",
      "  dataA_feature['Cluster'] = y_predict+1\n"
     ]
    },
    {
     "data": {
      "text/html": [
       "<div>\n",
       "<style scoped>\n",
       "    .dataframe tbody tr th:only-of-type {\n",
       "        vertical-align: middle;\n",
       "    }\n",
       "\n",
       "    .dataframe tbody tr th {\n",
       "        vertical-align: top;\n",
       "    }\n",
       "\n",
       "    .dataframe thead th {\n",
       "        text-align: right;\n",
       "    }\n",
       "</style>\n",
       "<table border=\"1\" class=\"dataframe\">\n",
       "  <thead>\n",
       "    <tr style=\"text-align: right;\">\n",
       "      <th></th>\n",
       "      <th>PC1</th>\n",
       "      <th>PC2</th>\n",
       "      <th>Cluster</th>\n",
       "    </tr>\n",
       "  </thead>\n",
       "  <tbody>\n",
       "    <tr>\n",
       "      <th>0</th>\n",
       "      <td>3.260141</td>\n",
       "      <td>-2.019053</td>\n",
       "      <td>1</td>\n",
       "    </tr>\n",
       "    <tr>\n",
       "      <th>1</th>\n",
       "      <td>2.522897</td>\n",
       "      <td>-1.183668</td>\n",
       "      <td>1</td>\n",
       "    </tr>\n",
       "    <tr>\n",
       "      <th>2</th>\n",
       "      <td>1.417243</td>\n",
       "      <td>-1.047656</td>\n",
       "      <td>1</td>\n",
       "    </tr>\n",
       "    <tr>\n",
       "      <th>3</th>\n",
       "      <td>0.170745</td>\n",
       "      <td>-1.351670</td>\n",
       "      <td>1</td>\n",
       "    </tr>\n",
       "    <tr>\n",
       "      <th>4</th>\n",
       "      <td>-0.003489</td>\n",
       "      <td>-1.337765</td>\n",
       "      <td>1</td>\n",
       "    </tr>\n",
       "    <tr>\n",
       "      <th>...</th>\n",
       "      <td>...</td>\n",
       "      <td>...</td>\n",
       "      <td>...</td>\n",
       "    </tr>\n",
       "    <tr>\n",
       "      <th>78</th>\n",
       "      <td>-0.939126</td>\n",
       "      <td>2.472891</td>\n",
       "      <td>2</td>\n",
       "    </tr>\n",
       "    <tr>\n",
       "      <th>79</th>\n",
       "      <td>-0.924759</td>\n",
       "      <td>2.613474</td>\n",
       "      <td>2</td>\n",
       "    </tr>\n",
       "    <tr>\n",
       "      <th>80</th>\n",
       "      <td>-1.578888</td>\n",
       "      <td>2.270228</td>\n",
       "      <td>2</td>\n",
       "    </tr>\n",
       "    <tr>\n",
       "      <th>81</th>\n",
       "      <td>-1.168676</td>\n",
       "      <td>1.980522</td>\n",
       "      <td>2</td>\n",
       "    </tr>\n",
       "    <tr>\n",
       "      <th>82</th>\n",
       "      <td>-0.029573</td>\n",
       "      <td>2.591732</td>\n",
       "      <td>2</td>\n",
       "    </tr>\n",
       "  </tbody>\n",
       "</table>\n",
       "<p>83 rows × 3 columns</p>\n",
       "</div>"
      ],
      "text/plain": [
       "         PC1       PC2  Cluster\n",
       "0   3.260141 -2.019053        1\n",
       "1   2.522897 -1.183668        1\n",
       "2   1.417243 -1.047656        1\n",
       "3   0.170745 -1.351670        1\n",
       "4  -0.003489 -1.337765        1\n",
       "..       ...       ...      ...\n",
       "78 -0.939126  2.472891        2\n",
       "79 -0.924759  2.613474        2\n",
       "80 -1.578888  2.270228        2\n",
       "81 -1.168676  1.980522        2\n",
       "82 -0.029573  2.591732        2\n",
       "\n",
       "[83 rows x 3 columns]"
      ]
     },
     "execution_count": 4,
     "metadata": {},
     "output_type": "execute_result"
    }
   ],
   "source": [
    "y_predict = km.fit_predict(dataA_feature[['PC1','PC2']])\n",
    "dataA_feature['Cluster'] = y_predict+1\n",
    "dataA_feature"
   ]
  },
  {
   "cell_type": "code",
   "execution_count": 5,
   "id": "224eef3f",
   "metadata": {
    "scrolled": true
   },
   "outputs": [
    {
     "data": {
      "text/plain": [
       "array([[ 1.23280862, -0.18781791],\n",
       "       [-1.32526927,  0.20190426]])"
      ]
     },
     "execution_count": 5,
     "metadata": {},
     "output_type": "execute_result"
    }
   ],
   "source": [
    "km.cluster_centers_"
   ]
  },
  {
   "cell_type": "code",
   "execution_count": 6,
   "id": "b6676ccc",
   "metadata": {},
   "outputs": [
    {
     "name": "stderr",
     "output_type": "stream",
     "text": [
      "No handles with labels found to put in legend.\n"
     ]
    },
    {
     "data": {
      "text/plain": [
       "<matplotlib.legend.Legend at 0x21edd928be0>"
      ]
     },
     "execution_count": 6,
     "metadata": {},
     "output_type": "execute_result"
    },
    {
     "data": {
      "image/png": "[encoded data removed]",
      "text/plain": [
       "<Figure size 432x288 with 1 Axes>"
      ]
     },
     "metadata": {
      "needs_background": "light"
     },
     "output_type": "display_data"
    }
   ],
   "source": [
    "df1 = dataA_feature[dataA_feature.Cluster==1]\n",
    "df2 = dataA_feature[dataA_feature.Cluster==2]\n",
    "plt.scatter(df1['PC1'],df1['PC2'],color='green')\n",
    "plt.scatter(df2['PC1'],df2['PC2'],color='red')\n",
    "plt.legend()"
   ]
  },
  {
   "cell_type": "code",
   "execution_count": 7,
   "id": "796f62fc",
   "metadata": {},
   "outputs": [
    {
     "name": "stderr",
     "output_type": "stream",
     "text": [
      "C:\\Users\\joshh\\anaconda3\\lib\\site-packages\\sklearn\\cluster\\_kmeans.py:881: UserWarning: KMeans is known to have a memory leak on Windows with MKL, when there are less chunks than available threads. You can avoid it by setting the environment variable OMP_NUM_THREADS=1.\n",
      "  warnings.warn(\n"
     ]
    }
   ],
   "source": [
    "k_rng = range(1,10)\n",
    "sse=[]\n",
    "for k in k_rng:\n",
    "    km = KMeans(n_clusters=k)\n",
    "    km.fit(dataA_feature[['PC1','PC2']])\n",
    "    sse.append(km.inertia_)"
   ]
  },
  {
   "cell_type": "code",
   "execution_count": 8,
   "id": "d0ed07af",
   "metadata": {
    "scrolled": true
   },
   "outputs": [
    {
     "data": {
      "text/plain": [
       "[322.33551422099134,\n",
       " 183.58237044017184,\n",
       " 101.90942064257027,\n",
       " 65.22929461327695,\n",
       " 48.28521965763891,\n",
       " 38.33208490744698,\n",
       " 31.562318238245226,\n",
       " 26.383363241883774,\n",
       " 21.40538014490405,\n",
       " 17.15176671944228,\n",
       " 15.035842347317896,\n",
       " 12.805763408949382,\n",
       " 10.735027521040069,\n",
       " 9.454745412740824,\n",
       " 7.919909658493542,\n",
       " 7.286861017745385,\n",
       " 6.678127443990669,\n",
       " 6.122212708997774,\n",
       " 5.551049420407248]"
      ]
     },
     "execution_count": 8,
     "metadata": {},
     "output_type": "execute_result"
    }
   ],
   "source": [
    "sse"
   ]
  },
  {
   "cell_type": "code",
   "execution_count": 9,
   "id": "169c6bf6",
   "metadata": {},
   "outputs": [
    {
     "data": {
      "text/plain": [
       "[<matplotlib.lines.Line2D at 0x21edd9e46d0>]"
      ]
     },
     "execution_count": 9,
     "metadata": {},
     "output_type": "execute_result"
    },
    {
     "data": {
      "image/png": "[encoded data removed]",
      "text/plain": [
       "<Figure size 432x288 with 1 Axes>"
      ]
     },
     "metadata": {
      "needs_background": "light"
     },
     "output_type": "display_data"
    }
   ],
   "source": [
    "plt.xlabel('K')\n",
    "plt.ylabel('Sum of squared error')\n",
    "plt.plot(k_rng,sse)"
   ]
  }
 ],
 "metadata": {
  "kernelspec": {
   "display_name": "Python 3",
   "language": "python",
   "name": "python3"
  },
  "language_info": {
   "codemirror_mode": {
    "name": "ipython",
    "version": 3
   },
   "file_extension": ".py",
   "mimetype": "text/x-python",
   "name": "python",
   "nbconvert_exporter": "python",
   "pygments_lexer": "ipython3",
   "version": "3.8.8"
  }
 },
 "nbformat": 4,
 "nbformat_minor": 5
}
