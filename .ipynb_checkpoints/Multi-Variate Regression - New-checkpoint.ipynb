{
 "cells": [
  {
   "cell_type": "code",
   "execution_count": 24,
   "id": "5c0de6a7",
   "metadata": {},
   "outputs": [],
   "source": [
    "import pandas as pd\n",
    "import matplotlib.pyplot as plt\n",
    "import numpy as np\n",
    "from sklearn.model_selection import train_test_split\n",
    "from sklearn.linear_model import LogisticRegression\n",
    "from sklearn.datasets import make_classification"
   ]
  },
  {
   "cell_type": "code",
   "execution_count": 25,
   "id": "8abd65e3",
   "metadata": {},
   "outputs": [],
   "source": [
    "dataframeA = pd.read_csv('5. Dataset Feature Dropping/MeterA_featureSelection.csv')\n",
    "dataframeA = dataframeA.drop('Unnamed: 0', axis=1)\n",
    "dataframeA_feature = dataframeA.drop('Class Attruibute', axis=1)\n",
    "dataframeA_label = dataframeA['Class Attruibute']\n",
    "\n",
    "dataframeB = pd.read_csv('5. Dataset Feature Dropping/MeterB_featureSelection.csv')\n",
    "dataframeB = dataframeB.drop('Unnamed: 0', axis=1)\n",
    "dataframeB_feature = dataframeB.drop('Class Attruibute', axis=1)\n",
    "dataframeB_label = dataframeB['Class Attruibute']\n",
    "\n",
    "dataframeC = pd.read_csv('5. Dataset Feature Dropping/MeterC_featureSelection.csv')\n",
    "dataframeC = dataframeC.drop('Unnamed: 0', axis=1)\n",
    "dataframeC_feature = dataframeC.drop('Class Attruibute', axis=1)\n",
    "dataframeC_label = dataframeC['Class Attruibute']"
   ]
  },
  {
   "cell_type": "code",
   "execution_count": 35,
   "id": "679dcf71",
   "metadata": {},
   "outputs": [],
   "source": [
    "#split dataset in features and target variable\n",
    "X = dataframeC_feature # Features\n",
    "y = dataframeC_label # Target variable"
   ]
  },
  {
   "cell_type": "code",
   "execution_count": 42,
   "id": "d2e78a54",
   "metadata": {},
   "outputs": [],
   "source": [
    "# split X and y into training and testing sets\n",
    "X_train,X_test,y_train,y_test=train_test_split(X,y,test_size=0.2,random_state=0)"
   ]
  },
  {
   "cell_type": "code",
   "execution_count": 43,
   "id": "9ba167da",
   "metadata": {},
   "outputs": [
    {
     "name": "stdout",
     "output_type": "stream",
     "text": [
      "Predicted Class: 1\n",
      "Predicted Class: 1\n",
      "Predicted Class: 2\n",
      "Predicted Class: 3\n",
      "Predicted Class: 1\n",
      "Predicted Class: 1\n",
      "Predicted Class: 3\n",
      "Predicted Class: 3\n",
      "Predicted Class: 1\n",
      "Predicted Class: 1\n",
      "Predicted Class: 1\n",
      "Predicted Class: 1\n",
      "Predicted Class: 3\n",
      "Predicted Class: 3\n",
      "Predicted Class: 3\n",
      "Predicted Class: 3\n",
      "Predicted Class: 3\n",
      "Predicted Class: 2\n",
      "Predicted Class: 1\n",
      "Predicted Class: 1\n",
      "Predicted Class: 3\n",
      "Predicted Class: 2\n",
      "Predicted Class: 3\n",
      "Predicted Class: 3\n",
      "Predicted Class: 1\n",
      "Predicted Class: 2\n",
      "Predicted Class: 1\n",
      "Predicted Class: 1\n",
      "Predicted Class: 1\n",
      "Predicted Class: 1\n",
      "Predicted Class: 3\n"
     ]
    }
   ],
   "source": [
    "# define the multinomial logistic regression model\n",
    "model = LogisticRegression(multi_class='multinomial', solver='lbfgs', max_iter=500)\n",
    "# fit the model on the whole dataset\n",
    "model.fit(X_train, y_train)\n",
    "\n",
    "# predict the class label\n",
    "y_pred=model.predict(X_test)\n",
    "# summarize the predicted class\n",
    "for i in y_pred:\n",
    "    print('Predicted Class: %d' % y_pred[i])"
   ]
  },
  {
   "cell_type": "code",
   "execution_count": null,
   "id": "5e12596a",
   "metadata": {},
   "outputs": [],
   "source": []
  }
 ],
 "metadata": {
  "kernelspec": {
   "display_name": "Python 3",
   "language": "python",
   "name": "python3"
  },
  "language_info": {
   "codemirror_mode": {
    "name": "ipython",
    "version": 3
   },
   "file_extension": ".py",
   "mimetype": "text/x-python",
   "name": "python",
   "nbconvert_exporter": "python",
   "pygments_lexer": "ipython3",
   "version": "3.8.8"
  }
 },
 "nbformat": 4,
 "nbformat_minor": 5
}
