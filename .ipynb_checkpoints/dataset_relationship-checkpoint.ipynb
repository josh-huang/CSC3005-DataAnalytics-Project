{
 "cells": [
  {
   "cell_type": "code",
   "execution_count": null,
   "id": "e413e6fd",
   "metadata": {},
   "outputs": [],
   "source": [
    "import pandas as pd # load dataset \n",
    "import seaborn as sns # generate heat map\n",
    "import matplotlib.pyplot as plt\n",
    "tableA = pd.read_csv('4. Dataset Aggregation File/MeterA_aggregation.csv', header='infer') # read MeterA csv file\n",
    "tableA.drop(tableA.filter(regex=\"Unname\"),axis=1, inplace=True)\n",
    "tableB = pd.read_csv('4. Dataset Aggregation File/MeterB_aggregation.csv', header='infer') # read MeterB csv file\n",
    "tableB.drop(tableB.filter(regex=\"Unname\"),axis=1, inplace=True)\n",
    "tableC = pd.read_csv('4. Dataset Aggregation File/MeterC_aggregation.csv', header='infer') # read MeterC csv file\n",
    "tableC.drop(tableC.filter(regex=\"Unname\"),axis=1, inplace=True)"
   ]
  },
  {
   "cell_type": "code",
   "execution_count": null,
   "id": "9e573f04",
   "metadata": {},
   "outputs": [],
   "source": [
    "corrmatA = tableA.corr() # get correlation\n",
    "plt.figure(figsize=(10,6)) \n",
    "sns.heatmap(corrmatA, annot=True)"
   ]
  },
  {
   "cell_type": "code",
   "execution_count": null,
   "id": "e01b4197",
   "metadata": {},
   "outputs": [],
   "source": [
    "corrmatB = tableB.corr() # get correlation\n",
    "plt.figure(figsize=(10,6)) \n",
    "sns.heatmap(corrmatB, annot=True)"
   ]
  },
  {
   "cell_type": "code",
   "execution_count": null,
   "id": "06fd4726",
   "metadata": {},
   "outputs": [],
   "source": [
    "corrmatC = tableC.corr() # get correlation\n",
    "plt.figure(figsize=(10,6)) \n",
    "sns.heatmap(corrmatC, annot=True)"
   ]
  }
 ],
 "metadata": {
  "kernelspec": {
   "display_name": "Python 3",
   "language": "python",
   "name": "python3"
  },
  "language_info": {
   "codemirror_mode": {
    "name": "ipython",
    "version": 3
   },
   "file_extension": ".py",
   "mimetype": "text/x-python",
   "name": "python",
   "nbconvert_exporter": "python",
   "pygments_lexer": "ipython3",
   "version": "3.8.8"
  }
 },
 "nbformat": 4,
 "nbformat_minor": 5
}
