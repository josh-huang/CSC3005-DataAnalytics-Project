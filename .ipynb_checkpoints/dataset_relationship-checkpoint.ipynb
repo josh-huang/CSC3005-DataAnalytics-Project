{
 "cells": [
  {
   "cell_type": "markdown",
   "id": "2f9bc8bc",
   "metadata": {},
   "source": [
    "**Load csv file**"
   ]
  },
  {
   "cell_type": "code",
   "execution_count": 1,
   "id": "c5bff864",
   "metadata": {},
   "outputs": [],
   "source": [
    "import pandas as pd # load dataset \n",
    "import seaborn as sns # generate heat map\n",
    "import numpy as np\n",
    "import matplotlib.pyplot as plt\n",
    "tableA = pd.read_csv('5. Dataset PCA/MeterA_pca_all.csv', header='infer') # read MeterA csv file\n",
    "tableA = tableA.drop('Class Attruibute', axis=1)\n",
    "tableB = pd.read_csv('5. Dataset PCA/MeterB_pca_all.csv', header='infer') # read MeterB csv file\n",
    "tableB = tableB.drop('Class Attruibute', axis=1)\n",
    "tableC = pd.read_csv('5. Dataset PCA/MeterC_pca_all.csv', header='infer') # read MeterC csv file\n",
    "tableC = tableC.drop('Class Attruibute', axis=1)"
   ]
  },
  {
   "cell_type": "markdown",
   "id": "beff0b48",
   "metadata": {},
   "source": [
    "**Extract common features from each dataset**"
   ]
  },
  {
   "cell_type": "code",
   "execution_count": 6,
   "id": "82b0486d",
   "metadata": {
    "scrolled": true
   },
   "outputs": [
    {
     "name": "stdout",
     "output_type": "stream",
     "text": [
      "correlation of data of tableA and tableB is 0.39437830867814355\n",
      "correlation of data of tableB and tableC is -0.059732529778166676\n",
      "correlation of data of tableA and tableC is -0.002959873262815454\n"
     ]
    }
   ],
   "source": [
    "# vertically add the two principal component to make a single vector\n",
    "df_pca_tableA = pd.DataFrame(tableA_extract, columns=['PC1','PC2'])\n",
    "df_pca_tableB = pd.DataFrame(tableB_extract, columns=['PC1','PC2'])\n",
    "df_pca_tableC = pd.DataFrame(tableC_extract, columns=['PC1','PC2'])\n",
    "\n",
    "tableA_pca_vertically = df_pca_tableA['PC1'].append(df_pca_tableA['PC2']).reset_index(drop=True)\n",
    "tableB_pca_vertically = df_pca_tableB['PC1'].append(df_pca_tableB['PC2']).reset_index(drop=True)\n",
    "tableC_pca_vertically = df_pca_tableC['PC1'].append(df_pca_tableC['PC2']).reset_index(drop=True)\n",
    "\n",
    "# print out the correlation between three datasets\n",
    "print('correlation of data of tableA and tableB is {}'.format(np.corrcoef(tableA_pca_vertically,tableB_pca_vertically)[0,1]))\n",
    "print('correlation of data of tableB and tableC is {}'.format(np.corrcoef(tableB_pca_vertically,tableC_pca_vertically)[0,1]))\n",
    "print('correlation of data of tableA and tableC is {}'.format(np.corrcoef(tableA_pca_vertically,tableC_pca_vertically)[0,1]))"
   ]
  },
  {
   "cell_type": "markdown",
   "id": "57823471",
   "metadata": {},
   "source": [
    "**Since the correlation between each datasets are all below 0 which indicates a negative relation**"
   ]
  }
 ],
 "metadata": {
  "kernelspec": {
   "display_name": "Python 3",
   "language": "python",
   "name": "python3"
  },
  "language_info": {
   "codemirror_mode": {
    "name": "ipython",
    "version": 3
   },
   "file_extension": ".py",
   "mimetype": "text/x-python",
   "name": "python",
   "nbconvert_exporter": "python",
   "pygments_lexer": "ipython3",
   "version": "3.8.8"
  }
 },
 "nbformat": 4,
 "nbformat_minor": 5
}
