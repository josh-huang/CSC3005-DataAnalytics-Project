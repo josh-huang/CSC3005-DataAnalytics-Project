{
 "cells": [
  {
   "cell_type": "code",
   "execution_count": 1,
   "id": "109c5096",
   "metadata": {},
   "outputs": [],
   "source": [
    "import pandas as pd\n",
    "import numpy as np\n",
    "\n",
    "import seaborn as sns\n",
    "import matplotlib.pyplot as plt\n",
    "\n",
    "#https://towardsdatascience.com/how-do-you-apply-pca-to-logistic-regression-to-remove-multicollinearity-10b7f8e89f9b"
   ]
  },
  {
   "cell_type": "code",
   "execution_count": 2,
   "id": "19c74950",
   "metadata": {},
   "outputs": [
    {
     "name": "stdout",
     "output_type": "stream",
     "text": [
      "Train accuracy for feature selection A : 1.0\n",
      "Test accuracy for feature selection A : 1.0\n",
      "\n",
      "Test confusion_matrix\n"
     ]
    },
    {
     "data": {
      "text/plain": [
       "Text(0.5, 15.0, 'Predicted')"
      ]
     },
     "execution_count": 2,
     "metadata": {},
     "output_type": "execute_result"
    },
    {
     "data": {
      "image/png": "[encoded data removed]",
      "text/plain": [
       "<Figure size 432x288 with 2 Axes>"
      ]
     },
     "metadata": {
      "needs_background": "light"
     },
     "output_type": "display_data"
    }
   ],
   "source": [
    "#load original data set to build a logistic regression model on Meter A\n",
    "\n",
    "#load in the data\n",
    "\n",
    "dataframeA = pd.read_csv('../5. Dataset Feature Dropping/MeterA_featureSelection.csv')\n",
    "#display(dataframeA.head())\n",
    "dataframeA.head()\n",
    "\n",
    "dataframeA = dataframeA.drop('Unnamed: 0', axis=1)\n",
    "\n",
    "# Define Feature matrix ad Target vector\n",
    "X = dataframeA\n",
    "y = dataframeA[\"Class Attruibute\"]\n",
    "\n",
    "# Make train and test sets\n",
    "from sklearn.model_selection import train_test_split\n",
    "X_train, X_test, y_train, y_test = train_test_split(X, y, test_size=0.30, \n",
    "                                                    shuffle=True, random_state=2)\n",
    "\n",
    "# Initialize the logistic regression model\n",
    "from sklearn.linear_model import LogisticRegression\n",
    "clf = LogisticRegression(max_iter=2500)\n",
    "\n",
    "# Train the model\n",
    "clf.fit(X_train, y_train)\n",
    "\n",
    "# Make predictions\n",
    "y_pred = clf.predict(X_test) # Predictions\n",
    "y_true = y_test # True values\n",
    "\n",
    "# Measure accuracy\n",
    "from sklearn.metrics import accuracy_score\n",
    "import numpy as np\n",
    "print(\"Train accuracy for feature selection A :\", np.round(accuracy_score(y_train, \n",
    "                                                 clf.predict(X_train)), 2))\n",
    "print(\"Test accuracy for feature selection A :\", np.round(accuracy_score(y_true, y_pred), 2))\n",
    "\n",
    "# Make the confusion matrix\n",
    "from sklearn.metrics import confusion_matrix\n",
    "cf_matrix = confusion_matrix(y_true, y_pred)\n",
    "print(\"\\nTest confusion_matrix\")\n",
    "sns.heatmap(cf_matrix, annot=True, cmap='Blues')\n",
    "plt.xlabel('Predicted', fontsize=12)"
   ]
  },
  {
   "cell_type": "markdown",
   "id": "707f7559",
   "metadata": {},
   "source": [
    "# Building a logistic regression model on the transformed data"
   ]
  },
  {
   "cell_type": "code",
   "execution_count": 3,
   "id": "98f13ea4",
   "metadata": {},
   "outputs": [
    {
     "name": "stdout",
     "output_type": "stream",
     "text": [
      "Train accuracy for PCA A: 0.76\n",
      "Test accuracy for PCA A: 0.68\n",
      "\n",
      "Test confusion_matrix\n"
     ]
    },
    {
     "data": {
      "text/plain": [
       "Text(33.0, 0.5, 'True')"
      ]
     },
     "execution_count": 3,
     "metadata": {},
     "output_type": "execute_result"
    },
    {
     "data": {
      "image/png": "[encoded data removed]",
      "text/plain": [
       "<Figure size 432x288 with 2 Axes>"
      ]
     },
     "metadata": {
      "needs_background": "light"
     },
     "output_type": "display_data"
    }
   ],
   "source": [
    "# Make train and test sets\n",
    "from sklearn.model_selection import train_test_split\n",
    "\n",
    "dataframeA = pd.read_csv('../6. Dataset PCA File/MeterA_pca.csv')\n",
    "#display(dataframeA.head())\n",
    "dataframeA.head()\n",
    "\n",
    "dataframeA = dataframeA.drop('Unnamed: 0', axis=1)\n",
    "#extract features and target variables\n",
    "y = dataframeA[\"Class Attruibute\"]\n",
    "X_pca = dataframeA[['PC1','PC2','PC3','PC4']] #dataframeA.drop(columns=\"Class Attruibute\")\n",
    "\n",
    "X_train_pca, X_test_pca, y_train, y_test = train_test_split(X_pca, y, test_size=0.30, \n",
    "                                                            shuffle=True, random_state=2)\n",
    "\n",
    "# Initialize the logistic regression model\n",
    "from sklearn.linear_model import LogisticRegression\n",
    "clf = LogisticRegression(max_iter=2500)\n",
    "\n",
    "# Train the model\n",
    "clf.fit(X_train_pca, y_train)\n",
    "\n",
    "# Make predictions\n",
    "y_pred = clf.predict(X_test_pca) # Predictions\n",
    "y_true = y_test # True values\n",
    "\n",
    "# Measure accuracy\n",
    "from sklearn.metrics import accuracy_score\n",
    "import numpy as np\n",
    "print(\"Train accuracy for PCA A:\", np.round(accuracy_score(y_train, \n",
    "                                                 clf.predict(X_train_pca)), 2))\n",
    "print(\"Test accuracy for PCA A:\", np.round(accuracy_score(y_true, y_pred), 2))\n",
    "\n",
    "# Make the confusion matrix\n",
    "from sklearn.metrics import confusion_matrix\n",
    "cf_matrix = confusion_matrix(y_true, y_pred)\n",
    "print(\"\\nTest confusion_matrix\")\n",
    "sns.heatmap(cf_matrix, annot=True, cmap='Blues')\n",
    "plt.xlabel('Predicted', fontsize=12)\n",
    "plt.ylabel('True', fontsize=12)"
   ]
  },
  {
   "cell_type": "markdown",
   "id": "f43bf7c4",
   "metadata": {},
   "source": [
    "# For Meter B"
   ]
  },
  {
   "cell_type": "code",
   "execution_count": 4,
   "id": "1b326b36",
   "metadata": {},
   "outputs": [
    {
     "name": "stdout",
     "output_type": "stream",
     "text": [
      "Train accuracy for feature selection: 1.0\n",
      "Test accuracy for feature selection: 1.0\n",
      "\n",
      "Test confusion_matrix\n"
     ]
    },
    {
     "data": {
      "text/plain": [
       "Text(0.5, 15.0, 'Predicted')"
      ]
     },
     "execution_count": 4,
     "metadata": {},
     "output_type": "execute_result"
    },
    {
     "data": {
      "image/png": "[encoded data removed]",
      "text/plain": [
       "<Figure size 432x288 with 2 Axes>"
      ]
     },
     "metadata": {
      "needs_background": "light"
     },
     "output_type": "display_data"
    }
   ],
   "source": [
    "#load original data set to build a logistic regression model on Meter A\n",
    "\n",
    "#load in the data\n",
    "\n",
    "dataframeB = pd.read_csv('../5. Dataset Feature Dropping/MeterB_featureSelection.csv')\n",
    "#display(dataframeA.head())\n",
    "dataframeB.head()\n",
    "\n",
    "dataframeB = dataframeB.drop('Unnamed: 0', axis=1)\n",
    "\n",
    "# Define Feature matrix ad Target vector\n",
    "X_B = dataframeB\n",
    "y_B = dataframeB[\"Class Attruibute\"]\n",
    "\n",
    "# Make train and test sets\n",
    "X_B_train, X_B_test, y_B_train, y_B_test = train_test_split(X_B, y_B, test_size=0.30, \n",
    "                                                    shuffle=True, random_state=2)\n",
    "\n",
    "# Initialize the logistic regression model\n",
    "clf_B = LogisticRegression(max_iter=2500)\n",
    "\n",
    "# Train the model\n",
    "clf_B.fit(X_B_train, y_B_train)\n",
    "\n",
    "# Make predictions\n",
    "y_pred_B = clf_B.predict(X_B_test) # Predictions\n",
    "y_true_B = y_B_test # True values\n",
    "\n",
    "# Measure accuracy\n",
    "print(\"Train accuracy for feature selection:\", np.round(accuracy_score(y_B_train, \n",
    "                                                 clf_B.predict(X_B_train)), 2))\n",
    "print(\"Test accuracy for feature selection:\", np.round(accuracy_score(y_true_B, y_pred_B), 2))\n",
    "\n",
    "# Make the confusion matrix\n",
    "from sklearn.metrics import confusion_matrix\n",
    "cf_matrix_B = confusion_matrix(y_true_B, y_pred_B)\n",
    "print(\"\\nTest confusion_matrix\")\n",
    "sns.heatmap(cf_matrix_B, annot=True, cmap='Blues')\n",
    "plt.xlabel('Predicted', fontsize=12)"
   ]
  },
  {
   "cell_type": "markdown",
   "id": "8d311808",
   "metadata": {},
   "source": [
    "Building a logistic regression model on the transformed data"
   ]
  },
  {
   "cell_type": "code",
   "execution_count": 5,
   "id": "ff13c7c1",
   "metadata": {},
   "outputs": [
    {
     "name": "stdout",
     "output_type": "stream",
     "text": [
      "Train accuracy for PCA: 1.0\n",
      "Test accuracy for PCA: 1.0\n",
      "\n",
      "Test confusion_matrix For B\n"
     ]
    },
    {
     "data": {
      "text/plain": [
       "Text(33.0, 0.5, 'True For B')"
      ]
     },
     "execution_count": 5,
     "metadata": {},
     "output_type": "execute_result"
    },
    {
     "data": {
      "image/png": "[encoded data removed]",
      "text/plain": [
       "<Figure size 432x288 with 2 Axes>"
      ]
     },
     "metadata": {
      "needs_background": "light"
     },
     "output_type": "display_data"
    }
   ],
   "source": [
    "# Make train and test sets\n",
    "from sklearn.model_selection import train_test_split\n",
    "\n",
    "dataframeB = pd.read_csv('../6. Dataset PCA File/MeterB_pca.csv')\n",
    "#display(dataframeA.head())\n",
    "dataframeB.head()\n",
    "\n",
    "dataframeB = dataframeB.drop('Unnamed: 0', axis=1)\n",
    "#extract features and target variables\n",
    "y_B = dataframeB[\"Class Attruibute\"]\n",
    "X_pca_B = dataframeB[['PC1','PC2','PC3','PC4']] #dataframeA.drop(columns=\"Class Attruibute\")\n",
    "\n",
    "X_train_pca_B, X_test_pca_B, y_train_B, y_test_B = train_test_split(X_pca_B, y_B, test_size=0.30, \n",
    "                                                            shuffle=True, random_state=2)\n",
    "\n",
    "# Initialize the logistic regression model\n",
    "clf_B = LogisticRegression(max_iter=2500)\n",
    "\n",
    "# Train the model\n",
    "clf_B.fit(X_train_pca_B, y_train_B)\n",
    "\n",
    "# Make predictions\n",
    "y_pred_B = clf_B.predict(X_test_pca_B) # Predictions\n",
    "y_true_B = y_test_B # True values\n",
    "\n",
    "# Measure accuracy\n",
    "from sklearn.metrics import accuracy_score\n",
    "import numpy as np\n",
    "print(\"Train accuracy for PCA:\", np.round(accuracy_score(y_train_B, \n",
    "                                                 clf_B.predict(X_train_pca_B)), 2))\n",
    "print(\"Test accuracy for PCA:\", np.round(accuracy_score(y_true_B, y_pred_B), 2))\n",
    "\n",
    "# Make the confusion matrix\n",
    "from sklearn.metrics import confusion_matrix\n",
    "cf_matrix_B = confusion_matrix(y_true_B, y_pred_B)\n",
    "print(\"\\nTest confusion_matrix For B\")\n",
    "sns.heatmap(cf_matrix_B, annot=True, cmap='Blues')\n",
    "plt.xlabel('Predicted For B', fontsize=12)\n",
    "plt.ylabel('True For B', fontsize=12)"
   ]
  },
  {
   "cell_type": "markdown",
   "id": "99344edc",
   "metadata": {},
   "source": [
    "# For Meter C"
   ]
  },
  {
   "cell_type": "code",
   "execution_count": 6,
   "id": "c0a75d46",
   "metadata": {},
   "outputs": [
    {
     "name": "stdout",
     "output_type": "stream",
     "text": [
      "Train accuracy Using feature selection dataset: 1.0\n",
      "Test accuracy Using feature selection dataset: 1.0\n",
      "\n",
      "Test confusion_matrix For C\n"
     ]
    },
    {
     "data": {
      "text/plain": [
       "Text(0.5, 15.0, 'Predicted For C')"
      ]
     },
     "execution_count": 6,
     "metadata": {},
     "output_type": "execute_result"
    },
    {
     "data": {
      "image/png": "[encoded data removed]",
      "text/plain": [
       "<Figure size 432x288 with 2 Axes>"
      ]
     },
     "metadata": {
      "needs_background": "light"
     },
     "output_type": "display_data"
    }
   ],
   "source": [
    "#load original data set to build a logistic regression model on Meter A\n",
    "\n",
    "#load in the data\n",
    "\n",
    "dataframeC = pd.read_csv('../5. Dataset Feature Dropping/MeterC_featureSelection.csv')\n",
    "#display(dataframeA.head())\n",
    "dataframeC.head()\n",
    "\n",
    "dataframeC = dataframeC.drop('Unnamed: 0', axis=1)\n",
    "\n",
    "# Define Feature matrix ad Target vector\n",
    "X_C = dataframeC\n",
    "y_C = dataframeC[\"Class Attruibute\"]\n",
    "\n",
    "# Make train and test sets\n",
    "X_train_C, X_test_C, y_train_C, y_test_C = train_test_split(X_C, y_C, test_size=0.30, \n",
    "                                                    shuffle=True, random_state=2)\n",
    "\n",
    "clf_C = LogisticRegression(max_iter=2500)\n",
    "\n",
    "# Train the model\n",
    "clf_C.fit(X_train_C, y_train_C)\n",
    "\n",
    "# Make predictions\n",
    "y_pred_C = clf_C.predict(X_test_C) # Predictions\n",
    "y_true_C = y_test_C # True values\n",
    "\n",
    "# Measure accuracy\n",
    "print(\"Train accuracy Using feature selection dataset:\", np.round(accuracy_score(y_train_C, \n",
    "                                                 clf_C.predict(X_train_C)), 2))\n",
    "print(\"Test accuracy Using feature selection dataset:\", np.round(accuracy_score(y_true_C, y_pred_C), 2))\n",
    "\n",
    "# Make the confusion matrix\n",
    "from sklearn.metrics import confusion_matrix\n",
    "cf_matrix_C = confusion_matrix(y_true_C, y_pred_C)\n",
    "print(\"\\nTest confusion_matrix For C\")\n",
    "sns.heatmap(cf_matrix_C, annot=True, cmap='Blues')\n",
    "plt.xlabel('Predicted For C', fontsize=12)"
   ]
  },
  {
   "cell_type": "code",
   "execution_count": 7,
   "id": "155314f2",
   "metadata": {},
   "outputs": [
    {
     "name": "stdout",
     "output_type": "stream",
     "text": [
      "Train accuracy Using PCA: 0.83\n",
      "Test accuracy Using PCA: 0.66\n",
      "\n",
      "Test confusion_matrix\n"
     ]
    },
    {
     "data": {
      "text/plain": [
       "Text(33.0, 0.5, 'True')"
      ]
     },
     "execution_count": 7,
     "metadata": {},
     "output_type": "execute_result"
    },
    {
     "data": {
      "image/png": "[encoded data removed]",
      "text/plain": [
       "<Figure size 432x288 with 2 Axes>"
      ]
     },
     "metadata": {
      "needs_background": "light"
     },
     "output_type": "display_data"
    }
   ],
   "source": [
    "# Make train and test sets\n",
    "from sklearn.model_selection import train_test_split\n",
    "\n",
    "dataframeC = pd.read_csv('../6. Dataset PCA File/MeterC_pca.csv')\n",
    "#display(dataframeA.head())\n",
    "dataframeC.head()\n",
    "\n",
    "dataframeC = dataframeC.drop('Unnamed: 0', axis=1)\n",
    "#extract features and target variables\n",
    "y_C = dataframeC[\"Class Attruibute\"]\n",
    "X_pca_C = dataframeC[['PC1','PC2','PC3','PC4']] #dataframeA.drop(columns=\"Class Attruibute\")\n",
    "\n",
    "X_train_pca_C, X_test_pca_C, y_train_C, y_test_C = train_test_split(X_pca_C, y_C, test_size=0.30, \n",
    "                                                            shuffle=True, random_state=2)\n",
    "\n",
    "# Initialize the logistic regression model\n",
    "from sklearn.linear_model import LogisticRegression\n",
    "clf_C = LogisticRegression(max_iter=2500)\n",
    "\n",
    "# Train the model\n",
    "clf_C.fit(X_train_pca_C, y_train_C)\n",
    "\n",
    "# Make predictions\n",
    "y_pred_C = clf_C.predict(X_test_pca_C) # Predictions\n",
    "y_true_C = y_test_C # True values\n",
    "\n",
    "# Measure accuracy\n",
    "print(\"Train accuracy Using PCA:\", np.round(accuracy_score(y_train_C, \n",
    "                                                 clf_C.predict(X_train_pca_C)), 2))\n",
    "print(\"Test accuracy Using PCA:\", np.round(accuracy_score(y_true_C, y_pred_C), 2))\n",
    "\n",
    "# Make the confusion matrix\n",
    "from sklearn.metrics import confusion_matrix\n",
    "cf_matrix_C = confusion_matrix(y_true_C, y_pred_C)\n",
    "print(\"\\nTest confusion_matrix\")\n",
    "sns.heatmap(cf_matrix_C, annot=True, cmap='Blues')\n",
    "plt.xlabel('Predicted', fontsize=12)\n",
    "plt.ylabel('True', fontsize=12)"
   ]
  },
  {
   "cell_type": "code",
   "execution_count": null,
   "id": "49e9a849",
   "metadata": {},
   "outputs": [],
   "source": []
  }
 ],
 "metadata": {
  "kernelspec": {
   "display_name": "Python 3",
   "language": "python",
   "name": "python3"
  },
  "language_info": {
   "codemirror_mode": {
    "name": "ipython",
    "version": 3
   },
   "file_extension": ".py",
   "mimetype": "text/x-python",
   "name": "python",
   "nbconvert_exporter": "python",
   "pygments_lexer": "ipython3",
   "version": "3.8.8"
  }
 },
 "nbformat": 4,
 "nbformat_minor": 5
}
