{
 "cells": [
  {
   "cell_type": "markdown",
   "id": "8205d703",
   "metadata": {},
   "source": [
    "**Load data from csv file**"
   ]
  },
  {
   "cell_type": "code",
   "execution_count": 1,
   "id": "a6ee0c45",
   "metadata": {
    "scrolled": true
   },
   "outputs": [
    {
     "data": {
      "text/html": [
       "<div>\n",
       "<style scoped>\n",
       "    .dataframe tbody tr th:only-of-type {\n",
       "        vertical-align: middle;\n",
       "    }\n",
       "\n",
       "    .dataframe tbody tr th {\n",
       "        vertical-align: top;\n",
       "    }\n",
       "\n",
       "    .dataframe thead th {\n",
       "        text-align: right;\n",
       "    }\n",
       "</style>\n",
       "<table border=\"1\" class=\"dataframe\">\n",
       "  <thead>\n",
       "    <tr style=\"text-align: right;\">\n",
       "      <th></th>\n",
       "      <th>Unnamed: 0</th>\n",
       "      <th>Profile factor</th>\n",
       "      <th>Symmetry</th>\n",
       "      <th>Crossflow</th>\n",
       "      <th>Flow Velocity1</th>\n",
       "      <th>Flow Velocity2</th>\n",
       "      <th>Flow Velocity3</th>\n",
       "      <th>Flow Velocity4</th>\n",
       "      <th>Speed of Sound1</th>\n",
       "      <th>Speed of Sound2</th>\n",
       "      <th>...</th>\n",
       "      <th>Gain8</th>\n",
       "      <th>Transit time1</th>\n",
       "      <th>Transit time2</th>\n",
       "      <th>Transit time3</th>\n",
       "      <th>Transit time4</th>\n",
       "      <th>Transit time5</th>\n",
       "      <th>Transit time6</th>\n",
       "      <th>Transit time7</th>\n",
       "      <th>Transit time8</th>\n",
       "      <th>Class Attruibute</th>\n",
       "    </tr>\n",
       "  </thead>\n",
       "  <tbody>\n",
       "    <tr>\n",
       "      <th>0</th>\n",
       "      <td>0</td>\n",
       "      <td>1.102690</td>\n",
       "      <td>1.004425</td>\n",
       "      <td>1.006741</td>\n",
       "      <td>15.228611</td>\n",
       "      <td>16.676389</td>\n",
       "      <td>16.713056</td>\n",
       "      <td>15.051389</td>\n",
       "      <td>1485.447222</td>\n",
       "      <td>1485.416667</td>\n",
       "      <td>...</td>\n",
       "      <td>17.7</td>\n",
       "      <td>86.585833</td>\n",
       "      <td>85.576667</td>\n",
       "      <td>106.985000</td>\n",
       "      <td>105.530833</td>\n",
       "      <td>106.714444</td>\n",
       "      <td>105.255833</td>\n",
       "      <td>86.461111</td>\n",
       "      <td>85.460833</td>\n",
       "      <td>1</td>\n",
       "    </tr>\n",
       "    <tr>\n",
       "      <th>1</th>\n",
       "      <td>1</td>\n",
       "      <td>1.101432</td>\n",
       "      <td>1.003722</td>\n",
       "      <td>1.008256</td>\n",
       "      <td>14.106667</td>\n",
       "      <td>15.407500</td>\n",
       "      <td>15.473889</td>\n",
       "      <td>13.930833</td>\n",
       "      <td>1485.222222</td>\n",
       "      <td>1485.211111</td>\n",
       "      <td>...</td>\n",
       "      <td>17.7</td>\n",
       "      <td>86.560000</td>\n",
       "      <td>85.628056</td>\n",
       "      <td>106.942500</td>\n",
       "      <td>105.603611</td>\n",
       "      <td>106.676111</td>\n",
       "      <td>105.326667</td>\n",
       "      <td>86.433889</td>\n",
       "      <td>85.510556</td>\n",
       "      <td>1</td>\n",
       "    </tr>\n",
       "    <tr>\n",
       "      <th>2</th>\n",
       "      <td>2</td>\n",
       "      <td>1.098568</td>\n",
       "      <td>1.002528</td>\n",
       "      <td>1.009103</td>\n",
       "      <td>14.136667</td>\n",
       "      <td>15.388056</td>\n",
       "      <td>15.484444</td>\n",
       "      <td>13.965833</td>\n",
       "      <td>1485.061111</td>\n",
       "      <td>1485.047222</td>\n",
       "      <td>...</td>\n",
       "      <td>17.7</td>\n",
       "      <td>86.572222</td>\n",
       "      <td>85.635278</td>\n",
       "      <td>106.954722</td>\n",
       "      <td>105.614722</td>\n",
       "      <td>106.686389</td>\n",
       "      <td>105.336389</td>\n",
       "      <td>86.444722</td>\n",
       "      <td>85.519167</td>\n",
       "      <td>1</td>\n",
       "    </tr>\n",
       "    <tr>\n",
       "      <th>3</th>\n",
       "      <td>3</td>\n",
       "      <td>1.099516</td>\n",
       "      <td>1.007024</td>\n",
       "      <td>1.009363</td>\n",
       "      <td>14.146389</td>\n",
       "      <td>15.405000</td>\n",
       "      <td>15.439167</td>\n",
       "      <td>13.906111</td>\n",
       "      <td>1485.144444</td>\n",
       "      <td>1485.113889</td>\n",
       "      <td>...</td>\n",
       "      <td>17.7</td>\n",
       "      <td>86.566111</td>\n",
       "      <td>85.630833</td>\n",
       "      <td>106.952500</td>\n",
       "      <td>105.609444</td>\n",
       "      <td>106.681389</td>\n",
       "      <td>105.331667</td>\n",
       "      <td>86.439722</td>\n",
       "      <td>85.515833</td>\n",
       "      <td>1</td>\n",
       "    </tr>\n",
       "    <tr>\n",
       "      <th>4</th>\n",
       "      <td>4</td>\n",
       "      <td>1.100336</td>\n",
       "      <td>1.000661</td>\n",
       "      <td>1.006709</td>\n",
       "      <td>14.056944</td>\n",
       "      <td>15.363611</td>\n",
       "      <td>15.452222</td>\n",
       "      <td>13.948889</td>\n",
       "      <td>1485.202778</td>\n",
       "      <td>1485.180556</td>\n",
       "      <td>...</td>\n",
       "      <td>17.7</td>\n",
       "      <td>86.561111</td>\n",
       "      <td>85.630833</td>\n",
       "      <td>106.946667</td>\n",
       "      <td>105.603889</td>\n",
       "      <td>106.676111</td>\n",
       "      <td>105.328889</td>\n",
       "      <td>86.436944</td>\n",
       "      <td>85.512222</td>\n",
       "      <td>1</td>\n",
       "    </tr>\n",
       "    <tr>\n",
       "      <th>...</th>\n",
       "      <td>...</td>\n",
       "      <td>...</td>\n",
       "      <td>...</td>\n",
       "      <td>...</td>\n",
       "      <td>...</td>\n",
       "      <td>...</td>\n",
       "      <td>...</td>\n",
       "      <td>...</td>\n",
       "      <td>...</td>\n",
       "      <td>...</td>\n",
       "      <td>...</td>\n",
       "      <td>...</td>\n",
       "      <td>...</td>\n",
       "      <td>...</td>\n",
       "      <td>...</td>\n",
       "      <td>...</td>\n",
       "      <td>...</td>\n",
       "      <td>...</td>\n",
       "      <td>...</td>\n",
       "      <td>...</td>\n",
       "      <td>...</td>\n",
       "    </tr>\n",
       "    <tr>\n",
       "      <th>147</th>\n",
       "      <td>147</td>\n",
       "      <td>1.106850</td>\n",
       "      <td>0.993131</td>\n",
       "      <td>1.003427</td>\n",
       "      <td>5.231389</td>\n",
       "      <td>5.772500</td>\n",
       "      <td>5.829444</td>\n",
       "      <td>5.250556</td>\n",
       "      <td>1484.105556</td>\n",
       "      <td>1484.030556</td>\n",
       "      <td>...</td>\n",
       "      <td>18.1</td>\n",
       "      <td>86.331389</td>\n",
       "      <td>85.985556</td>\n",
       "      <td>106.608333</td>\n",
       "      <td>106.103333</td>\n",
       "      <td>106.339444</td>\n",
       "      <td>105.831111</td>\n",
       "      <td>86.229167</td>\n",
       "      <td>85.881944</td>\n",
       "      <td>4</td>\n",
       "    </tr>\n",
       "    <tr>\n",
       "      <th>148</th>\n",
       "      <td>148</td>\n",
       "      <td>1.106124</td>\n",
       "      <td>0.994477</td>\n",
       "      <td>1.002730</td>\n",
       "      <td>9.273056</td>\n",
       "      <td>10.231944</td>\n",
       "      <td>10.312778</td>\n",
       "      <td>9.300556</td>\n",
       "      <td>1484.094444</td>\n",
       "      <td>1484.011111</td>\n",
       "      <td>...</td>\n",
       "      <td>18.1</td>\n",
       "      <td>86.466667</td>\n",
       "      <td>85.851111</td>\n",
       "      <td>106.804167</td>\n",
       "      <td>105.913611</td>\n",
       "      <td>106.538889</td>\n",
       "      <td>105.637500</td>\n",
       "      <td>86.365278</td>\n",
       "      <td>85.750556</td>\n",
       "      <td>4</td>\n",
       "    </tr>\n",
       "    <tr>\n",
       "      <th>149</th>\n",
       "      <td>149</td>\n",
       "      <td>1.103042</td>\n",
       "      <td>0.996682</td>\n",
       "      <td>1.003806</td>\n",
       "      <td>11.686389</td>\n",
       "      <td>12.843611</td>\n",
       "      <td>12.931111</td>\n",
       "      <td>11.680556</td>\n",
       "      <td>1484.052778</td>\n",
       "      <td>1483.986111</td>\n",
       "      <td>...</td>\n",
       "      <td>18.1</td>\n",
       "      <td>86.548056</td>\n",
       "      <td>85.774167</td>\n",
       "      <td>106.921111</td>\n",
       "      <td>105.799444</td>\n",
       "      <td>106.654722</td>\n",
       "      <td>105.524444</td>\n",
       "      <td>86.445278</td>\n",
       "      <td>85.671111</td>\n",
       "      <td>4</td>\n",
       "    </tr>\n",
       "    <tr>\n",
       "      <th>150</th>\n",
       "      <td>150</td>\n",
       "      <td>1.110915</td>\n",
       "      <td>0.995059</td>\n",
       "      <td>1.007858</td>\n",
       "      <td>12.745556</td>\n",
       "      <td>14.051944</td>\n",
       "      <td>14.223611</td>\n",
       "      <td>12.706944</td>\n",
       "      <td>1484.116667</td>\n",
       "      <td>1484.022222</td>\n",
       "      <td>...</td>\n",
       "      <td>18.1</td>\n",
       "      <td>86.580556</td>\n",
       "      <td>85.735833</td>\n",
       "      <td>106.968333</td>\n",
       "      <td>105.745833</td>\n",
       "      <td>106.707778</td>\n",
       "      <td>105.467778</td>\n",
       "      <td>86.476389</td>\n",
       "      <td>85.633889</td>\n",
       "      <td>4</td>\n",
       "    </tr>\n",
       "    <tr>\n",
       "      <th>151</th>\n",
       "      <td>151</td>\n",
       "      <td>1.102931</td>\n",
       "      <td>0.990570</td>\n",
       "      <td>1.003295</td>\n",
       "      <td>12.728611</td>\n",
       "      <td>13.998889</td>\n",
       "      <td>14.170278</td>\n",
       "      <td>12.811667</td>\n",
       "      <td>1483.988889</td>\n",
       "      <td>1483.902778</td>\n",
       "      <td>...</td>\n",
       "      <td>18.1</td>\n",
       "      <td>86.586389</td>\n",
       "      <td>85.741667</td>\n",
       "      <td>106.978611</td>\n",
       "      <td>105.755000</td>\n",
       "      <td>106.715556</td>\n",
       "      <td>105.480000</td>\n",
       "      <td>86.485278</td>\n",
       "      <td>85.637222</td>\n",
       "      <td>4</td>\n",
       "    </tr>\n",
       "  </tbody>\n",
       "</table>\n",
       "<p>152 rows × 45 columns</p>\n",
       "</div>"
      ],
      "text/plain": [
       "     Unnamed: 0  Profile factor  Symmetry  Crossflow  Flow Velocity1  \\\n",
       "0             0        1.102690  1.004425   1.006741       15.228611   \n",
       "1             1        1.101432  1.003722   1.008256       14.106667   \n",
       "2             2        1.098568  1.002528   1.009103       14.136667   \n",
       "3             3        1.099516  1.007024   1.009363       14.146389   \n",
       "4             4        1.100336  1.000661   1.006709       14.056944   \n",
       "..          ...             ...       ...        ...             ...   \n",
       "147         147        1.106850  0.993131   1.003427        5.231389   \n",
       "148         148        1.106124  0.994477   1.002730        9.273056   \n",
       "149         149        1.103042  0.996682   1.003806       11.686389   \n",
       "150         150        1.110915  0.995059   1.007858       12.745556   \n",
       "151         151        1.102931  0.990570   1.003295       12.728611   \n",
       "\n",
       "     Flow Velocity2  Flow Velocity3  Flow Velocity4  Speed of Sound1  \\\n",
       "0         16.676389       16.713056       15.051389      1485.447222   \n",
       "1         15.407500       15.473889       13.930833      1485.222222   \n",
       "2         15.388056       15.484444       13.965833      1485.061111   \n",
       "3         15.405000       15.439167       13.906111      1485.144444   \n",
       "4         15.363611       15.452222       13.948889      1485.202778   \n",
       "..              ...             ...             ...              ...   \n",
       "147        5.772500        5.829444        5.250556      1484.105556   \n",
       "148       10.231944       10.312778        9.300556      1484.094444   \n",
       "149       12.843611       12.931111       11.680556      1484.052778   \n",
       "150       14.051944       14.223611       12.706944      1484.116667   \n",
       "151       13.998889       14.170278       12.811667      1483.988889   \n",
       "\n",
       "     Speed of Sound2  ...  Gain8  Transit time1  Transit time2  Transit time3  \\\n",
       "0        1485.416667  ...   17.7      86.585833      85.576667     106.985000   \n",
       "1        1485.211111  ...   17.7      86.560000      85.628056     106.942500   \n",
       "2        1485.047222  ...   17.7      86.572222      85.635278     106.954722   \n",
       "3        1485.113889  ...   17.7      86.566111      85.630833     106.952500   \n",
       "4        1485.180556  ...   17.7      86.561111      85.630833     106.946667   \n",
       "..               ...  ...    ...            ...            ...            ...   \n",
       "147      1484.030556  ...   18.1      86.331389      85.985556     106.608333   \n",
       "148      1484.011111  ...   18.1      86.466667      85.851111     106.804167   \n",
       "149      1483.986111  ...   18.1      86.548056      85.774167     106.921111   \n",
       "150      1484.022222  ...   18.1      86.580556      85.735833     106.968333   \n",
       "151      1483.902778  ...   18.1      86.586389      85.741667     106.978611   \n",
       "\n",
       "     Transit time4  Transit time5  Transit time6  Transit time7  \\\n",
       "0       105.530833     106.714444     105.255833      86.461111   \n",
       "1       105.603611     106.676111     105.326667      86.433889   \n",
       "2       105.614722     106.686389     105.336389      86.444722   \n",
       "3       105.609444     106.681389     105.331667      86.439722   \n",
       "4       105.603889     106.676111     105.328889      86.436944   \n",
       "..             ...            ...            ...            ...   \n",
       "147     106.103333     106.339444     105.831111      86.229167   \n",
       "148     105.913611     106.538889     105.637500      86.365278   \n",
       "149     105.799444     106.654722     105.524444      86.445278   \n",
       "150     105.745833     106.707778     105.467778      86.476389   \n",
       "151     105.755000     106.715556     105.480000      86.485278   \n",
       "\n",
       "     Transit time8  Class Attruibute  \n",
       "0        85.460833                 1  \n",
       "1        85.510556                 1  \n",
       "2        85.519167                 1  \n",
       "3        85.515833                 1  \n",
       "4        85.512222                 1  \n",
       "..             ...               ...  \n",
       "147      85.881944                 4  \n",
       "148      85.750556                 4  \n",
       "149      85.671111                 4  \n",
       "150      85.633889                 4  \n",
       "151      85.637222                 4  \n",
       "\n",
       "[152 rows x 45 columns]"
      ]
     },
     "execution_count": 1,
     "metadata": {},
     "output_type": "execute_result"
    }
   ],
   "source": [
    "import pandas as pd # load dataset \n",
    "tableA = pd.read_csv('../3. Dataset No Outlier File/MeterA_no_outlier.csv', header='infer') # read MeterA csv file\n",
    "tableB = pd.read_csv('../3. Dataset No Outlier File/MeterB_no_outlier.csv', header='infer') # read MeterB csv file\n",
    "tableC = pd.read_csv('../3. Dataset No Outlier File/MeterC_no_outlier.csv', header='infer') # read MeterC csv file\n",
    "tableC"
   ]
  },
  {
   "cell_type": "markdown",
   "id": "2ef88c62",
   "metadata": {},
   "source": [
    "**Dataset A Drop individual speed of sound column since average speed of sound column is already existed**"
   ]
  },
  {
   "cell_type": "code",
   "execution_count": 2,
   "id": "845d3f67",
   "metadata": {},
   "outputs": [],
   "source": [
    "for i in range(8): # drop individual speed of sound column since average speed of sound column is already existed\n",
    "    tableA.drop(f'Speed of Sound{i+1}', axis=1, inplace=True)\n",
    "pd.set_option('display.max_columns', None) # display all columns\n",
    "pd.set_option('display.max_rows', None) # display all rows "
   ]
  },
  {
   "cell_type": "markdown",
   "id": "9640cb57",
   "metadata": {},
   "source": [
    "**Dataset A Get average flow velocity of eight paths for each row, drop each individual flow velocity column and append new column 'Average Flow Velocity'**"
   ]
  },
  {
   "cell_type": "code",
   "execution_count": null,
   "id": "e80e93ec",
   "metadata": {},
   "outputs": [],
   "source": [
    "# get average flow velocity of eight paths for each row \n",
    "tableA[\"Average Flow Velocity\"] = tableA.loc[:, [\"Flow Velocity1\",\"Flow Velocity2\",\"Flow Velocity3\",\"Flow Velocity4\",\"Flow Velocity5\",\"Flow Velocity6\",\"Flow Velocity7\",\"Flow Velocity8\"]].mean(axis = 1)\n",
    "for i in range(8): # drop individual flow velocity column\n",
    "    tableA.drop(f'Flow Velocity{i+1}', axis=1, inplace=True)\n",
    "column_to_move = tableA.pop(\"Average Flow Velocity\")\n",
    "tableA.insert(4, \"Average Flow Velocity\", column_to_move)\n",
    "# drop 'Unnamed' column\n",
    "tableA.drop(tableA.filter(regex=\"Unname\"),axis=1, inplace=True)"
   ]
  },
  {
   "cell_type": "markdown",
   "id": "afbbbe94",
   "metadata": {},
   "source": [
    "**Dataset A Get average gain of eight paths for each row, drop each individual gain column and append new column 'Average Gain'**"
   ]
  },
  {
   "cell_type": "code",
   "execution_count": null,
   "id": "2122061a",
   "metadata": {},
   "outputs": [],
   "source": [
    "# get average flow velocity of eight paths for each row \n",
    "tableA[\"Average Gain\"] = tableA.loc[:, [\"Gain1\",\"Gain2\",\"Gain3\",\"Gain4\",\"Gain5\",\"Gain6\",\"Gain7\",\"Gain8\",\"GainA1\",\"GainA2\",\"GainA3\",\"GainA4\",\"GainA5\",\"GainA6\",\"GainA7\",\"GainA8\"]].mean(axis = 1)\n",
    "for i in range(8): # drop individual flow velocity column\n",
    "    tableA.drop(f'Gain{i+1}', axis=1, inplace=True)\n",
    "    tableA.drop(f'GainA{i+1}', axis=1, inplace=True)\n",
    "column_to_move = tableA.pop(\"Average Gain\")\n",
    "tableA.insert(5, \"Average Gain\", column_to_move)\n",
    "# write data to csv file \n",
    "tableA = tableA.reset_index(drop=True)\n",
    "tableA.to_csv('MeterA_aggregation.csv', index = True)"
   ]
  },
  {
   "cell_type": "markdown",
   "id": "4cdeedfd",
   "metadata": {},
   "source": [
    "**Dataset B Drop individual flow velocity and speed of sound column since average flow velocity column and average speed of sound column is already included **"
   ]
  },
  {
   "cell_type": "code",
   "execution_count": null,
   "id": "7bf90e35",
   "metadata": {},
   "outputs": [],
   "source": [
    "for i in range(4): # drop individual flow velocity and speed of sound column since average flow velocity column and average speed of sound column is already included\n",
    "    tableB.drop(f'Flow Velocity{i+1}', axis=1, inplace=True)\n",
    "    tableB.drop(f'Speed of Sound{i+1}', axis=1, inplace=True)"
   ]
  },
  {
   "cell_type": "markdown",
   "id": "553bdabe",
   "metadata": {},
   "source": [
    "**Dataset B Get average signal strength of four paths for each row, drop each individual flow velocity column and append new column 'Average Signal Strength'**"
   ]
  },
  {
   "cell_type": "code",
   "execution_count": null,
   "id": "67d92fc9",
   "metadata": {},
   "outputs": [],
   "source": [
    "# get average signal strength of eight paths for each row \n",
    "tableB[\"Average Signal Strength\"] = tableB.loc[:, [\"Signal Strength1\",\"Signal Strength2\",\"Signal Strength3\",\"Signal Strength4\",\"Signal Strength5\",\"Signal Strength6\",\"Signal Strength7\",\"Signal Strength8\"]].mean(axis = 1)\n",
    "for i in range(8): # drop individual flow velocity column\n",
    "    tableB.drop(f'Signal Strength{i+1}', axis=1, inplace=True)\n",
    "column_to_move = tableB.pop(\"Average Signal Strength\")\n",
    "tableB.insert(7, \"Average Signal Strength\", column_to_move)\n",
    "# drop 'Unnamed' column\n",
    "tableB.drop(tableB.filter(regex=\"Unname\"),axis=1, inplace=True)\n",
    "tableB"
   ]
  },
  {
   "cell_type": "markdown",
   "id": "462a2ebb",
   "metadata": {},
   "source": [
    "**Dataset B Get average turbulence of four paths for each row, drop each individual turbulence column and append new column 'Average Turbulence'**"
   ]
  },
  {
   "cell_type": "code",
   "execution_count": null,
   "id": "38ffc771",
   "metadata": {},
   "outputs": [],
   "source": [
    "# get average turbulence of eight paths for each row \n",
    "tableB[\"Average Turbulence\"] = tableB.loc[:, [\"Turbulence1\",\"Turbulence2\",\"Turbulence3\",\"Turbulence4\"]].mean(axis = 1)\n",
    "for i in range(4): # drop individual turbulence column\n",
    "    tableB.drop(f'Turbulence{i+1}', axis=1, inplace=True)\n",
    "column_to_move = tableB.pop(\"Average Turbulence\")\n",
    "tableB.insert(8, \"Average Turbulence\", column_to_move)\n",
    "tableB"
   ]
  },
  {
   "cell_type": "markdown",
   "id": "62e2a697",
   "metadata": {},
   "source": [
    "**Dataset B Get average signal quality of four paths for each row, drop each individual signal quality column and append new column 'Average Signal Quality'**"
   ]
  },
  {
   "cell_type": "code",
   "execution_count": null,
   "id": "6c165d29",
   "metadata": {},
   "outputs": [],
   "source": [
    "# get average signal quality of eight paths for each row \n",
    "tableB[\"Average Signal Quality\"] = tableB.loc[:, [\"Signal Quality1\",\"Signal Quality2\",\"Signal Quality3\",\"Signal Quality4\",\"Signal Quality5\",\"Signal Quality6\",\"Signal Quality7\",\"Signal Quality8\"]].mean(axis = 1)\n",
    "for i in range(8): # drop individual signal quality column\n",
    "    tableB.drop(f'Signal Quality{i+1}', axis=1, inplace=True)\n",
    "column_to_move = tableB.pop(\"Average Signal Quality\")\n",
    "tableB.insert(10, \"Average Signal Quality\", column_to_move)\n",
    "# drop 'Unnamed' column\n",
    "tableB.drop(tableB.filter(regex=\"Unname\"),axis=1, inplace=True)\n",
    "tableB"
   ]
  },
  {
   "cell_type": "markdown",
   "id": "9d10ab31",
   "metadata": {},
   "source": [
    "**Dataset B Get average gain of four paths for each row, drop each individual gain column and append new column 'Average Gain'**"
   ]
  },
  {
   "cell_type": "code",
   "execution_count": null,
   "id": "a5e38493",
   "metadata": {},
   "outputs": [],
   "source": [
    "# get average gain of eight paths for each row \n",
    "tableB[\"Average Gain\"] = tableB.loc[:, [\"Gain1\",\"Gain2\",\"Gain3\",\"Gain4\",\"Gain5\",\"Gain6\",\"Gain7\",\"Gain8\"]].mean(axis = 1)\n",
    "for i in range(8): # drop individual gain column\n",
    "    tableB.drop(f'Gain{i+1}', axis=1, inplace=True)\n",
    "column_to_move = tableB.pop(\"Average Gain\")\n",
    "tableB.insert(10, \"Average Gain\", column_to_move)\n",
    "# drop 'Unnamed' column\n",
    "tableB.drop(tableB.filter(regex=\"Unname\"),axis=1, inplace=True)\n",
    "tableB"
   ]
  },
  {
   "cell_type": "markdown",
   "id": "270558ba",
   "metadata": {},
   "source": [
    "**Dataset B Get average transit time of four paths for each row, drop each individual transit time column and append new column 'Average Transit Time'**"
   ]
  },
  {
   "cell_type": "code",
   "execution_count": null,
   "id": "0e7522fa",
   "metadata": {},
   "outputs": [],
   "source": [
    "# get average transit time of eight paths for each row \n",
    "tableB[\"Average Transit Time\"] = tableB.loc[:, [\"Transit time1\",\"Transit time2\",\"Transit time3\",\"Transit time4\",\"Transit time5\",\"Transit time6\",\"Transit time7\",\"Transit time8\"]].mean(axis = 1)\n",
    "for i in range(8): # drop individual transit time column\n",
    "    tableB.drop(f'Transit time{i+1}', axis=1, inplace=True)\n",
    "column_to_move = tableB.pop(\"Average Transit Time\")\n",
    "tableB.insert(11, \"Average Transit Time\", column_to_move)\n",
    "# drop 'Unnamed' column\n",
    "tableB.drop(tableB.filter(regex=\"Unname\"),axis=1, inplace=True)\n",
    "tableB"
   ]
  },
  {
   "cell_type": "markdown",
   "id": "2a69d8a5",
   "metadata": {},
   "source": [
    "**Write data back to csv file**"
   ]
  },
  {
   "cell_type": "code",
   "execution_count": null,
   "id": "08c70cc9",
   "metadata": {},
   "outputs": [],
   "source": [
    "# write data to csv file \n",
    "tableB= tableB.reset_index(drop=True)\n",
    "tableB.to_csv('MeterB_aggregation.csv', index = True)"
   ]
  },
  {
   "cell_type": "markdown",
   "id": "ef93aebf",
   "metadata": {},
   "source": [
    "**Dataset C Get average flow velocity of four paths for each row drop each individual flow velocity column and append new column 'Average Flow Velocity'**"
   ]
  },
  {
   "cell_type": "code",
   "execution_count": null,
   "id": "dd25a1ec",
   "metadata": {},
   "outputs": [],
   "source": [
    "# get average flow velocity of eight paths for each row \n",
    "tableC[\"Average Flow Velocity\"] = tableC.loc[:, [\"Flow Velocity1\",\"Flow Velocity2\",\"Flow Velocity3\",\"Flow Velocity4\"]].mean(axis = 1)\n",
    "for i in range(4): # drop individual flow velocity column\n",
    "    tableC.drop(f'Flow Velocity{i+1}', axis=1, inplace=True)\n",
    "column_to_move = tableC.pop(\"Average Flow Velocity\")\n",
    "tableC.insert(4, \"Average Flow Velocity\", column_to_move)\n",
    "# drop 'Unnamed' column\n",
    "tableC.drop(tableC.filter(regex=\"Unname\"),axis=1, inplace=True)\n",
    "tableC"
   ]
  },
  {
   "cell_type": "markdown",
   "id": "259d72a4",
   "metadata": {},
   "source": [
    "**Dataset C Get average speed of sound of four paths for each row drop each individual speed of sound column and append new column 'Average Speed of Sound'**"
   ]
  },
  {
   "cell_type": "code",
   "execution_count": null,
   "id": "22c6d74c",
   "metadata": {
    "scrolled": false
   },
   "outputs": [],
   "source": [
    "# get average speed of sound of eight paths for each row \n",
    "tableC[\"Average Speed of Sound\"] = tableC.loc[:, [\"Speed of Sound1\",\"Speed of Sound2\",\"Speed of Sound3\",\"Speed of Sound4\"]].mean(axis = 1)\n",
    "for i in range(4): # drop individual speed of sound column\n",
    "    tableC.drop(f'Speed of Sound{i+1}', axis=1, inplace=True)\n",
    "column_to_move = tableC.pop(\"Average Speed of Sound\")\n",
    "tableC.insert(4, \"Average Speed of Sound\", column_to_move)\n",
    "# drop 'Unnamed' column\n",
    "tableC.drop(tableC.filter(regex=\"Unname\"),axis=1, inplace=True)\n",
    "tableC"
   ]
  },
  {
   "cell_type": "markdown",
   "id": "dc56db72",
   "metadata": {},
   "source": [
    "**Dataset C Get average signal quality of four paths for each row drop each individual signal quality column and append new column 'Average Signal Quality'**"
   ]
  },
  {
   "cell_type": "code",
   "execution_count": null,
   "id": "215d6f79",
   "metadata": {},
   "outputs": [],
   "source": [
    "# get average signal strength of eight paths for each row \n",
    "tableC[\"Average Signal Strength\"] = tableC.loc[:, [\"Signal Strength1\",\"Signal Strength2\",\"Signal Strength3\",\"Signal Strength4\",\"Signal Strength5\",\"Signal Strength6\",\"Signal Strength7\",\"Signal Strength8\"]].mean(axis = 1)\n",
    "for i in range(8): # drop individual signal strength column\n",
    "    tableC.drop(f'Signal Strength{i+1}', axis=1, inplace=True)\n",
    "column_to_move = tableC.pop(\"Average Signal Strength\")\n",
    "tableC.insert(4, \"Average Signal Strength\", column_to_move)\n",
    "# drop 'Unnamed' column\n",
    "tableC.drop(tableC.filter(regex=\"Unname\"),axis=1, inplace=True)\n",
    "tableC"
   ]
  },
  {
   "cell_type": "markdown",
   "id": "ba22fe93",
   "metadata": {},
   "source": [
    "**Dataset C Get average signal quality of four paths for each row drop each individual signal quality column and append new column 'Average Signal Quality'**"
   ]
  },
  {
   "cell_type": "code",
   "execution_count": null,
   "id": "4674efcd",
   "metadata": {},
   "outputs": [],
   "source": [
    "# get average signal quality of eight paths for each row \n",
    "tableC[\"Average Signal Quality\"] = tableC.loc[:, [\"Signal Quality1\",\"Signal Quality2\",\"Signal Quality3\",\"Signal Quality4\",\"Signal Quality5\",\"Signal Quality6\",\"Signal Quality7\",\"Signal Quality8\"]].mean(axis = 1)\n",
    "for i in range(8): # drop individual signal quality of sound column\n",
    "    tableC.drop(f'Signal Quality{i+1}', axis=1, inplace=True)\n",
    "column_to_move = tableC.pop(\"Average Signal Quality\")\n",
    "tableC.insert(4, \"Average Signal Quality\", column_to_move)\n",
    "# drop 'Unnamed' column\n",
    "tableC.drop(tableC.filter(regex=\"Unname\"),axis=1, inplace=True)\n",
    "tableC"
   ]
  },
  {
   "cell_type": "markdown",
   "id": "438c32d7",
   "metadata": {},
   "source": [
    "**Dataset C Get average gain of four paths for each row drop each individual gain column and append new column 'Average Gain'**"
   ]
  },
  {
   "cell_type": "code",
   "execution_count": null,
   "id": "c50521b0",
   "metadata": {},
   "outputs": [],
   "source": [
    "# get average gain of eight paths for each row \n",
    "tableC[\"Average Gain\"] = tableC.loc[:, [\"Gain1\",\"Gain2\",\"Gain3\",\"Gain4\",\"Gain5\",\"Gain6\",\"Gain7\",\"Gain8\"]].mean(axis = 1)\n",
    "for i in range(8): # drop individual gain of sound column\n",
    "    tableC.drop(f'Gain{i+1}', axis=1, inplace=True)\n",
    "column_to_move = tableC.pop(\"Average Gain\")\n",
    "tableC.insert(4, \"Average Gain\", column_to_move)\n",
    "# drop 'Unnamed' column\n",
    "tableC.drop(tableC.filter(regex=\"Unname\"),axis=1, inplace=True)\n",
    "tableC"
   ]
  },
  {
   "cell_type": "markdown",
   "id": "2cf335a5",
   "metadata": {},
   "source": [
    "**Dataset C Get average transit time of four paths for each row drop each individual transit time column and append new column 'Average Transit Time'**"
   ]
  },
  {
   "cell_type": "code",
   "execution_count": null,
   "id": "23cedb6f",
   "metadata": {
    "scrolled": true
   },
   "outputs": [],
   "source": [
    "# get average gain of eight paths for each row \n",
    "tableC[\"Average Transit Time\"] = tableC.loc[:, [\"Transit time1\",\"Transit time2\",\"Transit time3\",\"Transit time4\",\"Transit time5\",\"Transit time6\",\"Transit time7\",\"Transit time8\"]].mean(axis = 1)\n",
    "for i in range(8): # drop individual gain of sound column\n",
    "    tableC.drop(f'Transit time{i+1}', axis=1, inplace=True)\n",
    "column_to_move = tableC.pop(\"Average Transit Time\")\n",
    "tableC.insert(4, \"Average Transit Time\", column_to_move)\n",
    "# drop 'Unnamed' column\n",
    "tableC.drop(tableC.filter(regex=\"Unname\"),axis=1, inplace=True)\n",
    "tableC"
   ]
  },
  {
   "cell_type": "markdown",
   "id": "977a368c",
   "metadata": {},
   "source": [
    "**Write data back to csv file**"
   ]
  },
  {
   "cell_type": "code",
   "execution_count": null,
   "id": "81da07f5",
   "metadata": {},
   "outputs": [],
   "source": [
    "# write data to csv file\n",
    "tableC.drop(54, axis=0, inplace=True)\n",
    "tableC= tableC.reset_index(drop=True)\n",
    "tableC.to_csv('MeterC_aggregation.csv', index = True)"
   ]
  }
 ],
 "metadata": {
  "kernelspec": {
   "display_name": "Python 3",
   "language": "python",
   "name": "python3"
  },
  "language_info": {
   "codemirror_mode": {
    "name": "ipython",
    "version": 3
   },
   "file_extension": ".py",
   "mimetype": "text/x-python",
   "name": "python",
   "nbconvert_exporter": "python",
   "pygments_lexer": "ipython3",
   "version": "3.8.8"
  }
 },
 "nbformat": 4,
 "nbformat_minor": 5
}
