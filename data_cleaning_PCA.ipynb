{
 "cells": [
  {
   "cell_type": "code",
   "execution_count": 26,
   "id": "5a1f5e04",
   "metadata": {},
   "outputs": [],
   "source": [
    "import numpy as np\n",
    "import pandas as pd\n",
    "\n",
    "# Visualization\n",
    "import matplotlib.pyplot as plt\n",
    "\n",
    "# Data processing, modeling, and model evaluation\n",
    "from sklearn.preprocessing import StandardScaler\n",
    "from sklearn.decomposition import PCA\n",
    "from sklearn.neighbors import KNeighborsClassifier\n",
    "from sklearn.model_selection import train_test_split\n",
    "from sklearn.metrics import f1_score, classification_report, plot_confusion_matrix\n",
    "from sklearn.linear_model import LogisticRegression\n",
    "from sklearn.metrics import accuracy_score\n",
    "\n",
    "# Randomization\n",
    "import random"
   ]
  },
  {
   "cell_type": "code",
   "execution_count": 27,
   "id": "a40eeca7",
   "metadata": {},
   "outputs": [
    {
     "data": {
      "text/html": [
       "<div>\n",
       "<style scoped>\n",
       "    .dataframe tbody tr th:only-of-type {\n",
       "        vertical-align: middle;\n",
       "    }\n",
       "\n",
       "    .dataframe tbody tr th {\n",
       "        vertical-align: top;\n",
       "    }\n",
       "\n",
       "    .dataframe thead th {\n",
       "        text-align: right;\n",
       "    }\n",
       "</style>\n",
       "<table border=\"1\" class=\"dataframe\">\n",
       "  <thead>\n",
       "    <tr style=\"text-align: right;\">\n",
       "      <th></th>\n",
       "      <th>Flatness ratio</th>\n",
       "      <th>Symmetry</th>\n",
       "      <th>Crossflow</th>\n",
       "      <th>Average speed of sound</th>\n",
       "      <th>Average Gain</th>\n",
       "      <th>Class Attruibute</th>\n",
       "    </tr>\n",
       "  </thead>\n",
       "  <tbody>\n",
       "    <tr>\n",
       "      <th>0</th>\n",
       "      <td>1.000000</td>\n",
       "      <td>0.408325</td>\n",
       "      <td>0.028575</td>\n",
       "      <td>-0.097028</td>\n",
       "      <td>0.387698</td>\n",
       "      <td>-0.544890</td>\n",
       "    </tr>\n",
       "    <tr>\n",
       "      <th>1</th>\n",
       "      <td>0.408325</td>\n",
       "      <td>1.000000</td>\n",
       "      <td>0.391777</td>\n",
       "      <td>-0.521473</td>\n",
       "      <td>-0.274037</td>\n",
       "      <td>-0.236005</td>\n",
       "    </tr>\n",
       "    <tr>\n",
       "      <th>2</th>\n",
       "      <td>0.028575</td>\n",
       "      <td>0.391777</td>\n",
       "      <td>1.000000</td>\n",
       "      <td>-0.474339</td>\n",
       "      <td>-0.610221</td>\n",
       "      <td>0.162365</td>\n",
       "    </tr>\n",
       "    <tr>\n",
       "      <th>3</th>\n",
       "      <td>-0.097028</td>\n",
       "      <td>-0.521473</td>\n",
       "      <td>-0.474339</td>\n",
       "      <td>1.000000</td>\n",
       "      <td>0.567345</td>\n",
       "      <td>0.139247</td>\n",
       "    </tr>\n",
       "    <tr>\n",
       "      <th>4</th>\n",
       "      <td>0.387698</td>\n",
       "      <td>-0.274037</td>\n",
       "      <td>-0.610221</td>\n",
       "      <td>0.567345</td>\n",
       "      <td>1.000000</td>\n",
       "      <td>-0.137049</td>\n",
       "    </tr>\n",
       "    <tr>\n",
       "      <th>5</th>\n",
       "      <td>-0.544890</td>\n",
       "      <td>-0.236005</td>\n",
       "      <td>0.162365</td>\n",
       "      <td>0.139247</td>\n",
       "      <td>-0.137049</td>\n",
       "      <td>1.000000</td>\n",
       "    </tr>\n",
       "  </tbody>\n",
       "</table>\n",
       "</div>"
      ],
      "text/plain": [
       "   Flatness ratio  Symmetry  Crossflow  Average speed of sound  Average Gain  \\\n",
       "0        1.000000  0.408325   0.028575               -0.097028      0.387698   \n",
       "1        0.408325  1.000000   0.391777               -0.521473     -0.274037   \n",
       "2        0.028575  0.391777   1.000000               -0.474339     -0.610221   \n",
       "3       -0.097028 -0.521473  -0.474339                1.000000      0.567345   \n",
       "4        0.387698 -0.274037  -0.610221                0.567345      1.000000   \n",
       "5       -0.544890 -0.236005   0.162365                0.139247     -0.137049   \n",
       "\n",
       "   Class Attruibute  \n",
       "0         -0.544890  \n",
       "1         -0.236005  \n",
       "2          0.162365  \n",
       "3          0.139247  \n",
       "4         -0.137049  \n",
       "5          1.000000  "
      ]
     },
     "execution_count": 27,
     "metadata": {},
     "output_type": "execute_result"
    }
   ],
   "source": [
    "# Load and check data\n",
    "\n",
    "dataframeA = pd.read_csv('5. Dataset Feature Dropping/MeterA_featureSelection.csv')\n",
    "#display(dataframeA.head())\n",
    "dataframeA.head()\n",
    "\n",
    "dataframeA = dataframeA.drop('Unnamed: 0', axis=1)\n",
    "\n",
    "featuresVector = dataframeA[['Flatness ratio','Symmetry','Crossflow','Average speed of sound','Average Gain']]\n",
    "\n",
    "# yLbl is Class Attruibute labels\n",
    "\n",
    "yLbl = dataframeA[['Class Attruibute']]\n",
    "\n",
    "#featuresVector\n",
    "dataframeA"
   ]
  },
  {
   "cell_type": "code",
   "execution_count": 28,
   "id": "c8630d2b",
   "metadata": {},
   "outputs": [
    {
     "data": {
      "text/plain": [
       "-0.544890    1\n",
       "-0.236005    1\n",
       " 0.162365    1\n",
       " 0.139247    1\n",
       "-0.137049    1\n",
       " 1.000000    1\n",
       "Name: Class Attruibute, dtype: int64"
      ]
     },
     "execution_count": 28,
     "metadata": {},
     "output_type": "execute_result"
    }
   ],
   "source": [
    "dataframeA['Class Attruibute'].value_counts()"
   ]
  },
  {
   "cell_type": "code",
   "execution_count": 29,
   "id": "42f573bb",
   "metadata": {},
   "outputs": [
    {
     "data": {
      "text/plain": [
       "(6, 6)"
      ]
     },
     "execution_count": 29,
     "metadata": {},
     "output_type": "execute_result"
    }
   ],
   "source": [
    "dataframeA.shape"
   ]
  },
  {
   "cell_type": "code",
   "execution_count": 30,
   "id": "e6ec751c",
   "metadata": {},
   "outputs": [
    {
     "data": {
      "text/plain": [
       "-0.544890    1\n",
       "-0.236005    1\n",
       " 0.162365    1\n",
       " 0.139247    1\n",
       "-0.137049    1\n",
       " 1.000000    1\n",
       "Name: Class Attruibute, dtype: int64"
      ]
     },
     "execution_count": 30,
     "metadata": {},
     "output_type": "execute_result"
    }
   ],
   "source": [
    "dataframeA['Class Attruibute'].value_counts()"
   ]
  },
  {
   "cell_type": "code",
   "execution_count": 31,
   "id": "f004568b",
   "metadata": {},
   "outputs": [
    {
     "name": "stdout",
     "output_type": "stream",
     "text": [
      "------------------------------  scaled data  -----------------------------\n",
      "[[ 1.66746974  0.53855124 -0.1012108  -0.36544952  0.42452117]\n",
      " [ 0.43865363  1.67565429  0.57388449 -1.1436628  -0.7859493 ]\n",
      " [-0.35002839  0.50674868  1.7044069  -1.05724214 -1.40090978]\n",
      " [-0.61088516 -1.24837012 -1.03599099  1.64593165  0.7531372 ]\n",
      " [ 0.39581502 -0.7728373  -1.28855944  0.85266589  1.54456636]\n",
      " [-1.54102484 -0.6997468   0.14746984  0.06775692 -0.53536564]]\n"
     ]
    }
   ],
   "source": [
    "# the scaler object (model)\n",
    "scaler = StandardScaler()\n",
    "\n",
    "# fit and transform the data\n",
    "scaled_data = scaler.fit_transform(featuresVector) \n",
    "scaled_data1 = scaler.fit_transform(dataframeA)\n",
    "\n",
    "#print(dataframeA)\n",
    "print(\"------------------------------  scaled data  -----------------------------\")\n",
    "print(scaled_data)\n",
    "\n",
    "#print(\"-----------------------------------------------------------\")\n",
    "#print(scaled_data[:6])"
   ]
  },
  {
   "cell_type": "code",
   "execution_count": 32,
   "id": "c50971e0",
   "metadata": {},
   "outputs": [
    {
     "name": "stdout",
     "output_type": "stream",
     "text": [
      "-------------------------with class attribute----------------------------------\n",
      "[[ 1.66746974  0.53855124 -0.1012108  -0.36544952  0.42452117 -1.2637501 ]\n",
      " [ 0.43865363  1.67565429  0.57388449 -1.1436628  -0.7859493  -0.62260202]\n",
      " [-0.35002839  0.50674868  1.7044069  -1.05724214 -1.40090978  0.20429008]\n",
      " [-0.61088516 -1.24837012 -1.03599099  1.64593165  0.7531372   0.15630456]\n",
      " [ 0.39581502 -0.7728373  -1.28855944  0.85266589  1.54456636 -0.41719942]\n",
      " [-1.54102484 -0.6997468   0.14746984  0.06775692 -0.53536564  1.9429569 ]]\n"
     ]
    }
   ],
   "source": [
    "print(\"-------------------------with class attribute----------------------------------\")\n",
    "print(scaled_data1)"
   ]
  },
  {
   "cell_type": "code",
   "execution_count": 33,
   "id": "168d78e6",
   "metadata": {},
   "outputs": [
    {
     "name": "stdout",
     "output_type": "stream",
     "text": [
      "Shape before PCA:  (6, 5)\n",
      "Shape after PCA:  (6, 3)\n",
      "------------------------------  PCA  -----------------------------\n"
     ]
    },
    {
     "data": {
      "text/html": [
       "<div>\n",
       "<style scoped>\n",
       "    .dataframe tbody tr th:only-of-type {\n",
       "        vertical-align: middle;\n",
       "    }\n",
       "\n",
       "    .dataframe tbody tr th {\n",
       "        vertical-align: top;\n",
       "    }\n",
       "\n",
       "    .dataframe thead th {\n",
       "        text-align: right;\n",
       "    }\n",
       "</style>\n",
       "<table border=\"1\" class=\"dataframe\">\n",
       "  <thead>\n",
       "    <tr style=\"text-align: right;\">\n",
       "      <th></th>\n",
       "      <th>PC1</th>\n",
       "      <th>PC2</th>\n",
       "      <th>PC3</th>\n",
       "      <th>Class Attruibute</th>\n",
       "    </tr>\n",
       "  </thead>\n",
       "  <tbody>\n",
       "    <tr>\n",
       "      <th>0</th>\n",
       "      <td>-0.306794</td>\n",
       "      <td>1.782739</td>\n",
       "      <td>-0.332592</td>\n",
       "      <td>-0.544890</td>\n",
       "    </tr>\n",
       "    <tr>\n",
       "      <th>1</th>\n",
       "      <td>-2.097754</td>\n",
       "      <td>0.685044</td>\n",
       "      <td>0.611359</td>\n",
       "      <td>-0.236005</td>\n",
       "    </tr>\n",
       "    <tr>\n",
       "      <th>2</th>\n",
       "      <td>-2.319141</td>\n",
       "      <td>-0.870140</td>\n",
       "      <td>-0.471403</td>\n",
       "      <td>0.162365</td>\n",
       "    </tr>\n",
       "    <tr>\n",
       "      <th>3</th>\n",
       "      <td>2.393019</td>\n",
       "      <td>-0.640885</td>\n",
       "      <td>-0.015807</td>\n",
       "      <td>0.139247</td>\n",
       "    </tr>\n",
       "    <tr>\n",
       "      <th>4</th>\n",
       "      <td>2.191033</td>\n",
       "      <td>0.796169</td>\n",
       "      <td>0.046755</td>\n",
       "      <td>-0.137049</td>\n",
       "    </tr>\n",
       "    <tr>\n",
       "      <th>5</th>\n",
       "      <td>0.139637</td>\n",
       "      <td>-1.752927</td>\n",
       "      <td>0.161687</td>\n",
       "      <td>1.000000</td>\n",
       "    </tr>\n",
       "  </tbody>\n",
       "</table>\n",
       "</div>"
      ],
      "text/plain": [
       "        PC1       PC2       PC3  Class Attruibute\n",
       "0 -0.306794  1.782739 -0.332592         -0.544890\n",
       "1 -2.097754  0.685044  0.611359         -0.236005\n",
       "2 -2.319141 -0.870140 -0.471403          0.162365\n",
       "3  2.393019 -0.640885 -0.015807          0.139247\n",
       "4  2.191033  0.796169  0.046755         -0.137049\n",
       "5  0.139637 -1.752927  0.161687          1.000000"
      ]
     },
     "execution_count": 33,
     "metadata": {},
     "output_type": "execute_result"
    }
   ],
   "source": [
    "pca = PCA(n_components=3)\n",
    "\n",
    "pca_features = pca.fit_transform(scaled_data)\n",
    " \n",
    "print('Shape before PCA: ', scaled_data.shape)\n",
    "print('Shape after PCA: ', pca_features.shape)\n",
    " \n",
    "pca_df = pd.DataFrame(\n",
    "    data=pca_features, \n",
    "    columns=['PC1', 'PC2', 'PC3'])\n",
    "\n",
    "finalDf = pd.concat([pca_df, dataframeA['Class Attruibute']], axis = 1)\n",
    "\n",
    "#principalComponents = pca3.fit_transform(featuresVector)\n",
    "\n",
    "#principalComponentsTest = pca3.fit_transform(scaled_data)\n",
    "\n",
    "#principalDf = pd.DataFrame(data = principalComponents, columns = ['principal component 1', 'principal component 2', 'principal component 3'])\n",
    "\n",
    "#principalDfTest = pd.DataFrame(data = principalComponentsTest, columns = ['principal component 1', 'principal component 2', 'principal component 3'])\n",
    "\n",
    "#finalDf = pd.concat([principalDf, dataframeA['Class Attruibute']], axis = 1)\n",
    "#finalDf.head()\n",
    "\n",
    "#finalDfTest = pd.concat([principalDfTest, dataframeA['Class Attruibute']], axis = 1)\n",
    "\n",
    "print(\"------------------------------  PCA  -----------------------------\")\n",
    "finalDf\n",
    "\n",
    "#print(\"------------------------------  TEST PCA  -----------------------------\")\n",
    "#finalDfTest"
   ]
  },
  {
   "cell_type": "code",
   "execution_count": 34,
   "id": "4d02ee33",
   "metadata": {},
   "outputs": [
    {
     "data": {
      "text/plain": [
       "array([4.08395459, 1.70439145, 0.14703527])"
      ]
     },
     "execution_count": 34,
     "metadata": {},
     "output_type": "execute_result"
    }
   ],
   "source": [
    "pca.explained_variance_"
   ]
  },
  {
   "cell_type": "code",
   "execution_count": 20,
   "id": "727a54c3",
   "metadata": {},
   "outputs": [
    {
     "data": {
      "image/png": "[encoded data removed]",
      "text/plain": [
       "<Figure size 432x288 with 1 Axes>"
      ]
     },
     "metadata": {},
     "output_type": "display_data"
    }
   ],
   "source": [
    "import matplotlib.pyplot as plt \n",
    "import seaborn as sns \n",
    " \n",
    "from sklearn.decomposition import PCA\n",
    "sns.set()\n",
    "\n",
    "#reduce to 3 features\n",
    "pca = PCA(n_components=3)\n",
    "\n",
    "pca.fit_transform(scaled_data)\n",
    " \n",
    "# Bar plot of explained_variance\n",
    "plt.bar(\n",
    "    range(1,len(pca.explained_variance_)+1),\n",
    "    pca.explained_variance_\n",
    "    )\n",
    "\n",
    "plt.xlabel('PCA Feature')\n",
    "plt.ylabel('Explained variance')\n",
    "plt.title('Feature Explained Variance')\n",
    "plt.show()\n",
    "\n",
    "#from mpl_toolkits.mplot3d import Axes3D\n",
    "\n",
    "#fig = plt.figure(figsize=(9,9))\n",
    "#axes = Axes3D(fig)\n",
    "#axes.set_title('PCA Representation', size=14)\n",
    "#axes.set_xlabel('PC1')\n",
    "#axes.set_ylabel('PC2')\n",
    "#axes.set_zlabel('PC3')\n",
    "\n",
    "#axes.scatter(finalDf['principal component 1'],finalDf['principal component 2'],finalDf['principal component 3'],c=finalDf['Class Attruibute'], cmap = 'prism', s=10)\n",
    "\n",
    "#axes.scatter(finalDfTest['principal component 1'],finalDfTest['principal component 2'],finalDfTest['principal component 3'],c=finalDfTest['Class Attruibute'], cmap = 'prism', s=10)"
   ]
  },
  {
   "cell_type": "code",
   "execution_count": 39,
   "id": "09dbea84",
   "metadata": {},
   "outputs": [
    {
     "data": {
      "image/png": "[encoded data removed]",
      "text/plain": [
       "<Figure size 640x480 with 1 Axes>"
      ]
     },
     "metadata": {},
     "output_type": "display_data"
    },
    {
     "data": {
      "text/plain": [
       "array([-0.1012108 ,  0.57388449,  1.7044069 , -1.03599099, -1.28855944,\n",
       "        0.14746984])"
      ]
     },
     "execution_count": 39,
     "metadata": {},
     "output_type": "execute_result"
    }
   ],
   "source": [
    "#Understand the variance visually\n",
    "\n",
    "import numpy as np\n",
    "import matplotlib.pyplot as plt\n",
    " \n",
    "from mpl_toolkits import mplot3d\n",
    "plt.style.use('default')\n",
    " \n",
    "# Prepare 3D graph\n",
    "fig = plt.figure()\n",
    "ax = plt.axes(projection='3d')\n",
    " \n",
    "# Plot scaled features\n",
    "xdata = scaled_data[:,2]\n",
    "ydata = scaled_data[:,3]\n",
    "zdata = scaled_data[:,4]\n",
    " \n",
    "# Plot 3D plot\n",
    "ax.scatter3D(xdata, ydata, zdata, c=zdata, cmap='viridis')\n",
    " \n",
    "# Plot title of graph\n",
    "plt.title(f'3D Scatter of Meter A')\n",
    " \n",
    "# Plot x, y, z even ticks\n",
    "ticks = np.linspace(-3, 3, num=5)\n",
    "ax.set_xticks(ticks)\n",
    "ax.set_yticks(ticks)\n",
    "ax.set_zticks(ticks)\n",
    " \n",
    "# Plot x, y, z labels\n",
    "ax.set_xlabel('sepal_length', rotation=150)\n",
    "ax.set_ylabel('sepal_width')\n",
    "ax.set_zlabel('petal_length', rotation=60)\n",
    "plt.show()\n",
    "\n",
    "xdata"
   ]
  },
  {
   "cell_type": "code",
   "execution_count": 9,
   "id": "27de1929",
   "metadata": {},
   "outputs": [
    {
     "data": {
      "text/plain": [
       "array([[ 0.61926421,  0.8744026 ,  0.34689035, -1.07897358, -0.57447519,\n",
       "        -0.72424464],\n",
       "       [ 1.26568591, -0.20081479,  0.72770659,  0.49753805, -0.07538331,\n",
       "         0.51389539],\n",
       "       [-0.72307164,  1.14405203,  0.8133538 , -0.58293568, -0.35941165,\n",
       "        -0.76156117],\n",
       "       [ 0.83949536,  1.44103054,  1.28547229, -1.07556066, -0.32853473,\n",
       "        -0.78021736],\n",
       "       [ 0.75394177, -0.42023152, -0.42784716,  0.48829178,  0.17462883,\n",
       "         0.45925195],\n",
       "       [-0.55520046,  1.11091466, -1.07068843,  0.446757  ,  0.23341443,\n",
       "         0.11407127],\n",
       "       [ 0.91394953, -0.116951  ,  0.44101687,  1.03494881,  1.3513735 ,\n",
       "         1.10164496],\n",
       "       [ 0.97183229,  0.69805373, -0.5404972 ,  0.49256077, -0.12922045,\n",
       "         0.58853251],\n",
       "       [ 0.26349887,  1.58998431,  0.03569349, -1.0830574 , -0.92113414,\n",
       "        -0.75356504],\n",
       "       [ 0.96633885, -0.52023795, -1.52925023,  0.49727396, -0.31207834,\n",
       "         0.59252848],\n",
       "       [-1.37568327, -1.38509904,  0.54400579,  0.44797401,  0.49086282,\n",
       "        -0.32041221],\n",
       "       [ 0.68733237,  0.71354999,  1.11123856, -1.07096696, -0.92981497,\n",
       "        -0.77355872],\n",
       "       [-1.34692589, -2.05238566, -0.80306438,  0.44510545, -0.13589394,\n",
       "        -0.18713568],\n",
       "       [-1.62099727, -0.5451201 , -0.03496766, -1.11636302, -0.19872135,\n",
       "        -1.50524627],\n",
       "       [ 0.16522093,  2.05794047,  0.73730669, -1.60964337, -1.45523163,\n",
       "        -1.06809881],\n",
       "       [ 0.31404974,  1.05605386,  1.09952638, -1.08078495, -0.67049903,\n",
       "        -0.76955589],\n",
       "       [-0.7685666 ,  1.21681616,  0.5348113 , -1.09118444, -0.63218586,\n",
       "        -1.00279664],\n",
       "       [ 0.97739423,  0.39185905,  0.49621333, -0.54148287, -0.18056844,\n",
       "        -0.44303411],\n",
       "       [-1.69383727, -0.42387072,  1.92060796, -1.1163744 , -0.51150662,\n",
       "        -1.40795833],\n",
       "       [-1.60157795, -1.62421891, -0.79811554,  0.44097752,  0.42978759,\n",
       "        -0.20446398],\n",
       "       [-0.82345289,  1.99109906,  0.86716439, -1.09374596, -0.68311039,\n",
       "        -1.06010407],\n",
       "       [ 0.73684182,  1.73604422,  2.65236683, -1.07678944, -0.40420015,\n",
       "        -0.75756241],\n",
       "       [-0.54486534,  0.80983707, -0.58560843,  0.44806528, -0.03723979,\n",
       "         0.18204016],\n",
       "       [ 0.50604703,  0.54708998,  2.13797189, -1.07793279, -0.44873486,\n",
       "        -0.73223527],\n",
       "       [ 1.19884212,  0.14804991,  0.32127141,  0.49296808, -0.13594959,\n",
       "         0.55920254]])"
      ]
     },
     "execution_count": 9,
     "metadata": {},
     "output_type": "execute_result"
    }
   ],
   "source": [
    "#Splitting dataset into Train and Test Sets\n",
    "\n",
    "X = dataframeA.drop('Class Attruibute',axis=1).values\n",
    "y = dataframeA['Class Attruibute'].values\n",
    "\n",
    "X_train, X_test, y_train, y_test = train_test_split(X,y, test_size=0.3,random_state=0)\n",
    "\n",
    "scaler = StandardScaler()\n",
    "\n",
    "# Fit on training set only.\n",
    "scaler.fit(X_train)\n",
    "\n",
    "# Apply transform to both the training set and the test set.\n",
    "X_train_pca = scaler.transform(X_train)\n",
    "X_test_pca = scaler.transform(X_test)\n",
    "\n",
    "\n",
    "X_train_pca\n",
    "\n",
    "X_test_pca"
   ]
  },
  {
   "cell_type": "code",
   "execution_count": 10,
   "id": "a69e100b",
   "metadata": {},
   "outputs": [
    {
     "name": "stdout",
     "output_type": "stream",
     "text": [
      "\"Accuracy for our Training dataset with PCA is: 87.9310 %\n",
      "CPU times: total: 0 ns\n",
      "Wall time: 5 ms\n"
     ]
    }
   ],
   "source": [
    "%%time\n",
    "\n",
    "logisticRegr = LogisticRegression()\n",
    "logisticRegr.fit(X_train_pca,y_train)\n",
    "\n",
    "y_train_hat =logisticRegr.predict(X_train_pca)\n",
    "train_accuracy = accuracy_score(y_train, y_train_hat)*100\n",
    "print('\"Accuracy for our Training dataset with PCA is: %.4f %%' % train_accuracy)"
   ]
  },
  {
   "cell_type": "code",
   "execution_count": 11,
   "id": "0c75d044",
   "metadata": {},
   "outputs": [
    {
     "name": "stdout",
     "output_type": "stream",
     "text": [
      "Accuracy for our Testing dataset with PCA is : 72.000%\n"
     ]
    }
   ],
   "source": [
    "y_test_hat=logisticRegr.predict(X_test_pca)\n",
    "test_accuracy=accuracy_score(y_test,y_test_hat)*100\n",
    "test_accuracy\n",
    "print(\"Accuracy for our Testing dataset with PCA is : {:.3f}%\".format(test_accuracy) )"
   ]
  },
  {
   "cell_type": "code",
   "execution_count": 12,
   "id": "67c30070",
   "metadata": {},
   "outputs": [],
   "source": [
    "# PCA\n",
    "\n",
    "#pca = PCA(n_components=6)\n",
    "#pca.fit(scaled_data)\n",
    "#scale_data_pca = pca.transform(scaled_data)\n",
    "\n",
    "#scale_data_pca\n",
    "\n",
    "# split data table into data X and class labels y\n",
    "\n",
    "#test = dataframeA.iloc[:,1:6].values\n",
    "#y = dataframeA.iloc[:,7].values\n",
    "#y"
   ]
  },
  {
   "cell_type": "code",
   "execution_count": 13,
   "id": "d69acda7",
   "metadata": {},
   "outputs": [],
   "source": [
    "# Calculate cumulative explained variance across all PCs\n",
    "\n",
    "#cum_exp_var = []\n",
    "#var_exp = 0\n",
    "#for i in pca.explained_variance_ratio_:\n",
    "    #var_exp += i\n",
    "    #cum_exp_var.append(var_exp)\n",
    "\n",
    "# Plot cumulative explained variance for all PCs\n",
    "\n",
    "#fig, ax = plt.subplots(figsize=(8,6))\n",
    "#ax.bar(range(1,7), cum_exp_var)\n",
    "#ax.set_xlabel('# Principal Components')\n",
    "#ax.set_ylabel('% Cumulative Variance Explained');\n"
   ]
  },
  {
   "cell_type": "code",
   "execution_count": 14,
   "id": "98d8b2bc",
   "metadata": {},
   "outputs": [],
   "source": [
    "#obtain covariance matrix\n",
    "#features = scaled_data.T\n",
    "#cov_matrix = np.cov(features)\n",
    "#cov_matrix[:10]"
   ]
  },
  {
   "cell_type": "code",
   "execution_count": 15,
   "id": "850b95ae",
   "metadata": {},
   "outputs": [],
   "source": [
    "#eigendecomposition\n",
    "#returns a tuple, where the first element represents eigenvalues and \n",
    "#the second one represents eigenvectors\n",
    "#values, vectors = np.linalg.eig(cov_matrix)\n",
    "#values[:10]"
   ]
  },
  {
   "cell_type": "code",
   "execution_count": 16,
   "id": "202f13bd",
   "metadata": {},
   "outputs": [],
   "source": [
    "#vectors[:10]"
   ]
  },
  {
   "cell_type": "code",
   "execution_count": 17,
   "id": "e7fceb12",
   "metadata": {},
   "outputs": [
    {
     "ename": "NameError",
     "evalue": "name 'explained_variances' is not defined",
     "output_type": "error",
     "traceback": [
      "\u001b[1;31m---------------------------------------------------------------------------\u001b[0m",
      "\u001b[1;31mNameError\u001b[0m                                 Traceback (most recent call last)",
      "Input \u001b[1;32mIn [17]\u001b[0m, in \u001b[0;36m<module>\u001b[1;34m\u001b[0m\n\u001b[0;32m      1\u001b[0m \u001b[38;5;66;03m#calculate the percentage of explained variance per principal component\u001b[39;00m\n\u001b[0;32m      2\u001b[0m \n\u001b[0;32m      3\u001b[0m \u001b[38;5;66;03m#explained_variances = []\u001b[39;00m\n\u001b[0;32m      4\u001b[0m \u001b[38;5;66;03m#for i in range(len(values)):\u001b[39;00m\n\u001b[0;32m      5\u001b[0m     \u001b[38;5;66;03m#explained_variances.append(values[i] / np.sum(values))\u001b[39;00m\n\u001b[1;32m----> 7\u001b[0m \u001b[38;5;28mprint\u001b[39m(np\u001b[38;5;241m.\u001b[39msum(\u001b[43mexplained_variances\u001b[49m), \u001b[38;5;124m'\u001b[39m\u001b[38;5;130;01m\\n\u001b[39;00m\u001b[38;5;124m'\u001b[39m, explained_variances)\n",
      "\u001b[1;31mNameError\u001b[0m: name 'explained_variances' is not defined"
     ]
    }
   ],
   "source": [
    "#calculate the percentage of explained variance per principal component\n",
    "\n",
    "#explained_variances = []\n",
    "#for i in range(len(values)):\n",
    "    #explained_variances.append(values[i] / np.sum(values))\n",
    " \n",
    "#print(np.sum(explained_variances), '\\n', explained_variances)\n",
    "\n",
    "#first value is just the sum of explained variances and must be equal to 1\n",
    "#second value is an array: \n",
    "#representing the explained variance percentage per principal component"
   ]
  },
  {
   "cell_type": "code",
   "execution_count": null,
   "id": "9fb16028",
   "metadata": {},
   "outputs": [],
   "source": [
    "#projected_1 = scaled_data.dot(vectors.T[0])\n",
    "#projected_2 = scaled_data.dot(vectors.T[1])\n",
    "#res = pd.DataFrame(projected_1, columns=['PC1'])\n",
    "#res['PC2'] = projected_2\n",
    "#res['Class Attruibute'] = y\n",
    "#res.head()"
   ]
  },
  {
   "cell_type": "code",
   "execution_count": null,
   "id": "cb0ade99",
   "metadata": {},
   "outputs": [],
   "source": [
    "#pca3 = PCA(n_components=3)\n",
    "#principalComponents = pca3.fit_transform(scaled_data)\n",
    "\n",
    "#principalDf = pd.DataFrame(data = principalComponents, columns = ['principal component 1', 'principal component 2', 'principal component 3'])\n",
    "\n",
    "#finalDf = pd.concat([principalDf, df[['Class Attruibute']]], axis = 1)\n",
    "#finalDf"
   ]
  },
  {
   "cell_type": "code",
   "execution_count": null,
   "id": "41431c4f",
   "metadata": {},
   "outputs": [],
   "source": [
    "#from mpl_toolkits.mplot3d import Axes3D\n",
    "\n",
    "#fig = plt.figure(figsize=(9,9))\n",
    "#axes = Axes3D(fig)\n",
    "#axes.set_title('PCA Representation', size=14)\n",
    "#axes.set_xlabel('PC1')\n",
    "#axes.set_ylabel('PC2')\n",
    "#axes.set_zlabel('PC3')\n",
    "\n",
    "#axes.scatter(finalDf['principal component 1'],finalDf['principal component 2'],finalDf['principal component 3'],c=finalDf['Class Attruibute'], cmap = 'prism', s=10)"
   ]
  },
  {
   "cell_type": "code",
   "execution_count": null,
   "id": "80ab8cd2",
   "metadata": {},
   "outputs": [],
   "source": []
  }
 ],
 "metadata": {
  "kernelspec": {
   "display_name": "Python 3 (ipykernel)",
   "language": "python",
   "name": "python3"
  },
  "language_info": {
   "codemirror_mode": {
    "name": "ipython",
    "version": 3
   },
   "file_extension": ".py",
   "mimetype": "text/x-python",
   "name": "python",
   "nbconvert_exporter": "python",
   "pygments_lexer": "ipython3",
   "version": "3.10.4"
  }
 },
 "nbformat": 4,
 "nbformat_minor": 5
}
