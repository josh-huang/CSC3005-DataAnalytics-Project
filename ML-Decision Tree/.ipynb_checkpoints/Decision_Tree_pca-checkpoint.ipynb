{
 "cells": [
  {
   "cell_type": "markdown",
   "id": "772f5d09",
   "metadata": {},
   "source": [
    "# Dataset A"
   ]
  },
  {
   "cell_type": "code",
   "execution_count": 1,
   "id": "1c1a4920",
   "metadata": {},
   "outputs": [
    {
     "data": {
      "text/html": [
       "<div>\n",
       "<style scoped>\n",
       "    .dataframe tbody tr th:only-of-type {\n",
       "        vertical-align: middle;\n",
       "    }\n",
       "\n",
       "    .dataframe tbody tr th {\n",
       "        vertical-align: top;\n",
       "    }\n",
       "\n",
       "    .dataframe thead th {\n",
       "        text-align: right;\n",
       "    }\n",
       "</style>\n",
       "<table border=\"1\" class=\"dataframe\">\n",
       "  <thead>\n",
       "    <tr style=\"text-align: right;\">\n",
       "      <th></th>\n",
       "      <th>PC1</th>\n",
       "      <th>PC2</th>\n",
       "      <th>PC3</th>\n",
       "      <th>Class Attruibute</th>\n",
       "    </tr>\n",
       "  </thead>\n",
       "  <tbody>\n",
       "    <tr>\n",
       "      <th>0</th>\n",
       "      <td>-0.526258</td>\n",
       "      <td>5.566278</td>\n",
       "      <td>0.389358</td>\n",
       "      <td>1</td>\n",
       "    </tr>\n",
       "    <tr>\n",
       "      <th>1</th>\n",
       "      <td>1.016687</td>\n",
       "      <td>3.352036</td>\n",
       "      <td>0.894510</td>\n",
       "      <td>1</td>\n",
       "    </tr>\n",
       "    <tr>\n",
       "      <th>2</th>\n",
       "      <td>1.058280</td>\n",
       "      <td>1.844760</td>\n",
       "      <td>0.667599</td>\n",
       "      <td>1</td>\n",
       "    </tr>\n",
       "    <tr>\n",
       "      <th>3</th>\n",
       "      <td>-0.173012</td>\n",
       "      <td>1.540431</td>\n",
       "      <td>-0.850760</td>\n",
       "      <td>1</td>\n",
       "    </tr>\n",
       "    <tr>\n",
       "      <th>4</th>\n",
       "      <td>-0.280666</td>\n",
       "      <td>1.219715</td>\n",
       "      <td>-1.401910</td>\n",
       "      <td>1</td>\n",
       "    </tr>\n",
       "    <tr>\n",
       "      <th>...</th>\n",
       "      <td>...</td>\n",
       "      <td>...</td>\n",
       "      <td>...</td>\n",
       "      <td>...</td>\n",
       "    </tr>\n",
       "    <tr>\n",
       "      <th>78</th>\n",
       "      <td>0.724850</td>\n",
       "      <td>-3.055172</td>\n",
       "      <td>0.638940</td>\n",
       "      <td>2</td>\n",
       "    </tr>\n",
       "    <tr>\n",
       "      <th>79</th>\n",
       "      <td>0.965500</td>\n",
       "      <td>-3.437027</td>\n",
       "      <td>0.754479</td>\n",
       "      <td>2</td>\n",
       "    </tr>\n",
       "    <tr>\n",
       "      <th>80</th>\n",
       "      <td>0.177245</td>\n",
       "      <td>-3.400804</td>\n",
       "      <td>0.782970</td>\n",
       "      <td>2</td>\n",
       "    </tr>\n",
       "    <tr>\n",
       "      <th>81</th>\n",
       "      <td>0.471616</td>\n",
       "      <td>-2.909196</td>\n",
       "      <td>0.075192</td>\n",
       "      <td>2</td>\n",
       "    </tr>\n",
       "    <tr>\n",
       "      <th>82</th>\n",
       "      <td>0.042004</td>\n",
       "      <td>-2.488026</td>\n",
       "      <td>0.028047</td>\n",
       "      <td>2</td>\n",
       "    </tr>\n",
       "  </tbody>\n",
       "</table>\n",
       "<p>83 rows × 4 columns</p>\n",
       "</div>"
      ],
      "text/plain": [
       "         PC1       PC2       PC3  Class Attruibute\n",
       "0  -0.526258  5.566278  0.389358                 1\n",
       "1   1.016687  3.352036  0.894510                 1\n",
       "2   1.058280  1.844760  0.667599                 1\n",
       "3  -0.173012  1.540431 -0.850760                 1\n",
       "4  -0.280666  1.219715 -1.401910                 1\n",
       "..       ...       ...       ...               ...\n",
       "78  0.724850 -3.055172  0.638940                 2\n",
       "79  0.965500 -3.437027  0.754479                 2\n",
       "80  0.177245 -3.400804  0.782970                 2\n",
       "81  0.471616 -2.909196  0.075192                 2\n",
       "82  0.042004 -2.488026  0.028047                 2\n",
       "\n",
       "[83 rows x 4 columns]"
      ]
     },
     "execution_count": 1,
     "metadata": {},
     "output_type": "execute_result"
    }
   ],
   "source": [
    "import pandas as pd\n",
    "import numpy as np\n",
    "\n",
    "#load in the data\n",
    "\n",
    "dataframeA = pd.read_csv('../5. Dataset PCA/MeterA_pca_3.csv')\n",
    "#display(dataframeA.head())\n",
    "dataframeA.head()\n",
    "\n",
    "dataframeA = dataframeA.drop('Unnamed: 0', axis=1)\n",
    "\n",
    "# yLbl is Class Attruibute labels\n",
    "\n",
    "# yLbl = dataframeA[['Class Attruibute']]\n",
    "\n",
    "#featuresVector\n",
    "dataframeA"
   ]
  },
  {
   "cell_type": "code",
   "execution_count": 2,
   "id": "6448a4e5",
   "metadata": {},
   "outputs": [
    {
     "data": {
      "text/html": [
       "<div>\n",
       "<style scoped>\n",
       "    .dataframe tbody tr th:only-of-type {\n",
       "        vertical-align: middle;\n",
       "    }\n",
       "\n",
       "    .dataframe tbody tr th {\n",
       "        vertical-align: top;\n",
       "    }\n",
       "\n",
       "    .dataframe thead th {\n",
       "        text-align: right;\n",
       "    }\n",
       "</style>\n",
       "<table border=\"1\" class=\"dataframe\">\n",
       "  <thead>\n",
       "    <tr style=\"text-align: right;\">\n",
       "      <th></th>\n",
       "      <th>PC1</th>\n",
       "      <th>PC2</th>\n",
       "      <th>PC3</th>\n",
       "      <th>Class Attruibute</th>\n",
       "    </tr>\n",
       "  </thead>\n",
       "  <tbody>\n",
       "    <tr>\n",
       "      <th>0</th>\n",
       "      <td>-0.526258</td>\n",
       "      <td>5.566278</td>\n",
       "      <td>0.389358</td>\n",
       "      <td>Healthy</td>\n",
       "    </tr>\n",
       "    <tr>\n",
       "      <th>1</th>\n",
       "      <td>1.016687</td>\n",
       "      <td>3.352036</td>\n",
       "      <td>0.894510</td>\n",
       "      <td>Healthy</td>\n",
       "    </tr>\n",
       "    <tr>\n",
       "      <th>2</th>\n",
       "      <td>1.058280</td>\n",
       "      <td>1.844760</td>\n",
       "      <td>0.667599</td>\n",
       "      <td>Healthy</td>\n",
       "    </tr>\n",
       "    <tr>\n",
       "      <th>3</th>\n",
       "      <td>-0.173012</td>\n",
       "      <td>1.540431</td>\n",
       "      <td>-0.850760</td>\n",
       "      <td>Healthy</td>\n",
       "    </tr>\n",
       "    <tr>\n",
       "      <th>4</th>\n",
       "      <td>-0.280666</td>\n",
       "      <td>1.219715</td>\n",
       "      <td>-1.401910</td>\n",
       "      <td>Healthy</td>\n",
       "    </tr>\n",
       "    <tr>\n",
       "      <th>...</th>\n",
       "      <td>...</td>\n",
       "      <td>...</td>\n",
       "      <td>...</td>\n",
       "      <td>...</td>\n",
       "    </tr>\n",
       "    <tr>\n",
       "      <th>78</th>\n",
       "      <td>0.724850</td>\n",
       "      <td>-3.055172</td>\n",
       "      <td>0.638940</td>\n",
       "      <td>Installation effects</td>\n",
       "    </tr>\n",
       "    <tr>\n",
       "      <th>79</th>\n",
       "      <td>0.965500</td>\n",
       "      <td>-3.437027</td>\n",
       "      <td>0.754479</td>\n",
       "      <td>Installation effects</td>\n",
       "    </tr>\n",
       "    <tr>\n",
       "      <th>80</th>\n",
       "      <td>0.177245</td>\n",
       "      <td>-3.400804</td>\n",
       "      <td>0.782970</td>\n",
       "      <td>Installation effects</td>\n",
       "    </tr>\n",
       "    <tr>\n",
       "      <th>81</th>\n",
       "      <td>0.471616</td>\n",
       "      <td>-2.909196</td>\n",
       "      <td>0.075192</td>\n",
       "      <td>Installation effects</td>\n",
       "    </tr>\n",
       "    <tr>\n",
       "      <th>82</th>\n",
       "      <td>0.042004</td>\n",
       "      <td>-2.488026</td>\n",
       "      <td>0.028047</td>\n",
       "      <td>Installation effects</td>\n",
       "    </tr>\n",
       "  </tbody>\n",
       "</table>\n",
       "<p>83 rows × 4 columns</p>\n",
       "</div>"
      ],
      "text/plain": [
       "         PC1       PC2       PC3      Class Attruibute\n",
       "0  -0.526258  5.566278  0.389358               Healthy\n",
       "1   1.016687  3.352036  0.894510               Healthy\n",
       "2   1.058280  1.844760  0.667599               Healthy\n",
       "3  -0.173012  1.540431 -0.850760               Healthy\n",
       "4  -0.280666  1.219715 -1.401910               Healthy\n",
       "..       ...       ...       ...                   ...\n",
       "78  0.724850 -3.055172  0.638940  Installation effects\n",
       "79  0.965500 -3.437027  0.754479  Installation effects\n",
       "80  0.177245 -3.400804  0.782970  Installation effects\n",
       "81  0.471616 -2.909196  0.075192  Installation effects\n",
       "82  0.042004 -2.488026  0.028047  Installation effects\n",
       "\n",
       "[83 rows x 4 columns]"
      ]
     },
     "execution_count": 2,
     "metadata": {},
     "output_type": "execute_result"
    }
   ],
   "source": [
    "dataframeA['Class Attruibute'] = dataframeA['Class Attruibute'].replace([1],'Healthy')\n",
    "dataframeA['Class Attruibute'] = dataframeA['Class Attruibute'].replace([2],'Installation effects')\n",
    "dataframeA"
   ]
  },
  {
   "cell_type": "markdown",
   "id": "8795478f",
   "metadata": {},
   "source": [
    "**Split the dataset into training and testing set with 70:30 split ratio**"
   ]
  },
  {
   "cell_type": "code",
   "execution_count": 3,
   "id": "fa7c7ab0",
   "metadata": {
    "scrolled": false
   },
   "outputs": [
    {
     "name": "stdout",
     "output_type": "stream",
     "text": [
      "         PC1       PC2       PC3\n",
      "0  -0.526258  5.566278  0.389358\n",
      "1   1.016687  3.352036  0.894510\n",
      "2   1.058280  1.844760  0.667599\n",
      "3  -0.173012  1.540431 -0.850760\n",
      "4  -0.280666  1.219715 -1.401910\n",
      "..       ...       ...       ...\n",
      "78  0.724850 -3.055172  0.638940\n",
      "79  0.965500 -3.437027  0.754479\n",
      "80  0.177245 -3.400804  0.782970\n",
      "81  0.471616 -2.909196  0.075192\n",
      "82  0.042004 -2.488026  0.028047\n",
      "\n",
      "[83 rows x 3 columns]\n",
      "0                  Healthy\n",
      "1                  Healthy\n",
      "2                  Healthy\n",
      "3                  Healthy\n",
      "4                  Healthy\n",
      "              ...         \n",
      "78    Installation effects\n",
      "79    Installation effects\n",
      "80    Installation effects\n",
      "81    Installation effects\n",
      "82    Installation effects\n",
      "Name: Class Attruibute, Length: 83, dtype: object\n"
     ]
    }
   ],
   "source": [
    "from sklearn import tree\n",
    "\n",
    "#Y = data['Class']\n",
    "#X = data.drop(['Name','Class'],axis=1)\n",
    "\n",
    "#clf = tree.DecisionTreeClassifier(criterion='entropy',max_depth=3)\n",
    "#clf = clf.fit(X, Y)\n",
    "\n",
    "#extract features and target variables\n",
    "x = dataframeA.drop(columns=\"Class Attruibute\")\n",
    "y = dataframeA[\"Class Attruibute\"]\n",
    "#save the feature name and target variables\n",
    "feature_names = x.columns\n",
    "labels = y.unique()\n",
    "labels.sort()\n",
    "\n",
    "#split the dataset\n",
    "from sklearn.model_selection import train_test_split\n",
    "X_train, test_x, y_train, test_lab = train_test_split(x,y,\n",
    "                                                 test_size = 0.3,\n",
    "                                                 random_state = 42)\n",
    "\n",
    "print(x)\n",
    "\n",
    "print(y)"
   ]
  },
  {
   "cell_type": "markdown",
   "id": "c0b3cc30",
   "metadata": {},
   "source": [
    "**Plot the graph with 17 different depths**"
   ]
  },
  {
   "cell_type": "code",
   "execution_count": 4,
   "id": "1755ea42",
   "metadata": {
    "scrolled": true
   },
   "outputs": [
    {
     "data": {
      "text/plain": [
       "Text(0, 0.5, 'Accuracy')"
      ]
     },
     "execution_count": 4,
     "metadata": {},
     "output_type": "execute_result"
    },
    {
     "data": {
      "image/png": "[encoded data removed]",
      "text/plain": [
       "<Figure size 432x288 with 1 Axes>"
      ]
     },
     "metadata": {
      "needs_background": "light"
     },
     "output_type": "display_data"
    }
   ],
   "source": [
    "from sklearn.metrics import accuracy_score\n",
    "import matplotlib.pyplot as plt\n",
    "maxdepths = [2,3,4,5,6,7,8,9,10,15,20,25,30,35,40,45,50]  # 17 different depths\n",
    "\n",
    "trainAccuracy = np.zeros(len(maxdepths))\n",
    "testAccuracy = np.zeros(len(maxdepths))\n",
    "\n",
    "index = 0\n",
    "for depth in maxdepths:\n",
    "    clf2 = tree.DecisionTreeClassifier(max_depth=depth)\n",
    "    clf2 = clf2.fit(X_train, y_train)\n",
    "    Y_predTrain = clf2.predict(X_train)\n",
    "    Y_predTest = clf2.predict(test_x)\n",
    "    trainAccuracy[index] = accuracy_score(y_train, Y_predTrain)\n",
    "    testAccuracy[index] = accuracy_score(test_lab, Y_predTest)\n",
    "    index += 1\n",
    "    \n",
    "###########################################################################\n",
    "# Plot training and test accuracies\n",
    "##########################################################################\n",
    "    \n",
    "plt.plot(maxdepths,trainAccuracy,'ro-',maxdepths,testAccuracy,'bv--')\n",
    "plt.legend(['Training Accuracy','Test Accuracy'])\n",
    "plt.xlabel('Max depth')\n",
    "plt.ylabel('Accuracy')"
   ]
  },
  {
   "cell_type": "code",
   "execution_count": 5,
   "id": "11cfb65c",
   "metadata": {},
   "outputs": [
    {
     "data": {
      "text/plain": [
       "DecisionTreeClassifier(max_depth=3, random_state=42)"
      ]
     },
     "execution_count": 5,
     "metadata": {},
     "output_type": "execute_result"
    }
   ],
   "source": [
    "from sklearn.tree import DecisionTreeClassifier\n",
    "# As can see from the above plot we choose max_depth=3\n",
    "clf = DecisionTreeClassifier(max_depth =3, random_state = 42)\n",
    "clf.fit(X_train, y_train)"
   ]
  },
  {
   "cell_type": "markdown",
   "id": "ad5c8684",
   "metadata": {},
   "source": [
    "**Plot the tree structure**"
   ]
  },
  {
   "cell_type": "code",
   "execution_count": 6,
   "id": "abc85934",
   "metadata": {
    "scrolled": true
   },
   "outputs": [
    {
     "data": {
      "image/png": "[encoded data removed]",
      "text/plain": [
       "<Figure size 2160x720 with 1 Axes>"
      ]
     },
     "metadata": {},
     "output_type": "display_data"
    }
   ],
   "source": [
    "#import relevant packages\n",
    "from sklearn import tree\n",
    "import matplotlib.pyplot as plt\n",
    "#plt the figure, setting a black background\n",
    "plt.figure(figsize=(30,10), facecolor ='w')\n",
    "#create the tree plot\n",
    "a = tree.plot_tree(clf,\n",
    "                   #use the feature names stored\n",
    "                   feature_names = feature_names,\n",
    "                   #use the class names stored\n",
    "                   class_names = labels,\n",
    "                   rounded = True,\n",
    "                   filled = True,\n",
    "                   fontsize=14)\n",
    "#show the plot\n",
    "plt.show()\n"
   ]
  },
  {
   "cell_type": "code",
   "execution_count": 7,
   "id": "b7a31100",
   "metadata": {},
   "outputs": [
    {
     "name": "stdout",
     "output_type": "stream",
     "text": [
      "|--- PC2 <= -1.17\n",
      "|   |--- class: Installation effects\n",
      "|--- PC2 >  -1.17\n",
      "|   |--- PC3 <= -1.15\n",
      "|   |   |--- class: Installation effects\n",
      "|   |--- PC3 >  -1.15\n",
      "|   |   |--- PC3 <= 0.19\n",
      "|   |   |   |--- class: Healthy\n",
      "|   |   |--- PC3 >  0.19\n",
      "|   |   |   |--- class: Installation effects\n",
      "\n"
     ]
    }
   ],
   "source": [
    "# As a text based diagram\n",
    "#import relevant functions\n",
    "from sklearn.tree import export_text\n",
    "#export the decision rules\n",
    "tree_rules = export_text(clf,\n",
    "                        feature_names = list(feature_names))\n",
    "#print the result\n",
    "print(tree_rules)"
   ]
  },
  {
   "cell_type": "code",
   "execution_count": 8,
   "id": "ed3dd018",
   "metadata": {},
   "outputs": [],
   "source": [
    "#predict the class from the test values\n",
    "test_pred_decision_tree = clf.predict(test_x)"
   ]
  },
  {
   "cell_type": "code",
   "execution_count": 9,
   "id": "47dca8bc",
   "metadata": {},
   "outputs": [
    {
     "data": {
      "image/png": "[encoded data removed]",
      "text/plain": [
       "<Figure size 432x288 with 2 Axes>"
      ]
     },
     "metadata": {
      "needs_background": "light"
     },
     "output_type": "display_data"
    },
    {
     "data": {
      "text/plain": [
       "<Figure size 720x504 with 0 Axes>"
      ]
     },
     "metadata": {},
     "output_type": "display_data"
    }
   ],
   "source": [
    "#import the relevant packages\n",
    "from sklearn import metrics\n",
    "import seaborn as sns\n",
    "import matplotlib.pyplot as plt\n",
    "#get the confusion matrix\n",
    "confusion_matrix = metrics.confusion_matrix(test_lab,  \n",
    "                                            test_pred_decision_tree)\n",
    "#turn this into a dataframe\n",
    "matrix_df = pd.DataFrame(confusion_matrix)\n",
    "#plot the result\n",
    "ax = plt.axes()\n",
    "sns.set(font_scale=1.3)\n",
    "plt.figure(figsize=(10,7))\n",
    "sns.heatmap(matrix_df, annot=True, fmt=\"g\", ax=ax, cmap=\"magma\")\n",
    "#set axis titles\n",
    "ax.set_title('Confusion Matrix - Decision Tree')\n",
    "ax.set_xlabel(\"Predicted label\", fontsize =15)\n",
    "ax.set_xticklabels(['']+labels)\n",
    "ax.set_ylabel(\"True Label\", fontsize=15)\n",
    "ax.set_yticklabels(list(labels), rotation = 0)\n",
    "plt.show()"
   ]
  },
  {
   "cell_type": "code",
   "execution_count": 10,
   "id": "2b809612",
   "metadata": {},
   "outputs": [
    {
     "data": {
      "text/plain": [
       "0.56"
      ]
     },
     "execution_count": 10,
     "metadata": {},
     "output_type": "execute_result"
    }
   ],
   "source": [
    "metrics.accuracy_score(test_lab, test_pred_decision_tree)"
   ]
  },
  {
   "cell_type": "code",
   "execution_count": 11,
   "id": "5af51260",
   "metadata": {
    "scrolled": true
   },
   "outputs": [
    {
     "name": "stdout",
     "output_type": "stream",
     "text": [
      "                      precision    recall  f1-score   support\n",
      "\n",
      "             Healthy       0.50      0.36      0.42        11\n",
      "Installation effects       0.59      0.71      0.65        14\n",
      "\n",
      "            accuracy                           0.56        25\n",
      "           macro avg       0.54      0.54      0.53        25\n",
      "        weighted avg       0.55      0.56      0.55        25\n",
      "\n"
     ]
    }
   ],
   "source": [
    "print(metrics.classification_report(test_lab,\n",
    "                                    test_pred_decision_tree))"
   ]
  },
  {
   "cell_type": "markdown",
   "id": "2e341b60",
   "metadata": {},
   "source": [
    "# Dataset B"
   ]
  },
  {
   "cell_type": "code",
   "execution_count": 12,
   "id": "5e08f5b3",
   "metadata": {},
   "outputs": [
    {
     "data": {
      "text/html": [
       "<div>\n",
       "<style scoped>\n",
       "    .dataframe tbody tr th:only-of-type {\n",
       "        vertical-align: middle;\n",
       "    }\n",
       "\n",
       "    .dataframe tbody tr th {\n",
       "        vertical-align: top;\n",
       "    }\n",
       "\n",
       "    .dataframe thead th {\n",
       "        text-align: right;\n",
       "    }\n",
       "</style>\n",
       "<table border=\"1\" class=\"dataframe\">\n",
       "  <thead>\n",
       "    <tr style=\"text-align: right;\">\n",
       "      <th></th>\n",
       "      <th>PC1</th>\n",
       "      <th>PC2</th>\n",
       "      <th>PC3</th>\n",
       "      <th>PC4</th>\n",
       "      <th>PC5</th>\n",
       "      <th>Class Attruibute</th>\n",
       "    </tr>\n",
       "  </thead>\n",
       "  <tbody>\n",
       "    <tr>\n",
       "      <th>0</th>\n",
       "      <td>0.914365</td>\n",
       "      <td>-2.162769</td>\n",
       "      <td>0.436334</td>\n",
       "      <td>0.232154</td>\n",
       "      <td>-0.871197</td>\n",
       "      <td>1</td>\n",
       "    </tr>\n",
       "    <tr>\n",
       "      <th>1</th>\n",
       "      <td>0.866350</td>\n",
       "      <td>-2.170359</td>\n",
       "      <td>0.444587</td>\n",
       "      <td>0.242245</td>\n",
       "      <td>-0.847809</td>\n",
       "      <td>1</td>\n",
       "    </tr>\n",
       "    <tr>\n",
       "      <th>2</th>\n",
       "      <td>0.827614</td>\n",
       "      <td>-2.131012</td>\n",
       "      <td>0.144530</td>\n",
       "      <td>0.054445</td>\n",
       "      <td>-0.789386</td>\n",
       "      <td>1</td>\n",
       "    </tr>\n",
       "    <tr>\n",
       "      <th>3</th>\n",
       "      <td>0.808412</td>\n",
       "      <td>-2.068897</td>\n",
       "      <td>0.125245</td>\n",
       "      <td>0.036260</td>\n",
       "      <td>-0.780441</td>\n",
       "      <td>1</td>\n",
       "    </tr>\n",
       "    <tr>\n",
       "      <th>4</th>\n",
       "      <td>0.839467</td>\n",
       "      <td>-2.162049</td>\n",
       "      <td>0.158651</td>\n",
       "      <td>0.071625</td>\n",
       "      <td>-0.810679</td>\n",
       "      <td>1</td>\n",
       "    </tr>\n",
       "    <tr>\n",
       "      <th>...</th>\n",
       "      <td>...</td>\n",
       "      <td>...</td>\n",
       "      <td>...</td>\n",
       "      <td>...</td>\n",
       "      <td>...</td>\n",
       "      <td>...</td>\n",
       "    </tr>\n",
       "    <tr>\n",
       "      <th>63</th>\n",
       "      <td>-2.429585</td>\n",
       "      <td>0.832941</td>\n",
       "      <td>-0.426300</td>\n",
       "      <td>-0.064970</td>\n",
       "      <td>0.232033</td>\n",
       "      <td>3</td>\n",
       "    </tr>\n",
       "    <tr>\n",
       "      <th>64</th>\n",
       "      <td>-2.486759</td>\n",
       "      <td>0.867436</td>\n",
       "      <td>-0.380722</td>\n",
       "      <td>-0.085995</td>\n",
       "      <td>0.262152</td>\n",
       "      <td>3</td>\n",
       "    </tr>\n",
       "    <tr>\n",
       "      <th>65</th>\n",
       "      <td>-2.578565</td>\n",
       "      <td>0.878013</td>\n",
       "      <td>-0.349289</td>\n",
       "      <td>-0.081762</td>\n",
       "      <td>0.262557</td>\n",
       "      <td>3</td>\n",
       "    </tr>\n",
       "    <tr>\n",
       "      <th>66</th>\n",
       "      <td>-2.610512</td>\n",
       "      <td>0.871766</td>\n",
       "      <td>-0.295754</td>\n",
       "      <td>-0.034406</td>\n",
       "      <td>0.275316</td>\n",
       "      <td>3</td>\n",
       "    </tr>\n",
       "    <tr>\n",
       "      <th>67</th>\n",
       "      <td>-2.395741</td>\n",
       "      <td>1.142579</td>\n",
       "      <td>-0.784319</td>\n",
       "      <td>-0.291163</td>\n",
       "      <td>0.253847</td>\n",
       "      <td>3</td>\n",
       "    </tr>\n",
       "  </tbody>\n",
       "</table>\n",
       "<p>68 rows × 6 columns</p>\n",
       "</div>"
      ],
      "text/plain": [
       "         PC1       PC2       PC3       PC4       PC5  Class Attruibute\n",
       "0   0.914365 -2.162769  0.436334  0.232154 -0.871197                 1\n",
       "1   0.866350 -2.170359  0.444587  0.242245 -0.847809                 1\n",
       "2   0.827614 -2.131012  0.144530  0.054445 -0.789386                 1\n",
       "3   0.808412 -2.068897  0.125245  0.036260 -0.780441                 1\n",
       "4   0.839467 -2.162049  0.158651  0.071625 -0.810679                 1\n",
       "..       ...       ...       ...       ...       ...               ...\n",
       "63 -2.429585  0.832941 -0.426300 -0.064970  0.232033                 3\n",
       "64 -2.486759  0.867436 -0.380722 -0.085995  0.262152                 3\n",
       "65 -2.578565  0.878013 -0.349289 -0.081762  0.262557                 3\n",
       "66 -2.610512  0.871766 -0.295754 -0.034406  0.275316                 3\n",
       "67 -2.395741  1.142579 -0.784319 -0.291163  0.253847                 3\n",
       "\n",
       "[68 rows x 6 columns]"
      ]
     },
     "execution_count": 12,
     "metadata": {},
     "output_type": "execute_result"
    }
   ],
   "source": [
    "#load in the data\n",
    "\n",
    "dataframeB = pd.read_csv('../5. Dataset PCA/MeterB_pca_5.csv')\n",
    "#display(dataframeA.head())\n",
    "dataframeB.head()\n",
    "\n",
    "dataframeB = dataframeB.drop('Unnamed: 0', axis=1)\n",
    "\n",
    "# yLbl is Class Attruibute labels\n",
    "\n",
    "yLbl_B = dataframeB[['Class Attruibute']]\n",
    "\n",
    "#featuresVector\n",
    "dataframeB"
   ]
  },
  {
   "cell_type": "code",
   "execution_count": 13,
   "id": "50ffa1dc",
   "metadata": {},
   "outputs": [
    {
     "data": {
      "text/html": [
       "<div>\n",
       "<style scoped>\n",
       "    .dataframe tbody tr th:only-of-type {\n",
       "        vertical-align: middle;\n",
       "    }\n",
       "\n",
       "    .dataframe tbody tr th {\n",
       "        vertical-align: top;\n",
       "    }\n",
       "\n",
       "    .dataframe thead th {\n",
       "        text-align: right;\n",
       "    }\n",
       "</style>\n",
       "<table border=\"1\" class=\"dataframe\">\n",
       "  <thead>\n",
       "    <tr style=\"text-align: right;\">\n",
       "      <th></th>\n",
       "      <th>PC1</th>\n",
       "      <th>PC2</th>\n",
       "      <th>PC3</th>\n",
       "      <th>PC4</th>\n",
       "      <th>PC5</th>\n",
       "      <th>Class Attruibute</th>\n",
       "    </tr>\n",
       "  </thead>\n",
       "  <tbody>\n",
       "    <tr>\n",
       "      <th>0</th>\n",
       "      <td>0.914365</td>\n",
       "      <td>-2.162769</td>\n",
       "      <td>0.436334</td>\n",
       "      <td>0.232154</td>\n",
       "      <td>-0.871197</td>\n",
       "      <td>Healthy</td>\n",
       "    </tr>\n",
       "    <tr>\n",
       "      <th>1</th>\n",
       "      <td>0.866350</td>\n",
       "      <td>-2.170359</td>\n",
       "      <td>0.444587</td>\n",
       "      <td>0.242245</td>\n",
       "      <td>-0.847809</td>\n",
       "      <td>Healthy</td>\n",
       "    </tr>\n",
       "    <tr>\n",
       "      <th>2</th>\n",
       "      <td>0.827614</td>\n",
       "      <td>-2.131012</td>\n",
       "      <td>0.144530</td>\n",
       "      <td>0.054445</td>\n",
       "      <td>-0.789386</td>\n",
       "      <td>Healthy</td>\n",
       "    </tr>\n",
       "    <tr>\n",
       "      <th>3</th>\n",
       "      <td>0.808412</td>\n",
       "      <td>-2.068897</td>\n",
       "      <td>0.125245</td>\n",
       "      <td>0.036260</td>\n",
       "      <td>-0.780441</td>\n",
       "      <td>Healthy</td>\n",
       "    </tr>\n",
       "    <tr>\n",
       "      <th>4</th>\n",
       "      <td>0.839467</td>\n",
       "      <td>-2.162049</td>\n",
       "      <td>0.158651</td>\n",
       "      <td>0.071625</td>\n",
       "      <td>-0.810679</td>\n",
       "      <td>Healthy</td>\n",
       "    </tr>\n",
       "    <tr>\n",
       "      <th>...</th>\n",
       "      <td>...</td>\n",
       "      <td>...</td>\n",
       "      <td>...</td>\n",
       "      <td>...</td>\n",
       "      <td>...</td>\n",
       "      <td>...</td>\n",
       "    </tr>\n",
       "    <tr>\n",
       "      <th>63</th>\n",
       "      <td>-2.429585</td>\n",
       "      <td>0.832941</td>\n",
       "      <td>-0.426300</td>\n",
       "      <td>-0.064970</td>\n",
       "      <td>0.232033</td>\n",
       "      <td>Waxing</td>\n",
       "    </tr>\n",
       "    <tr>\n",
       "      <th>64</th>\n",
       "      <td>-2.486759</td>\n",
       "      <td>0.867436</td>\n",
       "      <td>-0.380722</td>\n",
       "      <td>-0.085995</td>\n",
       "      <td>0.262152</td>\n",
       "      <td>Waxing</td>\n",
       "    </tr>\n",
       "    <tr>\n",
       "      <th>65</th>\n",
       "      <td>-2.578565</td>\n",
       "      <td>0.878013</td>\n",
       "      <td>-0.349289</td>\n",
       "      <td>-0.081762</td>\n",
       "      <td>0.262557</td>\n",
       "      <td>Waxing</td>\n",
       "    </tr>\n",
       "    <tr>\n",
       "      <th>66</th>\n",
       "      <td>-2.610512</td>\n",
       "      <td>0.871766</td>\n",
       "      <td>-0.295754</td>\n",
       "      <td>-0.034406</td>\n",
       "      <td>0.275316</td>\n",
       "      <td>Waxing</td>\n",
       "    </tr>\n",
       "    <tr>\n",
       "      <th>67</th>\n",
       "      <td>-2.395741</td>\n",
       "      <td>1.142579</td>\n",
       "      <td>-0.784319</td>\n",
       "      <td>-0.291163</td>\n",
       "      <td>0.253847</td>\n",
       "      <td>Waxing</td>\n",
       "    </tr>\n",
       "  </tbody>\n",
       "</table>\n",
       "<p>68 rows × 6 columns</p>\n",
       "</div>"
      ],
      "text/plain": [
       "         PC1       PC2       PC3       PC4       PC5 Class Attruibute\n",
       "0   0.914365 -2.162769  0.436334  0.232154 -0.871197          Healthy\n",
       "1   0.866350 -2.170359  0.444587  0.242245 -0.847809          Healthy\n",
       "2   0.827614 -2.131012  0.144530  0.054445 -0.789386          Healthy\n",
       "3   0.808412 -2.068897  0.125245  0.036260 -0.780441          Healthy\n",
       "4   0.839467 -2.162049  0.158651  0.071625 -0.810679          Healthy\n",
       "..       ...       ...       ...       ...       ...              ...\n",
       "63 -2.429585  0.832941 -0.426300 -0.064970  0.232033           Waxing\n",
       "64 -2.486759  0.867436 -0.380722 -0.085995  0.262152           Waxing\n",
       "65 -2.578565  0.878013 -0.349289 -0.081762  0.262557           Waxing\n",
       "66 -2.610512  0.871766 -0.295754 -0.034406  0.275316           Waxing\n",
       "67 -2.395741  1.142579 -0.784319 -0.291163  0.253847           Waxing\n",
       "\n",
       "[68 rows x 6 columns]"
      ]
     },
     "execution_count": 13,
     "metadata": {},
     "output_type": "execute_result"
    }
   ],
   "source": [
    "dataframeB['Class Attruibute'] = dataframeB['Class Attruibute'].replace([1],'Healthy')\n",
    "dataframeB['Class Attruibute'] = dataframeB['Class Attruibute'].replace([2],'Gas injection')\n",
    "dataframeB['Class Attruibute'] = dataframeB['Class Attruibute'].replace([3],'Waxing')\n",
    "dataframeB"
   ]
  },
  {
   "cell_type": "code",
   "execution_count": 14,
   "id": "d1523fd5",
   "metadata": {},
   "outputs": [],
   "source": [
    "#Y = data['Class']\n",
    "#X = data.drop(['Name','Class'],axis=1)\n",
    "\n",
    "#clf = tree.DecisionTreeClassifier(criterion='entropy',max_depth=3)\n",
    "#clf = clf.fit(X, Y)\n",
    "\n",
    "#extract features and target variables\n",
    "x_B = dataframeB.drop(columns=\"Class Attruibute\")\n",
    "y_B = dataframeB[\"Class Attruibute\"]\n",
    "#save the feature name and target variables\n",
    "feature_names_B = x_B.columns\n",
    "labels_B = y_B.unique()\n",
    "labels_B.sort()\n",
    "\n",
    "#split the dataset\n",
    "X_train_B, test_x_B, y_train_B, test_lab_B = train_test_split(x_B,y_B,\n",
    "                                                 test_size = 0.3,\n",
    "                                                 random_state = 42)"
   ]
  },
  {
   "cell_type": "code",
   "execution_count": 15,
   "id": "62ebbb9c",
   "metadata": {
    "scrolled": false
   },
   "outputs": [
    {
     "data": {
      "text/plain": [
       "Text(0, 0.5, 'Accuracy')"
      ]
     },
     "execution_count": 15,
     "metadata": {},
     "output_type": "execute_result"
    },
    {
     "data": {
      "image/png": "[encoded data removed]",
      "text/plain": [
       "<Figure size 432x288 with 1 Axes>"
      ]
     },
     "metadata": {},
     "output_type": "display_data"
    }
   ],
   "source": [
    "maxdepths = [2,3,4,5,6,7,8,9,10,15,20,25,30,35,40,45,50]  # 17 different depths\n",
    "\n",
    "trainAccuracy = np.zeros(len(maxdepths))\n",
    "testAccuracy = np.zeros(len(maxdepths))\n",
    "\n",
    "index = 0\n",
    "for depth in maxdepths:\n",
    "    clf2 = tree.DecisionTreeClassifier(max_depth=depth)\n",
    "    clf2 = clf2.fit(X_train_B, y_train_B)\n",
    "    Y_predTrain = clf2.predict(X_train_B)\n",
    "    Y_predTest = clf2.predict(test_x_B)\n",
    "    trainAccuracy[index] = accuracy_score(y_train_B, Y_predTrain)\n",
    "    testAccuracy[index] = accuracy_score(test_lab_B, Y_predTest)\n",
    "    index += 1\n",
    "    \n",
    "###########################################################################\n",
    "# Plot training and test accuracies\n",
    "##########################################################################\n",
    "    \n",
    "plt.plot(maxdepths,trainAccuracy,'ro-',maxdepths,testAccuracy,'bv--')\n",
    "plt.legend(['Training Accuracy','Test Accuracy'])\n",
    "plt.xlabel('Max depth')\n",
    "plt.ylabel('Accuracy')"
   ]
  },
  {
   "cell_type": "code",
   "execution_count": 16,
   "id": "59d843fa",
   "metadata": {},
   "outputs": [
    {
     "data": {
      "text/plain": [
       "DecisionTreeClassifier(max_depth=4, random_state=42)"
      ]
     },
     "execution_count": 16,
     "metadata": {},
     "output_type": "execute_result"
    }
   ],
   "source": [
    "clf_B = DecisionTreeClassifier(max_depth = 4, random_state = 42)\n",
    "clf_B.fit(X_train_B, y_train_B)"
   ]
  },
  {
   "cell_type": "code",
   "execution_count": 17,
   "id": "7b782948",
   "metadata": {},
   "outputs": [
    {
     "data": {
      "image/png": "[encoded data removed]",
      "text/plain": [
       "<Figure size 2160x720 with 1 Axes>"
      ]
     },
     "metadata": {},
     "output_type": "display_data"
    }
   ],
   "source": [
    "#plt the figure, setting a black background\n",
    "plt.figure(figsize=(30,10), facecolor ='w')\n",
    "#create the tree plot\n",
    "a = tree.plot_tree(clf_B,\n",
    "                   #use the feature names stored\n",
    "                   feature_names = feature_names_B,\n",
    "                   #use the class names stored\n",
    "                   class_names = labels_B,\n",
    "                   rounded = True,\n",
    "                   filled = True,\n",
    "                   fontsize=14)\n",
    "#show the plot\n",
    "plt.show()"
   ]
  },
  {
   "cell_type": "code",
   "execution_count": 18,
   "id": "9c0027e6",
   "metadata": {},
   "outputs": [
    {
     "name": "stdout",
     "output_type": "stream",
     "text": [
      "|--- PC1 <= -0.74\n",
      "|   |--- class: Waxing\n",
      "|--- PC1 >  -0.74\n",
      "|   |--- PC2 <= -1.87\n",
      "|   |   |--- class: Healthy\n",
      "|   |--- PC2 >  -1.87\n",
      "|   |   |--- class: Gas injection\n",
      "\n"
     ]
    }
   ],
   "source": [
    "# As a text based diagram\n",
    "#import relevant functions\n",
    "#export the decision rules\n",
    "tree_rules_B = export_text(clf_B,\n",
    "                        feature_names = list(feature_names_B))\n",
    "#print the result\n",
    "print(tree_rules_B)"
   ]
  },
  {
   "cell_type": "code",
   "execution_count": 19,
   "id": "373abe66",
   "metadata": {},
   "outputs": [],
   "source": [
    "#predict the class from the test values\n",
    "test_pred_decision_tree_B = clf_B.predict(test_x_B)\n"
   ]
  },
  {
   "cell_type": "code",
   "execution_count": 20,
   "id": "14695124",
   "metadata": {},
   "outputs": [
    {
     "data": {
      "image/png": "[encoded data removed]",
      "text/plain": [
       "<Figure size 432x288 with 2 Axes>"
      ]
     },
     "metadata": {},
     "output_type": "display_data"
    },
    {
     "data": {
      "text/plain": [
       "<Figure size 720x504 with 0 Axes>"
      ]
     },
     "metadata": {},
     "output_type": "display_data"
    }
   ],
   "source": [
    "#get the confusion matrix\n",
    "confusion_matrix_B = metrics.confusion_matrix(test_lab_B,  \n",
    "                                            test_pred_decision_tree_B)\n",
    "#turn this into a dataframe\n",
    "matrix_df_B = pd.DataFrame(confusion_matrix_B)\n",
    "#plot the result\n",
    "ax = plt.axes()\n",
    "sns.set(font_scale=1.3)\n",
    "plt.figure(figsize=(10,7))\n",
    "sns.heatmap(matrix_df_B, annot=True, fmt=\"g\", ax=ax, cmap=\"magma\")\n",
    "#set axis titles\n",
    "ax.set_title('Confusion Matrix - Decision Tree For B')\n",
    "ax.set_xlabel(\"Predicted label\", fontsize =15)\n",
    "ax.set_xticklabels(['']+labels_B)\n",
    "ax.set_ylabel(\"True Label\", fontsize=15)\n",
    "ax.set_yticklabels(list(labels_B), rotation = 0)\n",
    "plt.show()"
   ]
  },
  {
   "cell_type": "code",
   "execution_count": 21,
   "id": "4b362766",
   "metadata": {},
   "outputs": [
    {
     "data": {
      "text/plain": [
       "1.0"
      ]
     },
     "execution_count": 21,
     "metadata": {},
     "output_type": "execute_result"
    }
   ],
   "source": [
    "metrics.accuracy_score(test_lab_B, test_pred_decision_tree_B)"
   ]
  },
  {
   "cell_type": "code",
   "execution_count": 22,
   "id": "5e60541a",
   "metadata": {},
   "outputs": [],
   "source": [
    "# recall_B = metrics.recall_score(test_lab_B, test_pred_decision_tree_B, \n",
    "# #                               average =None)\n",
    "# # recall_results_B = pd.DataFrame(recall_B, index= labels_B)\n",
    "# # recall_results_B.rename(columns ={0:'Recall For B'}, inplace =True)\n",
    "# # recall_results_B"
   ]
  },
  {
   "cell_type": "code",
   "execution_count": 23,
   "id": "6c2e1652",
   "metadata": {
    "scrolled": true
   },
   "outputs": [
    {
     "name": "stdout",
     "output_type": "stream",
     "text": [
      "               precision    recall  f1-score   support\n",
      "\n",
      "Gas injection       1.00      1.00      1.00         3\n",
      "      Healthy       1.00      1.00      1.00         7\n",
      "       Waxing       1.00      1.00      1.00        11\n",
      "\n",
      "     accuracy                           1.00        21\n",
      "    macro avg       1.00      1.00      1.00        21\n",
      " weighted avg       1.00      1.00      1.00        21\n",
      "\n"
     ]
    }
   ],
   "source": [
    "print(metrics.classification_report(test_lab_B,\n",
    "                                    test_pred_decision_tree_B))"
   ]
  },
  {
   "cell_type": "markdown",
   "id": "b2a55e12",
   "metadata": {},
   "source": [
    "# Dataset C"
   ]
  },
  {
   "cell_type": "code",
   "execution_count": 24,
   "id": "2db2dc5c",
   "metadata": {},
   "outputs": [
    {
     "ename": "FileNotFoundError",
     "evalue": "[Errno 2] No such file or directory: '../6. Dataset PCA/MeterC_pca_3.csv'",
     "output_type": "error",
     "traceback": [
      "\u001b[1;31m---------------------------------------------------------------------------\u001b[0m",
      "\u001b[1;31mFileNotFoundError\u001b[0m                         Traceback (most recent call last)",
      "\u001b[1;32m<ipython-input-24-af5c129e799b>\u001b[0m in \u001b[0;36m<module>\u001b[1;34m\u001b[0m\n\u001b[0;32m      1\u001b[0m \u001b[1;31m#load in the data\u001b[0m\u001b[1;33m\u001b[0m\u001b[1;33m\u001b[0m\u001b[1;33m\u001b[0m\u001b[0m\n\u001b[0;32m      2\u001b[0m \u001b[1;33m\u001b[0m\u001b[0m\n\u001b[1;32m----> 3\u001b[1;33m \u001b[0mdataframeC\u001b[0m \u001b[1;33m=\u001b[0m \u001b[0mpd\u001b[0m\u001b[1;33m.\u001b[0m\u001b[0mread_csv\u001b[0m\u001b[1;33m(\u001b[0m\u001b[1;34m'../6. Dataset PCA/MeterC_pca_3.csv'\u001b[0m\u001b[1;33m)\u001b[0m\u001b[1;33m\u001b[0m\u001b[1;33m\u001b[0m\u001b[0m\n\u001b[0m\u001b[0;32m      4\u001b[0m \u001b[1;31m#display(dataframeA.head())\u001b[0m\u001b[1;33m\u001b[0m\u001b[1;33m\u001b[0m\u001b[1;33m\u001b[0m\u001b[0m\n\u001b[0;32m      5\u001b[0m \u001b[0mdataframeC\u001b[0m\u001b[1;33m.\u001b[0m\u001b[0mhead\u001b[0m\u001b[1;33m(\u001b[0m\u001b[1;33m)\u001b[0m\u001b[1;33m\u001b[0m\u001b[1;33m\u001b[0m\u001b[0m\n",
      "\u001b[1;32m~\\anaconda3\\lib\\site-packages\\pandas\\io\\parsers.py\u001b[0m in \u001b[0;36mread_csv\u001b[1;34m(filepath_or_buffer, sep, delimiter, header, names, index_col, usecols, squeeze, prefix, mangle_dupe_cols, dtype, engine, converters, true_values, false_values, skipinitialspace, skiprows, skipfooter, nrows, na_values, keep_default_na, na_filter, verbose, skip_blank_lines, parse_dates, infer_datetime_format, keep_date_col, date_parser, dayfirst, cache_dates, iterator, chunksize, compression, thousands, decimal, lineterminator, quotechar, quoting, doublequote, escapechar, comment, encoding, dialect, error_bad_lines, warn_bad_lines, delim_whitespace, low_memory, memory_map, float_precision, storage_options)\u001b[0m\n\u001b[0;32m    608\u001b[0m     \u001b[0mkwds\u001b[0m\u001b[1;33m.\u001b[0m\u001b[0mupdate\u001b[0m\u001b[1;33m(\u001b[0m\u001b[0mkwds_defaults\u001b[0m\u001b[1;33m)\u001b[0m\u001b[1;33m\u001b[0m\u001b[1;33m\u001b[0m\u001b[0m\n\u001b[0;32m    609\u001b[0m \u001b[1;33m\u001b[0m\u001b[0m\n\u001b[1;32m--> 610\u001b[1;33m     \u001b[1;32mreturn\u001b[0m \u001b[0m_read\u001b[0m\u001b[1;33m(\u001b[0m\u001b[0mfilepath_or_buffer\u001b[0m\u001b[1;33m,\u001b[0m \u001b[0mkwds\u001b[0m\u001b[1;33m)\u001b[0m\u001b[1;33m\u001b[0m\u001b[1;33m\u001b[0m\u001b[0m\n\u001b[0m\u001b[0;32m    611\u001b[0m \u001b[1;33m\u001b[0m\u001b[0m\n\u001b[0;32m    612\u001b[0m \u001b[1;33m\u001b[0m\u001b[0m\n",
      "\u001b[1;32m~\\anaconda3\\lib\\site-packages\\pandas\\io\\parsers.py\u001b[0m in \u001b[0;36m_read\u001b[1;34m(filepath_or_buffer, kwds)\u001b[0m\n\u001b[0;32m    460\u001b[0m \u001b[1;33m\u001b[0m\u001b[0m\n\u001b[0;32m    461\u001b[0m     \u001b[1;31m# Create the parser.\u001b[0m\u001b[1;33m\u001b[0m\u001b[1;33m\u001b[0m\u001b[1;33m\u001b[0m\u001b[0m\n\u001b[1;32m--> 462\u001b[1;33m     \u001b[0mparser\u001b[0m \u001b[1;33m=\u001b[0m \u001b[0mTextFileReader\u001b[0m\u001b[1;33m(\u001b[0m\u001b[0mfilepath_or_buffer\u001b[0m\u001b[1;33m,\u001b[0m \u001b[1;33m**\u001b[0m\u001b[0mkwds\u001b[0m\u001b[1;33m)\u001b[0m\u001b[1;33m\u001b[0m\u001b[1;33m\u001b[0m\u001b[0m\n\u001b[0m\u001b[0;32m    463\u001b[0m \u001b[1;33m\u001b[0m\u001b[0m\n\u001b[0;32m    464\u001b[0m     \u001b[1;32mif\u001b[0m \u001b[0mchunksize\u001b[0m \u001b[1;32mor\u001b[0m \u001b[0miterator\u001b[0m\u001b[1;33m:\u001b[0m\u001b[1;33m\u001b[0m\u001b[1;33m\u001b[0m\u001b[0m\n",
      "\u001b[1;32m~\\anaconda3\\lib\\site-packages\\pandas\\io\\parsers.py\u001b[0m in \u001b[0;36m__init__\u001b[1;34m(self, f, engine, **kwds)\u001b[0m\n\u001b[0;32m    817\u001b[0m             \u001b[0mself\u001b[0m\u001b[1;33m.\u001b[0m\u001b[0moptions\u001b[0m\u001b[1;33m[\u001b[0m\u001b[1;34m\"has_index_names\"\u001b[0m\u001b[1;33m]\u001b[0m \u001b[1;33m=\u001b[0m \u001b[0mkwds\u001b[0m\u001b[1;33m[\u001b[0m\u001b[1;34m\"has_index_names\"\u001b[0m\u001b[1;33m]\u001b[0m\u001b[1;33m\u001b[0m\u001b[1;33m\u001b[0m\u001b[0m\n\u001b[0;32m    818\u001b[0m \u001b[1;33m\u001b[0m\u001b[0m\n\u001b[1;32m--> 819\u001b[1;33m         \u001b[0mself\u001b[0m\u001b[1;33m.\u001b[0m\u001b[0m_engine\u001b[0m \u001b[1;33m=\u001b[0m \u001b[0mself\u001b[0m\u001b[1;33m.\u001b[0m\u001b[0m_make_engine\u001b[0m\u001b[1;33m(\u001b[0m\u001b[0mself\u001b[0m\u001b[1;33m.\u001b[0m\u001b[0mengine\u001b[0m\u001b[1;33m)\u001b[0m\u001b[1;33m\u001b[0m\u001b[1;33m\u001b[0m\u001b[0m\n\u001b[0m\u001b[0;32m    820\u001b[0m \u001b[1;33m\u001b[0m\u001b[0m\n\u001b[0;32m    821\u001b[0m     \u001b[1;32mdef\u001b[0m \u001b[0mclose\u001b[0m\u001b[1;33m(\u001b[0m\u001b[0mself\u001b[0m\u001b[1;33m)\u001b[0m\u001b[1;33m:\u001b[0m\u001b[1;33m\u001b[0m\u001b[1;33m\u001b[0m\u001b[0m\n",
      "\u001b[1;32m~\\anaconda3\\lib\\site-packages\\pandas\\io\\parsers.py\u001b[0m in \u001b[0;36m_make_engine\u001b[1;34m(self, engine)\u001b[0m\n\u001b[0;32m   1048\u001b[0m             )\n\u001b[0;32m   1049\u001b[0m         \u001b[1;31m# error: Too many arguments for \"ParserBase\"\u001b[0m\u001b[1;33m\u001b[0m\u001b[1;33m\u001b[0m\u001b[1;33m\u001b[0m\u001b[0m\n\u001b[1;32m-> 1050\u001b[1;33m         \u001b[1;32mreturn\u001b[0m \u001b[0mmapping\u001b[0m\u001b[1;33m[\u001b[0m\u001b[0mengine\u001b[0m\u001b[1;33m]\u001b[0m\u001b[1;33m(\u001b[0m\u001b[0mself\u001b[0m\u001b[1;33m.\u001b[0m\u001b[0mf\u001b[0m\u001b[1;33m,\u001b[0m \u001b[1;33m**\u001b[0m\u001b[0mself\u001b[0m\u001b[1;33m.\u001b[0m\u001b[0moptions\u001b[0m\u001b[1;33m)\u001b[0m  \u001b[1;31m# type: ignore[call-arg]\u001b[0m\u001b[1;33m\u001b[0m\u001b[1;33m\u001b[0m\u001b[0m\n\u001b[0m\u001b[0;32m   1051\u001b[0m \u001b[1;33m\u001b[0m\u001b[0m\n\u001b[0;32m   1052\u001b[0m     \u001b[1;32mdef\u001b[0m \u001b[0m_failover_to_python\u001b[0m\u001b[1;33m(\u001b[0m\u001b[0mself\u001b[0m\u001b[1;33m)\u001b[0m\u001b[1;33m:\u001b[0m\u001b[1;33m\u001b[0m\u001b[1;33m\u001b[0m\u001b[0m\n",
      "\u001b[1;32m~\\anaconda3\\lib\\site-packages\\pandas\\io\\parsers.py\u001b[0m in \u001b[0;36m__init__\u001b[1;34m(self, src, **kwds)\u001b[0m\n\u001b[0;32m   1865\u001b[0m \u001b[1;33m\u001b[0m\u001b[0m\n\u001b[0;32m   1866\u001b[0m         \u001b[1;31m# open handles\u001b[0m\u001b[1;33m\u001b[0m\u001b[1;33m\u001b[0m\u001b[1;33m\u001b[0m\u001b[0m\n\u001b[1;32m-> 1867\u001b[1;33m         \u001b[0mself\u001b[0m\u001b[1;33m.\u001b[0m\u001b[0m_open_handles\u001b[0m\u001b[1;33m(\u001b[0m\u001b[0msrc\u001b[0m\u001b[1;33m,\u001b[0m \u001b[0mkwds\u001b[0m\u001b[1;33m)\u001b[0m\u001b[1;33m\u001b[0m\u001b[1;33m\u001b[0m\u001b[0m\n\u001b[0m\u001b[0;32m   1868\u001b[0m         \u001b[1;32massert\u001b[0m \u001b[0mself\u001b[0m\u001b[1;33m.\u001b[0m\u001b[0mhandles\u001b[0m \u001b[1;32mis\u001b[0m \u001b[1;32mnot\u001b[0m \u001b[1;32mNone\u001b[0m\u001b[1;33m\u001b[0m\u001b[1;33m\u001b[0m\u001b[0m\n\u001b[0;32m   1869\u001b[0m         \u001b[1;32mfor\u001b[0m \u001b[0mkey\u001b[0m \u001b[1;32min\u001b[0m \u001b[1;33m(\u001b[0m\u001b[1;34m\"storage_options\"\u001b[0m\u001b[1;33m,\u001b[0m \u001b[1;34m\"encoding\"\u001b[0m\u001b[1;33m,\u001b[0m \u001b[1;34m\"memory_map\"\u001b[0m\u001b[1;33m,\u001b[0m \u001b[1;34m\"compression\"\u001b[0m\u001b[1;33m)\u001b[0m\u001b[1;33m:\u001b[0m\u001b[1;33m\u001b[0m\u001b[1;33m\u001b[0m\u001b[0m\n",
      "\u001b[1;32m~\\anaconda3\\lib\\site-packages\\pandas\\io\\parsers.py\u001b[0m in \u001b[0;36m_open_handles\u001b[1;34m(self, src, kwds)\u001b[0m\n\u001b[0;32m   1360\u001b[0m         \u001b[0mLet\u001b[0m \u001b[0mthe\u001b[0m \u001b[0mreaders\u001b[0m \u001b[0mopen\u001b[0m \u001b[0mIOHanldes\u001b[0m \u001b[0mafter\u001b[0m \u001b[0mthey\u001b[0m \u001b[0mare\u001b[0m \u001b[0mdone\u001b[0m \u001b[1;32mwith\u001b[0m \u001b[0mtheir\u001b[0m \u001b[0mpotential\u001b[0m \u001b[0mraises\u001b[0m\u001b[1;33m.\u001b[0m\u001b[1;33m\u001b[0m\u001b[1;33m\u001b[0m\u001b[0m\n\u001b[0;32m   1361\u001b[0m         \"\"\"\n\u001b[1;32m-> 1362\u001b[1;33m         self.handles = get_handle(\n\u001b[0m\u001b[0;32m   1363\u001b[0m             \u001b[0msrc\u001b[0m\u001b[1;33m,\u001b[0m\u001b[1;33m\u001b[0m\u001b[1;33m\u001b[0m\u001b[0m\n\u001b[0;32m   1364\u001b[0m             \u001b[1;34m\"r\"\u001b[0m\u001b[1;33m,\u001b[0m\u001b[1;33m\u001b[0m\u001b[1;33m\u001b[0m\u001b[0m\n",
      "\u001b[1;32m~\\anaconda3\\lib\\site-packages\\pandas\\io\\common.py\u001b[0m in \u001b[0;36mget_handle\u001b[1;34m(path_or_buf, mode, encoding, compression, memory_map, is_text, errors, storage_options)\u001b[0m\n\u001b[0;32m    640\u001b[0m                 \u001b[0merrors\u001b[0m \u001b[1;33m=\u001b[0m \u001b[1;34m\"replace\"\u001b[0m\u001b[1;33m\u001b[0m\u001b[1;33m\u001b[0m\u001b[0m\n\u001b[0;32m    641\u001b[0m             \u001b[1;31m# Encoding\u001b[0m\u001b[1;33m\u001b[0m\u001b[1;33m\u001b[0m\u001b[1;33m\u001b[0m\u001b[0m\n\u001b[1;32m--> 642\u001b[1;33m             handle = open(\n\u001b[0m\u001b[0;32m    643\u001b[0m                 \u001b[0mhandle\u001b[0m\u001b[1;33m,\u001b[0m\u001b[1;33m\u001b[0m\u001b[1;33m\u001b[0m\u001b[0m\n\u001b[0;32m    644\u001b[0m                 \u001b[0mioargs\u001b[0m\u001b[1;33m.\u001b[0m\u001b[0mmode\u001b[0m\u001b[1;33m,\u001b[0m\u001b[1;33m\u001b[0m\u001b[1;33m\u001b[0m\u001b[0m\n",
      "\u001b[1;31mFileNotFoundError\u001b[0m: [Errno 2] No such file or directory: '../6. Dataset PCA/MeterC_pca_3.csv'"
     ]
    }
   ],
   "source": [
    "#load in the data\n",
    "\n",
    "dataframeC = pd.read_csv('../5. Dataset PCA/MeterC_pca_6.csv')\n",
    "#display(dataframeA.head())\n",
    "dataframeC.head()\n",
    "\n",
    "dataframeC = dataframeC.drop('Unnamed: 0', axis=1)\n",
    "\n",
    "# yLbl is Class Attruibute labels\n",
    "\n",
    "yLbl_C = dataframeC[['Class Attruibute']]\n",
    "\n",
    "#featuresVector\n",
    "dataframeC"
   ]
  },
  {
   "cell_type": "code",
   "execution_count": null,
   "id": "7e0ef7f9",
   "metadata": {},
   "outputs": [],
   "source": [
    "dataframeC['Class Attruibute'] = dataframeC['Class Attruibute'].replace([1],'Healthy')\n",
    "dataframeC['Class Attruibute'] = dataframeC['Class Attruibute'].replace([2],'Gas injection')\n",
    "dataframeC['Class Attruibute'] = dataframeC['Class Attruibute'].replace([3],'Installation effects')\n",
    "dataframeC['Class Attruibute'] = dataframeC['Class Attruibute'].replace([4],'Waxing')\n",
    "\n",
    "dataframeC"
   ]
  },
  {
   "cell_type": "code",
   "execution_count": null,
   "id": "b6d7cda3",
   "metadata": {},
   "outputs": [],
   "source": [
    "#extract features and target variables\n",
    "x_C = dataframeC.drop(columns=\"Class Attruibute\")\n",
    "y_C = dataframeC[\"Class Attruibute\"]\n",
    "#save the feature name and target variables\n",
    "feature_names_C = x_C.columns\n",
    "labels_C = y_C.unique()\n",
    "labels_C.sort()\n",
    "\n",
    "X_train_C, test_x_C, y_train_C, test_lab_C = train_test_split(x_C,y_C,\n",
    "                                                 test_size = 0.3,\n",
    "                                                 random_state = 20)\n",
    "\n",
    "print(x_C)\n",
    "\n",
    "print(y_C)\n",
    "for i in y_train_C:\n",
    "    print(i)\n",
    "print(labels_C)"
   ]
  },
  {
   "cell_type": "code",
   "execution_count": null,
   "id": "a34f03ef",
   "metadata": {
    "scrolled": false
   },
   "outputs": [],
   "source": [
    "maxdepths = [2,3,4,5,6,7,8,9,10,15,20,25,30,35,40,45,50]  # 17 different depths\n",
    "\n",
    "trainAccuracy = np.zeros(len(maxdepths))\n",
    "testAccuracy = np.zeros(len(maxdepths))\n",
    "\n",
    "index = 0\n",
    "for depth in maxdepths:\n",
    "    clf2 = tree.DecisionTreeClassifier(max_depth=depth)\n",
    "    clf2 = clf2.fit(X_train_C, y_train_C)\n",
    "    Y_predTrain = clf2.predict(X_train_C)\n",
    "    Y_predTest = clf2.predict(test_x_C)\n",
    "    trainAccuracy[index] = accuracy_score(y_train_C, Y_predTrain)\n",
    "    testAccuracy[index] = accuracy_score(test_lab_C, Y_predTest)\n",
    "    index += 1\n",
    "    \n",
    "###########################################################################\n",
    "# Plot training and test accuracies\n",
    "##########################################################################\n",
    "    \n",
    "plt.plot(maxdepths,trainAccuracy,'ro-',maxdepths,testAccuracy,'bv--')\n",
    "plt.legend(['Training Accuracy','Test Accuracy'])\n",
    "plt.xlabel('Max depth')\n",
    "plt.ylabel('Accuracy')"
   ]
  },
  {
   "cell_type": "code",
   "execution_count": null,
   "id": "4e62e3b3",
   "metadata": {},
   "outputs": [],
   "source": [
    "#As can see from the above we choose max_Depth = 6 for highest accuracy \n",
    "clf_C = DecisionTreeClassifier(max_depth =7, random_state = 20)\n",
    "clf_C.fit(X_train_C, y_train_C)"
   ]
  },
  {
   "cell_type": "code",
   "execution_count": null,
   "id": "c7053d13",
   "metadata": {
    "scrolled": true
   },
   "outputs": [],
   "source": [
    "#plt the figure, setting a black background\n",
    "plt.figure(figsize=(20,8), facecolor ='w')\n",
    "#create the tree plot\n",
    "a = tree.plot_tree(clf_C,\n",
    "                   #use the feature names stored\n",
    "                   feature_names = feature_names_C,\n",
    "                   #use the class names stored\n",
    "                   class_names = labels_C,\n",
    "                   rounded = True,\n",
    "                   filled = True,\n",
    "                   fontsize=14)\n",
    "#show the plot\n",
    "# plt.show()"
   ]
  },
  {
   "cell_type": "code",
   "execution_count": null,
   "id": "b552352d",
   "metadata": {},
   "outputs": [],
   "source": [
    "# As a text based diagram\n",
    "#export the decision rules\n",
    "tree_rules_C = export_text(clf_C,\n",
    "                        feature_names = list(feature_names_C))\n",
    "#print the result    \n",
    "print(tree_rules_C)"
   ]
  },
  {
   "cell_type": "code",
   "execution_count": null,
   "id": "69ac22c4",
   "metadata": {},
   "outputs": [],
   "source": [
    "#predict the class from the test values\n",
    "test_pred_decision_tree_C = clf_C.predict(test_x_C)"
   ]
  },
  {
   "cell_type": "code",
   "execution_count": null,
   "id": "03da62f7",
   "metadata": {},
   "outputs": [],
   "source": [
    "#get the confusion matrix\n",
    "confusion_matrix_C = metrics.confusion_matrix(test_lab_C,  \n",
    "                                            test_pred_decision_tree_C)\n",
    "#turn this into a dataframe\n",
    "matrix_df_C = pd.DataFrame(confusion_matrix_C)\n",
    "#plot the result\n",
    "ax = plt.axes()\n",
    "sns.set(font_scale=1.3)\n",
    "plt.figure(figsize=(10,8))\n",
    "sns.heatmap(matrix_df_C, annot=True, fmt=\"g\", ax=ax, cmap=\"magma\")\n",
    "#set axis titles\n",
    "ax.set_title('Confusion Matrix - Decision Tree For C')\n",
    "ax.set_xlabel(\"Predicted label\", fontsize =15)\n",
    "ax.set_xticklabels(['']+labels_C)\n",
    "ax.set_ylabel(\"True Label\", fontsize=15)\n",
    "ax.set_yticklabels(list(labels_C), rotation = 0)\n",
    "plt.show()"
   ]
  },
  {
   "cell_type": "code",
   "execution_count": null,
   "id": "d06d48b9",
   "metadata": {},
   "outputs": [],
   "source": [
    "metrics.accuracy_score(test_lab_C, test_pred_decision_tree_C)"
   ]
  },
  {
   "cell_type": "code",
   "execution_count": null,
   "id": "538a2a74",
   "metadata": {},
   "outputs": [],
   "source": [
    "# #get the precision score\n",
    "# precision_C = metrics.precision_score(test_lab_C,\n",
    "#                                    test_pred_decision_tree_C, \n",
    "#                                    average=None)\n",
    "# #turn it into a dataframe\n",
    "# precision_results_C = pd.DataFrame(precision_C, index=labels_C)\n",
    "# #rename the results column\n",
    "# precision_results_C.rename(columns={0:'precision for C'}, inplace =True)\n",
    "# precision_results_C"
   ]
  },
  {
   "cell_type": "code",
   "execution_count": null,
   "id": "8011261b",
   "metadata": {},
   "outputs": [],
   "source": [
    "# recall_C = metrics.recall_score(test_lab_C, test_pred_decision_tree_C, \n",
    "#                               average =None)\n",
    "# recall_results_C = pd.DataFrame(recall_C, index= labels_C)\n",
    "# recall_results_C.rename(columns ={0:'Recall For C'}, inplace =True)\n",
    "# recall_results_C"
   ]
  },
  {
   "cell_type": "code",
   "execution_count": null,
   "id": "2ec93530",
   "metadata": {},
   "outputs": [],
   "source": [
    "print(metrics.classification_report(test_lab_C,\n",
    "                                    test_pred_decision_tree_C))"
   ]
  },
  {
   "cell_type": "code",
   "execution_count": null,
   "id": "995ffacc",
   "metadata": {},
   "outputs": [],
   "source": [
    "#extract importance\n",
    "importance = pd.DataFrame({'feature': X_train_C.columns, \n",
    "'importance' : np.round(clf_C.feature_importances_, 3)})\n",
    "importance.sort_values('importance', ascending=False, inplace = True)\n",
    "print(importance)"
   ]
  }
 ],
 "metadata": {
  "kernelspec": {
   "display_name": "Python 3",
   "language": "python",
   "name": "python3"
  },
  "language_info": {
   "codemirror_mode": {
    "name": "ipython",
    "version": 3
   },
   "file_extension": ".py",
   "mimetype": "text/x-python",
   "name": "python",
   "nbconvert_exporter": "python",
   "pygments_lexer": "ipython3",
   "version": "3.8.8"
  }
 },
 "nbformat": 4,
 "nbformat_minor": 5
}
