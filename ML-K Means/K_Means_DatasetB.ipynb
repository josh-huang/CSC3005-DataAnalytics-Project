{
 "cells": [
  {
   "cell_type": "code",
   "execution_count": 1,
   "id": "d2b77a6c",
   "metadata": {
    "scrolled": true
   },
   "outputs": [
    {
     "name": "stdout",
     "output_type": "stream",
     "text": [
      "         PC1       PC2\n",
      "0  -1.451346  1.538419\n",
      "1  -1.481271  1.492883\n",
      "2  -1.467007  1.402951\n",
      "3  -1.420051  1.375513\n",
      "4  -1.441651  1.428429\n",
      "..       ...       ...\n",
      "71  6.279505 -1.638657\n",
      "72  5.961703 -1.561456\n",
      "73  6.640976 -1.557032\n",
      "74  6.030425 -1.616472\n",
      "75  5.853485 -1.578560\n",
      "\n",
      "[76 rows x 2 columns]\n"
     ]
    },
    {
     "data": {
      "image/png": "[encoded data removed]",
      "text/plain": [
       "<Figure size 432x288 with 1 Axes>"
      ]
     },
     "metadata": {
      "needs_background": "light"
     },
     "output_type": "display_data"
    }
   ],
   "source": [
    "import pandas as pd\n",
    "from sklearn.cluster import KMeans\n",
    "from matplotlib import pyplot as plt\n",
    "from sklearn.preprocessing import MinMaxScaler\n",
    "\n",
    "dataA = pd.read_csv('../5. Dataset PCA/MeterB_pca_all.csv')\n",
    "dataA_feature = dataA[['PC1','PC2']]\n",
    "print(dataA_feature)\n",
    "_ = dataA_feature.plot.scatter(x='PC1',y='PC2')"
   ]
  },
  {
   "cell_type": "code",
   "execution_count": 2,
   "id": "b9f28746",
   "metadata": {},
   "outputs": [],
   "source": [
    "# scaler = MinMaxScaler()\n",
    "# scaler.fit(dataA_feature.PC1)\n",
    "# dataA_feature.PC1 = scaler.transform(dataA_feature.PC1)\n",
    "\n",
    "# # scaler.fit(dataA_feature['PC2'])\n",
    "# # dataA_feature['PC2'] = scaler.transform(dataA_feature['PC2'])\n",
    "# dataA_feature"
   ]
  },
  {
   "cell_type": "code",
   "execution_count": 3,
   "id": "6571a809",
   "metadata": {},
   "outputs": [
    {
     "data": {
      "text/plain": [
       "KMeans(n_clusters=3)"
      ]
     },
     "execution_count": 3,
     "metadata": {},
     "output_type": "execute_result"
    }
   ],
   "source": [
    "km = KMeans(n_clusters=3)\n",
    "km"
   ]
  },
  {
   "cell_type": "code",
   "execution_count": 4,
   "id": "4886406e",
   "metadata": {},
   "outputs": [
    {
     "name": "stderr",
     "output_type": "stream",
     "text": [
      "<ipython-input-4-9ea8584dc15b>:2: SettingWithCopyWarning: \n",
      "A value is trying to be set on a copy of a slice from a DataFrame.\n",
      "Try using .loc[row_indexer,col_indexer] = value instead\n",
      "\n",
      "See the caveats in the documentation: https://pandas.pydata.org/pandas-docs/stable/user_guide/indexing.html#returning-a-view-versus-a-copy\n",
      "  dataA_feature['Cluster'] = y_predict+1\n"
     ]
    },
    {
     "data": {
      "text/html": [
       "<div>\n",
       "<style scoped>\n",
       "    .dataframe tbody tr th:only-of-type {\n",
       "        vertical-align: middle;\n",
       "    }\n",
       "\n",
       "    .dataframe tbody tr th {\n",
       "        vertical-align: top;\n",
       "    }\n",
       "\n",
       "    .dataframe thead th {\n",
       "        text-align: right;\n",
       "    }\n",
       "</style>\n",
       "<table border=\"1\" class=\"dataframe\">\n",
       "  <thead>\n",
       "    <tr style=\"text-align: right;\">\n",
       "      <th></th>\n",
       "      <th>PC1</th>\n",
       "      <th>PC2</th>\n",
       "      <th>Cluster</th>\n",
       "    </tr>\n",
       "  </thead>\n",
       "  <tbody>\n",
       "    <tr>\n",
       "      <th>0</th>\n",
       "      <td>-1.451346</td>\n",
       "      <td>1.538419</td>\n",
       "      <td>2</td>\n",
       "    </tr>\n",
       "    <tr>\n",
       "      <th>1</th>\n",
       "      <td>-1.481271</td>\n",
       "      <td>1.492883</td>\n",
       "      <td>2</td>\n",
       "    </tr>\n",
       "    <tr>\n",
       "      <th>2</th>\n",
       "      <td>-1.467007</td>\n",
       "      <td>1.402951</td>\n",
       "      <td>2</td>\n",
       "    </tr>\n",
       "    <tr>\n",
       "      <th>3</th>\n",
       "      <td>-1.420051</td>\n",
       "      <td>1.375513</td>\n",
       "      <td>2</td>\n",
       "    </tr>\n",
       "    <tr>\n",
       "      <th>4</th>\n",
       "      <td>-1.441651</td>\n",
       "      <td>1.428429</td>\n",
       "      <td>2</td>\n",
       "    </tr>\n",
       "    <tr>\n",
       "      <th>...</th>\n",
       "      <td>...</td>\n",
       "      <td>...</td>\n",
       "      <td>...</td>\n",
       "    </tr>\n",
       "    <tr>\n",
       "      <th>71</th>\n",
       "      <td>6.279505</td>\n",
       "      <td>-1.638657</td>\n",
       "      <td>3</td>\n",
       "    </tr>\n",
       "    <tr>\n",
       "      <th>72</th>\n",
       "      <td>5.961703</td>\n",
       "      <td>-1.561456</td>\n",
       "      <td>3</td>\n",
       "    </tr>\n",
       "    <tr>\n",
       "      <th>73</th>\n",
       "      <td>6.640976</td>\n",
       "      <td>-1.557032</td>\n",
       "      <td>3</td>\n",
       "    </tr>\n",
       "    <tr>\n",
       "      <th>74</th>\n",
       "      <td>6.030425</td>\n",
       "      <td>-1.616472</td>\n",
       "      <td>3</td>\n",
       "    </tr>\n",
       "    <tr>\n",
       "      <th>75</th>\n",
       "      <td>5.853485</td>\n",
       "      <td>-1.578560</td>\n",
       "      <td>3</td>\n",
       "    </tr>\n",
       "  </tbody>\n",
       "</table>\n",
       "<p>76 rows × 3 columns</p>\n",
       "</div>"
      ],
      "text/plain": [
       "         PC1       PC2  Cluster\n",
       "0  -1.451346  1.538419        2\n",
       "1  -1.481271  1.492883        2\n",
       "2  -1.467007  1.402951        2\n",
       "3  -1.420051  1.375513        2\n",
       "4  -1.441651  1.428429        2\n",
       "..       ...       ...      ...\n",
       "71  6.279505 -1.638657        3\n",
       "72  5.961703 -1.561456        3\n",
       "73  6.640976 -1.557032        3\n",
       "74  6.030425 -1.616472        3\n",
       "75  5.853485 -1.578560        3\n",
       "\n",
       "[76 rows x 3 columns]"
      ]
     },
     "execution_count": 4,
     "metadata": {},
     "output_type": "execute_result"
    }
   ],
   "source": [
    "y_predict = km.fit_predict(dataA_feature[['PC1','PC2']])\n",
    "dataA_feature['Cluster'] = y_predict+1\n",
    "dataA_feature"
   ]
  },
  {
   "cell_type": "code",
   "execution_count": 5,
   "id": "203f6aef",
   "metadata": {
    "scrolled": true
   },
   "outputs": [
    {
     "data": {
      "text/plain": [
       "array([[-1.46192961, -1.69148421],\n",
       "       [-0.92765642,  1.95406452],\n",
       "       [ 5.81069975, -0.49603888]])"
      ]
     },
     "execution_count": 5,
     "metadata": {},
     "output_type": "execute_result"
    }
   ],
   "source": [
    "km.cluster_centers_"
   ]
  },
  {
   "cell_type": "code",
   "execution_count": 6,
   "id": "7d552c1d",
   "metadata": {},
   "outputs": [
    {
     "name": "stderr",
     "output_type": "stream",
     "text": [
      "No handles with labels found to put in legend.\n"
     ]
    },
    {
     "data": {
      "text/plain": [
       "<matplotlib.legend.Legend at 0x2152fa15fd0>"
      ]
     },
     "execution_count": 6,
     "metadata": {},
     "output_type": "execute_result"
    },
    {
     "data": {
      "image/png": "[encoded data removed]",
      "text/plain": [
       "<Figure size 432x288 with 1 Axes>"
      ]
     },
     "metadata": {
      "needs_background": "light"
     },
     "output_type": "display_data"
    }
   ],
   "source": [
    "df1 = dataA_feature[dataA_feature.Cluster==1]\n",
    "df2 = dataA_feature[dataA_feature.Cluster==2]\n",
    "df3 = dataA_feature[dataA_feature.Cluster==3]\n",
    "plt.scatter(df1['PC1'],df1['PC2'],color='green')\n",
    "plt.scatter(df2['PC1'],df2['PC2'],color='red')\n",
    "plt.scatter(df3['PC1'],df3['PC2'],color='black')\n",
    "plt.legend()"
   ]
  },
  {
   "cell_type": "code",
   "execution_count": 7,
   "id": "dd09a3cd",
   "metadata": {},
   "outputs": [
    {
     "name": "stderr",
     "output_type": "stream",
     "text": [
      "C:\\Users\\joshh\\anaconda3\\lib\\site-packages\\sklearn\\cluster\\_kmeans.py:881: UserWarning: KMeans is known to have a memory leak on Windows with MKL, when there are less chunks than available threads. You can avoid it by setting the environment variable OMP_NUM_THREADS=1.\n",
      "  warnings.warn(\n"
     ]
    }
   ],
   "source": [
    "k_rng = range(1,10)\n",
    "sse=[]\n",
    "for k in k_rng:\n",
    "    km = KMeans(n_clusters=k)\n",
    "    km.fit(dataA_feature[['PC1','PC2']])\n",
    "    sse.append(km.inertia_)"
   ]
  },
  {
   "cell_type": "code",
   "execution_count": 8,
   "id": "b4fd9d6e",
   "metadata": {
    "scrolled": true
   },
   "outputs": [
    {
     "data": {
      "text/plain": [
       "[891.9116790308364,\n",
       " 355.92605185442187,\n",
       " 144.7841819522307,\n",
       " 68.86453372761598,\n",
       " 48.147295664397355,\n",
       " 28.60995091141206,\n",
       " 22.411294004784235,\n",
       " 16.78323081354883,\n",
       " 12.625528928517491]"
      ]
     },
     "execution_count": 8,
     "metadata": {},
     "output_type": "execute_result"
    }
   ],
   "source": [
    "sse"
   ]
  },
  {
   "cell_type": "code",
   "execution_count": 9,
   "id": "ee16ead2",
   "metadata": {},
   "outputs": [
    {
     "data": {
      "text/plain": [
       "[<matplotlib.lines.Line2D at 0x2152facfaf0>]"
      ]
     },
     "execution_count": 9,
     "metadata": {},
     "output_type": "execute_result"
    },
    {
     "data": {
      "image/png": "[encoded data removed]",
      "text/plain": [
       "<Figure size 432x288 with 1 Axes>"
      ]
     },
     "metadata": {
      "needs_background": "light"
     },
     "output_type": "display_data"
    }
   ],
   "source": [
    "plt.xlabel('K')\n",
    "plt.ylabel('Sum of squared error')\n",
    "plt.plot(k_rng,sse) # choose k = 3"
   ]
  }
 ],
 "metadata": {
  "kernelspec": {
   "display_name": "Python 3",
   "language": "python",
   "name": "python3"
  },
  "language_info": {
   "codemirror_mode": {
    "name": "ipython",
    "version": 3
   },
   "file_extension": ".py",
   "mimetype": "text/x-python",
   "name": "python",
   "nbconvert_exporter": "python",
   "pygments_lexer": "ipython3",
   "version": "3.8.8"
  }
 },
 "nbformat": 4,
 "nbformat_minor": 5
}
