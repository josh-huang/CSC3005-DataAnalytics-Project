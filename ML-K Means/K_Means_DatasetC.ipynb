{
 "cells": [
  {
   "cell_type": "code",
   "execution_count": 1,
   "id": "d2b77a6c",
   "metadata": {
    "scrolled": true
   },
   "outputs": [
    {
     "name": "stdout",
     "output_type": "stream",
     "text": [
      "          PC1       PC2\n",
      "0   -0.014640 -0.869949\n",
      "1   -0.133196 -0.799381\n",
      "2   -0.131749 -0.819928\n",
      "3   -0.140333 -0.822608\n",
      "4   -0.107791 -0.794721\n",
      "..        ...       ...\n",
      "174  4.851297 -0.924205\n",
      "175  5.694928 -1.384011\n",
      "176  3.731552  1.124703\n",
      "177  5.374396 -0.910951\n",
      "178  4.808733  0.802493\n",
      "\n",
      "[179 rows x 2 columns]\n"
     ]
    },
    {
     "data": {
      "image/png": "[encoded data removed]",
      "text/plain": [
       "<Figure size 432x288 with 1 Axes>"
      ]
     },
     "metadata": {
      "needs_background": "light"
     },
     "output_type": "display_data"
    }
   ],
   "source": [
    "import pandas as pd\n",
    "from sklearn.cluster import KMeans\n",
    "from matplotlib import pyplot as plt\n",
    "from sklearn.preprocessing import MinMaxScaler\n",
    "\n",
    "dataA = pd.read_csv('../5. Dataset PCA/MeterC_pca_all.csv')\n",
    "dataA_feature = dataA[['PC1','PC2']]\n",
    "print(dataA_feature)\n",
    "_ = dataA_feature.plot.scatter(x='PC1',y='PC2')"
   ]
  },
  {
   "cell_type": "code",
   "execution_count": 2,
   "id": "b9f28746",
   "metadata": {},
   "outputs": [],
   "source": [
    "# scaler = MinMaxScaler()\n",
    "# scaler.fit(dataA_feature.PC1)\n",
    "# dataA_feature.PC1 = scaler.transform(dataA_feature.PC1)\n",
    "\n",
    "# # scaler.fit(dataA_feature['PC2'])\n",
    "# # dataA_feature['PC2'] = scaler.transform(dataA_feature['PC2'])\n",
    "# dataA_feature"
   ]
  },
  {
   "cell_type": "code",
   "execution_count": 3,
   "id": "6571a809",
   "metadata": {},
   "outputs": [
    {
     "data": {
      "text/plain": [
       "KMeans(n_clusters=4)"
      ]
     },
     "execution_count": 3,
     "metadata": {},
     "output_type": "execute_result"
    }
   ],
   "source": [
    "km = KMeans(n_clusters=4)\n",
    "km"
   ]
  },
  {
   "cell_type": "code",
   "execution_count": 4,
   "id": "4886406e",
   "metadata": {},
   "outputs": [
    {
     "name": "stderr",
     "output_type": "stream",
     "text": [
      "<ipython-input-4-9ea8584dc15b>:2: SettingWithCopyWarning: \n",
      "A value is trying to be set on a copy of a slice from a DataFrame.\n",
      "Try using .loc[row_indexer,col_indexer] = value instead\n",
      "\n",
      "See the caveats in the documentation: https://pandas.pydata.org/pandas-docs/stable/user_guide/indexing.html#returning-a-view-versus-a-copy\n",
      "  dataA_feature['Cluster'] = y_predict+1\n"
     ]
    },
    {
     "data": {
      "text/html": [
       "<div>\n",
       "<style scoped>\n",
       "    .dataframe tbody tr th:only-of-type {\n",
       "        vertical-align: middle;\n",
       "    }\n",
       "\n",
       "    .dataframe tbody tr th {\n",
       "        vertical-align: top;\n",
       "    }\n",
       "\n",
       "    .dataframe thead th {\n",
       "        text-align: right;\n",
       "    }\n",
       "</style>\n",
       "<table border=\"1\" class=\"dataframe\">\n",
       "  <thead>\n",
       "    <tr style=\"text-align: right;\">\n",
       "      <th></th>\n",
       "      <th>PC1</th>\n",
       "      <th>PC2</th>\n",
       "      <th>Cluster</th>\n",
       "    </tr>\n",
       "  </thead>\n",
       "  <tbody>\n",
       "    <tr>\n",
       "      <th>0</th>\n",
       "      <td>-0.014640</td>\n",
       "      <td>-0.869949</td>\n",
       "      <td>1</td>\n",
       "    </tr>\n",
       "    <tr>\n",
       "      <th>1</th>\n",
       "      <td>-0.133196</td>\n",
       "      <td>-0.799381</td>\n",
       "      <td>1</td>\n",
       "    </tr>\n",
       "    <tr>\n",
       "      <th>2</th>\n",
       "      <td>-0.131749</td>\n",
       "      <td>-0.819928</td>\n",
       "      <td>1</td>\n",
       "    </tr>\n",
       "    <tr>\n",
       "      <th>3</th>\n",
       "      <td>-0.140333</td>\n",
       "      <td>-0.822608</td>\n",
       "      <td>1</td>\n",
       "    </tr>\n",
       "    <tr>\n",
       "      <th>4</th>\n",
       "      <td>-0.107791</td>\n",
       "      <td>-0.794721</td>\n",
       "      <td>1</td>\n",
       "    </tr>\n",
       "    <tr>\n",
       "      <th>...</th>\n",
       "      <td>...</td>\n",
       "      <td>...</td>\n",
       "      <td>...</td>\n",
       "    </tr>\n",
       "    <tr>\n",
       "      <th>174</th>\n",
       "      <td>4.851297</td>\n",
       "      <td>-0.924205</td>\n",
       "      <td>3</td>\n",
       "    </tr>\n",
       "    <tr>\n",
       "      <th>175</th>\n",
       "      <td>5.694928</td>\n",
       "      <td>-1.384011</td>\n",
       "      <td>3</td>\n",
       "    </tr>\n",
       "    <tr>\n",
       "      <th>176</th>\n",
       "      <td>3.731552</td>\n",
       "      <td>1.124703</td>\n",
       "      <td>3</td>\n",
       "    </tr>\n",
       "    <tr>\n",
       "      <th>177</th>\n",
       "      <td>5.374396</td>\n",
       "      <td>-0.910951</td>\n",
       "      <td>3</td>\n",
       "    </tr>\n",
       "    <tr>\n",
       "      <th>178</th>\n",
       "      <td>4.808733</td>\n",
       "      <td>0.802493</td>\n",
       "      <td>3</td>\n",
       "    </tr>\n",
       "  </tbody>\n",
       "</table>\n",
       "<p>179 rows × 3 columns</p>\n",
       "</div>"
      ],
      "text/plain": [
       "          PC1       PC2  Cluster\n",
       "0   -0.014640 -0.869949        1\n",
       "1   -0.133196 -0.799381        1\n",
       "2   -0.131749 -0.819928        1\n",
       "3   -0.140333 -0.822608        1\n",
       "4   -0.107791 -0.794721        1\n",
       "..        ...       ...      ...\n",
       "174  4.851297 -0.924205        3\n",
       "175  5.694928 -1.384011        3\n",
       "176  3.731552  1.124703        3\n",
       "177  5.374396 -0.910951        3\n",
       "178  4.808733  0.802493        3\n",
       "\n",
       "[179 rows x 3 columns]"
      ]
     },
     "execution_count": 4,
     "metadata": {},
     "output_type": "execute_result"
    }
   ],
   "source": [
    "y_predict = km.fit_predict(dataA_feature[['PC1','PC2']])\n",
    "dataA_feature['Cluster'] = y_predict+1\n",
    "dataA_feature"
   ]
  },
  {
   "cell_type": "code",
   "execution_count": 5,
   "id": "203f6aef",
   "metadata": {
    "scrolled": true
   },
   "outputs": [
    {
     "data": {
      "text/plain": [
       "array([[-0.50253575, -0.40658644],\n",
       "       [-1.20003247, 11.27538905],\n",
       "       [ 4.90166113, -0.05825586],\n",
       "       [12.0494161 ,  2.48902624]])"
      ]
     },
     "execution_count": 5,
     "metadata": {},
     "output_type": "execute_result"
    }
   ],
   "source": [
    "km.cluster_centers_"
   ]
  },
  {
   "cell_type": "code",
   "execution_count": 6,
   "id": "7d552c1d",
   "metadata": {},
   "outputs": [
    {
     "name": "stderr",
     "output_type": "stream",
     "text": [
      "No handles with labels found to put in legend.\n"
     ]
    },
    {
     "data": {
      "text/plain": [
       "<matplotlib.legend.Legend at 0x2a1792506a0>"
      ]
     },
     "execution_count": 6,
     "metadata": {},
     "output_type": "execute_result"
    },
    {
     "data": {
      "image/png": "[encoded data removed]",
      "text/plain": [
       "<Figure size 432x288 with 1 Axes>"
      ]
     },
     "metadata": {
      "needs_background": "light"
     },
     "output_type": "display_data"
    }
   ],
   "source": [
    "df1 = dataA_feature[dataA_feature.Cluster==1]\n",
    "df2 = dataA_feature[dataA_feature.Cluster==2]\n",
    "df3 = dataA_feature[dataA_feature.Cluster==3]\n",
    "df4 = dataA_feature[dataA_feature.Cluster==4]\n",
    "plt.scatter(df1['PC1'],df1['PC2'],color='green')\n",
    "plt.scatter(df2['PC1'],df2['PC2'],color='red')\n",
    "plt.scatter(df3['PC1'],df3['PC2'],color='black')\n",
    "plt.scatter(df4['PC1'],df4['PC2'],color='blue')\n",
    "plt.legend()"
   ]
  },
  {
   "cell_type": "code",
   "execution_count": 7,
   "id": "dd09a3cd",
   "metadata": {},
   "outputs": [
    {
     "name": "stderr",
     "output_type": "stream",
     "text": [
      "C:\\Users\\joshh\\anaconda3\\lib\\site-packages\\sklearn\\cluster\\_kmeans.py:881: UserWarning: KMeans is known to have a memory leak on Windows with MKL, when there are less chunks than available threads. You can avoid it by setting the environment variable OMP_NUM_THREADS=1.\n",
      "  warnings.warn(\n"
     ]
    }
   ],
   "source": [
    "k_rng = range(1,10)\n",
    "sse=[]\n",
    "for k in k_rng:\n",
    "    km = KMeans(n_clusters=k)\n",
    "    km.fit(dataA_feature[['PC1','PC2']])\n",
    "    sse.append(km.inertia_)"
   ]
  },
  {
   "cell_type": "code",
   "execution_count": 8,
   "id": "b4fd9d6e",
   "metadata": {
    "scrolled": true
   },
   "outputs": [
    {
     "data": {
      "text/plain": [
       "[1792.7018393506662,\n",
       " 1069.9608216857694,\n",
       " 437.9089971297395,\n",
       " 284.3648710201069,\n",
       " 166.7829094591211,\n",
       " 133.29829178872328,\n",
       " 108.93412827555356,\n",
       " 87.9537578586508,\n",
       " 66.27673241683122]"
      ]
     },
     "execution_count": 8,
     "metadata": {},
     "output_type": "execute_result"
    }
   ],
   "source": [
    "sse"
   ]
  },
  {
   "cell_type": "code",
   "execution_count": 9,
   "id": "ee16ead2",
   "metadata": {},
   "outputs": [
    {
     "data": {
      "text/plain": [
       "[<matplotlib.lines.Line2D at 0x2a17974cd00>]"
      ]
     },
     "execution_count": 9,
     "metadata": {},
     "output_type": "execute_result"
    },
    {
     "data": {
      "image/png": "[encoded data removed]",
      "text/plain": [
       "<Figure size 432x288 with 1 Axes>"
      ]
     },
     "metadata": {
      "needs_background": "light"
     },
     "output_type": "display_data"
    }
   ],
   "source": [
    "plt.xlabel('K')\n",
    "plt.ylabel('Sum of squared error')\n",
    "plt.plot(k_rng,sse)"
   ]
  }
 ],
 "metadata": {
  "kernelspec": {
   "display_name": "Python 3",
   "language": "python",
   "name": "python3"
  },
  "language_info": {
   "codemirror_mode": {
    "name": "ipython",
    "version": 3
   },
   "file_extension": ".py",
   "mimetype": "text/x-python",
   "name": "python",
   "nbconvert_exporter": "python",
   "pygments_lexer": "ipython3",
   "version": "3.8.8"
  }
 },
 "nbformat": 4,
 "nbformat_minor": 5
}
