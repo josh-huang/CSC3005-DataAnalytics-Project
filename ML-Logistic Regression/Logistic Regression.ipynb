{
 "cells": [
  {
   "cell_type": "code",
   "execution_count": 1,
   "id": "109c5096",
   "metadata": {},
   "outputs": [],
   "source": [
    "import pandas as pd\n",
    "import numpy as np\n",
    "\n",
    "import seaborn as sns\n",
    "import matplotlib.pyplot as plt\n",
    "\n",
    "#https://towardsdatascience.com/how-do-you-apply-pca-to-logistic-regression-to-remove-multicollinearity-10b7f8e89f9b"
   ]
  },
  {
   "cell_type": "code",
   "execution_count": 2,
   "id": "19c74950",
   "metadata": {},
   "outputs": [
    {
     "name": "stdout",
     "output_type": "stream",
     "text": [
      "Training accuracy for feature selection A : 1.0\n",
      "Testing accuracy for feature selection A : 1.0\n",
      "\n",
      "Confusion_matrix for A\n"
     ]
    },
    {
     "data": {
      "text/plain": [
       "Text(0.5, 15.0, 'Predicted')"
      ]
     },
     "execution_count": 2,
     "metadata": {},
     "output_type": "execute_result"
    },
    {
     "data": {
      "image/png": "[encoded data removed]",
      "text/plain": [
       "<Figure size 432x288 with 2 Axes>"
      ]
     },
     "metadata": {
      "needs_background": "light"
     },
     "output_type": "display_data"
    }
   ],
   "source": [
    "#Import relevant libraries\n",
    "from sklearn.metrics import accuracy_score\n",
    "from sklearn.model_selection import train_test_split\n",
    "from sklearn.linear_model import LogisticRegression\n",
    "\n",
    "#load original data set using panda, to build a logistic regression model(base model) on Meter A\n",
    "dataframeA = pd.read_csv('../4. Dataset Feature Selection/MeterA_feature_selection.csv')\n",
    "dataframeA.head()\n",
    "\n",
    "#drop unneeded column \n",
    "dataframeA = dataframeA.drop('Unnamed: 0', axis=1)\n",
    "\n",
    "# Define Feature matrix(dataframeA) as Target vector\n",
    "# class attruibute as labels\n",
    "X_A = dataframeA\n",
    "y_A = dataframeA[\"Class Attruibute\"]\n",
    "\n",
    "\n",
    "#Split dataframeA into train and test sets with the ratio 70:30\n",
    "X_train_A, X_test_A, y_train_A, y_test_A = train_test_split(X_A, y_A, test_size=0.30, \n",
    "                                                    shuffle=True, random_state=2)\n",
    "\n",
    "# Initialize the logistic regression model\n",
    "clf = LogisticRegression(max_iter=2500) \n",
    " \n",
    "# Train the model\n",
    "clf.fit(X_train_A, y_train_A)\n",
    "\n",
    "# Make predictions\n",
    "y_pred_A = clf.predict(X_test_A) # Predictions\n",
    "y_true_A = y_test_A # True values\n",
    "\n",
    "# Measure the accuracy and print result\n",
    "print(\"Training accuracy for feature selection A :\", np.round(accuracy_score(y_train_A, \n",
    "                                                 clf.predict(X_train_A)), 2))\n",
    "print(\"Testing accuracy for feature selection A :\", np.round(accuracy_score(y_true_A, y_pred_A), 2))\n",
    "\n",
    "# Make the confusion matrix for visualisation of meter A\n",
    "from sklearn.metrics import confusion_matrix\n",
    "cf_matrix_A = confusion_matrix(y_true_A, y_pred_A)\n",
    "print(\"\\nConfusion_matrix for A\")\n",
    "sns.heatmap(cf_matrix_A, annot=True, cmap='Blues')\n",
    "plt.xlabel('Predicted', fontsize=12)"
   ]
  },
  {
   "cell_type": "markdown",
   "id": "707f7559",
   "metadata": {},
   "source": [
    "# Building a logistic regression model on the PCA data"
   ]
  },
  {
   "cell_type": "code",
   "execution_count": 3,
   "id": "98f13ea4",
   "metadata": {
    "scrolled": false
   },
   "outputs": [
    {
     "name": "stdout",
     "output_type": "stream",
     "text": [
      "Train accuracy for PCA A: 0.81\n",
      "Test accuracy for PCA A: 0.72\n",
      "\n",
      "Test confusion_matrix\n"
     ]
    },
    {
     "data": {
      "text/plain": [
       "Text(33.0, 0.5, 'True')"
      ]
     },
     "execution_count": 3,
     "metadata": {},
     "output_type": "execute_result"
    },
    {
     "data": {
      "image/png": "[encoded data removed]",
      "text/plain": [
       "<Figure size 432x288 with 2 Axes>"
      ]
     },
     "metadata": {
      "needs_background": "light"
     },
     "output_type": "display_data"
    }
   ],
   "source": [
    "#READ PCA DATASET A\n",
    "dataframeA = pd.read_csv('../5. Dataset PCA/MeterA_pca_3.csv')\n",
    "#display dataframeA\n",
    "dataframeA.head()\n",
    "\n",
    "#drop unwanted column\n",
    "dataframeA = dataframeA.drop('Unnamed: 0', axis=1)\n",
    "\n",
    "#extract features and target variables\n",
    "X_pca = dataframeA[['PC1','PC2','PC3']] #,'PC3','PC4','PC5'\n",
    "y_Lbl = dataframeA[\"Class Attruibute\"]\n",
    "\n",
    "#Split PCA into train and test sets with the ratio 70:30\n",
    "X_train_pca, X_test_pca, y_train, y_test = train_test_split(X_pca, y_Lbl, test_size=0.30, \n",
    "                                                            shuffle=True, random_state=2)\n",
    "\n",
    "# Initialize the logistic regression model\n",
    "from sklearn.linear_model import LogisticRegression\n",
    "clf = LogisticRegression(max_iter=2500)\n",
    "\n",
    "# Train the model using training dataset\n",
    "clf.fit(X_train_pca, y_train)\n",
    "\n",
    "# Make predictions using testing dataset\n",
    "y_pred = clf.predict(X_test_pca) # Predictions\n",
    "y_true = y_test # True values\n",
    "\n",
    "# Measure accuracy, round result to 2dp\n",
    "from sklearn.metrics import accuracy_score\n",
    "import numpy as np\n",
    "print(\"Train accuracy for PCA A:\", np.round(accuracy_score(y_train, \n",
    "                                                 clf.predict(X_train_pca)), 2))\n",
    "print(\"Test accuracy for PCA A:\", np.round(accuracy_score(y_true, y_pred), 2))\n",
    "\n",
    "# Make the confusion matrix for visualisation\n",
    "from sklearn.metrics import confusion_matrix\n",
    "cf_matrix = confusion_matrix(y_true, y_pred)\n",
    "print(\"\\nTest confusion_matrix\")\n",
    "sns.heatmap(cf_matrix, annot=True, cmap='Blues')\n",
    "plt.xlabel('Predicted', fontsize=12)\n",
    "plt.ylabel('True', fontsize=12)"
   ]
  },
  {
   "cell_type": "markdown",
   "id": "f43bf7c4",
   "metadata": {},
   "source": [
    "# For Meter B"
   ]
  },
  {
   "cell_type": "code",
   "execution_count": 4,
   "id": "1b326b36",
   "metadata": {},
   "outputs": [
    {
     "name": "stdout",
     "output_type": "stream",
     "text": [
      "Train accuracy for Meter B feature selection : 1.0\n",
      "Test accuracy for Meter B feature selection: 1.0\n",
      "\n",
      "Test confusion_matrix\n"
     ]
    },
    {
     "data": {
      "text/plain": [
       "Text(0.5, 15.0, 'Predicted')"
      ]
     },
     "execution_count": 4,
     "metadata": {},
     "output_type": "execute_result"
    },
    {
     "data": {
      "image/png": "[encoded data removed]",
      "text/plain": [
       "<Figure size 432x288 with 2 Axes>"
      ]
     },
     "metadata": {
      "needs_background": "light"
     },
     "output_type": "display_data"
    }
   ],
   "source": [
    "#load original data set to build a base logistic regression model on Meter B\n",
    "\n",
    "#load in the data\n",
    "dataframeB = pd.read_csv('../4. Dataset Feature Selection/MeterB_feature_selection.csv')\n",
    "\n",
    "#display data from B\n",
    "dataframeB.head()\n",
    "\n",
    "#drop unwanted column from B\n",
    "dataframeB = dataframeB.drop('Unnamed: 0', axis=1)\n",
    "\n",
    "# Define Feature matrix(dataframeB) as Target vector\n",
    "# class attruibute as labels\n",
    "X_B = dataframeB\n",
    "y_label_B = dataframeB[\"Class Attruibute\"]\n",
    "\n",
    "#Split dataframeB into train and test sets with the ratio 70:30\n",
    "X_B_train, X_B_test, y_B_train, y_B_test = train_test_split(X_B, y_label_B, test_size=0.30, \n",
    "                                                    shuffle=True, random_state=2)\n",
    "\n",
    "# Initialize the logistic regression model\n",
    "clf_B = LogisticRegression(max_iter=2500)\n",
    "\n",
    "# Train the model\n",
    "clf_B.fit(X_B_train, y_B_train)\n",
    "\n",
    "# Make predictions\n",
    "y_pred_B = clf_B.predict(X_B_test) # Predictions\n",
    "y_true_B = y_B_test # True values\n",
    "\n",
    "# Measure the accuracy and print result\n",
    "print(\"Train accuracy for Meter B feature selection :\", np.round(accuracy_score(y_B_train, \n",
    "                                                 clf_B.predict(X_B_train)), 2))\n",
    "print(\"Test accuracy for Meter B feature selection:\", np.round(accuracy_score(y_true_B, y_pred_B), 2))\n",
    "\n",
    "# Make the confusion matrix\n",
    "from sklearn.metrics import confusion_matrix\n",
    "cf_matrix_B = confusion_matrix(y_true_B, y_pred_B)\n",
    "print(\"\\nTest confusion_matrix\")\n",
    "sns.heatmap(cf_matrix_B, annot=True, cmap='Blues')\n",
    "plt.xlabel('Predicted', fontsize=12)"
   ]
  },
  {
   "cell_type": "markdown",
   "id": "8d311808",
   "metadata": {},
   "source": [
    "### Building a logistic regression model on the Dataset B PCA"
   ]
  },
  {
   "cell_type": "code",
   "execution_count": 5,
   "id": "ff13c7c1",
   "metadata": {},
   "outputs": [
    {
     "name": "stdout",
     "output_type": "stream",
     "text": [
      "Train accuracy for PCA B: 1.0\n",
      "Test accuracy for PCA B: 0.96\n",
      "\n",
      "Test confusion_matrix For Dataset B\n"
     ]
    },
    {
     "data": {
      "text/plain": [
       "Text(33.0, 0.5, 'True For Dataset B')"
      ]
     },
     "execution_count": 5,
     "metadata": {},
     "output_type": "execute_result"
    },
    {
     "data": {
      "image/png": "[encoded data removed]",
      "text/plain": [
       "<Figure size 432x288 with 2 Axes>"
      ]
     },
     "metadata": {
      "needs_background": "light"
     },
     "output_type": "display_data"
    }
   ],
   "source": [
    "#read data from file\n",
    "dataframeB = pd.read_csv('../5. Dataset PCA/MeterB_pca_4.csv')\n",
    "\n",
    "#display dataframeB\n",
    "dataframeB.head()\n",
    "\n",
    "#drop unwanted columns\n",
    "dataframeB = dataframeB.drop('Unnamed: 0', axis=1)\n",
    "\n",
    "#extract features and target variables\n",
    "y_B = dataframeB[\"Class Attruibute\"]\n",
    "X_pca_B = dataframeB[['PC1','PC2','PC3','PC4']]\n",
    "\n",
    "#Split PCA into train and test sets with the ratio 70:30\n",
    "X_train_pca_B, X_test_pca_B, y_train_B, y_test_B = train_test_split(X_pca_B, y_B, test_size=0.30, \n",
    "                                                            shuffle=True, random_state=2)\n",
    "\n",
    "# Initialize the logistic regression model\n",
    "clf_B = LogisticRegression(max_iter=2500)\n",
    "\n",
    "# Train the model\n",
    "clf_B.fit(X_train_pca_B, y_train_B)\n",
    "\n",
    "# Make predictions\n",
    "y_pred_B = clf_B.predict(X_test_pca_B) # contains Predictions\n",
    "y_true_B = y_test_B # contains True values\n",
    "\n",
    "\n",
    "# Measure accuracy, round result to 2dp\n",
    "print(\"Train accuracy for PCA B:\", np.round(accuracy_score(y_train_B, \n",
    "                                                 clf_B.predict(X_train_pca_B)), 2))\n",
    "print(\"Test accuracy for PCA B:\", np.round(accuracy_score(y_true_B, y_pred_B), 2))\n",
    "\n",
    "# Make the confusion matrix for visualisation\n",
    "from sklearn.metrics import confusion_matrix\n",
    "cf_matrix_B = confusion_matrix(y_true_B, y_pred_B)\n",
    "print(\"\\nTest confusion_matrix For Dataset B\")\n",
    "sns.heatmap(cf_matrix_B, annot=True, cmap='Blues')\n",
    "plt.xlabel('Predicted For Dataset  B', fontsize=12)\n",
    "plt.ylabel('True For Dataset B', fontsize=12)"
   ]
  },
  {
   "cell_type": "markdown",
   "id": "99344edc",
   "metadata": {},
   "source": [
    "# For Meter C"
   ]
  },
  {
   "cell_type": "code",
   "execution_count": 6,
   "id": "c0a75d46",
   "metadata": {},
   "outputs": [
    {
     "name": "stdout",
     "output_type": "stream",
     "text": [
      "Train accuracy Using feature selection dataset: 1.0\n",
      "Test accuracy Using feature selection dataset: 0.96\n",
      "\n",
      "Test confusion_matrix For C\n"
     ]
    },
    {
     "data": {
      "text/plain": [
       "Text(0.5, 15.0, 'Predicted For C')"
      ]
     },
     "execution_count": 6,
     "metadata": {},
     "output_type": "execute_result"
    },
    {
     "data": {
      "image/png": "[encoded data removed]",
      "text/plain": [
       "<Figure size 432x288 with 2 Axes>"
      ]
     },
     "metadata": {
      "needs_background": "light"
     },
     "output_type": "display_data"
    }
   ],
   "source": [
    "#load original data set to build a base logistic regression model on Meter C\n",
    "\n",
    "#load in the data\n",
    "dataframeC = pd.read_csv('../4. Dataset Feature Selection/MeterC_feature_selection.csv')\n",
    "\n",
    "#display data from C\n",
    "dataframeC.head()\n",
    "#drop unwanted column from C\n",
    "dataframeC = dataframeC.drop('Unnamed: 0', axis=1)\n",
    "\n",
    "# Define Feature matrix(dataframeC) as Target vector\n",
    "# class attruibute as labels\n",
    "X_C = dataframeC\n",
    "y_C = dataframeC[\"Class Attruibute\"]\n",
    "\n",
    "#Split dataframeC into train and test sets with the ratio 70:30\n",
    "X_train_C, X_test_C, y_train_C, y_test_C = train_test_split(X_C, y_C, test_size=0.30, \n",
    "                                                    shuffle=True, random_state=2)\n",
    "# Initialize the logistic regression model\n",
    "clf_C = LogisticRegression(max_iter=5000)\n",
    "\n",
    "# Train the model\n",
    "clf_C.fit(X_train_C, y_train_C)\n",
    "\n",
    "# Make predictions\n",
    "y_pred_C = clf_C.predict(X_test_C)# contains Predictions\n",
    "y_true_C = y_test_C # contains True values\n",
    "\n",
    "# Measure accuracy, round result to 2dp\n",
    "print(\"Train accuracy Using feature selection dataset:\", np.round(accuracy_score(y_train_C, \n",
    "                                                 clf_C.predict(X_train_C)), 2))\n",
    "print(\"Test accuracy Using feature selection dataset:\", np.round(accuracy_score(y_true_C, y_pred_C), 2))\n",
    "\n",
    "# Make the confusion matrix\n",
    "from sklearn.metrics import confusion_matrix\n",
    "cf_matrix_C = confusion_matrix(y_true_C, y_pred_C)\n",
    "print(\"\\nTest confusion_matrix For C\")\n",
    "sns.heatmap(cf_matrix_C, annot=True, cmap='Blues')\n",
    "plt.xlabel('Predicted For C', fontsize=12)"
   ]
  },
  {
   "cell_type": "markdown",
   "id": "e191bd40",
   "metadata": {},
   "source": [
    "###  builds a logistic regression model on the transformed dataset (the dataset obtained by applying PCA)"
   ]
  },
  {
   "cell_type": "code",
   "execution_count": 7,
   "id": "155314f2",
   "metadata": {},
   "outputs": [
    {
     "name": "stdout",
     "output_type": "stream",
     "text": [
      "Train accuracy Using PCA for dataset C: 0.82\n",
      "Test accuracy Using PCA for dataset C: 0.72\n",
      "\n",
      "Test confusion_matrix\n"
     ]
    },
    {
     "data": {
      "text/plain": [
       "Text(33.0, 0.5, 'True')"
      ]
     },
     "execution_count": 7,
     "metadata": {},
     "output_type": "execute_result"
    },
    {
     "data": {
      "image/png": "[encoded data removed]",
      "text/plain": [
       "<Figure size 432x288 with 2 Axes>"
      ]
     },
     "metadata": {
      "needs_background": "light"
     },
     "output_type": "display_data"
    }
   ],
   "source": [
    "# Make train and test sets\n",
    "from sklearn.model_selection import train_test_split\n",
    "#READ PCA DATASET C\n",
    "dataframeC = pd.read_csv('../5. Dataset PCA/MeterC_pca_8.csv')\n",
    "#display dataframeA\n",
    "dataframeC.head()\n",
    "#drop unwanted column\n",
    "dataframeC = dataframeC.drop('Unnamed: 0', axis=1)\n",
    "#extract features and target variables\n",
    "y_C = dataframeC[\"Class Attruibute\"]\n",
    "X_pca_C = dataframeC[['PC1','PC2','PC3','PC4','PC5','PC6','PC7','PC8']] #,'PC4','PC5','PC6','PC7'\n",
    "\n",
    "#Split PCA into train and test sets with the ratio 70:30\n",
    "X_train_pca_C, X_test_pca_C, y_train_C, y_test_C = train_test_split(X_pca_C, y_C, test_size=0.30, \n",
    "                                                            shuffle=True, random_state=2)\n",
    "\n",
    "# Initialize the logistic regression model\n",
    "from sklearn.linear_model import LogisticRegression\n",
    "clf_C = LogisticRegression(max_iter=2500)\n",
    "\n",
    "# Train the model\n",
    "clf_C.fit(X_train_pca_C, y_train_C)\n",
    "\n",
    "# Make predictions \n",
    "y_pred_C = clf_C.predict(X_test_pca_C) # contain Predictions\n",
    "y_true_C = y_test_C # contain True values\n",
    "\n",
    "# Measure accuracy, round result to 2dp\n",
    "print(\"Train accuracy Using PCA for dataset C:\", np.round(accuracy_score(y_train_C, \n",
    "                                                 clf_C.predict(X_train_pca_C)), 2))\n",
    "print(\"Test accuracy Using PCA for dataset C:\", np.round(accuracy_score(y_true_C, y_pred_C), 2))\n",
    "\n",
    "# Make the confusion matrix for visualisation\n",
    "from sklearn.metrics import confusion_matrix\n",
    "cf_matrix_C = confusion_matrix(y_true_C, y_pred_C)\n",
    "print(\"\\nTest confusion_matrix\")\n",
    "sns.heatmap(cf_matrix_C, annot=True, cmap='Blues')\n",
    "plt.xlabel('Predicted', fontsize=12)\n",
    "plt.ylabel('True', fontsize=12)\n",
    "\n",
    "#c accuracy is very low, cause we didnt drop and outlier, hence the result is lower. \n"
   ]
  },
  {
   "cell_type": "code",
   "execution_count": null,
   "id": "49e9a849",
   "metadata": {},
   "outputs": [],
   "source": []
  }
 ],
 "metadata": {
  "kernelspec": {
   "display_name": "Python 3 (ipykernel)",
   "language": "python",
   "name": "python3"
  },
  "language_info": {
   "codemirror_mode": {
    "name": "ipython",
    "version": 3
   },
   "file_extension": ".py",
   "mimetype": "text/x-python",
   "name": "python",
   "nbconvert_exporter": "python",
   "pygments_lexer": "ipython3",
   "version": "3.10.4"
  }
 },
 "nbformat": 4,
 "nbformat_minor": 5
}
