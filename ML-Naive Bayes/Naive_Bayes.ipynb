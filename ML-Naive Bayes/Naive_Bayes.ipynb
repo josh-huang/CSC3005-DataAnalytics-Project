{
 "cells": [
  {
   "cell_type": "code",
   "execution_count": 1,
   "id": "4d150957",
   "metadata": {},
   "outputs": [],
   "source": [
    "import pandas as pd\n",
    "from sklearn.metrics import plot_confusion_matrix\n",
    "import matplotlib.pyplot as plt\n",
    "import seaborn as sns\n",
    "%matplotlib inline"
   ]
  },
  {
   "cell_type": "code",
   "execution_count": 2,
   "id": "5b8ca4d5",
   "metadata": {},
   "outputs": [],
   "source": [
    "# Load and drop unwanted labels\n",
    "dataframeA = pd.read_csv('../5. Dataset PCA/MeterA_pca_3.csv')\n",
    "dataframeA.head()\n",
    "dataframeA = dataframeA.drop('Unnamed: 0', axis=1)\n",
    "\n",
    "Meter_A_DF = dataframeA.loc[:, dataframeA.columns != 'Class Attruibute']\n",
    "\n",
    "# yLbl is Class Attruibute labels\n",
    "yLbl_MeterA = dataframeA[['Class Attruibute']]\n",
    "\n",
    "#split imported data into test and train set using the ratio of 0.3 and 0.7\n",
    "from sklearn.model_selection import train_test_split\n",
    "Meter_A_train, Meter_A_test, yLbl_train_MeterA, yLbl_test_MeterA = train_test_split(Meter_A_DF, yLbl_MeterA, test_size=0.3, random_state=12)\n"
   ]
  },
  {
   "cell_type": "code",
   "execution_count": 3,
   "id": "44a43fdf",
   "metadata": {
    "scrolled": true
   },
   "outputs": [
    {
     "name": "stdout",
     "output_type": "stream",
     "text": [
      "\n",
      "Training Accuracy for Meter A : 0.8103448275862069\n",
      "\n",
      "Testing Accuracy for Meter A : 0.8\n"
     ]
    },
    {
     "data": {
      "image/png": "[encoded data removed]",
      "text/plain": [
       "<Figure size 432x288 with 2 Axes>"
      ]
     },
     "metadata": {
      "needs_background": "light"
     },
     "output_type": "display_data"
    },
    {
     "name": "stdout",
     "output_type": "stream",
     "text": [
      "Root Mean Square Error for A:\n",
      "\n",
      "0.4472135954999579\n"
     ]
    }
   ],
   "source": [
    "#import necessary libraries\n",
    "from sklearn import tree\n",
    "from sklearn.metrics import accuracy_score\n",
    "from sklearn.naive_bayes import GaussianNB\n",
    "\n",
    "#initilise naive bayes classifier and train the model using the training sets\n",
    "clf_MeterA = GaussianNB()\n",
    "clf_MeterA.fit(Meter_A_train, yLbl_train_MeterA.values.ravel())\n",
    "\n",
    "#Predict the response for train and test dataset\n",
    "Meter_A_predTrain = clf_MeterA.predict(Meter_A_train)\n",
    "Meter_A_predTest = clf_MeterA.predict(Meter_A_test)\n",
    "\n",
    "#After generating the model, \n",
    "#check the accuracy using actual and predicted values for both training and testing dataset.\n",
    "trainAcc_MeterA = accuracy_score(yLbl_train_MeterA, Meter_A_predTrain)\n",
    "testAcc_MeterA = accuracy_score(yLbl_test_MeterA, Meter_A_predTest)\n",
    "print(\"\\nTraining Accuracy for Meter A :\",trainAcc_MeterA)\n",
    "print(\"\\nTesting Accuracy for Meter A :\",testAcc_MeterA)\n",
    "\n",
    "#visualise the resulting for testing sets\n",
    "plot_confusion_matrix(clf_MeterA, Meter_A_test, yLbl_test_MeterA)\n",
    "plt.show()\n",
    "\n",
    "#MSE is used to evaluate model performance.\n",
    "from sklearn.metrics import mean_squared_error\n",
    "import math\n",
    "\n",
    "MSE_MeterA = mean_squared_error(yLbl_test_MeterA, Meter_A_predTest)\n",
    " \n",
    "RMSE_MeterA = math.sqrt(MSE_MeterA)\n",
    "print(\"Root Mean Square Error for A:\\n\")\n",
    "print(RMSE_MeterA)"
   ]
  },
  {
   "cell_type": "code",
   "execution_count": 4,
   "id": "8a5dae26",
   "metadata": {},
   "outputs": [],
   "source": [
    "# Load and drop unwanted labels\n",
    "dataframeB = pd.read_csv('../5. Dataset PCA/MeterB_pca_5.csv')#../5. Dataset Feature Dropping/MeterB_featureSelection.csv\n",
    "dataframeB.head()\n",
    "dataframeB = dataframeB.drop('Unnamed: 0', axis=1)\n",
    "PCA_B_DF = dataframeB.loc[:, dataframeB.columns != 'Class Attruibute']\n",
    "#'Profile factor','Symmetry','Crossflow','Swirl Angle','Average flow velocity','Average speed of sound','Average Signal Strength','Meter performance','Average Gain','Average Transit Time'\n",
    "\n",
    "# yLbl is Class Attruibute labels\n",
    "yLbl_B = dataframeB[['Class Attruibute']]\n",
    "\n",
    "#split imported data into test and train set using the ratio of 0.3 and 0.7\n",
    "PCA_B_train, PCA_B_test, yLbl_B_train, yLbl_B_test = train_test_split(PCA_B_DF, yLbl_B, test_size=0.3, random_state=12)\n"
   ]
  },
  {
   "cell_type": "code",
   "execution_count": 5,
   "id": "27326144",
   "metadata": {
    "scrolled": true
   },
   "outputs": [
    {
     "name": "stdout",
     "output_type": "stream",
     "text": [
      "\n",
      "Training Accuracy for Meter B: 0.9574468085106383\n",
      "\n",
      "Testing Accuracy for Meter B: 0.9047619047619048\n"
     ]
    },
    {
     "data": {
      "image/png": "[encoded data removed]",
      "text/plain": [
       "<Figure size 432x288 with 2 Axes>"
      ]
     },
     "metadata": {
      "needs_background": "light"
     },
     "output_type": "display_data"
    },
    {
     "name": "stdout",
     "output_type": "stream",
     "text": [
      "Root Mean Square Error For PCA Meter B:\n",
      "\n",
      "0.3086066999241838\n"
     ]
    }
   ],
   "source": [
    "#initilise naive bayes classifier and train the model using the training sets\n",
    "clf_B = GaussianNB()\n",
    "clf_B.fit(PCA_B_train,yLbl_B_train.values.ravel())\n",
    "\n",
    "#Predict the response for train and test dataset B\n",
    "PCA_B_predTrain = clf_B.predict(PCA_B_train)\n",
    "PCA_B_predTest = clf_B.predict(PCA_B_test)\n",
    "\n",
    "#After generating the model, \n",
    "#check the accuracy using actual and predicted values for both training and testing dataset B.\n",
    "trainAcc_B=accuracy_score(yLbl_B_train, PCA_B_predTrain)\n",
    "testAcc_B=accuracy_score(yLbl_B_test, PCA_B_predTest)\n",
    "print(\"\\nTraining Accuracy for Meter B:\",trainAcc_B)\n",
    "print(\"\\nTesting Accuracy for Meter B:\",testAcc_B)\n",
    "\n",
    "#visualise the resulting for testing sets\n",
    "plot_confusion_matrix(clf_B, PCA_B_test, yLbl_B_test)\n",
    "plt.show()\n",
    "\n",
    " #MSE is used to evaluate model performance.\n",
    "MSE_B = mean_squared_error(yLbl_B_test, PCA_B_predTest)\n",
    " \n",
    "RMSE_B = math.sqrt(MSE_B)\n",
    "print(\"Root Mean Square Error For PCA Meter B:\\n\")\n",
    "print(RMSE_B)"
   ]
  },
  {
   "cell_type": "code",
   "execution_count": 6,
   "id": "744e2ff5",
   "metadata": {},
   "outputs": [],
   "source": [
    "# Load and drop unwanted labels\n",
    "dataframeC = pd.read_csv('../5. Dataset PCA/MeterC_pca_6.csv')#../5. Dataset Feature Dropping/MeterC_featureSelection.csv'\n",
    "dataframeC.head()\n",
    "dataframeC = dataframeC.drop('Unnamed: 0', axis=1)\n",
    "\n",
    "PCA_C_DF = dataframeC.loc[:, dataframeC.columns != 'Class Attruibute']\n",
    "#'Profile factor','Symmetry','Crossflow','Average Flow Velocity','Average Gain','Average Signal Quality','Average Signal Strength'\n",
    "\n",
    "# yLbl is Class Attruibute labels\n",
    "yLbl_C = dataframeC[['Class Attruibute']]\n",
    "\n",
    "#split imported data into test and train set using the ratio of 0.3 and 0.7\n",
    "PCA_C_train, PCA_C_test, yLbl_C_train, yLbl_C_test = train_test_split(PCA_C_DF, yLbl_C, test_size=0.3, random_state=20)\n"
   ]
  },
  {
   "cell_type": "code",
   "execution_count": 7,
   "id": "db09e0a6",
   "metadata": {},
   "outputs": [
    {
     "name": "stdout",
     "output_type": "stream",
     "text": [
      "\n",
      "Training Accuracy: 0.5754716981132075\n",
      "\n",
      "Testing Accuracy: 0.45652173913043476\n"
     ]
    },
    {
     "data": {
      "image/png": "[encoded data removed]",
      "text/plain": [
       "<Figure size 432x288 with 2 Axes>"
      ]
     },
     "metadata": {
      "needs_background": "light"
     },
     "output_type": "display_data"
    },
    {
     "name": "stdout",
     "output_type": "stream",
     "text": [
      "Root Mean Square Error For PCA C:\n",
      "\n",
      "1.3831281496162493\n"
     ]
    }
   ],
   "source": [
    "#initilise naive bayes classifier and train the model using the training sets C\n",
    "clf_C=GaussianNB()\n",
    "clf_C.fit(PCA_C_train,yLbl_C_train.values.ravel())\n",
    "#Predict the response for train and test dataset C\n",
    "PCA_C_predTrain = clf_C.predict(PCA_C_train)\n",
    "PCA_C_predTest = clf_C.predict(PCA_C_test)\n",
    "trainAcc_C = accuracy_score(yLbl_C_train, PCA_C_predTrain)\n",
    "testAcc_C = accuracy_score(yLbl_C_test, PCA_C_predTest)\n",
    "print(\"\\nTraining Accuracy:\",trainAcc_C)\n",
    "print(\"\\nTesting Accuracy:\",testAcc_C)\n",
    "\n",
    "plot_confusion_matrix(clf_C, PCA_C_test, yLbl_C_test)\n",
    "plt.show()\n",
    "\n",
    "from sklearn.metrics import mean_squared_error\n",
    "import math\n",
    " \n",
    "MSE_C = mean_squared_error(yLbl_C_test, PCA_C_predTest)\n",
    " \n",
    "RMSE_C = math.sqrt(MSE_C)\n",
    "print(\"Root Mean Square Error For PCA C:\\n\")\n",
    "print(RMSE_C)"
   ]
  },
  {
   "cell_type": "code",
   "execution_count": null,
   "id": "b484e701",
   "metadata": {},
   "outputs": [],
   "source": []
  }
 ],
 "metadata": {
  "kernelspec": {
   "display_name": "Python 3",
   "language": "python",
   "name": "python3"
  },
  "language_info": {
   "codemirror_mode": {
    "name": "ipython",
    "version": 3
   },
   "file_extension": ".py",
   "mimetype": "text/x-python",
   "name": "python",
   "nbconvert_exporter": "python",
   "pygments_lexer": "ipython3",
   "version": "3.8.8"
  }
 },
 "nbformat": 4,
 "nbformat_minor": 5
}
