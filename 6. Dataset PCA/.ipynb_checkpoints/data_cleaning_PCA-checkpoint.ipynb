{
 "cells": [
  {
   "cell_type": "code",
   "execution_count": 1,
   "id": "fee31ade",
   "metadata": {},
   "outputs": [],
   "source": [
    "import numpy as np\n",
    "import pandas as pd\n",
    "\n",
    "# Visualization\n",
    "import matplotlib.pyplot as plt\n",
    "\n",
    "# Data processing, modeling, and model evaluation\n",
    "from sklearn.preprocessing import StandardScaler\n",
    "from sklearn.decomposition import PCA\n",
    "from sklearn.neighbors import KNeighborsClassifier\n",
    "from sklearn.model_selection import train_test_split\n",
    "from sklearn.metrics import f1_score, classification_report, plot_confusion_matrix\n",
    "from sklearn.linear_model import LogisticRegression\n",
    "from sklearn.metrics import accuracy_score\n",
    "\n",
    "import matplotlib.pyplot as plt \n",
    "import seaborn as sns\n",
    "\n",
    "# Randomization\n",
    "import random\n"
   ]
  },
  {
   "cell_type": "markdown",
   "id": "2c73f5b6",
   "metadata": {},
   "source": [
    "# DATA SET A"
   ]
  },
  {
   "cell_type": "code",
   "execution_count": 2,
   "id": "e271bb98",
   "metadata": {},
   "outputs": [],
   "source": [
    "# load csv data \n",
    "dataframeA = pd.read_csv('../5. Dataset Feature Dropping/MeterA_featureSelection.csv')\n",
    "\n",
    "dataframeA.head()\n",
    "\n",
    "dataframeA = dataframeA.drop('Unnamed: 0', axis=1)\n",
    "\n",
    "featuresVector = dataframeA[['Flatness ratio','Symmetry','Crossflow','Average speed of sound','Average Gain']]\n",
    "\n",
    "# yLbl is Class Attruibute labels\n",
    "\n",
    "yLbl = dataframeA[['Class Attruibute']]"
   ]
  },
  {
   "cell_type": "code",
   "execution_count": 3,
   "id": "39b4d798",
   "metadata": {
    "scrolled": true
   },
   "outputs": [
    {
     "data": {
      "text/plain": [
       "(83, 5)"
      ]
     },
     "execution_count": 3,
     "metadata": {},
     "output_type": "execute_result"
    }
   ],
   "source": [
    "dataframeA['Class Attruibute'].value_counts()\n",
    "featuresVector.shape"
   ]
  },
  {
   "cell_type": "markdown",
   "id": "ecce8b35",
   "metadata": {},
   "source": [
    "**Get scaled data for dataset A** "
   ]
  },
  {
   "cell_type": "code",
   "execution_count": 4,
   "id": "a8534964",
   "metadata": {},
   "outputs": [
    {
     "name": "stdout",
     "output_type": "stream",
     "text": [
      "------------------------------  scaled data for A -----------------------------\n",
      "[[ 9.61066975e-01 -5.51762461e-01 -1.82472234e+00  8.20842688e-01\n",
      "   3.31664642e+00]\n",
      " [ 1.00279448e+00 -9.44065718e-01 -4.49788945e-01  1.62301423e+00\n",
      "   2.06783279e+00]\n",
      " [ 9.18002910e-01 -2.30339135e-01  3.12573796e-01  1.59759866e+00\n",
      "   1.29911838e+00]\n",
      " [ 9.39969374e-01  6.38158100e-01 -3.48063876e-01 -9.00073528e-02\n",
      "   7.03297428e-01]\n",
      " [ 8.97738692e-01  4.58710041e-01 -6.39313257e-01 -9.06435894e-01\n",
      "   7.64734199e-01]\n",
      " [ 8.16830518e-01  1.79974226e-01 -1.04194064e+00 -9.31314323e-01\n",
      "   7.34728356e-01]\n",
      " [ 9.63591056e-01 -4.25745441e-01 -9.43099823e-01 -4.74750534e-01\n",
      "   7.63306183e-01]\n",
      " [ 9.28727837e-01  2.58338819e-01 -8.02344488e-01 -2.12027886e-01\n",
      "   6.74719610e-01]\n",
      " [ 9.70711819e-01 -6.16911430e-01 -1.62938418e+00 -2.62100353e-01\n",
      "   7.53304214e-01]\n",
      " [ 6.50206825e-01  2.04492052e-01  3.05795431e-02 -6.70456495e-01\n",
      "   1.87494974e-01]\n",
      " [ 7.76002023e-01  9.89829368e-01  5.06549442e-01 -1.00294526e+00\n",
      "  -3.09743323e-01]\n",
      " [ 6.85200695e-01  1.04419491e+00  2.01281563e-01 -8.61358535e-01\n",
      "  -7.28405759e-01]\n",
      " [ 4.99280205e-01  3.85106942e-01  2.85396008e-01 -8.61452610e-01\n",
      "  -7.14111008e-01]\n",
      " [ 6.90003322e-01  5.65740862e-01  9.73165624e-01 -9.52714992e-01\n",
      "  -7.11252061e-01]\n",
      " [ 6.22989753e-01  7.40324095e-01  9.28157851e-01 -1.10015110e+00\n",
      "  -7.06968021e-01]\n",
      " [ 3.80214926e-01  4.17986138e-01  9.83293272e-01 -1.26671033e+00\n",
      "  -7.15547794e-01]\n",
      " [ 1.64706867e-01  1.85441165e+00  6.04606473e-01 -1.54011814e+00\n",
      "  -1.02702294e+00]\n",
      " [ 8.93797988e-01 -4.40502742e-01 -1.59539777e+00  3.11633756e+00\n",
      "   1.02192726e+00]\n",
      " [ 9.01311262e-01 -4.79280094e-01 -1.36523963e+00  2.37425904e+00\n",
      "   3.50379180e-01]\n",
      " [ 5.37655582e-01 -5.45530764e-01 -5.18080203e-01  1.74987055e+00\n",
      "   3.96097555e-01]\n",
      " [ 5.83408194e-01 -3.30851380e-01 -1.94869028e+00  1.29393950e+00\n",
      "   5.10408846e-01]\n",
      " [ 8.80078067e-01 -5.21877806e-01 -9.30277219e-01  8.09810054e-01\n",
      "   5.94704048e-01]\n",
      " [ 7.57019057e-01 -5.21049873e-01 -5.43806254e-01  2.82026526e-01\n",
      "   6.10420961e-01]\n",
      " [ 8.81772929e-01 -4.85422978e-01 -8.01134790e-01 -3.34901168e-01\n",
      "   6.69004622e-01]\n",
      " [ 6.49237571e-01 -9.29127831e-01  3.13443852e-01 -1.45353374e+00\n",
      "   1.80341717e-01]\n",
      " [ 6.30260324e-01  4.94350849e-02 -4.94630593e-01 -1.32301151e+00\n",
      "  -3.01178167e-01]\n",
      " [ 2.63584332e-01  1.40585043e+00 -8.69258262e-02 -9.43010038e-01\n",
      "  -6.89817220e-01]\n",
      " [ 3.14443574e-01  8.94049294e-01  9.61621731e-01 -6.62806029e-01\n",
      "  -7.06960709e-01]\n",
      " [ 4.21982636e-01  1.23512632e+00  5.43382632e-01 -5.43410508e-01\n",
      "  -6.99819188e-01]\n",
      " [ 4.08172654e-01  7.26048498e-01  9.08573459e-01 -5.25992876e-01\n",
      "  -6.95529285e-01]\n",
      " [ 6.21519936e-01  7.19926760e-01  2.19799705e-01 -5.55453695e-01\n",
      "  -6.58383370e-01]\n",
      " [ 4.15109572e-01  1.72188099e+00  4.92847909e-01 -6.63975904e-01\n",
      "  -6.21230159e-01]\n",
      " [ 1.06151950e-01  2.11946311e+00  1.10226073e+00 -1.18531222e+00\n",
      "  -7.45549257e-01]\n",
      " [-6.31104370e-01  2.19947547e-02 -1.54436665e+00  1.69802734e+00\n",
      "   2.86084685e+00]\n",
      " [-6.11372920e-01 -2.83455381e-01 -4.85241383e-01  1.15336332e+00\n",
      "   1.82064018e+00]\n",
      " [-6.21840376e-01 -9.75903549e-01 -1.03382867e+00  4.88765121e-01\n",
      "   1.13195010e+00]\n",
      " [-8.20721196e-01  3.12871700e-01 -9.95885846e-01 -3.79473250e-01\n",
      "   3.41808177e-01]\n",
      " [-3.59101780e-01  6.59638952e-01 -1.65892615e+00  7.12108178e-02\n",
      "   3.34657870e-01]\n",
      " [-5.60109285e-01  9.46636329e-01 -1.17741107e+00  3.47747397e-01\n",
      "   2.40359276e-01]\n",
      " [-5.11574898e-01  2.07318413e-01 -3.31583094e-01  3.69559268e-01\n",
      "   3.63228393e-01]\n",
      " [-5.49711126e-01  6.58037220e-01 -6.99300780e-01  4.51625134e-02\n",
      "   3.13227436e-01]\n",
      " [-6.49995274e-01  6.54417747e-01 -9.17530037e-01 -1.18427271e-01\n",
      "   3.86105866e-01]\n",
      " [-7.29004529e-01  9.78400291e-01  6.79560930e-01 -3.15017846e-01\n",
      "  -6.98389715e-01]\n",
      " [-8.29998128e-01  1.79034056e+00  7.32598358e-01 -6.76905222e-01\n",
      "  -1.01845192e+00]\n",
      " [-6.71878728e-01  1.42235988e+00  4.96982277e-01 -5.48753088e-01\n",
      "  -1.00701465e+00]\n",
      " [-7.74777020e-01  1.04814863e+00  4.05020568e-01 -6.19972827e-01\n",
      "  -9.57013707e-01]\n",
      " [-1.00879802e+00  1.22884078e+00  3.83887821e-01 -6.71720446e-01\n",
      "  -9.31290455e-01]\n",
      " [-7.89709452e-01  7.26925207e-01  6.49532909e-01 -7.07220308e-01\n",
      "  -9.08423209e-01]\n",
      " [ 1.14097577e+00 -5.74341630e-01 -2.10793023e+00  5.23474445e-01\n",
      "   2.23500691e+00]\n",
      " [ 9.44065272e-01 -3.28182062e-01  5.80457861e-01  2.89519188e-01\n",
      "   1.40914416e+00]\n",
      " [ 1.04809684e+00 -2.10122385e-01 -5.46242411e-01  3.26883869e-01\n",
      "   6.81861148e-01]\n",
      " [ 1.17715733e+00 -4.81584433e-01  1.03021714e+00  2.13302823e-01\n",
      "   6.41853363e-01]\n",
      " [ 1.01853237e+00  8.26520521e-02  6.38642174e-01  9.55187245e-02\n",
      "   6.68997301e-01]\n",
      " [ 1.27188498e+00 -3.10727108e-01  5.95144306e-01  2.51897964e-03\n",
      "   6.69003165e-01]\n",
      " [ 1.20463343e+00  2.36785322e-02  1.94548858e-01 -6.51926520e-02\n",
      "   7.17576097e-01]\n",
      " [ 9.76238778e-01  5.50886854e-01 -6.54837717e-01 -5.76696431e-02\n",
      "   7.49020210e-01]\n",
      " [ 1.16525476e+00 -2.78193717e-01  9.77612521e-01 -8.50137622e-02\n",
      "   1.44626785e-01]\n",
      " [ 9.81834643e-01  2.57382742e-01  3.66977186e-01 -1.15075451e-01\n",
      "  -3.56902873e-01]\n",
      " [ 8.63564601e-01  3.32230913e-01  2.79102522e-01 -1.96760335e-01\n",
      "  -6.91248160e-01]\n",
      " [ 8.43094550e-01  1.26307021e+00  1.14489594e+00 -2.80498191e-01\n",
      "  -7.18390667e-01]\n",
      " [ 7.39814798e-01  1.54585673e+00  2.49215071e+00 -3.65090314e-01\n",
      "  -6.94102726e-01]\n",
      " [ 7.83872048e-01  8.73198872e-01  1.96676163e+00 -3.88704792e-01\n",
      "  -6.72672292e-01]\n",
      " [ 5.07612092e-01  4.06179959e-01  1.98514668e+00 -4.14879037e-01\n",
      "  -6.66949974e-01]\n",
      " [ 5.34881469e-01  9.98736867e-01  1.92538492e+00 -4.47532355e-01\n",
      "  -6.69816260e-01]\n",
      " [ 5.47476553e-01  9.22571871e-01  2.00396995e+00 -5.14105976e-01\n",
      "  -9.48445628e-01]\n",
      " [-1.44742192e+00 -2.28691583e+00 -5.26239997e-01  3.66567956e+00\n",
      "   1.86207891e+00]\n",
      " [-1.34735759e+00 -2.20822911e+00 -1.22539477e+00  2.87055761e+00\n",
      "   1.96067434e-01]\n",
      " [-1.40333141e+00 -1.30292208e+00 -4.42841807e-01  1.90615734e+00\n",
      "   4.67542114e-01]\n",
      " [-1.38559727e+00 -1.44592744e+00  4.14082952e-01  6.35568490e-01\n",
      "  -2.25442256e-01]\n",
      " [-1.27546788e+00 -1.49210021e+00 -1.62814916e-01 -3.00508970e-01\n",
      "  -1.71151421e-01]\n",
      " [-1.42252887e+00 -1.89901374e+00 -1.09919951e-01 -6.54430271e-01\n",
      "  -7.11378227e-02]\n",
      " [-1.35666445e+00 -2.08555766e+00 -9.13632285e-01 -6.51304407e-02\n",
      "  -8.25590019e-02]\n",
      " [-1.32919574e+00 -1.10189886e+00 -2.28181012e-01  2.93502225e-01\n",
      "  -1.11142676e-01]\n",
      " [-1.61286997e+00 -1.67513673e+00 -9.08754549e-01  5.67287853e-01\n",
      "  -1.01136344e-01]\n",
      " [-1.48943189e+00 -7.33796663e-01 -8.26978163e-01  6.50268553e-01\n",
      "  -7.72685864e-01]\n",
      " [-1.66649727e+00 -1.09457702e+00 -1.57020110e-02  3.02953782e-01\n",
      "  -1.16704431e+00]\n",
      " [-1.63240774e+00 -6.40762314e-01 -1.56571710e-01 -1.35369973e-01\n",
      "  -1.49568047e+00]\n",
      " [-1.76994249e+00 -1.67574743e+00  5.62668297e-01 -2.60235533e-01\n",
      "  -1.45139012e+00]\n",
      " [-1.73580943e+00 -9.84810625e-01  1.05899553e+00 -3.11002945e-01\n",
      "  -1.43709536e+00]\n",
      " [-1.77023205e+00 -1.24171020e+00  1.16128996e+00 -4.07322646e-01\n",
      "  -1.42995235e+00]\n",
      " [-1.70569209e+00 -5.24538242e-01  1.77090587e+00 -4.85056358e-01\n",
      "  -1.39137990e+00]\n",
      " [-1.52474803e+00 -3.82052794e-01  7.45005405e-01 -5.71038371e-01\n",
      "  -1.39423155e+00]\n",
      " [-1.88764101e+00 -1.28074891e+00 -9.76121527e-01 -7.02668265e-01\n",
      "  -1.56140856e+00]]\n"
     ]
    }
   ],
   "source": [
    "# the scaler object (model)\n",
    "scaler = StandardScaler()\n",
    "\n",
    "# fit and transform the data\n",
    "scaled_data = scaler.fit_transform(featuresVector) \n",
    "\n",
    "print(\"------------------------------  scaled data for A -----------------------------\")\n",
    "print(scaled_data)\n"
   ]
  },
  {
   "cell_type": "markdown",
   "id": "510fec1b",
   "metadata": {},
   "source": [
    "**Plot graph for cumulative variance witrh 70% threshold** "
   ]
  },
  {
   "cell_type": "code",
   "execution_count": 5,
   "id": "24e66df7",
   "metadata": {
    "scrolled": false
   },
   "outputs": [
    {
     "data": {
      "image/png": "[encoded data removed]",
      "text/plain": [
       "<Figure size 864x432 with 1 Axes>"
      ]
     },
     "metadata": {
      "needs_background": "light"
     },
     "output_type": "display_data"
    }
   ],
   "source": [
    "pca = PCA().fit(scaled_data)\n",
    "\n",
    "# matplotlib inline\n",
    "import matplotlib.pyplot as plt\n",
    "plt.rcParams[\"figure.figsize\"] = (12,6)\n",
    "\n",
    "fig, ax = plt.subplots()\n",
    "xi = np.arange(1, 6, step=1)\n",
    "y = np.cumsum(pca.explained_variance_ratio_)\n",
    "\n",
    "plt.ylim(0.0,1.1)\n",
    "plt.plot(xi, y, marker='o', linestyle='--', color='b')\n",
    "\n",
    "plt.xlabel('Number of Components')\n",
    "plt.xticks(np.arange(0, 6, step=1)) #change from 0-based array index to 1-based human-readable label\n",
    "plt.ylabel('Cumulative variance (%)')\n",
    "plt.title('The number of components needed to explain variance')\n",
    "\n",
    "plt.axhline(y=0.7, color='r', linestyle='-')\n",
    "plt.text(0.5, 0.85, '70% cut-off threshold', color = 'red', fontsize=16)\n",
    "\n",
    "ax.grid(axis='x')\n",
    "plt.show()"
   ]
  },
  {
   "cell_type": "markdown",
   "id": "37ef4bf3",
   "metadata": {},
   "source": [
    "The first two principal components will capture 70% of the variance of the original data thus we will select the first two principal components."
   ]
  },
  {
   "cell_type": "markdown",
   "id": "16e86e44",
   "metadata": {},
   "source": [
    "**Plot graph for individual and cumulative explained variance** "
   ]
  },
  {
   "cell_type": "code",
   "execution_count": 6,
   "id": "6d3b3828",
   "metadata": {
    "scrolled": true
   },
   "outputs": [
    {
     "name": "stdout",
     "output_type": "stream",
     "text": [
      "---------------PCA - DATA A : EXPLAIN VARIANCE--------------\n",
      "[2.46154394 1.46937697 0.54091264 0.38973371 0.19940836]\n",
      "---------------PCA - DATA A : SUM VARIANCE--------------\n",
      "5.0609756097561025\n",
      "---------------PCA - DATA A : SIZE OF VARIANCE --------------\n",
      "5\n"
     ]
    },
    {
     "data": {
      "image/png": "[encoded data removed]",
      "text/plain": [
       "<Figure size 864x432 with 1 Axes>"
      ]
     },
     "metadata": {
      "needs_background": "light"
     },
     "output_type": "display_data"
    }
   ],
   "source": [
    "# calculate cumulative sum of explained variances\n",
    "#from lab \n",
    "pca = PCA().fit(scaled_data)\n",
    "\n",
    "tot = sum(pca.explained_variance_)\n",
    "print(\"---------------PCA - DATA A : EXPLAIN VARIANCE--------------\")\n",
    "print(pca.explained_variance_)\n",
    "print(\"---------------PCA - DATA A : SUM VARIANCE--------------\")\n",
    "print(tot)\n",
    "var_exp = [(i / tot) for i in sorted(pca.explained_variance_, reverse=True)]\n",
    "cum_var_exp = np.cumsum(var_exp)\n",
    "print(\"---------------PCA - DATA A : SIZE OF VARIANCE --------------\")\n",
    "print(len(var_exp))\n",
    "# plot explained variances\n",
    "plt.bar(range(1,6), var_exp, alpha=0.5,\n",
    "        align='center', label='individual explained variance')\n",
    "plt.step(range(1,6), cum_var_exp, where='mid',\n",
    "         label='cumulative explained variance')\n",
    "plt.ylabel('Explained variance ratio')\n",
    "plt.xlabel('Principal component index')\n",
    "plt.legend(loc='best')\n",
    "plt.show()\n",
    "\n",
    "#only the first two components capture almost all the variance in the dataset. \n",
    "#So, we decide to select only the first two components"
   ]
  },
  {
   "cell_type": "markdown",
   "id": "7d91c3ab",
   "metadata": {},
   "source": [
    "**Plot graph for eignenvalues** "
   ]
  },
  {
   "cell_type": "code",
   "execution_count": 7,
   "id": "5e60060f",
   "metadata": {
    "scrolled": true
   },
   "outputs": [
    {
     "data": {
      "image/png": "[encoded data removed]",
      "text/plain": [
       "<Figure size 864x432 with 1 Axes>"
      ]
     },
     "metadata": {},
     "output_type": "display_data"
    }
   ],
   "source": [
    "sns.set()\n",
    " \n",
    "pca = PCA(n_components=5)\n",
    " \n",
    "# Fit and transform data\n",
    "reduced_features = pca.fit_transform(scaled_data)\n",
    " \n",
    "# Bar plot of explained_variance\n",
    "plt.bar(\n",
    "    range(1,len(pca.explained_variance_)+1),\n",
    "    pca.explained_variance_\n",
    "    )\n",
    " \n",
    "plt.plot(\n",
    "    range(1,len(pca.explained_variance_ )+1),\n",
    "    np.cumsum(pca.explained_variance_),\n",
    "    c='red',\n",
    "    label='Cumulative Explained Variance')\n",
    " \n",
    "plt.legend(loc='upper left')\n",
    "plt.xlabel('Number of components')\n",
    "plt.ylabel('Explained variance (eignenvalues)')\n",
    "plt.title('Scree plot')\n",
    " \n",
    "plt.show()"
   ]
  },
  {
   "cell_type": "markdown",
   "id": "60606136",
   "metadata": {},
   "source": [
    "**Calculate PCA for n_components = 2**"
   ]
  },
  {
   "cell_type": "code",
   "execution_count": 8,
   "id": "88bc623a",
   "metadata": {
    "scrolled": true
   },
   "outputs": [
    {
     "name": "stdout",
     "output_type": "stream",
     "text": [
      "Shape before PCA:  (83, 5)\n",
      "Shape after PCA:  (83, 2)\n",
      "[0.48637736 0.29033473]\n"
     ]
    }
   ],
   "source": [
    "pca = PCA(n_components=2)\n",
    "pca.fit(scaled_data)\n",
    "pca_features = pca.transform(scaled_data)\n",
    "print('Shape before PCA: ', scaled_data.shape)\n",
    "print('Shape after PCA: ', pca_features.shape)\n",
    "\n",
    "pca.explained_variance_ratio_\n",
    "print(pca.explained_variance_ratio_) # print out explained variance ratio \n",
    "\n",
    "pca_df = pd.DataFrame(\n",
    "    data=pca_features, \n",
    "    columns=['PC1', 'PC2'])\n",
    "\n",
    "finalDf_A = pd.concat([pca_df, dataframeA['Class Attruibute']], axis = 1)\n",
    "\n",
    "finalDf_A\n",
    "finalDf_A.to_csv('MeterA_pca_2.csv')"
   ]
  },
  {
   "cell_type": "markdown",
   "id": "45147f32",
   "metadata": {},
   "source": [
    "**Calculate PCA for n_components = number of features in original dataset**"
   ]
  },
  {
   "cell_type": "code",
   "execution_count": 9,
   "id": "f7433639",
   "metadata": {},
   "outputs": [
    {
     "name": "stdout",
     "output_type": "stream",
     "text": [
      "Shape before PCA:  (83, 5)\n",
      "Shape after PCA:  (83, 5)\n",
      "[0.48637736 0.29033473 0.10687912 0.07700762 0.03940117]\n"
     ]
    }
   ],
   "source": [
    "pca = PCA(n_components=5)\n",
    "pca.fit(scaled_data)\n",
    "pca_features = pca.transform(scaled_data)\n",
    "print('Shape before PCA: ', scaled_data.shape)\n",
    "print('Shape after PCA: ', pca_features.shape)\n",
    "\n",
    "pca.explained_variance_ratio_\n",
    "print(pca.explained_variance_ratio_) # print out explained variance ratio \n",
    "\n",
    "pca_df = pd.DataFrame(\n",
    "    data=pca_features, \n",
    "    columns=['PC1', 'PC2', 'PC3', 'PC4', 'PC5'])\n",
    "\n",
    "finalDf_A = pd.concat([pca_df, dataframeA['Class Attruibute']], axis = 1)\n",
    "\n",
    "finalDf_A\n",
    "finalDf_A.to_csv('MeterA_pca_all.csv')"
   ]
  },
  {
   "cell_type": "markdown",
   "id": "577922d6",
   "metadata": {},
   "source": [
    "**PCA data reverse back to scaled data**"
   ]
  },
  {
   "cell_type": "code",
   "execution_count": 10,
   "id": "6520985a",
   "metadata": {
    "scrolled": true
   },
   "outputs": [
    {
     "name": "stdout",
     "output_type": "stream",
     "text": [
      "[[ 9.61066975e-01 -5.51762461e-01 -1.82472234e+00  8.20842688e-01\n",
      "   3.31664642e+00]\n",
      " [ 1.00279448e+00 -9.44065718e-01 -4.49788945e-01  1.62301423e+00\n",
      "   2.06783279e+00]\n",
      " [ 9.18002910e-01 -2.30339135e-01  3.12573796e-01  1.59759866e+00\n",
      "   1.29911838e+00]\n",
      " [ 9.39969374e-01  6.38158100e-01 -3.48063876e-01 -9.00073528e-02\n",
      "   7.03297428e-01]\n",
      " [ 8.97738692e-01  4.58710041e-01 -6.39313257e-01 -9.06435894e-01\n",
      "   7.64734199e-01]\n",
      " [ 8.16830518e-01  1.79974226e-01 -1.04194064e+00 -9.31314323e-01\n",
      "   7.34728356e-01]\n",
      " [ 9.63591056e-01 -4.25745441e-01 -9.43099823e-01 -4.74750534e-01\n",
      "   7.63306183e-01]\n",
      " [ 9.28727837e-01  2.58338819e-01 -8.02344488e-01 -2.12027886e-01\n",
      "   6.74719610e-01]\n",
      " [ 9.70711819e-01 -6.16911430e-01 -1.62938418e+00 -2.62100353e-01\n",
      "   7.53304214e-01]\n",
      " [ 6.50206825e-01  2.04492052e-01  3.05795431e-02 -6.70456495e-01\n",
      "   1.87494974e-01]\n",
      " [ 7.76002023e-01  9.89829368e-01  5.06549442e-01 -1.00294526e+00\n",
      "  -3.09743323e-01]\n",
      " [ 6.85200695e-01  1.04419491e+00  2.01281563e-01 -8.61358535e-01\n",
      "  -7.28405759e-01]\n",
      " [ 4.99280205e-01  3.85106942e-01  2.85396008e-01 -8.61452610e-01\n",
      "  -7.14111008e-01]\n",
      " [ 6.90003322e-01  5.65740862e-01  9.73165624e-01 -9.52714992e-01\n",
      "  -7.11252061e-01]\n",
      " [ 6.22989753e-01  7.40324095e-01  9.28157851e-01 -1.10015110e+00\n",
      "  -7.06968021e-01]\n",
      " [ 3.80214926e-01  4.17986138e-01  9.83293272e-01 -1.26671033e+00\n",
      "  -7.15547794e-01]\n",
      " [ 1.64706867e-01  1.85441165e+00  6.04606473e-01 -1.54011814e+00\n",
      "  -1.02702294e+00]\n",
      " [ 8.93797988e-01 -4.40502742e-01 -1.59539777e+00  3.11633756e+00\n",
      "   1.02192726e+00]\n",
      " [ 9.01311262e-01 -4.79280094e-01 -1.36523963e+00  2.37425904e+00\n",
      "   3.50379180e-01]\n",
      " [ 5.37655582e-01 -5.45530764e-01 -5.18080203e-01  1.74987055e+00\n",
      "   3.96097555e-01]\n",
      " [ 5.83408194e-01 -3.30851380e-01 -1.94869028e+00  1.29393950e+00\n",
      "   5.10408846e-01]\n",
      " [ 8.80078067e-01 -5.21877806e-01 -9.30277219e-01  8.09810054e-01\n",
      "   5.94704048e-01]\n",
      " [ 7.57019057e-01 -5.21049873e-01 -5.43806254e-01  2.82026526e-01\n",
      "   6.10420961e-01]\n",
      " [ 8.81772929e-01 -4.85422978e-01 -8.01134790e-01 -3.34901168e-01\n",
      "   6.69004622e-01]\n",
      " [ 6.49237571e-01 -9.29127831e-01  3.13443852e-01 -1.45353374e+00\n",
      "   1.80341717e-01]\n",
      " [ 6.30260324e-01  4.94350849e-02 -4.94630593e-01 -1.32301151e+00\n",
      "  -3.01178167e-01]\n",
      " [ 2.63584332e-01  1.40585043e+00 -8.69258262e-02 -9.43010038e-01\n",
      "  -6.89817220e-01]\n",
      " [ 3.14443574e-01  8.94049294e-01  9.61621731e-01 -6.62806029e-01\n",
      "  -7.06960709e-01]\n",
      " [ 4.21982636e-01  1.23512632e+00  5.43382632e-01 -5.43410508e-01\n",
      "  -6.99819188e-01]\n",
      " [ 4.08172654e-01  7.26048498e-01  9.08573459e-01 -5.25992876e-01\n",
      "  -6.95529285e-01]\n",
      " [ 6.21519936e-01  7.19926760e-01  2.19799705e-01 -5.55453695e-01\n",
      "  -6.58383370e-01]\n",
      " [ 4.15109572e-01  1.72188099e+00  4.92847909e-01 -6.63975904e-01\n",
      "  -6.21230159e-01]\n",
      " [ 1.06151950e-01  2.11946311e+00  1.10226073e+00 -1.18531222e+00\n",
      "  -7.45549257e-01]\n",
      " [-6.31104370e-01  2.19947547e-02 -1.54436665e+00  1.69802734e+00\n",
      "   2.86084685e+00]\n",
      " [-6.11372920e-01 -2.83455381e-01 -4.85241383e-01  1.15336332e+00\n",
      "   1.82064018e+00]\n",
      " [-6.21840376e-01 -9.75903549e-01 -1.03382867e+00  4.88765121e-01\n",
      "   1.13195010e+00]\n",
      " [-8.20721196e-01  3.12871700e-01 -9.95885846e-01 -3.79473250e-01\n",
      "   3.41808177e-01]\n",
      " [-3.59101780e-01  6.59638952e-01 -1.65892615e+00  7.12108178e-02\n",
      "   3.34657870e-01]\n",
      " [-5.60109285e-01  9.46636329e-01 -1.17741107e+00  3.47747397e-01\n",
      "   2.40359276e-01]\n",
      " [-5.11574898e-01  2.07318413e-01 -3.31583094e-01  3.69559268e-01\n",
      "   3.63228393e-01]\n",
      " [-5.49711126e-01  6.58037220e-01 -6.99300780e-01  4.51625134e-02\n",
      "   3.13227436e-01]\n",
      " [-6.49995274e-01  6.54417747e-01 -9.17530037e-01 -1.18427271e-01\n",
      "   3.86105866e-01]\n",
      " [-7.29004529e-01  9.78400291e-01  6.79560930e-01 -3.15017846e-01\n",
      "  -6.98389715e-01]\n",
      " [-8.29998128e-01  1.79034056e+00  7.32598358e-01 -6.76905222e-01\n",
      "  -1.01845192e+00]\n",
      " [-6.71878728e-01  1.42235988e+00  4.96982277e-01 -5.48753088e-01\n",
      "  -1.00701465e+00]\n",
      " [-7.74777020e-01  1.04814863e+00  4.05020568e-01 -6.19972827e-01\n",
      "  -9.57013707e-01]\n",
      " [-1.00879802e+00  1.22884078e+00  3.83887821e-01 -6.71720446e-01\n",
      "  -9.31290455e-01]\n",
      " [-7.89709452e-01  7.26925207e-01  6.49532909e-01 -7.07220308e-01\n",
      "  -9.08423209e-01]\n",
      " [ 1.14097577e+00 -5.74341630e-01 -2.10793023e+00  5.23474445e-01\n",
      "   2.23500691e+00]\n",
      " [ 9.44065272e-01 -3.28182062e-01  5.80457861e-01  2.89519188e-01\n",
      "   1.40914416e+00]\n",
      " [ 1.04809684e+00 -2.10122385e-01 -5.46242411e-01  3.26883869e-01\n",
      "   6.81861148e-01]\n",
      " [ 1.17715733e+00 -4.81584433e-01  1.03021714e+00  2.13302823e-01\n",
      "   6.41853363e-01]\n",
      " [ 1.01853237e+00  8.26520521e-02  6.38642174e-01  9.55187245e-02\n",
      "   6.68997301e-01]\n",
      " [ 1.27188498e+00 -3.10727108e-01  5.95144306e-01  2.51897964e-03\n",
      "   6.69003165e-01]\n",
      " [ 1.20463343e+00  2.36785322e-02  1.94548858e-01 -6.51926520e-02\n",
      "   7.17576097e-01]\n",
      " [ 9.76238778e-01  5.50886854e-01 -6.54837717e-01 -5.76696431e-02\n",
      "   7.49020210e-01]\n",
      " [ 1.16525476e+00 -2.78193717e-01  9.77612521e-01 -8.50137622e-02\n",
      "   1.44626785e-01]\n",
      " [ 9.81834643e-01  2.57382742e-01  3.66977186e-01 -1.15075451e-01\n",
      "  -3.56902873e-01]\n",
      " [ 8.63564601e-01  3.32230913e-01  2.79102522e-01 -1.96760335e-01\n",
      "  -6.91248160e-01]\n",
      " [ 8.43094550e-01  1.26307021e+00  1.14489594e+00 -2.80498191e-01\n",
      "  -7.18390667e-01]\n",
      " [ 7.39814798e-01  1.54585673e+00  2.49215071e+00 -3.65090314e-01\n",
      "  -6.94102726e-01]\n",
      " [ 7.83872048e-01  8.73198872e-01  1.96676163e+00 -3.88704792e-01\n",
      "  -6.72672292e-01]\n",
      " [ 5.07612092e-01  4.06179959e-01  1.98514668e+00 -4.14879037e-01\n",
      "  -6.66949974e-01]\n",
      " [ 5.34881469e-01  9.98736867e-01  1.92538492e+00 -4.47532355e-01\n",
      "  -6.69816260e-01]\n",
      " [ 5.47476553e-01  9.22571871e-01  2.00396995e+00 -5.14105976e-01\n",
      "  -9.48445628e-01]\n",
      " [-1.44742192e+00 -2.28691583e+00 -5.26239997e-01  3.66567956e+00\n",
      "   1.86207891e+00]\n",
      " [-1.34735759e+00 -2.20822911e+00 -1.22539477e+00  2.87055761e+00\n",
      "   1.96067434e-01]\n",
      " [-1.40333141e+00 -1.30292208e+00 -4.42841807e-01  1.90615734e+00\n",
      "   4.67542114e-01]\n",
      " [-1.38559727e+00 -1.44592744e+00  4.14082952e-01  6.35568490e-01\n",
      "  -2.25442256e-01]\n",
      " [-1.27546788e+00 -1.49210021e+00 -1.62814916e-01 -3.00508970e-01\n",
      "  -1.71151421e-01]\n",
      " [-1.42252887e+00 -1.89901374e+00 -1.09919951e-01 -6.54430271e-01\n",
      "  -7.11378227e-02]\n",
      " [-1.35666445e+00 -2.08555766e+00 -9.13632285e-01 -6.51304407e-02\n",
      "  -8.25590019e-02]\n",
      " [-1.32919574e+00 -1.10189886e+00 -2.28181012e-01  2.93502225e-01\n",
      "  -1.11142676e-01]\n",
      " [-1.61286997e+00 -1.67513673e+00 -9.08754549e-01  5.67287853e-01\n",
      "  -1.01136344e-01]\n",
      " [-1.48943189e+00 -7.33796663e-01 -8.26978163e-01  6.50268553e-01\n",
      "  -7.72685864e-01]\n",
      " [-1.66649727e+00 -1.09457702e+00 -1.57020110e-02  3.02953782e-01\n",
      "  -1.16704431e+00]\n",
      " [-1.63240774e+00 -6.40762314e-01 -1.56571710e-01 -1.35369973e-01\n",
      "  -1.49568047e+00]\n",
      " [-1.76994249e+00 -1.67574743e+00  5.62668297e-01 -2.60235533e-01\n",
      "  -1.45139012e+00]\n",
      " [-1.73580943e+00 -9.84810625e-01  1.05899553e+00 -3.11002945e-01\n",
      "  -1.43709536e+00]\n",
      " [-1.77023205e+00 -1.24171020e+00  1.16128996e+00 -4.07322646e-01\n",
      "  -1.42995235e+00]\n",
      " [-1.70569209e+00 -5.24538242e-01  1.77090587e+00 -4.85056358e-01\n",
      "  -1.39137990e+00]\n",
      " [-1.52474803e+00 -3.82052794e-01  7.45005405e-01 -5.71038371e-01\n",
      "  -1.39423155e+00]\n",
      " [-1.88764101e+00 -1.28074891e+00 -9.76121527e-01 -7.02668265e-01\n",
      "  -1.56140856e+00]]\n"
     ]
    }
   ],
   "source": [
    "X_pca_all_back=pca.inverse_transform(pca_features)\n",
    "print(X_pca_all_back)"
   ]
  },
  {
   "cell_type": "markdown",
   "id": "f27b5ee5",
   "metadata": {},
   "source": [
    "**Scaled data reverse back to original data**"
   ]
  },
  {
   "cell_type": "code",
   "execution_count": 11,
   "id": "f4e82974",
   "metadata": {},
   "outputs": [
    {
     "name": "stdout",
     "output_type": "stream",
     "text": [
      "[[8.41498715e-01 1.00936653e+00 9.93816009e-01 1.48539123e+03\n",
      "  3.50641895e+01]\n",
      " [8.42250216e-01 1.00658369e+00 9.96605206e-01 1.48591990e+03\n",
      "  3.49752808e+01]\n",
      " [8.40723143e-01 1.01164657e+00 9.98151739e-01 1.48590315e+03\n",
      "  3.49205526e+01]\n",
      " [8.41118753e-01 1.01780731e+00 9.96811566e-01 1.48479094e+03\n",
      "  3.48781334e+01]\n",
      " [8.40358190e-01 1.01653439e+00 9.96220736e-01 1.48425287e+03\n",
      "  3.48825074e+01]\n",
      " [8.38901056e-01 1.01455715e+00 9.95403964e-01 1.48423648e+03\n",
      "  3.48803711e+01]\n",
      " [8.41544173e-01 1.01026044e+00 9.95604473e-01 1.48453738e+03\n",
      "  3.48824057e+01]\n",
      " [8.40916296e-01 1.01511304e+00 9.95890010e-01 1.48471052e+03\n",
      "  3.48760989e+01]\n",
      " [8.41672416e-01 1.00890439e+00 9.94212273e-01 1.48467752e+03\n",
      "  3.48816936e+01]\n",
      " [8.35900209e-01 1.01473107e+00 9.97579684e-01 1.48440840e+03\n",
      "  3.48414111e+01]\n",
      " [8.38165746e-01 1.02030192e+00 9.98545239e-01 1.48418927e+03\n",
      "  3.48060105e+01]\n",
      " [8.36530439e-01 1.02068757e+00 9.97925971e-01 1.48428258e+03\n",
      "  3.47762041e+01]\n",
      " [8.33182062e-01 1.01601228e+00 9.98096606e-01 1.48428252e+03\n",
      "  3.47772218e+01]\n",
      " [8.36616933e-01 1.01729362e+00 9.99491819e-01 1.48422238e+03\n",
      "  3.47774253e+01]\n",
      " [8.35410037e-01 1.01853204e+00 9.99400516e-01 1.48412521e+03\n",
      "  3.47777303e+01]\n",
      " [8.31037729e-01 1.01624551e+00 9.99512364e-01 1.48401544e+03\n",
      "  3.47771195e+01]\n",
      " [8.27156488e-01 1.02643490e+00 9.98744158e-01 1.48383525e+03\n",
      "  3.47549442e+01]\n",
      " [8.40287219e-01 1.01015575e+00 9.94281218e-01 1.48690406e+03\n",
      "  3.49008181e+01]\n",
      " [8.40422531e-01 1.00988068e+00 9.94748118e-01 1.48641500e+03\n",
      "  3.48530076e+01]\n",
      " [8.33873192e-01 1.00941073e+00 9.96466670e-01 1.48600350e+03\n",
      "  3.48562625e+01]\n",
      " [8.34697184e-01 1.01093357e+00 9.93564527e-01 1.48570302e+03\n",
      "  3.48644008e+01]\n",
      " [8.40040127e-01 1.00957852e+00 9.95630485e-01 1.48538396e+03\n",
      "  3.48704022e+01]\n",
      " [8.37823868e-01 1.00958439e+00 9.96414482e-01 1.48503613e+03\n",
      "  3.48715211e+01]\n",
      " [8.40070651e-01 1.00983711e+00 9.95892464e-01 1.48462954e+03\n",
      "  3.48756920e+01]\n",
      " [8.35882753e-01 1.00668966e+00 9.98153504e-01 1.48389231e+03\n",
      "  3.48409019e+01]\n",
      " [8.35540978e-01 1.01363117e+00 9.96514240e-01 1.48397833e+03\n",
      "  3.48066203e+01]\n",
      " [8.28937244e-01 1.02325300e+00 9.97341312e-01 1.48422877e+03\n",
      "  3.47789514e+01]\n",
      " [8.29853205e-01 1.01962250e+00 9.99468401e-01 1.48441344e+03\n",
      "  3.47777308e+01]\n",
      " [8.31789954e-01 1.02204195e+00 9.98619959e-01 1.48449212e+03\n",
      "  3.47782393e+01]\n",
      " [8.31541240e-01 1.01843077e+00 9.99360787e-01 1.48450360e+03\n",
      "  3.47785447e+01]\n",
      " [8.35383566e-01 1.01838735e+00 9.97963537e-01 1.48448419e+03\n",
      "  3.47811893e+01]\n",
      " [8.31666172e-01 1.02549478e+00 9.98517444e-01 1.48441267e+03\n",
      "  3.47838344e+01]\n",
      " [8.26101930e-01 1.02831506e+00 9.99753702e-01 1.48406908e+03\n",
      "  3.47749835e+01]\n",
      " [8.12824146e-01 1.01343651e+00 9.94384740e-01 1.48596933e+03\n",
      "  3.50317391e+01]\n",
      " [8.13179504e-01 1.01126978e+00 9.96533287e-01 1.48561037e+03\n",
      "  3.49576821e+01]\n",
      " [8.12990988e-01 1.00635785e+00 9.95420420e-01 1.48517238e+03\n",
      "  3.49086511e+01]\n",
      " [8.09409199e-01 1.01549987e+00 9.95497391e-01 1.48460017e+03\n",
      "  3.48523974e+01]\n",
      " [8.17722838e-01 1.01795969e+00 9.94152344e-01 1.48489719e+03\n",
      "  3.48518883e+01]\n",
      " [8.14102748e-01 1.01999553e+00 9.95129148e-01 1.48507944e+03\n",
      "  3.48451748e+01]\n",
      " [8.14976839e-01 1.01475112e+00 9.96844999e-01 1.48509381e+03\n",
      "  3.48539224e+01]\n",
      " [8.14290016e-01 1.01794833e+00 9.96099045e-01 1.48488002e+03\n",
      "  3.48503626e+01]\n",
      " [8.12483926e-01 1.01792265e+00 9.95656344e-01 1.48477221e+03\n",
      "  3.48555511e+01]\n",
      " [8.11060991e-01 1.02022085e+00 9.98896211e-01 1.48464265e+03\n",
      "  3.47783410e+01]\n",
      " [8.09242124e-01 1.02598041e+00 9.99003803e-01 1.48440415e+03\n",
      "  3.47555544e+01]\n",
      " [8.12089811e-01 1.02337011e+00 9.98525831e-01 1.48448860e+03\n",
      "  3.47563686e+01]\n",
      " [8.10236641e-01 1.02071561e+00 9.98339277e-01 1.48444167e+03\n",
      "  3.47599284e+01]\n",
      " [8.06021987e-01 1.02199737e+00 9.98296407e-01 1.48440756e+03\n",
      "  3.47617598e+01]\n",
      " [8.09967712e-01 1.01843699e+00 9.98835296e-01 1.48438417e+03\n",
      "  3.47633878e+01]\n",
      " [8.44738823e-01 1.00920636e+00 9.93241492e-01 1.48519525e+03\n",
      "  3.49871827e+01]\n",
      " [8.41192519e-01 1.01095251e+00 9.98695170e-01 1.48504106e+03\n",
      "  3.49283858e+01]\n",
      " [8.43066099e-01 1.01178997e+00 9.96409540e-01 1.48506569e+03\n",
      "  3.48766073e+01]\n",
      " [8.45390443e-01 1.00986434e+00 9.99607554e-01 1.48499083e+03\n",
      "  3.48737590e+01]\n",
      " [8.42533651e-01 1.01386679e+00 9.98813203e-01 1.48491321e+03\n",
      "  3.48756915e+01]\n",
      " [8.47096462e-01 1.01107633e+00 9.98724963e-01 1.48485192e+03\n",
      "  3.48756919e+01]\n",
      " [8.45885280e-01 1.01344846e+00 9.97912313e-01 1.48480729e+03\n",
      "  3.48791500e+01]\n",
      " [8.41771955e-01 1.01718825e+00 9.96189243e-01 1.48481225e+03\n",
      "  3.48813886e+01]\n",
      " [8.45176081e-01 1.01130711e+00 9.99500840e-01 1.48479423e+03\n",
      "  3.48383592e+01]\n",
      " [8.41872735e-01 1.01510626e+00 9.98262102e-01 1.48477442e+03\n",
      "  3.48026530e+01]\n",
      " [8.39742724e-01 1.01563720e+00 9.98083839e-01 1.48472058e+03\n",
      "  3.47788495e+01]\n",
      " [8.39374064e-01 1.02224018e+00 9.99840192e-01 1.48466540e+03\n",
      "  3.47769171e+01]\n",
      " [8.37514024e-01 1.02424614e+00 1.00257324e+00 1.48460965e+03\n",
      "  3.47786463e+01]\n",
      " [8.38307483e-01 1.01947459e+00 1.00150743e+00 1.48459408e+03\n",
      "  3.47801720e+01]\n",
      " [8.33332117e-01 1.01616176e+00 1.00154473e+00 1.48457683e+03\n",
      "  3.47805794e+01]\n",
      " [8.33823231e-01 1.02036511e+00 1.00142350e+00 1.48455531e+03\n",
      "  3.47803753e+01]\n",
      " [8.34050065e-01 1.01982482e+00 1.00158291e+00 1.48451144e+03\n",
      "  3.47605384e+01]\n",
      " [7.98122491e-01 9.97058088e-01 9.96450117e-01 1.48726610e+03\n",
      "  3.49606323e+01]\n",
      " [7.99924622e-01 9.97616258e-01 9.95031808e-01 1.48674208e+03\n",
      "  3.48420215e+01]\n",
      " [7.98916549e-01 1.00403812e+00 9.96619299e-01 1.48610650e+03\n",
      "  3.48613490e+01]\n",
      " [7.99235936e-01 1.00302370e+00 9.98357661e-01 1.48526913e+03\n",
      "  3.48120123e+01]\n",
      " [8.01219336e-01 1.00269617e+00 9.97187363e-01 1.48465221e+03\n",
      "  3.48158775e+01]\n",
      " [7.98570808e-01 9.99809700e-01 9.97294666e-01 1.48441896e+03\n",
      "  3.48229979e+01]\n",
      " [7.99757008e-01 9.98486437e-01 9.95664251e-01 1.48480733e+03\n",
      "  3.48221848e+01]\n",
      " [8.00251712e-01 1.00546409e+00 9.97054761e-01 1.48504369e+03\n",
      "  3.48201498e+01]\n",
      " [7.95142817e-01 1.00139779e+00 9.95674146e-01 1.48522412e+03\n",
      "  3.48208622e+01]\n",
      " [7.97365903e-01 1.00807525e+00 9.95840038e-01 1.48527881e+03\n",
      "  3.47730516e+01]\n",
      " [7.94177004e-01 1.00551603e+00 9.97485797e-01 1.48504992e+03\n",
      "  3.47449754e+01]\n",
      " [7.94790947e-01 1.00873520e+00 9.97200028e-01 1.48476104e+03\n",
      "  3.47215783e+01]\n",
      " [7.92313984e-01 1.00139346e+00 9.98659082e-01 1.48467875e+03\n",
      "  3.47247316e+01]\n",
      " [7.92928711e-01 1.00629467e+00 9.99665934e-01 1.48464529e+03\n",
      "  3.47257493e+01]\n",
      " [7.92308769e-01 1.00447233e+00 9.99873449e-01 1.48458181e+03\n",
      "  3.47262578e+01]\n",
      " [7.93471116e-01 1.00955964e+00 1.00111012e+00 1.48453058e+03\n",
      "  3.47290040e+01]\n",
      " [7.96729869e-01 1.01057037e+00 9.99028972e-01 1.48447392e+03\n",
      "  3.47288009e+01]\n",
      " [7.90194266e-01 1.00419541e+00 9.95537485e-01 1.48438717e+03\n",
      "  3.47168989e+01]]\n"
     ]
    }
   ],
   "source": [
    "original_data = scaler.inverse_transform(X_pca_all_back)\n",
    "print(original_data)"
   ]
  },
  {
   "cell_type": "markdown",
   "id": "6a75c708",
   "metadata": {},
   "source": [
    "**Plot graph for PCA data with only PC1 and PC2**"
   ]
  },
  {
   "cell_type": "code",
   "execution_count": 12,
   "id": "89ddde31",
   "metadata": {
    "scrolled": true
   },
   "outputs": [
    {
     "name": "stdout",
     "output_type": "stream",
     "text": [
      "1\n",
      "2\n"
     ]
    },
    {
     "data": {
      "image/png": "[encoded data removed]",
      "text/plain": [
       "<Figure size 864x432 with 1 Axes>"
      ]
     },
     "metadata": {},
     "output_type": "display_data"
    }
   ],
   "source": [
    "import matplotlib.pyplot as plt\n",
    "\n",
    "colors = {1:'b', 2:'r'}\n",
    "markerTypes = {1:'+', 2:'x'}\n",
    "\n",
    "for foodType in markerTypes:\n",
    "    print(foodType)\n",
    "    d = finalDf_A[finalDf_A['Class Attruibute']==foodType]\n",
    "    plt.scatter(d['PC1'],d['PC2'],c=colors[foodType],s=60,marker=markerTypes[foodType])"
   ]
  },
  {
   "cell_type": "markdown",
   "id": "4b917b09",
   "metadata": {},
   "source": [
    "# DATA SET B"
   ]
  },
  {
   "cell_type": "code",
   "execution_count": 13,
   "id": "42a0e180",
   "metadata": {},
   "outputs": [],
   "source": [
    "# for dataset B\n",
    "\n",
    "# Load and check data\n",
    "\n",
    "dataframeB = pd.read_csv('../5. Dataset Feature Dropping/MeterB_featureSelection.csv')\n",
    "#display(dataframeA.head())\n",
    "dataframeB.head()\n",
    "\n",
    "dataframeB = dataframeB.drop('Unnamed: 0', axis=1)\n",
    "\n",
    "featuresVector_B = dataframeB[['Profile factor','Symmetry','Crossflow','Swirl Angle','Average flow velocity','Average speed of sound','Average Signal Strength','Average Signal Strength','Meter performance','Average Gain','Average Transit Time']]\n",
    "\n",
    "# yLbl is Class Attruibute labels\n",
    "\n",
    "yLblForB = dataframeB[['Class Attruibute']]"
   ]
  },
  {
   "cell_type": "markdown",
   "id": "89e64fce",
   "metadata": {},
   "source": [
    "**Get Scaled data for dataset B**"
   ]
  },
  {
   "cell_type": "code",
   "execution_count": 14,
   "id": "6690e0e2",
   "metadata": {},
   "outputs": [
    {
     "name": "stdout",
     "output_type": "stream",
     "text": [
      "------------------------------  scaled data for B -----------------------------\n",
      "[[-3.72421307e-01 -2.02156225e-01 -2.08302234e-02 -8.42756453e-01\n",
      "  -1.12176661e+00 -8.66040835e-01  9.88579698e-01  9.88579698e-01\n",
      "   6.85462141e-01 -9.73855384e-01  5.69942038e-01]\n",
      " [-3.18265740e-01 -1.56211266e-01  8.36591671e-03 -7.62648032e-01\n",
      "  -1.12089957e+00 -8.76966728e-01  9.85513157e-01  9.85513157e-01\n",
      "   6.85462141e-01 -9.73855384e-01  5.74233863e-01]\n",
      " [-3.97460981e-01 -2.02474027e-01  2.41251954e-02 -9.15810550e-01\n",
      "  -5.28466297e-01 -8.74256304e-01  9.53713195e-01  9.53713195e-01\n",
      "   6.85462141e-01 -9.73855384e-01  5.73243023e-01]\n",
      " [-3.91189863e-01 -1.96799011e-01  2.48993377e-02 -8.82212839e-01\n",
      "  -5.27196403e-01 -8.67998041e-01  9.50226023e-01  9.50226023e-01\n",
      "   6.85462141e-01 -9.73855384e-01  5.70798273e-01]\n",
      " [-3.95131708e-01 -1.95664006e-01  2.76641263e-02 -9.95560277e-01\n",
      "  -5.27619701e-01 -8.70495388e-01  9.47003963e-01  9.47003963e-01\n",
      "   6.85462141e-01 -9.73855384e-01  5.71794856e-01]\n",
      " [-4.29891607e-01 -1.79456144e-01  8.75298790e-03 -1.00213634e+00\n",
      "  -5.27111743e-01 -8.74008532e-01  9.45979000e-01  9.45979000e-01\n",
      "   6.85462141e-01 -9.73855384e-01  5.73166431e-01]\n",
      " [-3.56340378e-01 -1.90624586e-01  2.17474880e-02 -7.62648032e-01\n",
      "  -5.28296978e-01 -8.77615860e-01  9.45756681e-01  9.45756681e-01\n",
      "   6.85462141e-01 -9.73855384e-01  5.74587092e-01]\n",
      " [-3.88143891e-01 -1.84813366e-01  3.38572454e-02 -7.75800161e-01\n",
      "  -5.27730634e-01 -8.77407689e-01  9.45400762e-01  9.45400762e-01\n",
      "   6.85462141e-01 -9.73855384e-01  5.74501649e-01]\n",
      " [-3.99924629e-01 -1.73826531e-01  2.85488590e-02 -7.96126178e-01\n",
      "  -1.10831737e-01 -8.73820249e-01  9.36537228e-01  9.36537228e-01\n",
      "   6.85462141e-01 -9.73855384e-01  5.73178251e-01]\n",
      " [-4.40507713e-01 -2.24992510e-01  2.67793935e-02 -9.75592954e-01\n",
      "   4.26990262e-01 -8.70678765e-01  9.32812081e-01  9.32812081e-01\n",
      "   6.85462141e-01 -9.73855384e-01  5.72068163e-01]\n",
      " [-4.52422826e-01 -1.79047542e-01  4.99483050e-02 -9.75592954e-01\n",
      "   7.06580048e-01 -8.50670198e-01  9.24225141e-01  9.24225141e-01\n",
      "   6.85462141e-01 -9.73855384e-01  5.64287190e-01]\n",
      " [-4.27831094e-01 -2.16548075e-01  4.08245069e-02 -8.42756453e-01\n",
      "   1.00748946e+00 -8.57463607e-01  9.24301335e-01  9.24301335e-01\n",
      "   6.85462141e-01 -9.73855384e-01  5.67026466e-01]\n",
      " [-4.60844044e-01 -1.72691526e-01  4.26492725e-02 -9.35777873e-01\n",
      "   1.00729094e+00 -8.62215523e-01  9.23193915e-01  9.23193915e-01\n",
      "   6.85462141e-01 -9.73855384e-01  5.68905892e-01]\n",
      " [-4.45031874e-01 -2.20270892e-01  3.67326243e-02 -9.02538857e-01\n",
      "   1.00694355e+00 -8.45313835e-01  9.22835908e-01  9.22835908e-01\n",
      "   6.85462141e-01 -9.73855384e-01  5.62250603e-01]\n",
      " [-4.47002792e-01 -1.92531390e-01  5.35978263e-02 -9.15823835e-01\n",
      "   1.00701361e+00 -8.29457642e-01  9.21655426e-01  9.21655426e-01\n",
      "   6.85462141e-01 -9.73855384e-01  5.56018940e-01]\n",
      " [-4.61605533e-01 -1.90488383e-01  4.23727916e-02 -9.22466325e-01\n",
      "   1.00752741e+00 -8.42028664e-01  9.24124941e-01  9.24124941e-01\n",
      "   6.85462141e-01 -9.73855384e-01  5.60983189e-01]\n",
      " [-4.68234996e-01 -1.91804994e-01  4.58564224e-02 -9.68963750e-01\n",
      "   1.00779014e+00 -8.49912075e-01  9.24812773e-01  9.24812773e-01\n",
      "   6.85462141e-01 -9.73855384e-01  5.64061476e-01]\n",
      " [-4.54752099e-01 -1.92349791e-01  4.14880589e-02 -9.49036282e-01\n",
      "   1.30243766e+00 -8.48985559e-01  9.17170428e-01  9.17170428e-01\n",
      "   6.85462141e-01 -9.73855384e-01  5.63786792e-01]\n",
      " [-4.74864468e-01 -1.60115681e-01  6.17815915e-02 -9.95533707e-01\n",
      "   1.57650122e+00 -8.31419844e-01  9.01537125e-01  9.01537125e-01\n",
      "   6.85462141e-01 -9.73855384e-01  5.56997817e-01]\n",
      " [ 1.52356099e+00 -7.50635554e-01 -6.08789678e-01  5.20282352e-01\n",
      "  -9.79678606e-01 -9.09848406e-01 -9.49415454e-01 -9.49415454e-01\n",
      "  -4.28331529e-01 -8.43602380e-01  2.19951948e-01]\n",
      " [ 1.25146943e-01 -7.57490978e-01 -6.02264788e-01 -1.13411127e-01\n",
      "  -9.68617391e-01 -1.01301266e+00 -1.25529817e+00 -1.25529817e+00\n",
      "  -9.46982519e-01 -6.75054315e-01  1.34000505e-01]\n",
      " [-2.94290691e+00 -3.88692396e+00 -4.30055355e+00 -1.46449345e+00\n",
      "  -9.31218284e-01 -6.72843295e-01 -1.77917426e+00 -1.77917426e+00\n",
      "  -2.05051511e+00  8.46907465e-02 -5.02861487e+00]\n",
      " [ 1.81320421e+00 -1.56634022e+00 -1.65039527e+00 -8.18843491e-01\n",
      "   5.22816170e-01 -1.37493971e+00 -3.50247534e+00 -3.50247534e+00\n",
      "  -4.17269317e+00 -3.76977502e-01 -9.57054874e-01]\n",
      " [ 4.73403125e-02 -1.21303617e+00 -1.14515822e+00 -1.09384255e+00\n",
      "   5.85420484e-01 -5.43362713e-01 -1.95232033e+00 -1.95232033e+00\n",
      "  -1.44231287e+00 -8.40026364e-01 -1.12586318e+00]\n",
      " [-4.77417703e-01 -2.20906496e-01  3.52396396e-02 -1.01014718e+00\n",
      "   5.83023741e-01 -3.91609274e-01 -6.12464442e-01 -6.12464442e-01\n",
      "   2.72220436e-01 -8.82712231e-01  3.83997756e-01]\n",
      " [-4.74370817e+00 -1.74303764e+00 -2.22464139e+00 -2.56888896e-01\n",
      "   5.65402868e-01 -1.44142658e+00 -3.85946747e+00 -3.85946747e+00\n",
      "  -4.64377005e+00 -2.34045349e-02 -1.62388028e+00]\n",
      " [-3.26149430e-01 -2.65988849e-01 -9.48712019e-02 -7.47104607e-01\n",
      "   1.86789956e+00 -1.45968103e+00 -2.85421515e+00 -2.85421515e+00\n",
      "  -3.88220032e-01 -5.64582566e-01  7.92118184e-01]\n",
      " [-3.77930928e-01 -2.39384360e-01 -4.59897811e-02 -8.54712934e-01\n",
      "  -1.68874070e+00 -4.06563656e-01  4.42990162e-01  4.42990162e-01\n",
      "   6.80798013e-01 -7.92202802e-01  3.90692593e-01]\n",
      " [-3.97908913e-01 -1.66971106e-01 -9.60518878e-03 -9.74277741e-01\n",
      "  -1.68896549e+00 -4.21924303e-01  4.74156568e-01  4.74156568e-01\n",
      "   6.58410201e-01 -7.89124712e-01  3.96740983e-01]\n",
      " [-3.07873612e-01 -3.49570544e-01 -1.00345479e-01 -6.51452761e-01\n",
      "  -1.68954934e+00 -6.82252942e-01  5.63105030e-01  5.63105030e-01\n",
      "   6.85462141e-01 -8.22168915e-01  4.98407901e-01]\n",
      " [-2.66842596e-01 -3.50433150e-01 -9.18299425e-02 -5.79713876e-01\n",
      "  -1.69475153e+00 -7.24460071e-01  5.81043979e-01  5.81043979e-01\n",
      "   6.83596490e-01 -8.37265136e-01  5.14885711e-01]\n",
      " [-1.60547176e-01 -2.97224165e-01 -4.02390233e-02 -3.76453704e-01\n",
      "  -1.70272121e+00 -7.88989737e-01  3.34790756e-01  3.34790756e-01\n",
      "   1.58415722e-01 -6.76050167e-01  5.38446412e-01]\n",
      " [ 6.52547787e-01 -6.55431419e-01 -6.83494209e-01 -4.48192588e-01\n",
      "  -1.71983705e+00 -1.10146040e+00  1.11591906e-01  1.11591906e-01\n",
      "  -8.64893873e-01 -5.68158583e-01 -9.95449063e-03]\n",
      " [-7.61454460e-01 -9.20068946e-01 -1.03406911e+00  8.19194371e-01\n",
      "  -1.67932013e+00 -1.09001416e+00  2.20521938e-01  2.20521938e-01\n",
      "  -1.41432811e+00 -4.14525674e-01 -3.67065514e-01]\n",
      " [ 3.17676152e+00 -4.15324130e+00 -4.83697739e+00 -2.70796745e+00\n",
      "  -1.65153718e+00 -9.15447637e-01 -4.89711210e-02 -4.89711210e-02\n",
      "  -2.46748812e+00  3.89919593e-01 -5.29650310e+00]\n",
      " [ 3.91714161e-01  3.65073365e-01  7.19690142e-01  1.18984527e+00\n",
      "   1.53042304e+00  6.35231461e-01  9.47063134e-03  9.47063134e-03\n",
      "  -5.24028447e-02  3.32861761e-01  1.04648444e-01]\n",
      " [ 4.55186810e-01  4.89379001e-01  8.56657655e-01  1.16354102e+00\n",
      "   1.23987422e+00  6.31961185e-01  6.97791248e-02  6.97791248e-02\n",
      "   2.68873242e-02  3.46102075e-01  1.05808064e-01]\n",
      " [ 4.86721563e-01  4.22776967e-01  7.79796598e-01  1.25680157e+00\n",
      "   9.59688894e-01  6.16005901e-01  7.21792621e-02  7.21792621e-02\n",
      "   8.19240302e-02  3.43725608e-01  1.11888434e-01]\n",
      " [ 4.09004527e-01  3.77649210e-01  7.01553146e-01  1.11691074e+00\n",
      "   9.66747754e-01  6.09688148e-01  5.81167343e-02  5.81167343e-02\n",
      "   1.01513365e-01  3.52914612e-01  1.14281634e-01]\n",
      " [ 3.93102763e-01  4.09338523e-01  7.50821638e-01  1.04995445e+00\n",
      "   9.63828457e-01  6.26069586e-01  4.74299350e-02  4.74299350e-02\n",
      "   1.23901179e-01  3.46939496e-01  1.07621706e-01]\n",
      " [ 3.85263870e-01  3.54994532e-01  6.83747921e-01  9.97345934e-01\n",
      "   9.67857086e-01  6.16635144e-01  8.05039801e-02  8.05039801e-02\n",
      "   1.69609629e-01  3.41914967e-01  1.11226714e-01]\n",
      " [ 3.66271352e-01  3.17221593e-01  6.77057130e-01  1.05712834e+00\n",
      "   9.66566757e-01  6.05808341e-01  6.54744664e-02  6.54744664e-02\n",
      "   2.22780682e-01  3.44178268e-01  1.15511667e-01]\n",
      " [ 4.94784427e-01  4.98322828e-01  8.35811160e-01  1.05712834e+00\n",
      "   9.65066239e-01  5.98806850e-01  6.84100684e-02  6.84100684e-02\n",
      "   2.37705891e-01  3.51533998e-01  1.18297490e-01]\n",
      " [ 5.23183629e-01  3.58808140e-01  7.02769650e-01  1.31658397e+00\n",
      "  -5.76331082e-01  5.64617008e-01  9.68219317e-02  9.68219317e-02\n",
      "   3.33786921e-01  3.33880246e-01  1.31488659e-01]\n",
      " [ 4.91111349e-01  3.96898873e-01  7.28316269e-01  1.26277981e+00\n",
      "  -5.74961933e-01  5.61188150e-01  9.21207619e-02  9.21207619e-02\n",
      "   3.46846477e-01  3.33880246e-01  1.32886803e-01]\n",
      " [ 4.20113355e-01  3.59670747e-01  6.85462086e-01  1.08343260e+00\n",
      "  -5.74576585e-01  5.57878184e-01  7.93827931e-02  7.93827931e-02\n",
      "   3.53376255e-01  3.33880246e-01  1.34200615e-01]\n",
      " [ 6.79737552e-01  4.21596566e-01  8.01472514e-01  1.32973610e+00\n",
      "  -5.76141328e-01  5.57382639e-01  7.59668570e-02  7.59668570e-02\n",
      "   3.31921268e-01  3.33880246e-01  1.34467874e-01]\n",
      " [ 3.93595493e-01  4.02210692e-01  6.99341309e-01  1.04397621e+00\n",
      "  -5.73003085e-01  5.58869185e-01  7.57132046e-02  7.57132046e-02\n",
      "   3.03936504e-01  3.33880246e-01  1.33832174e-01]\n",
      " [ 4.83362042e-01  3.47231105e-01  6.76725359e-01  1.24962768e+00\n",
      "  -5.73332965e-01  5.62134556e-01  8.33890540e-02  8.33890540e-02\n",
      "   3.46846477e-01  3.33880246e-01  1.32546327e-01]\n",
      " [ 6.11292801e-01  3.57219138e-01  7.18141857e-01  1.36201860e+00\n",
      "  -1.12570182e+00  5.63982771e-01  8.81168810e-02  8.81168810e-02\n",
      "   3.31921268e-01  3.33880246e-01  1.31715208e-01]\n",
      " [ 4.80405657e-01  3.45233494e-01  6.30553427e-01  1.13723676e+00\n",
      "  -1.12397943e+00  5.63180052e-01  7.60335942e-02  7.60335942e-02\n",
      "   3.82293846e-01  3.33880246e-01  1.32016732e-01]\n",
      " [ 4.35701563e-01  2.97608725e-01  6.70200469e-01  1.13006287e+00\n",
      "  -1.64027158e-01  5.65132353e-01  9.52496771e-02  9.52496771e-02\n",
      "   3.09533456e-01  3.39312170e-01  1.31439753e-01]\n",
      " [ 4.20382122e-01  3.36425861e-01  6.83803211e-01  1.16951926e+00\n",
      "   4.04485405e-01  5.64235449e-01  7.68500477e-02  7.68500477e-02\n",
      "   2.33041764e-01  3.54249960e-01  1.31774147e-01]\n",
      " [ 5.05669292e-01  4.74169948e-01  7.93399340e-01  1.16354102e+00\n",
      "   6.68436519e-01  5.70305430e-01  6.11112633e-02  6.11112633e-02\n",
      "   2.61026529e-01  3.54249960e-01  1.29383417e-01]\n",
      " [ 4.47661474e-01  3.90633657e-01  7.35947082e-01  1.14321500e+00\n",
      "   6.69163424e-01  5.58274549e-01  6.68289941e-02  6.68289941e-02\n",
      "   2.05056998e-01  3.54249960e-01  1.33943875e-01]\n",
      " [ 1.16019462e+00  1.10046515e+00  3.39753209e-01  1.60832210e+00\n",
      "  -6.83848773e-01  2.54326916e+00 -1.20027106e+00 -1.20027106e+00\n",
      "  -3.02400084e-01  2.90659774e+00 -5.83370861e-01]\n",
      " [ 3.27614398e-01  9.85290266e-02 -1.49523547e+00  1.47680081e+00\n",
      "  -6.89567676e-01  2.57656709e+00 -1.42866945e+00 -1.42866945e+00\n",
      "  -2.78146621e-01  2.91737106e+00 -5.95684626e-01]\n",
      " [-1.49347286e+00  3.63647265e+00  1.08961854e+00  1.45288785e+00\n",
      "  -6.90980615e-01  2.60785823e+00 -9.70570134e-01 -9.70570134e-01\n",
      "  -2.11916009e-01  2.87925706e+00 -6.07416913e-01]\n",
      " [ 2.78024782e+00  8.12764334e-01  2.92917725e-01  1.08223695e+00\n",
      "  -6.81597996e-01  2.17409284e+00 -4.10512495e-01 -4.10512495e-01\n",
      "  -2.26841217e-01  2.52778896e+00 -4.69941129e-01]\n",
      " [-1.35462714e-01  9.73571700e-01  1.34108395e-01 -3.38192965e-01\n",
      "  -2.59888098e-01  9.66194442e-01 -2.14279451e-01 -2.14279451e-01\n",
      "  -1.83931244e-01  1.07941177e+00 -5.27516052e-02]\n",
      " [-1.42405734e-01  1.10001114e+00  9.78897030e-02 -3.84823240e-01\n",
      "   2.46846312e-01  9.72056251e-01 -8.15666104e-02 -8.15666104e-02\n",
      "  -8.31860879e-02  1.04682023e+00 -5.48831069e-02]\n",
      " [-1.16559782e-01  1.03073050e+00  1.24597535e-01 -2.24606398e-01\n",
      "   5.46990865e-01  9.77526600e-01 -1.50049307e-01 -1.50049307e-01\n",
      "   8.09912039e-02  1.03097712e+00 -5.68224655e-02]\n",
      " [-8.33676590e-02  8.00097689e-01  2.36847862e-01 -7.27590927e-02\n",
      "   8.69062254e-01  9.62879481e-01 -1.83781461e-01 -1.83781461e-01\n",
      "  -4.49402412e-02  9.96665470e-01 -5.11663580e-02]\n",
      " [-6.55397733e-02  7.84480036e-01  2.70633546e-01  5.39796033e-02\n",
      "   8.74687738e-01  9.70663890e-01 -1.47427812e-01 -1.47427812e-01\n",
      "  -7.10593566e-02  9.93858976e-01 -5.43920207e-02]\n",
      " [-2.20898981e-02  7.70678386e-01  2.87332858e-01 -7.27590927e-02\n",
      "   8.72326027e-01  9.54995980e-01 -8.67096833e-02 -8.67096833e-02\n",
      "  -1.82065593e-01  9.93858976e-01 -4.83923882e-02]\n",
      " [-1.72073909e-02  8.19846762e-01  3.42683878e-01  1.37108796e-03\n",
      "   8.77936915e-01  9.54014880e-01 -3.75421910e-02 -3.75421910e-02\n",
      "  -1.59677780e-01  9.93858976e-01 -4.80768306e-02]\n",
      " [ 1.06094873e-02  8.10721327e-01  3.44232163e-01  1.60259432e-01\n",
      "   8.79195132e-01  9.69618305e-01 -2.57778261e-02 -2.57778261e-02\n",
      "  -9.25143422e-02  9.93858976e-01 -5.44429886e-02]\n",
      " [-7.07806344e-02  6.98719138e-01  2.38174956e-01 -1.45295076e-01\n",
      "   1.13248497e+00  9.67467821e-01 -2.31569164e-01 -2.31569164e-01\n",
      "  -2.38967950e-01  9.40897720e-01 -5.37761380e-02]]\n"
     ]
    }
   ],
   "source": [
    "# fit and transform the data\n",
    "scaled_data_B = scaler.fit_transform(featuresVector_B) \n",
    "\n",
    "print(\"------------------------------  scaled data for B -----------------------------\")\n",
    "print(scaled_data_B)\n"
   ]
  },
  {
   "cell_type": "markdown",
   "id": "2a937e30",
   "metadata": {},
   "source": [
    "**Plot graph for cumulative variance with 70% threshold** "
   ]
  },
  {
   "cell_type": "code",
   "execution_count": 15,
   "id": "2025bd6c",
   "metadata": {
    "scrolled": true
   },
   "outputs": [
    {
     "data": {
      "image/png": "[encoded data removed]",
      "text/plain": [
       "<Figure size 864x432 with 1 Axes>"
      ]
     },
     "metadata": {},
     "output_type": "display_data"
    }
   ],
   "source": [
    "# calculate cumulative sum of explained variances\n",
    "pcaB = PCA().fit(scaled_data_B)\n",
    "\n",
    "# matplotlib inline\n",
    "import matplotlib.pyplot as plt\n",
    "plt.rcParams[\"figure.figsize\"] = (12,6)\n",
    "\n",
    "fig, ax = plt.subplots()\n",
    "xi = np.arange(1, 12, step=1)\n",
    "y = np.cumsum(pcaB.explained_variance_ratio_)\n",
    "\n",
    "plt.ylim(0.0,1.1)\n",
    "plt.plot(xi, y, marker='o', linestyle='--', color='b')\n",
    "\n",
    "plt.xlabel('Number of Components')\n",
    "plt.xticks(np.arange(0, 12, step=1)) #change from 0-based array index to 1-based human-readable label\n",
    "plt.ylabel('Cumulative variance (%)')\n",
    "plt.title('The number of components needed to explain variance')\n",
    "\n",
    "plt.axhline(y=0.7, color='r', linestyle='-')\n",
    "plt.text(0.5, 0.85, '70% cut-off threshold', color = 'red', fontsize=16)\n",
    "\n",
    "ax.grid(axis='x')\n",
    "plt.show()\n"
   ]
  },
  {
   "cell_type": "markdown",
   "id": "c9d2afd5",
   "metadata": {},
   "source": [
    "The first three principal components will capture 70% of the variance of the original data thus we will select the first three principal components."
   ]
  },
  {
   "cell_type": "markdown",
   "id": "10c4bd22",
   "metadata": {},
   "source": [
    "**Plot graph for individual and cumulative explained variance** "
   ]
  },
  {
   "cell_type": "code",
   "execution_count": 16,
   "id": "ef01f5ae",
   "metadata": {
    "scrolled": true
   },
   "outputs": [
    {
     "name": "stdout",
     "output_type": "stream",
     "text": [
      "[3.83275537e-01 3.03549197e-01 1.27134698e-01 7.14253728e-02\n",
      " 6.49826606e-02 2.89753179e-02 1.21967601e-02 5.60251746e-03\n",
      " 1.95188863e-03 9.06050388e-04 6.07173090e-35]\n",
      "---------------PCA - DATA B : EXPLAIN VARIANCE--------------\n",
      "[4.27895674e+00 3.38887761e+00 1.41935454e+00 7.97405655e-01\n",
      " 7.25478062e-01 3.23485639e-01 1.36166814e-01 6.25475083e-02\n",
      " 2.17912342e-02 1.01153088e-02 6.77858912e-34]\n",
      "---------------PCA - DATA B : SUM VARIANCE--------------\n",
      "11.164179104477617\n",
      "---------------PCA - DATA A : SIZE OF VARIANCE --------------\n",
      "11\n"
     ]
    },
    {
     "data": {
      "image/png": "[encoded data removed]",
      "text/plain": [
       "<Figure size 864x432 with 1 Axes>"
      ]
     },
     "metadata": {},
     "output_type": "display_data"
    }
   ],
   "source": [
    "# calculate cumulative sum of explained variances\n",
    "pcaB = PCA().fit(scaled_data_B)\n",
    "\n",
    "pcaB.explained_variance_ratio_\n",
    "print(pcaB.explained_variance_ratio_) # print out explained variance ratio \n",
    "\n",
    "total_B = sum(pcaB.explained_variance_)\n",
    "print(\"---------------PCA - DATA B : EXPLAIN VARIANCE--------------\")\n",
    "print(pcaB.explained_variance_)\n",
    "print(\"---------------PCA - DATA B : SUM VARIANCE--------------\")\n",
    "print(total_B)\n",
    "var_exp_B = [(i / tot) for i in sorted(pcaB.explained_variance_, reverse=True)]\n",
    "cum_var_exp_B = np.cumsum(var_exp_B)\n",
    "print(\"---------------PCA - DATA A : SIZE OF VARIANCE --------------\")\n",
    "print(len(var_exp_B))\n",
    "# plot explained variances\n",
    "plt.bar(range(1,12), var_exp_B, alpha=0.5,\n",
    "        align='center', label='individual explained variance')\n",
    "plt.step(range(1,12), cum_var_exp_B, where='mid',\n",
    "         label='cumulative explained variance')\n",
    "plt.ylabel('Explained variance ratio')\n",
    "plt.xlabel('Principal component index')\n",
    "plt.legend(loc='best')\n",
    "plt.show()\n"
   ]
  },
  {
   "cell_type": "markdown",
   "id": "c3c2da2c",
   "metadata": {},
   "source": [
    "**Plot graph for eignenvalues** "
   ]
  },
  {
   "cell_type": "code",
   "execution_count": 17,
   "id": "006a3f81",
   "metadata": {
    "scrolled": false
   },
   "outputs": [
    {
     "data": {
      "image/png": "[encoded data removed]",
      "text/plain": [
       "<Figure size 864x432 with 1 Axes>"
      ]
     },
     "metadata": {},
     "output_type": "display_data"
    }
   ],
   "source": [
    "sns.set()\n",
    " \n",
    "pcaB = PCA(n_components=11)\n",
    " \n",
    "# Fit and transform data\n",
    "reduced_features = pcaB.fit_transform(scaled_data_B)#featuresVector_B)\n",
    " \n",
    "# Bar plot of explained_variance\n",
    "plt.bar(\n",
    "    range(1,len(pcaB.explained_variance_)+1),\n",
    "    pcaB.explained_variance_\n",
    "    )\n",
    " \n",
    "plt.plot(\n",
    "    range(1,len(pcaB.explained_variance_ )+1),\n",
    "    np.cumsum(pcaB.explained_variance_),\n",
    "    c='red',\n",
    "    label='Cumulative Explained Variance')\n",
    " \n",
    "plt.legend(loc='upper left')\n",
    "plt.xlabel('Number of components')\n",
    "plt.ylabel('Explained variance (eignenvalues)')\n",
    "plt.title('Scree plot For B')\n",
    " \n",
    "plt.show()"
   ]
  },
  {
   "cell_type": "markdown",
   "id": "291ec5ed",
   "metadata": {},
   "source": [
    "**Calculate PCA for n_components = 3**"
   ]
  },
  {
   "cell_type": "code",
   "execution_count": 18,
   "id": "5d621a66",
   "metadata": {
    "scrolled": true
   },
   "outputs": [
    {
     "name": "stdout",
     "output_type": "stream",
     "text": [
      "Shape before PCA:  (68, 11)\n",
      "Shape after PCA:  (68, 3)\n"
     ]
    }
   ],
   "source": [
    "pca_B = PCA(n_components=3)\n",
    "\n",
    "pca_features_B = pca_B.fit_transform(scaled_data_B)\n",
    " \n",
    "print('Shape before PCA: ', scaled_data_B.shape)\n",
    "print('Shape after PCA: ', pca_features_B.shape)\n",
    " \n",
    "pca_df_B = pd.DataFrame(\n",
    "    data=pca_features_B, \n",
    "    columns=['PC1', 'PC2', 'PC3'])\n",
    "\n",
    "finalDf_B = pd.concat([pca_df_B, dataframeB['Class Attruibute']], axis = 1)\n",
    "\n",
    "finalDf_B\n",
    "finalDf_B.to_csv('MeterB_pca_3.csv')"
   ]
  },
  {
   "cell_type": "markdown",
   "id": "b60e94da",
   "metadata": {},
   "source": [
    "**Calculate PCA for n_components = numebr of original feature**"
   ]
  },
  {
   "cell_type": "code",
   "execution_count": 19,
   "id": "8ba0f8a0",
   "metadata": {
    "scrolled": true
   },
   "outputs": [
    {
     "name": "stdout",
     "output_type": "stream",
     "text": [
      "Shape before PCA:  (68, 11)\n",
      "Shape after PCA:  (68, 11)\n"
     ]
    }
   ],
   "source": [
    "pca_B = PCA(n_components=11)\n",
    "\n",
    "pca_features_B = pca_B.fit_transform(scaled_data_B)\n",
    " \n",
    "print('Shape before PCA: ', scaled_data_B.shape)\n",
    "print('Shape after PCA: ', pca_features_B.shape)\n",
    " \n",
    "pca_df_B = pd.DataFrame(\n",
    "    data=pca_features_B, \n",
    "    columns=['PC1', 'PC2', 'PC3','PC4', 'PC5', 'PC6', 'PC7','PC8', 'PC9','PC10','PC11'])\n",
    "\n",
    "finalDf_B = pd.concat([pca_df_B, dataframeB['Class Attruibute']], axis = 1)\n",
    "\n",
    "finalDf_B\n",
    "finalDf_B.to_csv('MeterB_pca_all.csv')"
   ]
  },
  {
   "cell_type": "markdown",
   "id": "8085e664",
   "metadata": {},
   "source": [
    "**PCA data reverse back to scaled data**"
   ]
  },
  {
   "cell_type": "code",
   "execution_count": 20,
   "id": "fc887967",
   "metadata": {
    "scrolled": true
   },
   "outputs": [
    {
     "name": "stdout",
     "output_type": "stream",
     "text": [
      "[[-3.72421307e-01 -2.02156225e-01 -2.08302234e-02 -8.42756453e-01\n",
      "  -1.12176661e+00 -8.66040835e-01  9.88579698e-01  9.88579698e-01\n",
      "   6.85462141e-01 -9.73855384e-01  5.69942038e-01]\n",
      " [-3.18265740e-01 -1.56211266e-01  8.36591671e-03 -7.62648032e-01\n",
      "  -1.12089957e+00 -8.76966728e-01  9.85513157e-01  9.85513157e-01\n",
      "   6.85462141e-01 -9.73855384e-01  5.74233863e-01]\n",
      " [-3.97460981e-01 -2.02474027e-01  2.41251954e-02 -9.15810550e-01\n",
      "  -5.28466297e-01 -8.74256304e-01  9.53713195e-01  9.53713195e-01\n",
      "   6.85462141e-01 -9.73855384e-01  5.73243023e-01]\n",
      " [-3.91189863e-01 -1.96799011e-01  2.48993377e-02 -8.82212839e-01\n",
      "  -5.27196403e-01 -8.67998041e-01  9.50226023e-01  9.50226023e-01\n",
      "   6.85462141e-01 -9.73855384e-01  5.70798273e-01]\n",
      " [-3.95131708e-01 -1.95664006e-01  2.76641263e-02 -9.95560277e-01\n",
      "  -5.27619701e-01 -8.70495388e-01  9.47003963e-01  9.47003963e-01\n",
      "   6.85462141e-01 -9.73855384e-01  5.71794856e-01]\n",
      " [-4.29891607e-01 -1.79456144e-01  8.75298790e-03 -1.00213634e+00\n",
      "  -5.27111743e-01 -8.74008532e-01  9.45979000e-01  9.45979000e-01\n",
      "   6.85462141e-01 -9.73855384e-01  5.73166431e-01]\n",
      " [-3.56340378e-01 -1.90624586e-01  2.17474880e-02 -7.62648032e-01\n",
      "  -5.28296978e-01 -8.77615860e-01  9.45756681e-01  9.45756681e-01\n",
      "   6.85462141e-01 -9.73855384e-01  5.74587092e-01]\n",
      " [-3.88143891e-01 -1.84813366e-01  3.38572454e-02 -7.75800161e-01\n",
      "  -5.27730634e-01 -8.77407689e-01  9.45400762e-01  9.45400762e-01\n",
      "   6.85462141e-01 -9.73855384e-01  5.74501649e-01]\n",
      " [-3.99924629e-01 -1.73826531e-01  2.85488590e-02 -7.96126178e-01\n",
      "  -1.10831737e-01 -8.73820249e-01  9.36537228e-01  9.36537228e-01\n",
      "   6.85462141e-01 -9.73855384e-01  5.73178251e-01]\n",
      " [-4.40507713e-01 -2.24992510e-01  2.67793935e-02 -9.75592954e-01\n",
      "   4.26990262e-01 -8.70678765e-01  9.32812081e-01  9.32812081e-01\n",
      "   6.85462141e-01 -9.73855384e-01  5.72068163e-01]\n",
      " [-4.52422826e-01 -1.79047542e-01  4.99483050e-02 -9.75592954e-01\n",
      "   7.06580048e-01 -8.50670198e-01  9.24225141e-01  9.24225141e-01\n",
      "   6.85462141e-01 -9.73855384e-01  5.64287190e-01]\n",
      " [-4.27831094e-01 -2.16548075e-01  4.08245069e-02 -8.42756453e-01\n",
      "   1.00748946e+00 -8.57463607e-01  9.24301335e-01  9.24301335e-01\n",
      "   6.85462141e-01 -9.73855384e-01  5.67026466e-01]\n",
      " [-4.60844044e-01 -1.72691526e-01  4.26492725e-02 -9.35777873e-01\n",
      "   1.00729094e+00 -8.62215523e-01  9.23193915e-01  9.23193915e-01\n",
      "   6.85462141e-01 -9.73855384e-01  5.68905892e-01]\n",
      " [-4.45031874e-01 -2.20270892e-01  3.67326243e-02 -9.02538857e-01\n",
      "   1.00694355e+00 -8.45313835e-01  9.22835908e-01  9.22835908e-01\n",
      "   6.85462141e-01 -9.73855384e-01  5.62250603e-01]\n",
      " [-4.47002792e-01 -1.92531390e-01  5.35978263e-02 -9.15823835e-01\n",
      "   1.00701361e+00 -8.29457642e-01  9.21655426e-01  9.21655426e-01\n",
      "   6.85462141e-01 -9.73855384e-01  5.56018940e-01]\n",
      " [-4.61605533e-01 -1.90488383e-01  4.23727916e-02 -9.22466325e-01\n",
      "   1.00752741e+00 -8.42028664e-01  9.24124941e-01  9.24124941e-01\n",
      "   6.85462141e-01 -9.73855384e-01  5.60983189e-01]\n",
      " [-4.68234996e-01 -1.91804994e-01  4.58564224e-02 -9.68963750e-01\n",
      "   1.00779014e+00 -8.49912075e-01  9.24812773e-01  9.24812773e-01\n",
      "   6.85462141e-01 -9.73855384e-01  5.64061476e-01]\n",
      " [-4.54752099e-01 -1.92349791e-01  4.14880589e-02 -9.49036282e-01\n",
      "   1.30243766e+00 -8.48985559e-01  9.17170428e-01  9.17170428e-01\n",
      "   6.85462141e-01 -9.73855384e-01  5.63786792e-01]\n",
      " [-4.74864468e-01 -1.60115681e-01  6.17815915e-02 -9.95533707e-01\n",
      "   1.57650122e+00 -8.31419844e-01  9.01537125e-01  9.01537125e-01\n",
      "   6.85462141e-01 -9.73855384e-01  5.56997817e-01]\n",
      " [ 1.52356099e+00 -7.50635554e-01 -6.08789678e-01  5.20282352e-01\n",
      "  -9.79678606e-01 -9.09848406e-01 -9.49415454e-01 -9.49415454e-01\n",
      "  -4.28331529e-01 -8.43602380e-01  2.19951948e-01]\n",
      " [ 1.25146943e-01 -7.57490978e-01 -6.02264788e-01 -1.13411127e-01\n",
      "  -9.68617391e-01 -1.01301266e+00 -1.25529817e+00 -1.25529817e+00\n",
      "  -9.46982519e-01 -6.75054315e-01  1.34000505e-01]\n",
      " [-2.94290691e+00 -3.88692396e+00 -4.30055355e+00 -1.46449345e+00\n",
      "  -9.31218284e-01 -6.72843295e-01 -1.77917426e+00 -1.77917426e+00\n",
      "  -2.05051511e+00  8.46907465e-02 -5.02861487e+00]\n",
      " [ 1.81320421e+00 -1.56634022e+00 -1.65039527e+00 -8.18843491e-01\n",
      "   5.22816170e-01 -1.37493971e+00 -3.50247534e+00 -3.50247534e+00\n",
      "  -4.17269317e+00 -3.76977502e-01 -9.57054874e-01]\n",
      " [ 4.73403125e-02 -1.21303617e+00 -1.14515822e+00 -1.09384255e+00\n",
      "   5.85420484e-01 -5.43362713e-01 -1.95232033e+00 -1.95232033e+00\n",
      "  -1.44231287e+00 -8.40026364e-01 -1.12586318e+00]\n",
      " [-4.77417703e-01 -2.20906496e-01  3.52396396e-02 -1.01014718e+00\n",
      "   5.83023741e-01 -3.91609274e-01 -6.12464442e-01 -6.12464442e-01\n",
      "   2.72220436e-01 -8.82712231e-01  3.83997756e-01]\n",
      " [-4.74370817e+00 -1.74303764e+00 -2.22464139e+00 -2.56888896e-01\n",
      "   5.65402868e-01 -1.44142658e+00 -3.85946747e+00 -3.85946747e+00\n",
      "  -4.64377005e+00 -2.34045349e-02 -1.62388028e+00]\n",
      " [-3.26149430e-01 -2.65988849e-01 -9.48712019e-02 -7.47104607e-01\n",
      "   1.86789956e+00 -1.45968103e+00 -2.85421515e+00 -2.85421515e+00\n",
      "  -3.88220032e-01 -5.64582566e-01  7.92118184e-01]\n",
      " [-3.77930928e-01 -2.39384360e-01 -4.59897811e-02 -8.54712934e-01\n",
      "  -1.68874070e+00 -4.06563656e-01  4.42990162e-01  4.42990162e-01\n",
      "   6.80798013e-01 -7.92202802e-01  3.90692593e-01]\n",
      " [-3.97908913e-01 -1.66971106e-01 -9.60518878e-03 -9.74277741e-01\n",
      "  -1.68896549e+00 -4.21924303e-01  4.74156568e-01  4.74156568e-01\n",
      "   6.58410201e-01 -7.89124712e-01  3.96740983e-01]\n",
      " [-3.07873612e-01 -3.49570544e-01 -1.00345479e-01 -6.51452761e-01\n",
      "  -1.68954934e+00 -6.82252942e-01  5.63105030e-01  5.63105030e-01\n",
      "   6.85462141e-01 -8.22168915e-01  4.98407901e-01]\n",
      " [-2.66842596e-01 -3.50433150e-01 -9.18299425e-02 -5.79713876e-01\n",
      "  -1.69475153e+00 -7.24460071e-01  5.81043979e-01  5.81043979e-01\n",
      "   6.83596490e-01 -8.37265136e-01  5.14885711e-01]\n",
      " [-1.60547176e-01 -2.97224165e-01 -4.02390233e-02 -3.76453704e-01\n",
      "  -1.70272121e+00 -7.88989737e-01  3.34790756e-01  3.34790756e-01\n",
      "   1.58415722e-01 -6.76050167e-01  5.38446412e-01]\n",
      " [ 6.52547787e-01 -6.55431419e-01 -6.83494209e-01 -4.48192588e-01\n",
      "  -1.71983705e+00 -1.10146040e+00  1.11591906e-01  1.11591906e-01\n",
      "  -8.64893873e-01 -5.68158583e-01 -9.95449063e-03]\n",
      " [-7.61454460e-01 -9.20068946e-01 -1.03406911e+00  8.19194371e-01\n",
      "  -1.67932013e+00 -1.09001416e+00  2.20521938e-01  2.20521938e-01\n",
      "  -1.41432811e+00 -4.14525674e-01 -3.67065514e-01]\n",
      " [ 3.17676152e+00 -4.15324130e+00 -4.83697739e+00 -2.70796745e+00\n",
      "  -1.65153718e+00 -9.15447637e-01 -4.89711210e-02 -4.89711210e-02\n",
      "  -2.46748812e+00  3.89919593e-01 -5.29650310e+00]\n",
      " [ 3.91714161e-01  3.65073365e-01  7.19690142e-01  1.18984527e+00\n",
      "   1.53042304e+00  6.35231461e-01  9.47063134e-03  9.47063134e-03\n",
      "  -5.24028447e-02  3.32861761e-01  1.04648444e-01]\n",
      " [ 4.55186810e-01  4.89379001e-01  8.56657655e-01  1.16354102e+00\n",
      "   1.23987422e+00  6.31961185e-01  6.97791248e-02  6.97791248e-02\n",
      "   2.68873242e-02  3.46102075e-01  1.05808064e-01]\n",
      " [ 4.86721563e-01  4.22776967e-01  7.79796598e-01  1.25680157e+00\n",
      "   9.59688894e-01  6.16005901e-01  7.21792621e-02  7.21792621e-02\n",
      "   8.19240302e-02  3.43725608e-01  1.11888434e-01]\n",
      " [ 4.09004527e-01  3.77649210e-01  7.01553146e-01  1.11691074e+00\n",
      "   9.66747754e-01  6.09688148e-01  5.81167343e-02  5.81167343e-02\n",
      "   1.01513365e-01  3.52914612e-01  1.14281634e-01]\n",
      " [ 3.93102763e-01  4.09338523e-01  7.50821638e-01  1.04995445e+00\n",
      "   9.63828457e-01  6.26069586e-01  4.74299350e-02  4.74299350e-02\n",
      "   1.23901179e-01  3.46939496e-01  1.07621706e-01]\n",
      " [ 3.85263870e-01  3.54994532e-01  6.83747921e-01  9.97345934e-01\n",
      "   9.67857086e-01  6.16635144e-01  8.05039801e-02  8.05039801e-02\n",
      "   1.69609629e-01  3.41914967e-01  1.11226714e-01]\n",
      " [ 3.66271352e-01  3.17221593e-01  6.77057130e-01  1.05712834e+00\n",
      "   9.66566757e-01  6.05808341e-01  6.54744664e-02  6.54744664e-02\n",
      "   2.22780682e-01  3.44178268e-01  1.15511667e-01]\n",
      " [ 4.94784427e-01  4.98322828e-01  8.35811160e-01  1.05712834e+00\n",
      "   9.65066239e-01  5.98806850e-01  6.84100684e-02  6.84100684e-02\n",
      "   2.37705891e-01  3.51533998e-01  1.18297490e-01]\n",
      " [ 5.23183629e-01  3.58808140e-01  7.02769650e-01  1.31658397e+00\n",
      "  -5.76331082e-01  5.64617008e-01  9.68219317e-02  9.68219317e-02\n",
      "   3.33786921e-01  3.33880246e-01  1.31488659e-01]\n",
      " [ 4.91111349e-01  3.96898873e-01  7.28316269e-01  1.26277981e+00\n",
      "  -5.74961933e-01  5.61188150e-01  9.21207619e-02  9.21207619e-02\n",
      "   3.46846477e-01  3.33880246e-01  1.32886803e-01]\n",
      " [ 4.20113355e-01  3.59670747e-01  6.85462086e-01  1.08343260e+00\n",
      "  -5.74576585e-01  5.57878184e-01  7.93827931e-02  7.93827931e-02\n",
      "   3.53376255e-01  3.33880246e-01  1.34200615e-01]\n",
      " [ 6.79737552e-01  4.21596566e-01  8.01472514e-01  1.32973610e+00\n",
      "  -5.76141328e-01  5.57382639e-01  7.59668570e-02  7.59668570e-02\n",
      "   3.31921268e-01  3.33880246e-01  1.34467874e-01]\n",
      " [ 3.93595493e-01  4.02210692e-01  6.99341309e-01  1.04397621e+00\n",
      "  -5.73003085e-01  5.58869185e-01  7.57132046e-02  7.57132046e-02\n",
      "   3.03936504e-01  3.33880246e-01  1.33832174e-01]\n",
      " [ 4.83362042e-01  3.47231105e-01  6.76725359e-01  1.24962768e+00\n",
      "  -5.73332965e-01  5.62134556e-01  8.33890540e-02  8.33890540e-02\n",
      "   3.46846477e-01  3.33880246e-01  1.32546327e-01]\n",
      " [ 6.11292801e-01  3.57219138e-01  7.18141857e-01  1.36201860e+00\n",
      "  -1.12570182e+00  5.63982771e-01  8.81168810e-02  8.81168810e-02\n",
      "   3.31921268e-01  3.33880246e-01  1.31715208e-01]\n",
      " [ 4.80405657e-01  3.45233494e-01  6.30553427e-01  1.13723676e+00\n",
      "  -1.12397943e+00  5.63180052e-01  7.60335942e-02  7.60335942e-02\n",
      "   3.82293846e-01  3.33880246e-01  1.32016732e-01]\n",
      " [ 4.35701563e-01  2.97608725e-01  6.70200469e-01  1.13006287e+00\n",
      "  -1.64027158e-01  5.65132353e-01  9.52496771e-02  9.52496771e-02\n",
      "   3.09533456e-01  3.39312170e-01  1.31439753e-01]\n",
      " [ 4.20382122e-01  3.36425861e-01  6.83803211e-01  1.16951926e+00\n",
      "   4.04485405e-01  5.64235449e-01  7.68500477e-02  7.68500477e-02\n",
      "   2.33041764e-01  3.54249960e-01  1.31774147e-01]\n",
      " [ 5.05669292e-01  4.74169948e-01  7.93399340e-01  1.16354102e+00\n",
      "   6.68436519e-01  5.70305430e-01  6.11112633e-02  6.11112633e-02\n",
      "   2.61026529e-01  3.54249960e-01  1.29383417e-01]\n",
      " [ 4.47661474e-01  3.90633657e-01  7.35947082e-01  1.14321500e+00\n",
      "   6.69163424e-01  5.58274549e-01  6.68289941e-02  6.68289941e-02\n",
      "   2.05056998e-01  3.54249960e-01  1.33943875e-01]\n",
      " [ 1.16019462e+00  1.10046515e+00  3.39753209e-01  1.60832210e+00\n",
      "  -6.83848773e-01  2.54326916e+00 -1.20027106e+00 -1.20027106e+00\n",
      "  -3.02400084e-01  2.90659774e+00 -5.83370861e-01]\n",
      " [ 3.27614398e-01  9.85290266e-02 -1.49523547e+00  1.47680081e+00\n",
      "  -6.89567676e-01  2.57656709e+00 -1.42866945e+00 -1.42866945e+00\n",
      "  -2.78146621e-01  2.91737106e+00 -5.95684626e-01]\n",
      " [-1.49347286e+00  3.63647265e+00  1.08961854e+00  1.45288785e+00\n",
      "  -6.90980615e-01  2.60785823e+00 -9.70570134e-01 -9.70570134e-01\n",
      "  -2.11916009e-01  2.87925706e+00 -6.07416913e-01]\n",
      " [ 2.78024782e+00  8.12764334e-01  2.92917725e-01  1.08223695e+00\n",
      "  -6.81597996e-01  2.17409284e+00 -4.10512495e-01 -4.10512495e-01\n",
      "  -2.26841217e-01  2.52778896e+00 -4.69941129e-01]\n",
      " [-1.35462714e-01  9.73571700e-01  1.34108395e-01 -3.38192965e-01\n",
      "  -2.59888098e-01  9.66194442e-01 -2.14279451e-01 -2.14279451e-01\n",
      "  -1.83931244e-01  1.07941177e+00 -5.27516052e-02]\n",
      " [-1.42405734e-01  1.10001114e+00  9.78897030e-02 -3.84823240e-01\n",
      "   2.46846312e-01  9.72056251e-01 -8.15666104e-02 -8.15666104e-02\n",
      "  -8.31860879e-02  1.04682023e+00 -5.48831069e-02]\n",
      " [-1.16559782e-01  1.03073050e+00  1.24597535e-01 -2.24606398e-01\n",
      "   5.46990865e-01  9.77526600e-01 -1.50049307e-01 -1.50049307e-01\n",
      "   8.09912039e-02  1.03097712e+00 -5.68224655e-02]\n",
      " [-8.33676590e-02  8.00097689e-01  2.36847862e-01 -7.27590927e-02\n",
      "   8.69062254e-01  9.62879481e-01 -1.83781461e-01 -1.83781461e-01\n",
      "  -4.49402412e-02  9.96665470e-01 -5.11663580e-02]\n",
      " [-6.55397733e-02  7.84480036e-01  2.70633546e-01  5.39796033e-02\n",
      "   8.74687738e-01  9.70663890e-01 -1.47427812e-01 -1.47427812e-01\n",
      "  -7.10593566e-02  9.93858976e-01 -5.43920207e-02]\n",
      " [-2.20898981e-02  7.70678386e-01  2.87332858e-01 -7.27590927e-02\n",
      "   8.72326027e-01  9.54995980e-01 -8.67096833e-02 -8.67096833e-02\n",
      "  -1.82065593e-01  9.93858976e-01 -4.83923882e-02]\n",
      " [-1.72073909e-02  8.19846762e-01  3.42683878e-01  1.37108796e-03\n",
      "   8.77936915e-01  9.54014880e-01 -3.75421910e-02 -3.75421910e-02\n",
      "  -1.59677780e-01  9.93858976e-01 -4.80768306e-02]\n",
      " [ 1.06094873e-02  8.10721327e-01  3.44232163e-01  1.60259432e-01\n",
      "   8.79195132e-01  9.69618305e-01 -2.57778261e-02 -2.57778261e-02\n",
      "  -9.25143422e-02  9.93858976e-01 -5.44429886e-02]\n",
      " [-7.07806344e-02  6.98719138e-01  2.38174956e-01 -1.45295076e-01\n",
      "   1.13248497e+00  9.67467821e-01 -2.31569164e-01 -2.31569164e-01\n",
      "  -2.38967950e-01  9.40897720e-01 -5.37761380e-02]]\n"
     ]
    }
   ],
   "source": [
    "X_pca_all_back=pca_B.inverse_transform(pca_features_B)\n",
    "print(X_pca_all_back)"
   ]
  },
  {
   "cell_type": "markdown",
   "id": "d72136b4",
   "metadata": {},
   "source": [
    "**Scaled data reverse back to PCA data**"
   ]
  },
  {
   "cell_type": "code",
   "execution_count": 21,
   "id": "505e8e99",
   "metadata": {
    "scrolled": true
   },
   "outputs": [
    {
     "name": "stdout",
     "output_type": "stream",
     "text": [
      "[[ 1.18508889e+00  1.02812778e+00  1.01647778e+00  1.50000000e-01\n",
      "   2.39443889e+00  1.48515322e+03  4.88300486e+03  4.88300486e+03\n",
      "   1.00000000e+02  5.14750000e+01  1.02135383e+02]\n",
      " [ 1.19180556e+00  1.03375000e+00  1.01941111e+00  2.17000000e-01\n",
      "   2.39608889e+00  1.48503072e+03  4.88096458e+03  4.88096458e+03\n",
      "   1.00000000e+02  5.14750000e+01  1.02143804e+02]\n",
      " [ 1.18198333e+00  1.02808889e+00  1.02099444e+00  8.89000000e-02\n",
      "   3.52351667e+00  1.48506111e+03  4.85980694e+03  4.85980694e+03\n",
      "   1.00000000e+02  5.14750000e+01  1.02141860e+02]\n",
      " [ 1.18276111e+00  1.02878333e+00  1.02107222e+00  1.17000000e-01\n",
      "   3.52593333e+00  1.48513128e+03  4.85748681e+03  4.85748681e+03\n",
      "   1.00000000e+02  5.14750000e+01  1.02137063e+02]\n",
      " [ 1.18227222e+00  1.02892222e+00  1.02135000e+00  2.22000000e-02\n",
      "   3.52512778e+00  1.48510328e+03  4.85534306e+03  4.85534306e+03\n",
      "   1.00000000e+02  5.14750000e+01  1.02139019e+02]\n",
      " [ 1.17796111e+00  1.03090556e+00  1.01945000e+00  1.67000000e-02\n",
      "   3.52609444e+00  1.48506389e+03  4.85466111e+03  4.85466111e+03\n",
      "   1.00000000e+02  5.14750000e+01  1.02141710e+02]\n",
      " [ 1.18708333e+00  1.02953889e+00  1.02075556e+00  2.17000000e-01\n",
      "   3.52383889e+00  1.48502344e+03  4.85451319e+03  4.85451319e+03\n",
      "   1.00000000e+02  5.14750000e+01  1.02144497e+02]\n",
      " [ 1.18313889e+00  1.03025000e+00  1.02197222e+00  2.06000000e-01\n",
      "   3.52491667e+00  1.48502578e+03  4.85427639e+03  4.85427639e+03\n",
      "   1.00000000e+02  5.14750000e+01  1.02144330e+02]\n",
      " [ 1.18167778e+00  1.03159444e+00  1.02143889e+00  1.89000000e-01\n",
      "   4.31829444e+00  1.48506600e+03  4.84837917e+03  4.84837917e+03\n",
      "   1.00000000e+02  5.14750000e+01  1.02141733e+02]\n",
      " [ 1.17664444e+00  1.02533333e+00  1.02126111e+00  3.89000000e-02\n",
      "   5.34179444e+00  1.48510122e+03  4.84590069e+03  4.84590069e+03\n",
      "   1.00000000e+02  5.14750000e+01  1.02139555e+02]\n",
      " [ 1.17516667e+00  1.03095556e+00  1.02358889e+00  3.89000000e-02\n",
      "   5.87386667e+00  1.48532556e+03  4.84018750e+03  4.84018750e+03\n",
      "   1.00000000e+02  5.14750000e+01  1.02124288e+02]\n",
      " [ 1.17821667e+00  1.02636667e+00  1.02267222e+00  1.50000000e-01\n",
      "   6.44651111e+00  1.48524939e+03  4.84023819e+03  4.84023819e+03\n",
      "   1.00000000e+02  5.14750000e+01  1.02129663e+02]\n",
      " [ 1.17412222e+00  1.03173333e+00  1.02285556e+00  7.22000000e-02\n",
      "   6.44613333e+00  1.48519611e+03  4.83950139e+03  4.83950139e+03\n",
      "   1.00000000e+02  5.14750000e+01  1.02133350e+02]\n",
      " [ 1.17608333e+00  1.02591111e+00  1.02226111e+00  1.00000000e-01\n",
      "   6.44547222e+00  1.48538561e+03  4.83926319e+03  4.83926319e+03\n",
      "   1.00000000e+02  5.14750000e+01  1.02120292e+02]\n",
      " [ 1.17583889e+00  1.02930556e+00  1.02395556e+00  8.88888890e-02\n",
      "   6.44560556e+00  1.48556339e+03  4.83847778e+03  4.83847778e+03\n",
      "   1.00000000e+02  5.14750000e+01  1.02108065e+02]\n",
      " [ 1.17402778e+00  1.02955556e+00  1.02282778e+00  8.33333330e-02\n",
      "   6.44658333e+00  1.48542244e+03  4.84012083e+03  4.84012083e+03\n",
      "   1.00000000e+02  5.14750000e+01  1.02117806e+02]\n",
      " [ 1.17320556e+00  1.02939444e+00  1.02317778e+00  4.44444440e-02\n",
      "   6.44708333e+00  1.48533406e+03  4.84057847e+03  4.84057847e+03\n",
      "   1.00000000e+02  5.14750000e+01  1.02123845e+02]\n",
      " [ 1.17487778e+00  1.02932778e+00  1.02273889e+00  6.11111110e-02\n",
      "   7.00781111e+00  1.48534444e+03  4.83549375e+03  4.83549375e+03\n",
      "   1.00000000e+02  5.14750000e+01  1.02123306e+02]\n",
      " [ 1.17238333e+00  1.03327222e+00  1.02477778e+00  2.22222220e-02\n",
      "   7.52936667e+00  1.48554139e+03  4.82509236e+03  4.82509236e+03\n",
      "   1.00000000e+02  5.14750000e+01  1.02109986e+02]\n",
      " [ 1.42023889e+00  9.61011111e-01  9.57405556e-01  1.29000000e+00\n",
      "   2.66483889e+00  1.48466206e+03  3.59358819e+03  3.59358819e+03\n",
      "   9.33666667e+01  5.22743056e+01  1.01448680e+02]\n",
      " [ 1.24680000e+00  9.60172222e-01  9.58061111e-01  7.60000000e-01\n",
      "   2.68588889e+00  1.48350539e+03  3.39007361e+03  3.39007361e+03\n",
      "   9.02777778e+01  5.33086111e+01  1.01280037e+02]\n",
      " [ 8.66283333e-01  5.77227778e-01  5.86494444e-01 -3.70000000e-01\n",
      "   2.75706111e+00  1.48731933e+03  3.04152033e+03  3.04152033e+03\n",
      "   8.37055556e+01  5.79708333e+01  9.11506439e+01]\n",
      " [ 1.45616201e+00  8.61194444e-01  8.52755556e-01  1.70000000e-01\n",
      "   5.52415556e+00  1.47944750e+03  1.89494722e+03  1.89494722e+03\n",
      "   7.10666667e+01  5.51377778e+01  9.91393143e+01]\n",
      " [ 1.23715000e+00  9.04427778e-01  9.03516667e-01 -6.00000000e-02\n",
      "   5.64329444e+00  1.48877106e+03  2.92632014e+03  2.92632014e+03\n",
      "   8.73277778e+01  5.22962500e+01  9.88081012e+01]\n",
      " [ 1.17206667e+00  1.02583333e+00  1.02211111e+00  1.00000000e-02\n",
      "   5.63873333e+00  1.49047250e+03  3.81777361e+03  3.81777361e+03\n",
      "   9.75388889e+01  5.20343056e+01  1.01770548e+02]\n",
      " [ 6.42938202e-01  8.39572222e-01  7.95061111e-01  6.40000000e-01\n",
      "   5.60520000e+00  1.47870206e+03  1.65742774e+03  1.65742774e+03\n",
      "   6.82611111e+01  5.73075000e+01  9.78309587e+01]\n",
      " [ 1.19082778e+00  1.02031667e+00  1.00903889e+00  2.30000000e-01\n",
      "   8.08391111e+00  1.47849739e+03  2.32625764e+03  2.32625764e+03\n",
      "   9.36055556e+01  5.39865278e+01  1.02571308e+02]\n",
      " [ 1.18440556e+00  1.02357222e+00  1.01395000e+00  1.40000000e-01\n",
      "   1.31546111e+00  1.49030483e+03  4.52000486e+03  4.52000486e+03\n",
      "   9.99722222e+01  5.25897222e+01  1.01783684e+02]\n",
      " [ 1.18192778e+00  1.03243333e+00  1.01760556e+00  4.00000000e-02\n",
      "   1.31503333e+00  1.49013261e+03  4.54074097e+03  4.54074097e+03\n",
      "   9.98388889e+01  5.26086111e+01  1.01795551e+02]\n",
      " [ 1.19309444e+00  1.01008889e+00  1.00848889e+00  3.10000000e-01\n",
      "   1.31392222e+00  1.48721383e+03  4.59992153e+03  4.59992153e+03\n",
      "   1.00000000e+02  5.24058333e+01  1.01995029e+02]\n",
      " [ 1.19818333e+00  1.00998333e+00  1.00934444e+00  3.70000000e-01\n",
      "   1.30402222e+00  1.48674061e+03  4.61185694e+03  4.61185694e+03\n",
      "   9.99888889e+01  5.23131944e+01  1.02027359e+02]\n",
      " [ 1.21136667e+00  1.01649444e+00  1.01452778e+00  5.40000000e-01\n",
      "   1.28885556e+00  1.48601711e+03  4.44801597e+03  4.44801597e+03\n",
      "   9.68611111e+01  5.33025000e+01  1.02073587e+02]\n",
      " [ 1.31221111e+00  9.72661111e-01  9.49900000e-01  4.80000000e-01\n",
      "   1.25628333e+00  1.48251372e+03  4.29951389e+03  4.29951389e+03\n",
      "   9.07666667e+01  5.39645833e+01  1.00997588e+02]\n",
      " [ 1.13683889e+00  9.40277778e-01  9.14677778e-01  1.54000000e+00\n",
      "   1.33338889e+00  1.48264206e+03  4.37198889e+03  4.37198889e+03\n",
      "   8.74944444e+01  5.49073611e+01  1.00296913e+02]\n",
      " [ 1.62527778e+00  5.44638889e-01  5.32600000e-01 -1.41000000e+00\n",
      "   1.38626111e+00  1.48459928e+03  4.19268563e+03  4.19268563e+03\n",
      "   8.12222222e+01  5.98438889e+01  9.06250294e+01]\n",
      " [ 1.27986111e+00  1.09753889e+00  1.09087778e+00  1.85000000e+00\n",
      "   7.44167778e+00  1.50198533e+03  4.23156900e+03  4.23156900e+03\n",
      "   9.56055556e+01  5.94937500e+01  1.01222447e+02]\n",
      " [ 1.28773333e+00  1.11275000e+00  1.10463889e+00  1.82800000e+00\n",
      "   6.88875000e+00  1.50194867e+03  4.27169437e+03  4.27169437e+03\n",
      "   9.60777778e+01  5.95750000e+01  1.01224722e+02]\n",
      " [ 1.29164444e+00  1.10460000e+00  1.09691667e+00  1.90600000e+00\n",
      "   6.35554444e+00  1.50176978e+03  4.27329126e+03  4.27329126e+03\n",
      "   9.64055556e+01  5.95604167e+01  1.01236652e+02]\n",
      " [ 1.28200556e+00  1.09907778e+00  1.08905556e+00  1.78900000e+00\n",
      "   6.36897778e+00  1.50169894e+03  4.26393497e+03  4.26393497e+03\n",
      "   9.65222222e+01  5.96168056e+01  1.01241347e+02]\n",
      " [ 1.28003333e+00  1.10295556e+00  1.09400556e+00  1.73300000e+00\n",
      "   6.36342222e+00  1.50188261e+03  4.25682466e+03  4.25682466e+03\n",
      "   9.66555556e+01  5.95801389e+01  1.01228280e+02]\n",
      " [ 1.27906111e+00  1.09630556e+00  1.08726667e+00  1.68900000e+00\n",
      "   6.37108889e+00  1.50177683e+03  4.27882999e+03  4.27882999e+03\n",
      "   9.69277778e+01  5.95493056e+01  1.01235354e+02]\n",
      " [ 1.27670556e+00  1.09168333e+00  1.08659444e+00  1.73900000e+00\n",
      "   6.36863333e+00  1.50165544e+03  4.26883033e+03  4.26883033e+03\n",
      "   9.72444444e+01  5.95631944e+01  1.01243761e+02]\n",
      " [ 1.29264444e+00  1.11384444e+00  1.10254444e+00  1.73900000e+00\n",
      "   6.36577778e+00  1.50157694e+03  4.27078349e+03  4.27078349e+03\n",
      "   9.73333333e+01  5.96083333e+01  1.01249227e+02]\n",
      " [ 1.29616667e+00  1.09677222e+00  1.08917778e+00  1.95600000e+00\n",
      "   3.43242778e+00  1.50119361e+03  4.28968690e+03  4.28968690e+03\n",
      "   9.79055556e+01  5.95000000e+01  1.01275109e+02]\n",
      " [ 1.29218889e+00  1.10143333e+00  1.09174444e+00  1.91100000e+00\n",
      "   3.43503333e+00  1.50115517e+03  4.28655905e+03  4.28655905e+03\n",
      "   9.79833333e+01  5.95000000e+01  1.01277852e+02]\n",
      " [ 1.28338333e+00  1.09687778e+00  1.08743889e+00  1.76100000e+00\n",
      "   3.43576667e+00  1.50111806e+03  4.27808403e+03  4.27808403e+03\n",
      "   9.80222222e+01  5.95000000e+01  1.01280430e+02]\n",
      " [ 1.31558333e+00  1.10445556e+00  1.09909444e+00  1.96700000e+00\n",
      "   3.43278889e+00  1.50111250e+03  4.27581128e+03  4.27581128e+03\n",
      "   9.78944444e+01  5.95000000e+01  1.01280954e+02]\n",
      " [ 1.28009444e+00  1.10208333e+00  1.08883333e+00  1.72800000e+00\n",
      "   3.43876111e+00  1.50112917e+03  4.27564252e+03  4.27564252e+03\n",
      "   9.77277778e+01  5.95000000e+01  1.01279707e+02]\n",
      " [ 1.29122778e+00  1.09535556e+00  1.08656111e+00  1.90000000e+00\n",
      "   3.43813333e+00  1.50116578e+03  4.28074953e+03  4.28074953e+03\n",
      "   9.79833333e+01  5.95000000e+01  1.01277184e+02]\n",
      " [ 1.30709444e+00  1.09657778e+00  1.09072222e+00  1.99400000e+00\n",
      "   2.38695000e+00  1.50118650e+03  4.28389513e+03  4.28389513e+03\n",
      "   9.78944444e+01  5.95000000e+01  1.01275553e+02]\n",
      " [ 1.29086111e+00  1.09511111e+00  1.08192222e+00  1.80600000e+00\n",
      "   2.39022778e+00  1.50117750e+03  4.27585569e+03  4.27585569e+03\n",
      "   9.81944444e+01  5.95000000e+01  1.01276145e+02]\n",
      " [ 1.28531667e+00  1.08928333e+00  1.08590556e+00  1.80000000e+00\n",
      "   4.21706111e+00  1.50119939e+03  4.28864083e+03  4.28864083e+03\n",
      "   9.77611111e+01  5.95333333e+01  1.01275013e+02]\n",
      " [ 1.28341667e+00  1.09403333e+00  1.08727222e+00  1.83300000e+00\n",
      "   5.29896667e+00  1.50118933e+03  4.27639890e+03  4.27639890e+03\n",
      "   9.73055556e+01  5.96250000e+01  1.01275669e+02]\n",
      " [ 1.29399444e+00  1.11088889e+00  1.09828333e+00  1.82800000e+00\n",
      "   5.80127778e+00  1.50125739e+03  4.26592733e+03  4.26592733e+03\n",
      "   9.74722222e+01  5.96250000e+01  1.01270978e+02]\n",
      " [ 1.28680000e+00  1.10066667e+00  1.09251111e+00  1.81100000e+00\n",
      "   5.80266111e+00  1.50112250e+03  4.26973154e+03  4.26973154e+03\n",
      "   9.71388889e+01  5.96250000e+01  1.01279926e+02]\n",
      " [ 1.37517222e+00  1.18752778e+00  1.05270556e+00  2.20000000e+00\n",
      "   3.22781667e+00  1.52337806e+03  3.42668509e+03  3.42668509e+03\n",
      "   9.41166667e+01  7.52876389e+01  9.98725071e+01]\n",
      " [ 1.27191111e+00  1.06492222e+00  8.68344444e-01  2.09000000e+00\n",
      "   3.21693333e+00  1.52375139e+03  3.27472358e+03  3.27472358e+03\n",
      "   9.42611111e+01  7.53537500e+01  9.98483467e+01]\n",
      " [ 1.04605000e+00  1.49785556e+00  1.12804444e+00  2.07000000e+00\n",
      "   3.21424444e+00  1.52410222e+03  3.57951324e+03  3.57951324e+03\n",
      "   9.46555556e+01  7.51198611e+01  9.98253271e+01]\n",
      " [ 1.57610000e+00  1.15232222e+00  1.04800000e+00  1.76000000e+00\n",
      "   3.23210000e+00  1.51923889e+03  3.95213938e+03  3.95213938e+03\n",
      "   9.45666667e+01  7.29630556e+01  1.00095064e+02]\n",
      " [ 1.21447778e+00  1.17200000e+00  1.03204444e+00  5.72000000e-01\n",
      "   4.03463333e+00  1.50569606e+03  4.08270016e+03  4.08270016e+03\n",
      "   9.48222222e+01  6.40750000e+01  1.00913617e+02]\n",
      " [ 1.21361667e+00  1.18747222e+00  1.02840556e+00  5.33000000e-01\n",
      "   4.99897222e+00  1.50576178e+03  4.17099870e+03  4.17099870e+03\n",
      "   9.54222222e+01  6.38750000e+01  1.00909435e+02]\n",
      " [ 1.21682222e+00  1.17899444e+00  1.03108889e+00  6.67000000e-01\n",
      "   5.57016111e+00  1.50582311e+03  4.12543474e+03  4.12543474e+03\n",
      "   9.64000000e+01  6.37777778e+01  1.00905630e+02]\n",
      " [ 1.22093889e+00  1.15077222e+00  1.04236667e+00  7.94000000e-01\n",
      "   6.18307778e+00  1.50565889e+03  4.10299155e+03  4.10299155e+03\n",
      "   9.56500000e+01  6.35672222e+01  1.00916728e+02]\n",
      " [ 1.22315000e+00  1.14886111e+00  1.04576111e+00  9.00000000e-01\n",
      "   6.19378333e+00  1.50574617e+03  4.12717892e+03  4.12717892e+03\n",
      "   9.54944444e+01  6.35500000e+01  1.00910399e+02]\n",
      " [ 1.22853889e+00  1.14717222e+00  1.04743889e+00  7.94000000e-01\n",
      "   6.18928889e+00  1.50557050e+03  4.16757683e+03  4.16757683e+03\n",
      "   9.48333333e+01  6.35500000e+01  1.00922170e+02]\n",
      " [ 1.22914444e+00  1.15318889e+00  1.05300000e+00  8.56000000e-01\n",
      "   6.19996667e+00  1.50555950e+03  4.20028970e+03  4.20028970e+03\n",
      "   9.49666667e+01  6.35500000e+01  1.00922789e+02]\n",
      " [ 1.23259444e+00  1.15207222e+00  1.05315556e+00  9.88888889e-01\n",
      "   6.20236111e+00  1.50573444e+03  4.20811695e+03  4.20811695e+03\n",
      "   9.53666667e+01  6.35500000e+01  1.00910299e+02]\n",
      " [ 1.22250000e+00  1.13836667e+00  1.04250000e+00  7.33333333e-01\n",
      "   6.68438333e+00  1.50571033e+03  4.07119670e+03  4.07119670e+03\n",
      "   9.44944444e+01  6.32250000e+01  1.00911607e+02]]\n"
     ]
    }
   ],
   "source": [
    "original_data = scaler.inverse_transform(X_pca_all_back)\n",
    "print(original_data)"
   ]
  },
  {
   "cell_type": "markdown",
   "id": "e6655e0e",
   "metadata": {},
   "source": [
    "**Plot graph for PCA data with only PC1 and PC2**"
   ]
  },
  {
   "cell_type": "code",
   "execution_count": 22,
   "id": "75db248d",
   "metadata": {
    "scrolled": true
   },
   "outputs": [
    {
     "name": "stdout",
     "output_type": "stream",
     "text": [
      "1\n",
      "2\n",
      "3\n"
     ]
    },
    {
     "data": {
      "image/png": "[encoded data removed]",
      "text/plain": [
       "<Figure size 864x432 with 1 Axes>"
      ]
     },
     "metadata": {},
     "output_type": "display_data"
    }
   ],
   "source": [
    "import matplotlib.pyplot as plt\n",
    "\n",
    "colors = {1:'b', 2:'r', 3:'g'}\n",
    "markerTypes = {1:'+', 2:'x', 3:'o'}\n",
    "\n",
    "for foodType in markerTypes:\n",
    "    print(foodType)\n",
    "    d = finalDf_B[finalDf_B['Class Attruibute']==foodType]\n",
    "    plt.scatter(d['PC1'],d['PC2'],c=colors[foodType],s=60,marker=markerTypes[foodType])"
   ]
  },
  {
   "cell_type": "markdown",
   "id": "40ad5387",
   "metadata": {},
   "source": [
    "# DATA SET C"
   ]
  },
  {
   "cell_type": "code",
   "execution_count": 23,
   "id": "fdc0a7d3",
   "metadata": {
    "scrolled": true
   },
   "outputs": [],
   "source": [
    "# for dataset C\n",
    "\n",
    "# Load and check data\n",
    "\n",
    "dataframeC = pd.read_csv('../5. Dataset Feature Dropping/MeterC_featureSelection.csv')\n",
    "#display(dataframeA.head())\n",
    "dataframeC.head()\n",
    "\n",
    "dataframeC = dataframeC.drop('Unnamed: 0', axis=1)\n",
    "\n",
    "featuresVector_C = dataframeC[['Profile factor','Symmetry','Crossflow','Average Flow Velocity','Average Gain','Average Signal Quality','Average Signal Strength']]\n",
    "\n",
    "# yLbl is Class Attruibute labels\n",
    "\n",
    "yLblForC = dataframeC[['Class Attruibute']]"
   ]
  },
  {
   "cell_type": "markdown",
   "id": "a12efb2b",
   "metadata": {},
   "source": [
    "**Get scaled data for dataset C**"
   ]
  },
  {
   "cell_type": "code",
   "execution_count": 24,
   "id": "1cb74109",
   "metadata": {
    "scrolled": true
   },
   "outputs": [
    {
     "name": "stdout",
     "output_type": "stream",
     "text": [
      "------------------------------  scaled data for C -----------------------------\n",
      "[[-0.1160594   0.13532688  0.10434107 ... -0.30825579 -0.68457622\n",
      "  -0.14067072]\n",
      " [-0.11611594  0.12268785  0.13189301 ... -0.30848585 -0.45841123\n",
      "  -0.14067072]\n",
      " [-0.11624464  0.10121556  0.14730422 ... -0.30848585 -0.4271028\n",
      "  -0.14067072]\n",
      " ...\n",
      " [-0.11604356 -0.00389841  0.05094653 ... -0.30730269 -0.17184605\n",
      "  -0.14067072]\n",
      " [-0.11568977 -0.03307138  0.12465526 ... -0.30730269 -0.34979444\n",
      "  -0.14067072]\n",
      " [-0.11604855 -0.11379437  0.04165129 ... -0.30789427 -0.36391963\n",
      "  -0.14067072]]\n"
     ]
    }
   ],
   "source": [
    "# fit and transform the data\n",
    "scaled_data_C = scaler.fit_transform(featuresVector_C) \n",
    "\n",
    "#print(dataframeA)\n",
    "print(\"------------------------------  scaled data for C -----------------------------\")\n",
    "print(scaled_data_C)\n"
   ]
  },
  {
   "cell_type": "markdown",
   "id": "49059dd2",
   "metadata": {},
   "source": [
    "**Plot graph for cumulative variance with 70% variance threshold**"
   ]
  },
  {
   "cell_type": "code",
   "execution_count": 25,
   "id": "86df6328",
   "metadata": {
    "scrolled": true
   },
   "outputs": [
    {
     "data": {
      "image/png": "[encoded data removed]",
      "text/plain": [
       "<Figure size 864x432 with 1 Axes>"
      ]
     },
     "metadata": {},
     "output_type": "display_data"
    }
   ],
   "source": [
    "# calculate cumulative sum of explained variances\n",
    "pcaC = PCA().fit(scaled_data_C)\n",
    "\n",
    "# matplotlib inline\n",
    "import matplotlib.pyplot as plt\n",
    "plt.rcParams[\"figure.figsize\"] = (12,6)\n",
    "\n",
    "fig, ax = plt.subplots()\n",
    "xi = np.arange(1, 8, step=1)\n",
    "y = np.cumsum(pcaC.explained_variance_ratio_)\n",
    "\n",
    "plt.ylim(0.0,1.1)\n",
    "plt.plot(xi, y, marker='o', linestyle='--', color='b')\n",
    "\n",
    "plt.xlabel('Number of Components')\n",
    "plt.xticks(np.arange(0, 8, step=1)) #change from 0-based array index to 1-based human-readable label\n",
    "plt.ylabel('Cumulative variance (%)')\n",
    "plt.title('The number of components needed to explain variance')\n",
    "\n",
    "plt.axhline(y=0.7, color='r', linestyle='-')\n",
    "plt.text(0.5, 0.85, '70% cut-off threshold', color = 'red', fontsize=16)\n",
    "\n",
    "ax.grid(axis='x')\n",
    "plt.show()\n"
   ]
  },
  {
   "cell_type": "markdown",
   "id": "0848e7df",
   "metadata": {},
   "source": [
    "The first three principal components will capture 70% of the variance of the original data thus we will select the first three principal components."
   ]
  },
  {
   "cell_type": "markdown",
   "id": "f63799cb",
   "metadata": {},
   "source": [
    "**Plot graph for individual and cumulative explained variance** "
   ]
  },
  {
   "cell_type": "code",
   "execution_count": 26,
   "id": "484154b9",
   "metadata": {
    "scrolled": true
   },
   "outputs": [
    {
     "name": "stdout",
     "output_type": "stream",
     "text": [
      "[0.29622762 0.27883721 0.20775509 0.14659997 0.05175235 0.01683532\n",
      " 0.00199244]\n",
      "---------------PCA - DATA C : EXPLAIN VARIANCE--------------\n",
      "[2.08732574 1.96478672 1.46391665 1.0329958  0.36466554 0.1186277\n",
      " 0.01403947]\n",
      "---------------PCA - DATA C : SUM VARIANCE--------------\n",
      "7.046357615894043\n",
      "---------------PCA - DATA A : SIZE OF VARIANCE --------------\n",
      "7\n"
     ]
    },
    {
     "data": {
      "image/png": "[encoded data removed]",
      "text/plain": [
       "<Figure size 864x432 with 1 Axes>"
      ]
     },
     "metadata": {},
     "output_type": "display_data"
    }
   ],
   "source": [
    "# calculate cumulative sum of explained variances\n",
    "#from lab\n",
    "\n",
    "pcaC = PCA().fit(scaled_data_C)\n",
    "\n",
    "pcaC.explained_variance_ratio_\n",
    "print(pcaC.explained_variance_ratio_) # print out explained variance ratio \n",
    "\n",
    "totalC = sum(pcaC.explained_variance_)\n",
    "print(\"---------------PCA - DATA C : EXPLAIN VARIANCE--------------\")\n",
    "print(pcaC.explained_variance_)\n",
    "print(\"---------------PCA - DATA C : SUM VARIANCE--------------\")\n",
    "print(totalC)\n",
    "var_exp_c = [(i / totalC) for i in sorted(pcaC.explained_variance_, reverse=True)]\n",
    "cum_var_exp_c = np.cumsum(var_exp_c)\n",
    "print(\"---------------PCA - DATA A : SIZE OF VARIANCE --------------\")\n",
    "print(len(var_exp_c))\n",
    "# plot explained variances\n",
    "plt.bar(range(1,8), var_exp_c, alpha=0.5,\n",
    "        align='center', label='individual explained variance')\n",
    "plt.step(range(1,8), cum_var_exp_c, where='mid',\n",
    "         label='cumulative explained variance')\n",
    "plt.ylabel('Explained variance ratio')\n",
    "plt.xlabel('Principal component index')\n",
    "plt.legend(loc='best')\n",
    "plt.show()"
   ]
  },
  {
   "cell_type": "markdown",
   "id": "23c65570",
   "metadata": {},
   "source": [
    "**Plot graph for eignenvalues** "
   ]
  },
  {
   "cell_type": "code",
   "execution_count": 27,
   "id": "17549d68",
   "metadata": {
    "scrolled": true
   },
   "outputs": [
    {
     "data": {
      "image/png": "[encoded data removed]",
      "text/plain": [
       "<Figure size 864x432 with 1 Axes>"
      ]
     },
     "metadata": {},
     "output_type": "display_data"
    }
   ],
   "source": [
    "sns.set()\n",
    "\n",
    "pcaC = PCA(n_components=7)\n",
    " \n",
    "# Fit and transform data\n",
    "reduced_features = pcaC.fit_transform(scaled_data_C)#featuresVector_B)\n",
    " \n",
    "# Bar plot of explained_variance\n",
    "plt.bar(\n",
    "    range(1,len(pcaC.explained_variance_)+1),\n",
    "    pcaC.explained_variance_\n",
    "    )\n",
    " \n",
    "plt.plot(\n",
    "    range(1,len(pcaC.explained_variance_ )+1),\n",
    "    np.cumsum(pcaC.explained_variance_),\n",
    "    c='red',\n",
    "    label='Cumulative Explained Variance')\n",
    " \n",
    "plt.legend(loc='upper left')\n",
    "plt.xlabel('Number of components')\n",
    "plt.ylabel('Explained variance (eignenvalues)')\n",
    "plt.title('Scree plot for C')\n",
    " \n",
    "plt.show()"
   ]
  },
  {
   "cell_type": "markdown",
   "id": "dcfa11b6",
   "metadata": {},
   "source": [
    "**Calculate PCA for n_components = 3**"
   ]
  },
  {
   "cell_type": "code",
   "execution_count": 28,
   "id": "48604a75",
   "metadata": {},
   "outputs": [
    {
     "name": "stdout",
     "output_type": "stream",
     "text": [
      "Shape before PCA:  (152, 7)\n",
      "Shape after PCA:  (152, 3)\n"
     ]
    }
   ],
   "source": [
    "pca_C = PCA(n_components=3)\n",
    "\n",
    "pca_features_C = pca_C.fit_transform(scaled_data_C)\n",
    " \n",
    "print('Shape before PCA: ', scaled_data_C.shape)\n",
    "print('Shape after PCA: ', pca_features_C.shape)\n",
    " \n",
    "pca_df_C = pd.DataFrame(\n",
    "    data=pca_features_C, \n",
    "    columns=['PC1', 'PC2', 'PC3'])\n",
    "\n",
    "finalDf_C = pd.concat([pca_df_C, dataframeC['Class Attruibute']], axis = 1)\n",
    "\n",
    "finalDf_C.to_csv('MeterC_pca_3.csv')"
   ]
  },
  {
   "cell_type": "markdown",
   "id": "b053cd52",
   "metadata": {},
   "source": [
    "**Calculate PCA for n_components = numebr of original feature**"
   ]
  },
  {
   "cell_type": "code",
   "execution_count": 29,
   "id": "420d167e",
   "metadata": {},
   "outputs": [
    {
     "name": "stdout",
     "output_type": "stream",
     "text": [
      "Shape before PCA:  (152, 7)\n",
      "Shape after PCA:  (152, 7)\n"
     ]
    }
   ],
   "source": [
    "pca_C = PCA(n_components=7)\n",
    "\n",
    "pca_features_C = pca_C.fit_transform(scaled_data_C)\n",
    " \n",
    "print('Shape before PCA: ', scaled_data_C.shape)\n",
    "print('Shape after PCA: ', pca_features_C.shape)\n",
    " \n",
    "pca_df_C = pd.DataFrame(\n",
    "    data=pca_features_C, \n",
    "    columns=['PC1', 'PC2', 'PC3','PC4', 'PC5', 'PC6','PC7'])\n",
    "\n",
    "finalDf_C = pd.concat([pca_df_C, dataframeC['Class Attruibute']], axis = 1)\n",
    "\n",
    "finalDf_C.to_csv('MeterC_pca_all.csv')"
   ]
  },
  {
   "cell_type": "markdown",
   "id": "b52680c3",
   "metadata": {},
   "source": [
    "**PCA data reverse back to scaled data**"
   ]
  },
  {
   "cell_type": "code",
   "execution_count": 30,
   "id": "446b7754",
   "metadata": {},
   "outputs": [
    {
     "name": "stdout",
     "output_type": "stream",
     "text": [
      "[[-0.1160594   0.13532688  0.10434107 ... -0.30825579 -0.68457622\n",
      "  -0.14067072]\n",
      " [-0.11611594  0.12268785  0.13189301 ... -0.30848585 -0.45841123\n",
      "  -0.14067072]\n",
      " [-0.11624464  0.10121556  0.14730422 ... -0.30848585 -0.4271028\n",
      "  -0.14067072]\n",
      " ...\n",
      " [-0.11604356 -0.00389841  0.05094653 ... -0.30730269 -0.17184605\n",
      "  -0.14067072]\n",
      " [-0.11568977 -0.03307138  0.12465526 ... -0.30730269 -0.34979444\n",
      "  -0.14067072]\n",
      " [-0.11604855 -0.11379437  0.04165129 ... -0.30789427 -0.36391963\n",
      "  -0.14067072]]\n"
     ]
    }
   ],
   "source": [
    "X_pca_all_back=pca_C.inverse_transform(pca_features_C)\n",
    "print(X_pca_all_back)"
   ]
  },
  {
   "cell_type": "markdown",
   "id": "dda1e246",
   "metadata": {},
   "source": [
    "**Scaled Data reverse back to original data**"
   ]
  },
  {
   "cell_type": "code",
   "execution_count": 31,
   "id": "b4926e6a",
   "metadata": {
    "scrolled": true
   },
   "outputs": [
    {
     "name": "stdout",
     "output_type": "stream",
     "text": [
      "[[1.10268971e+00 1.00442493e+00 1.00674138e+00 ... 1.51097222e+01\n",
      "  3.15670833e+03 6.17500000e+01]\n",
      " [1.10143161e+00 1.00372200e+00 1.00825617e+00 ... 1.51000000e+01\n",
      "  3.20524306e+03 6.17500000e+01]\n",
      " [1.09856774e+00 1.00252780e+00 1.00910347e+00 ... 1.51000000e+01\n",
      "  3.21196181e+03 6.17500000e+01]\n",
      " ...\n",
      " [1.10304205e+00 9.96681790e-01 1.00380577e+00 ... 1.51500000e+01\n",
      "  3.26673958e+03 6.17500000e+01]\n",
      " [1.11091467e+00 9.95059309e-01 1.00785824e+00 ... 1.51500000e+01\n",
      "  3.22855208e+03 6.17500000e+01]\n",
      " [1.10293110e+00 9.90569826e-01 1.00329472e+00 ... 1.51250000e+01\n",
      "  3.22552083e+03 6.17500000e+01]]\n"
     ]
    }
   ],
   "source": [
    "original_data = scaler.inverse_transform(X_pca_all_back)\n",
    "print(original_data)"
   ]
  },
  {
   "cell_type": "markdown",
   "id": "8ab9f760",
   "metadata": {},
   "source": [
    "**Plot graph for PCA data with only PC1 and PC2**"
   ]
  },
  {
   "cell_type": "code",
   "execution_count": 32,
   "id": "70b71802",
   "metadata": {
    "scrolled": true
   },
   "outputs": [
    {
     "name": "stdout",
     "output_type": "stream",
     "text": [
      "1\n",
      "2\n",
      "3\n",
      "4\n"
     ]
    },
    {
     "data": {
      "image/png": "[encoded data removed]",
      "text/plain": [
       "<Figure size 2160x1440 with 1 Axes>"
      ]
     },
     "metadata": {},
     "output_type": "display_data"
    }
   ],
   "source": [
    "import matplotlib.pyplot as plt\n",
    "\n",
    "colors = {1:'b', 2:'r', 3:'g', 4:'k'}\n",
    "markerTypes = {1:'+', 2:'x', 3:'o', 4:'s'}\n",
    "\n",
    "f = plt.figure()\n",
    "f.set_figwidth(30)\n",
    "f.set_figheight(20)\n",
    "\n",
    "for foodType in markerTypes:\n",
    "    print(foodType)\n",
    "    d = finalDf_C[finalDf_C['Class Attruibute']==foodType]\n",
    "    plt.scatter(d['PC1'],d['PC2'],c=colors[foodType],s=200,marker=markerTypes[foodType])"
   ]
  }
 ],
 "metadata": {
  "kernelspec": {
   "display_name": "Python 3",
   "language": "python",
   "name": "python3"
  },
  "language_info": {
   "codemirror_mode": {
    "name": "ipython",
    "version": 3
   },
   "file_extension": ".py",
   "mimetype": "text/x-python",
   "name": "python",
   "nbconvert_exporter": "python",
   "pygments_lexer": "ipython3",
   "version": "3.8.8"
  }
 },
 "nbformat": 4,
 "nbformat_minor": 5
}
